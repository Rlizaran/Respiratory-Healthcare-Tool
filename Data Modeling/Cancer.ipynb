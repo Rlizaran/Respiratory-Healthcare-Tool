{
 "cells": [
  {
   "cell_type": "code",
   "execution_count": 94,
   "id": "a3eaff09",
   "metadata": {},
   "outputs": [],
   "source": [
    "#importing modules\n",
    "import pandas as pd\n",
    "import numpy as np\n",
    "from pathlib import Path\n",
    "import matplotlib.pyplot as plt\n",
    "import seaborn as sns\n",
    "from sklearn.model_selection import train_test_split\n",
    "from sklearn.preprocessing import StandardScaler, LabelEncoder, MinMaxScaler\n",
    "from sklearn.linear_model import LogisticRegression\n",
    "from sklearn.metrics import confusion_matrix, classification_report\n",
    "from sklearn.metrics import roc_curve, auc\n",
    "from sklearn.neighbors import KNeighborsClassifier\n",
    "from sklearn.linear_model import SGDClassifier\n",
    "from sklearn.ensemble import RandomForestClassifier\n",
    "from sklearn.tree import DecisionTreeClassifier\n",
    "from sklearn.ensemble import ExtraTreesClassifier\n",
    "from sklearn.ensemble import AdaBoostClassifier\n",
    "from sklearn.feature_selection import SelectFromModel\n",
    "from sklearn.model_selection import RandomizedSearchCV\n",
    "from sklearn.model_selection import GridSearchCV\n",
    "from sklearn.svm import SVC\n",
    "from sklearn.model_selection import cross_val_predict, cross_val_score\n",
    "from sklearn.metrics import precision_score, recall_score, f1_score"
   ]
  },
  {
   "cell_type": "code",
   "execution_count": 2,
   "id": "8cea1fd4",
   "metadata": {},
   "outputs": [],
   "source": [
    "# defining data path\n",
    "data_path=Path('resources/cancer_patient_data_sets.csv')\n",
    "# Reading data source using pandas\n",
    "cancer_df=pd.read_csv(data_path)"
   ]
  },
  {
   "cell_type": "code",
   "execution_count": 3,
   "id": "8873c7fa",
   "metadata": {},
   "outputs": [
    {
     "data": {
      "text/html": [
       "<div>\n",
       "<style scoped>\n",
       "    .dataframe tbody tr th:only-of-type {\n",
       "        vertical-align: middle;\n",
       "    }\n",
       "\n",
       "    .dataframe tbody tr th {\n",
       "        vertical-align: top;\n",
       "    }\n",
       "\n",
       "    .dataframe thead th {\n",
       "        text-align: right;\n",
       "    }\n",
       "</style>\n",
       "<table border=\"1\" class=\"dataframe\">\n",
       "  <thead>\n",
       "    <tr style=\"text-align: right;\">\n",
       "      <th></th>\n",
       "      <th>Patient Id</th>\n",
       "      <th>Age</th>\n",
       "      <th>Gender</th>\n",
       "      <th>Air Pollution</th>\n",
       "      <th>Alcohol use</th>\n",
       "      <th>Dust Allergy</th>\n",
       "      <th>OccuPational Hazards</th>\n",
       "      <th>Genetic Risk</th>\n",
       "      <th>chronic Lung Disease</th>\n",
       "      <th>Balanced Diet</th>\n",
       "      <th>...</th>\n",
       "      <th>Fatigue</th>\n",
       "      <th>Weight Loss</th>\n",
       "      <th>Shortness of Breath</th>\n",
       "      <th>Wheezing</th>\n",
       "      <th>Swallowing Difficulty</th>\n",
       "      <th>Clubbing of Finger Nails</th>\n",
       "      <th>Frequent Cold</th>\n",
       "      <th>Dry Cough</th>\n",
       "      <th>Snoring</th>\n",
       "      <th>Level</th>\n",
       "    </tr>\n",
       "  </thead>\n",
       "  <tbody>\n",
       "    <tr>\n",
       "      <th>0</th>\n",
       "      <td>P1</td>\n",
       "      <td>33</td>\n",
       "      <td>1</td>\n",
       "      <td>2</td>\n",
       "      <td>4</td>\n",
       "      <td>5</td>\n",
       "      <td>4</td>\n",
       "      <td>3</td>\n",
       "      <td>2</td>\n",
       "      <td>2</td>\n",
       "      <td>...</td>\n",
       "      <td>3</td>\n",
       "      <td>4</td>\n",
       "      <td>2</td>\n",
       "      <td>2</td>\n",
       "      <td>3</td>\n",
       "      <td>1</td>\n",
       "      <td>2</td>\n",
       "      <td>3</td>\n",
       "      <td>4</td>\n",
       "      <td>Low</td>\n",
       "    </tr>\n",
       "    <tr>\n",
       "      <th>1</th>\n",
       "      <td>P10</td>\n",
       "      <td>17</td>\n",
       "      <td>1</td>\n",
       "      <td>3</td>\n",
       "      <td>1</td>\n",
       "      <td>5</td>\n",
       "      <td>3</td>\n",
       "      <td>4</td>\n",
       "      <td>2</td>\n",
       "      <td>2</td>\n",
       "      <td>...</td>\n",
       "      <td>1</td>\n",
       "      <td>3</td>\n",
       "      <td>7</td>\n",
       "      <td>8</td>\n",
       "      <td>6</td>\n",
       "      <td>2</td>\n",
       "      <td>1</td>\n",
       "      <td>7</td>\n",
       "      <td>2</td>\n",
       "      <td>Medium</td>\n",
       "    </tr>\n",
       "    <tr>\n",
       "      <th>2</th>\n",
       "      <td>P100</td>\n",
       "      <td>35</td>\n",
       "      <td>1</td>\n",
       "      <td>4</td>\n",
       "      <td>5</td>\n",
       "      <td>6</td>\n",
       "      <td>5</td>\n",
       "      <td>5</td>\n",
       "      <td>4</td>\n",
       "      <td>6</td>\n",
       "      <td>...</td>\n",
       "      <td>8</td>\n",
       "      <td>7</td>\n",
       "      <td>9</td>\n",
       "      <td>2</td>\n",
       "      <td>1</td>\n",
       "      <td>4</td>\n",
       "      <td>6</td>\n",
       "      <td>7</td>\n",
       "      <td>2</td>\n",
       "      <td>High</td>\n",
       "    </tr>\n",
       "    <tr>\n",
       "      <th>3</th>\n",
       "      <td>P1000</td>\n",
       "      <td>37</td>\n",
       "      <td>1</td>\n",
       "      <td>7</td>\n",
       "      <td>7</td>\n",
       "      <td>7</td>\n",
       "      <td>7</td>\n",
       "      <td>6</td>\n",
       "      <td>7</td>\n",
       "      <td>7</td>\n",
       "      <td>...</td>\n",
       "      <td>4</td>\n",
       "      <td>2</td>\n",
       "      <td>3</td>\n",
       "      <td>1</td>\n",
       "      <td>4</td>\n",
       "      <td>5</td>\n",
       "      <td>6</td>\n",
       "      <td>7</td>\n",
       "      <td>5</td>\n",
       "      <td>High</td>\n",
       "    </tr>\n",
       "    <tr>\n",
       "      <th>4</th>\n",
       "      <td>P101</td>\n",
       "      <td>46</td>\n",
       "      <td>1</td>\n",
       "      <td>6</td>\n",
       "      <td>8</td>\n",
       "      <td>7</td>\n",
       "      <td>7</td>\n",
       "      <td>7</td>\n",
       "      <td>6</td>\n",
       "      <td>7</td>\n",
       "      <td>...</td>\n",
       "      <td>3</td>\n",
       "      <td>2</td>\n",
       "      <td>4</td>\n",
       "      <td>1</td>\n",
       "      <td>4</td>\n",
       "      <td>2</td>\n",
       "      <td>4</td>\n",
       "      <td>2</td>\n",
       "      <td>3</td>\n",
       "      <td>High</td>\n",
       "    </tr>\n",
       "  </tbody>\n",
       "</table>\n",
       "<p>5 rows × 25 columns</p>\n",
       "</div>"
      ],
      "text/plain": [
       "  Patient Id  Age  Gender  Air Pollution  Alcohol use  Dust Allergy  \\\n",
       "0         P1   33       1              2            4             5   \n",
       "1        P10   17       1              3            1             5   \n",
       "2       P100   35       1              4            5             6   \n",
       "3      P1000   37       1              7            7             7   \n",
       "4       P101   46       1              6            8             7   \n",
       "\n",
       "   OccuPational Hazards  Genetic Risk  chronic Lung Disease  Balanced Diet  \\\n",
       "0                     4             3                     2              2   \n",
       "1                     3             4                     2              2   \n",
       "2                     5             5                     4              6   \n",
       "3                     7             6                     7              7   \n",
       "4                     7             7                     6              7   \n",
       "\n",
       "   ...  Fatigue  Weight Loss  Shortness of Breath  Wheezing  \\\n",
       "0  ...        3            4                    2         2   \n",
       "1  ...        1            3                    7         8   \n",
       "2  ...        8            7                    9         2   \n",
       "3  ...        4            2                    3         1   \n",
       "4  ...        3            2                    4         1   \n",
       "\n",
       "   Swallowing Difficulty  Clubbing of Finger Nails  Frequent Cold  Dry Cough  \\\n",
       "0                      3                         1              2          3   \n",
       "1                      6                         2              1          7   \n",
       "2                      1                         4              6          7   \n",
       "3                      4                         5              6          7   \n",
       "4                      4                         2              4          2   \n",
       "\n",
       "   Snoring   Level  \n",
       "0        4     Low  \n",
       "1        2  Medium  \n",
       "2        2    High  \n",
       "3        5    High  \n",
       "4        3    High  \n",
       "\n",
       "[5 rows x 25 columns]"
      ]
     },
     "execution_count": 3,
     "metadata": {},
     "output_type": "execute_result"
    }
   ],
   "source": [
    "# looking for dataframe\n",
    "cancer_df.head()"
   ]
  },
  {
   "cell_type": "code",
   "execution_count": 4,
   "id": "2653e993",
   "metadata": {},
   "outputs": [
    {
     "data": {
      "text/plain": [
       "(1000, 25)"
      ]
     },
     "execution_count": 4,
     "metadata": {},
     "output_type": "execute_result"
    }
   ],
   "source": [
    "# shape of dataframe\n",
    "cancer_df.shape"
   ]
  },
  {
   "cell_type": "code",
   "execution_count": 5,
   "id": "1e14319c",
   "metadata": {},
   "outputs": [
    {
     "name": "stdout",
     "output_type": "stream",
     "text": [
      "<class 'pandas.core.frame.DataFrame'>\n",
      "RangeIndex: 1000 entries, 0 to 999\n",
      "Data columns (total 25 columns):\n",
      " #   Column                    Non-Null Count  Dtype \n",
      "---  ------                    --------------  ----- \n",
      " 0   Patient Id                1000 non-null   object\n",
      " 1   Age                       1000 non-null   int64 \n",
      " 2   Gender                    1000 non-null   int64 \n",
      " 3   Air Pollution             1000 non-null   int64 \n",
      " 4   Alcohol use               1000 non-null   int64 \n",
      " 5   Dust Allergy              1000 non-null   int64 \n",
      " 6   OccuPational Hazards      1000 non-null   int64 \n",
      " 7   Genetic Risk              1000 non-null   int64 \n",
      " 8   chronic Lung Disease      1000 non-null   int64 \n",
      " 9   Balanced Diet             1000 non-null   int64 \n",
      " 10  Obesity                   1000 non-null   int64 \n",
      " 11  Smoking                   1000 non-null   int64 \n",
      " 12  Passive Smoker            1000 non-null   int64 \n",
      " 13  Chest Pain                1000 non-null   int64 \n",
      " 14  Coughing of Blood         1000 non-null   int64 \n",
      " 15  Fatigue                   1000 non-null   int64 \n",
      " 16  Weight Loss               1000 non-null   int64 \n",
      " 17  Shortness of Breath       1000 non-null   int64 \n",
      " 18  Wheezing                  1000 non-null   int64 \n",
      " 19  Swallowing Difficulty     1000 non-null   int64 \n",
      " 20  Clubbing of Finger Nails  1000 non-null   int64 \n",
      " 21  Frequent Cold             1000 non-null   int64 \n",
      " 22  Dry Cough                 1000 non-null   int64 \n",
      " 23  Snoring                   1000 non-null   int64 \n",
      " 24  Level                     1000 non-null   object\n",
      "dtypes: int64(23), object(2)\n",
      "memory usage: 195.4+ KB\n"
     ]
    }
   ],
   "source": [
    "#data types of dataframe\n",
    "cancer_df.info()"
   ]
  },
  {
   "cell_type": "code",
   "execution_count": 6,
   "id": "5a83a044",
   "metadata": {},
   "outputs": [
    {
     "data": {
      "text/plain": [
       "High      365\n",
       "Medium    332\n",
       "Low       303\n",
       "Name: Level, dtype: int64"
      ]
     },
     "execution_count": 6,
     "metadata": {},
     "output_type": "execute_result"
    }
   ],
   "source": [
    "#looking for target columns\n",
    "cancer_df['Level'].value_counts()"
   ]
  },
  {
   "cell_type": "code",
   "execution_count": 7,
   "id": "66e35ea7",
   "metadata": {},
   "outputs": [],
   "source": [
    "cancer_df['Level']=cancer_df['Level'].replace('Medium', 'Low')"
   ]
  },
  {
   "cell_type": "code",
   "execution_count": 8,
   "id": "c358e561",
   "metadata": {},
   "outputs": [
    {
     "data": {
      "text/plain": [
       "Low     635\n",
       "High    365\n",
       "Name: Level, dtype: int64"
      ]
     },
     "execution_count": 8,
     "metadata": {},
     "output_type": "execute_result"
    }
   ],
   "source": [
    "#looking for target columns\n",
    "cancer_df['Level'].value_counts()"
   ]
  },
  {
   "cell_type": "code",
   "execution_count": 9,
   "id": "e29dabcc",
   "metadata": {},
   "outputs": [],
   "source": [
    "#dropping unnecessary columns\n",
    "cancer_df.drop(columns=['Patient Id'], inplace=True)"
   ]
  },
  {
   "cell_type": "code",
   "execution_count": 10,
   "id": "cd8eead4",
   "metadata": {},
   "outputs": [],
   "source": [
    "# create feature matrix (X)\n",
    "#selecting all columns except 'Revenue'\n",
    "X=cancer_df.drop('Level', axis=1) \n",
    "\n",
    "# create response vector (y)\n",
    "##selecting 'Revenue' column\n",
    "y=cancer_df['Level'].values "
   ]
  },
  {
   "cell_type": "code",
   "execution_count": 11,
   "id": "04c380ba",
   "metadata": {},
   "outputs": [
    {
     "data": {
      "text/plain": [
       "array([1, 1, 0, 0, 0, 0, 1, 1, 1, 1, 0, 0, 1, 0, 1, 1, 1, 0, 0, 1, 0, 0,\n",
       "       0, 0, 0, 1, 1, 1, 0, 1, 0, 0, 1, 1, 1, 1, 1, 1, 1, 1, 1, 1, 1, 1,\n",
       "       1, 1, 0, 1, 1, 1, 1, 1, 1, 1, 1, 1, 1, 0, 1, 1, 1, 1, 1, 1, 1, 1,\n",
       "       1, 1, 0, 1, 1, 1, 1, 1, 1, 1, 1, 1, 1, 0, 1, 1, 1, 1, 1, 1, 1, 0,\n",
       "       0, 0, 1, 0, 0, 0, 0, 0, 0, 0, 0, 0, 0, 1, 0, 0, 0, 0, 0, 0, 0, 0,\n",
       "       0, 0, 1, 1, 0, 0, 0, 1, 1, 1, 1, 0, 0, 1, 0, 1, 1, 1, 0, 0, 1, 0,\n",
       "       0, 0, 0, 1, 1, 1, 1, 0, 1, 0, 0, 1, 1, 1, 0, 1, 1, 1, 1, 1, 1, 1,\n",
       "       1, 1, 1, 0, 1, 1, 1, 1, 1, 1, 1, 1, 1, 1, 1, 1, 1, 1, 1, 1, 1, 1,\n",
       "       1, 1, 1, 1, 1, 1, 1, 1, 1, 1, 1, 1, 1, 1, 1, 1, 1, 1, 1, 1, 1, 1,\n",
       "       0, 0, 0, 1, 0, 0, 0, 0, 0, 0, 0, 0, 0, 0, 1, 0, 0, 0, 0, 0, 0, 0,\n",
       "       0, 0, 0, 1, 1, 0, 0, 0, 1, 1, 1, 1, 0, 0, 1, 1, 1, 1, 1, 0, 0, 1,\n",
       "       0, 0, 0, 0, 1, 1, 1, 1, 0, 1, 0, 0, 1, 1, 1, 1, 1, 1, 1, 1, 1, 1,\n",
       "       1, 1, 1, 1, 1, 1, 1, 1, 1, 1, 1, 1, 1, 1, 1, 1, 1, 1, 1, 1, 1, 1,\n",
       "       1, 1, 1, 1, 1, 1, 1, 1, 1, 1, 1, 1, 1, 1, 1, 1, 1, 1, 1, 1, 1, 1,\n",
       "       1, 0, 0, 0, 1, 0, 0, 0, 0, 0, 0, 0, 0, 0, 0, 1, 0, 0, 0, 0, 0, 0,\n",
       "       0, 0, 0, 0, 1, 1, 0, 0, 0, 1, 1, 1, 1, 0, 0, 1, 1, 1, 1, 1, 0, 0,\n",
       "       1, 0, 0, 0, 0, 1, 1, 1, 1, 0, 1, 0, 0, 1, 1, 1, 1, 1, 1, 1, 1, 1,\n",
       "       1, 1, 1, 1, 1, 1, 1, 1, 1, 1, 1, 1, 1, 1, 1, 1, 1, 1, 1, 1, 1, 1,\n",
       "       1, 1, 1, 1, 1, 1, 1, 1, 1, 1, 1, 1, 1, 1, 1, 1, 1, 1, 1, 1, 1, 1,\n",
       "       1, 1, 0, 0, 0, 1, 0, 0, 0, 0, 0, 0, 0, 0, 0, 0, 1, 0, 0, 0, 0, 0,\n",
       "       0, 0, 0, 0, 0, 0, 1, 0, 0, 0, 1, 1, 1, 1, 0, 0, 1, 1, 1, 1, 1, 0,\n",
       "       0, 1, 0, 0, 0, 0, 1, 1, 1, 1, 0, 1, 0, 0, 1, 1, 1, 1, 1, 1, 1, 1,\n",
       "       1, 1, 1, 1, 1, 1, 1, 1, 1, 1, 1, 1, 1, 1, 1, 1, 1, 1, 1, 1, 1, 1,\n",
       "       1, 1, 1, 1, 1, 1, 1, 1, 1, 1, 1, 1, 1, 1, 1, 1, 1, 1, 1, 1, 1, 1,\n",
       "       1, 1, 1, 0, 0, 0, 1, 0, 0, 0, 0, 0, 0, 0, 0, 0, 0, 1, 0, 0, 0, 0,\n",
       "       0, 0, 0, 0, 0, 0, 0, 1, 0, 0, 0, 1, 1, 1, 1, 0, 0, 1, 1, 1, 1, 1,\n",
       "       0, 0, 1, 0, 0, 0, 0, 1, 1, 1, 1, 0, 1, 0, 0, 1, 1, 1, 1, 1, 1, 1,\n",
       "       1, 1, 1, 1, 1, 1, 1, 1, 1, 1, 1, 1, 1, 1, 1, 1, 1, 1, 1, 1, 1, 1,\n",
       "       1, 1, 1, 1, 1, 1, 1, 1, 1, 1, 1, 1, 1, 1, 1, 1, 1, 1, 1, 1, 1, 1,\n",
       "       1, 1, 1, 1, 0, 0, 0, 1, 0, 0, 0, 0, 0, 0, 0, 0, 0, 0, 1, 0, 0, 0,\n",
       "       0, 0, 0, 0, 0, 0, 0, 1, 1, 0, 0, 0, 1, 1, 1, 1, 0, 0, 1, 1, 1, 1,\n",
       "       1, 0, 0, 1, 0, 0, 0, 0, 1, 1, 1, 1, 0, 1, 0, 0, 1, 1, 1, 1, 1, 1,\n",
       "       1, 1, 1, 1, 1, 1, 1, 1, 1, 1, 1, 1, 1, 1, 1, 1, 1, 1, 1, 0, 1, 1,\n",
       "       1, 1, 1, 1, 1, 1, 1, 1, 0, 1, 1, 1, 1, 1, 1, 1, 1, 1, 1, 0, 1, 1,\n",
       "       1, 1, 1, 1, 1, 0, 0, 0, 0, 0, 0, 0, 0, 0, 0, 0, 0, 0, 0, 0, 0, 0,\n",
       "       0, 0, 0, 0, 0, 0, 0, 0, 1, 0, 0, 0, 0, 1, 1, 1, 1, 0, 0, 1, 0, 1,\n",
       "       1, 1, 0, 0, 1, 0, 0, 0, 0, 0, 1, 1, 1, 0, 1, 0, 0, 1, 1, 1, 0, 1,\n",
       "       1, 1, 1, 1, 1, 1, 1, 1, 1, 0, 1, 1, 1, 1, 1, 1, 1, 1, 1, 1, 0, 1,\n",
       "       1, 1, 1, 1, 1, 1, 1, 1, 1, 0, 1, 1, 1, 1, 1, 1, 1, 1, 1, 1, 0, 1,\n",
       "       1, 1, 1, 1, 1, 1, 0, 0, 0, 0, 0, 0, 0, 0, 0, 0, 0, 0, 0, 0, 0, 0,\n",
       "       0, 0, 0, 0, 0, 0, 0, 0, 0, 1, 0, 0, 0, 0, 1, 1, 1, 1, 0, 0, 1, 0,\n",
       "       1, 1, 1, 0, 0, 1, 0, 0, 0, 0, 0, 1, 1, 1, 0, 1, 0, 0, 1, 1, 1, 0,\n",
       "       1, 1, 1, 1, 1, 1, 1, 1, 1, 1, 0, 1, 1, 1, 1, 1, 1, 1, 1, 1, 1, 0,\n",
       "       1, 1, 1, 1, 1, 1, 1, 1, 1, 1, 0, 1, 1, 1, 1, 1, 1, 1, 1, 1, 1, 0,\n",
       "       1, 1, 1, 1, 1, 1, 1, 0, 1, 1, 0, 1, 0, 0, 0, 1, 1, 0, 0, 0, 0, 0,\n",
       "       0, 0, 0, 0, 0, 0, 0, 0, 0, 0])"
      ]
     },
     "execution_count": 11,
     "metadata": {},
     "output_type": "execute_result"
    }
   ],
   "source": [
    "# Converting output labels to 0 and 1\n",
    "y_label = LabelEncoder().fit_transform(y)\n",
    "y_label"
   ]
  },
  {
   "cell_type": "code",
   "execution_count": 12,
   "id": "f0947cd7",
   "metadata": {},
   "outputs": [],
   "source": [
    "#Training set**: Used to train the classifier.\n",
    "#Testing set**: Used to estimate the error rate of the trained classifier.\n",
    "X_train, X_test, y_train, y_test = train_test_split(X, y_label, random_state=42)"
   ]
  },
  {
   "cell_type": "code",
   "execution_count": 14,
   "id": "37d212e8",
   "metadata": {},
   "outputs": [
    {
     "data": {
      "text/plain": [
       "array([[ 0.889064  ,  1.26299474,  1.09529037, ..., -0.26532126,\n",
       "         0.0752096 , -0.63630361],\n",
       "       [-0.02129693, -0.79176894,  2.08980342, ...,  0.27985941,\n",
       "        -0.90578515,  0.03965632],\n",
       "       [ 0.14422324, -0.79176894,  0.10077732, ...,  1.91540143,\n",
       "         0.56570697,  2.06753608],\n",
       "       ...,\n",
       "       [-0.10405701,  1.26299474, -0.89373573, ..., -0.26532126,\n",
       "        -0.90578515,  0.03965632],\n",
       "       [ 0.97182409, -0.79176894,  1.09529037, ...,  1.37022076,\n",
       "         1.54670172, -0.63630361],\n",
       "       [ 0.97182409, -0.79176894,  1.09529037, ...,  1.37022076,\n",
       "         1.54670172, -0.63630361]])"
      ]
     },
     "execution_count": 14,
     "metadata": {},
     "output_type": "execute_result"
    }
   ],
   "source": [
    "# Scaling the X data by using StandardScaler()\n",
    "scaler = StandardScaler().fit(X_train)\n",
    "X_train_scaled = scaler.transform(X_train)\n",
    "X_train_scaled"
   ]
  },
  {
   "cell_type": "code",
   "execution_count": 15,
   "id": "1aa9facc",
   "metadata": {},
   "outputs": [
    {
     "data": {
      "text/plain": [
       "array([[ 0.889064  ,  1.26299474, -1.39099225, ..., -1.3556826 ,\n",
       "        -0.90578515, -1.31226353],\n",
       "       [ 2.04770518, -0.79176894,  1.09529037, ..., -0.26532126,\n",
       "         0.0752096 , -0.63630361],\n",
       "       [-1.2626982 , -0.79176894,  1.09529037, ..., -0.26532126,\n",
       "         0.0752096 , -0.63630361],\n",
       "       ...,\n",
       "       [ 0.889064  , -0.79176894, -1.39099225, ..., -1.3556826 ,\n",
       "        -0.90578515, -1.31226353],\n",
       "       [-0.51785744,  1.26299474, -0.3964792 , ...,  1.37022076,\n",
       "         0.56570697,  0.71561624],\n",
       "       [ 0.06146316,  1.26299474,  1.09529037, ..., -0.26532126,\n",
       "         0.0752096 , -0.63630361]])"
      ]
     },
     "execution_count": 15,
     "metadata": {},
     "output_type": "execute_result"
    }
   ],
   "source": [
    "# Transforming the test dataset based on the fit from the training dataset\n",
    "X_test_scaled = scaler.transform(X_test)\n",
    "X_test_scaled"
   ]
  },
  {
   "cell_type": "markdown",
   "id": "770425f4",
   "metadata": {},
   "source": [
    "## Model score function using train data only"
   ]
  },
  {
   "cell_type": "code",
   "execution_count": 16,
   "id": "42105090",
   "metadata": {},
   "outputs": [],
   "source": [
    "#defining function for model scoring with training set only\n",
    "def train_score(model, X_train_scaled=X_train_scaled,\n",
    "                X_test_scaled=X_test_scaled, y_train=y_train,y_test=y_test):\n",
    "    #printing the accuracy score\n",
    "    train_score=model.score(X_train_scaled, y_train)\n",
    "    print(\"****************Train Score******************\")\n",
    "    print(train_score)\n",
    "    print()\n",
    "    \n",
    "    cvs=cross_val_score(model,X_train_scaled, y_train,cv=3, scoring='accuracy' )\n",
    "    print(\"**********Using K=3 cross validation**********\")\n",
    "    print(cvs)\n",
    "    print()\n",
    "    \n",
    "    #predection on the test set and confusion matrix\n",
    "    y_train_pred=cross_val_predict(model,X_train_scaled, y_train,cv=3)\n",
    "    cm=confusion_matrix(y_train, y_train_pred)\n",
    "    print(\"************Confusion Matrix using cross_val_predict******************\")\n",
    "    print(cm)\n",
    "    print()\n",
    "    \n",
    "    #classification report\n",
    "    cr=classification_report(y_train, y_train_pred)\n",
    "    print(\"********Classification Report******************\")\n",
    "    print(cr)\n",
    "    print()\n",
    "    \n",
    "    #roc curve\n",
    "    y_train_predc=cross_val_predict(model,X_train_scaled, y_train,cv=3,\n",
    "                                    method=\"predict_proba\")\n",
    "    y_proba = y_train_predc[:,1]  #proba of positive class\n",
    "    fpr, tpr, thresholds = roc_curve(y_train, y_proba)\n",
    "    \n",
    "    plt.figure()\n",
    "    plt.plot(fpr, tpr, color='darkorange')\n",
    "    plt.plot([0, 1], [0, 1], color='navy', linestyle='--')\n",
    "    plt.xlim([0.0, 1.0])\n",
    "    plt.ylim([0.0, 1.05])\n",
    "    plt.xlabel('False Positive Rate')\n",
    "    plt.ylabel('True Positive Rate')\n",
    "    plt.title(f\"roc curve for {model}\")\n",
    "    print(\"ROC Curve\")\n",
    "    plt.show()\n",
    "    \n",
    "    # area under the curve (AUC)\n",
    "    roc_auc = auc(fpr, tpr)\n",
    "    roc_auc\n",
    "    print()\n",
    "    print(\"************Area under the curve******************\")\n",
    "    print(roc_auc)\n"
   ]
  },
  {
   "cell_type": "markdown",
   "id": "1ecf9f59",
   "metadata": {},
   "source": [
    "## Model score function using both train and test data "
   ]
  },
  {
   "cell_type": "code",
   "execution_count": 17,
   "id": "7d816b92",
   "metadata": {},
   "outputs": [],
   "source": [
    "#defining function for model scoring with test set\n",
    "def test_score(model, X_train_scaled=X_train_scaled,X_test_scaled=X_test_scaled, \n",
    "               y_train=y_train,y_test=y_test):\n",
    "    #printing the accuracy score\n",
    "    train_score=model.score(X_train_scaled, y_train)\n",
    "    test_score=model.score(X_test_scaled, y_test)\n",
    "    print(\"****************Train Score******************\")\n",
    "    print(train_score)\n",
    "    print()\n",
    "\n",
    "    print(\"*****************Test Score******************\")\n",
    "    print(test_score)\n",
    "    print()\n",
    "    \n",
    "    #predection on the test set and confusion matrix\n",
    "    y_pred=model.predict(X_test_scaled)\n",
    "    cm=confusion_matrix(y_test, y_pred)\n",
    "    print(\"************Confusion Matrix******************\")\n",
    "    print(cm)\n",
    "    print()\n",
    "    \n",
    "    #classification report\n",
    "    cr=classification_report(y_test, y_pred)\n",
    "    print(\"********Classification Report******************\")\n",
    "    print(cr)\n",
    "    print()\n",
    "    \n",
    "    #roc curve\n",
    "    y_proba = model.predict_proba(X_test_scaled)[:,1]  #proba of positive class\n",
    "    fpr, tpr, thresholds = roc_curve(y_test, y_proba)\n",
    "    \n",
    "    plt.figure()\n",
    "    plt.plot(fpr, tpr, color='darkorange')\n",
    "    plt.plot([0, 1], [0, 1], color='navy', linestyle='--')\n",
    "    plt.xlim([0.0, 1.0])\n",
    "    plt.ylim([0.0, 1.05])\n",
    "    plt.xlabel('False Positive Rate')\n",
    "    plt.ylabel('True Positive Rate')\n",
    "    plt.title(f\"roc curve for {model}\")\n",
    "    print(\"ROC Curve\")\n",
    "    plt.show()\n",
    "    \n",
    "    # area under the curve (AUC)\n",
    "    roc_auc = auc(fpr, tpr)\n",
    "    roc_auc\n",
    "    print()\n",
    "    print(\"************Area under the curve******************\")\n",
    "    print(roc_auc)\n",
    "    \n"
   ]
  },
  {
   "cell_type": "markdown",
   "id": "18437ab9",
   "metadata": {},
   "source": [
    "## Stochastic Gradent Descent Classifier"
   ]
  },
  {
   "cell_type": "code",
   "execution_count": 81,
   "id": "f9bb116c",
   "metadata": {},
   "outputs": [
    {
     "data": {
      "text/plain": [
       "SGDClassifier(loss='log', random_state=42)"
      ]
     },
     "execution_count": 81,
     "metadata": {},
     "output_type": "execute_result"
    }
   ],
   "source": [
    "# Creating a sgd classifier model on the scaled data\n",
    "sgd=SGDClassifier(random_state=42, loss='log')\n",
    "\n",
    "# Fit the model to the data\n",
    "sgd.fit(X_train_scaled, y_train)"
   ]
  },
  {
   "cell_type": "code",
   "execution_count": 82,
   "id": "3c11ffae",
   "metadata": {},
   "outputs": [
    {
     "name": "stdout",
     "output_type": "stream",
     "text": [
      "****************Train Score******************\n",
      "1.0\n",
      "\n",
      "**********Using K=3 cross validation**********\n",
      "[1.    0.972 1.   ]\n",
      "\n",
      "************Confusion Matrix using cross_val_predict******************\n",
      "[[254   7]\n",
      " [  0 489]]\n",
      "\n",
      "********Classification Report******************\n",
      "              precision    recall  f1-score   support\n",
      "\n",
      "           0       1.00      0.97      0.99       261\n",
      "           1       0.99      1.00      0.99       489\n",
      "\n",
      "    accuracy                           0.99       750\n",
      "   macro avg       0.99      0.99      0.99       750\n",
      "weighted avg       0.99      0.99      0.99       750\n",
      "\n",
      "\n",
      "ROC Curve\n"
     ]
    },
    {
     "data": {
      "image/png": "[encoded data removed]",
      "text/plain": [
       "<Figure size 432x288 with 1 Axes>"
      ]
     },
     "metadata": {
      "needs_background": "light"
     },
     "output_type": "display_data"
    },
    {
     "name": "stdout",
     "output_type": "stream",
     "text": [
      "\n",
      "************Area under the curve******************\n",
      "1.0\n"
     ]
    }
   ],
   "source": [
    "#score for logistic regression using only training data\n",
    "train_score(sgd)"
   ]
  },
  {
   "cell_type": "markdown",
   "id": "798bce54",
   "metadata": {},
   "source": [
    "## Logistic Regression"
   ]
  },
  {
   "cell_type": "code",
   "execution_count": 20,
   "id": "e3a9678d",
   "metadata": {},
   "outputs": [
    {
     "data": {
      "text/plain": [
       "LogisticRegression()"
      ]
     },
     "execution_count": 20,
     "metadata": {},
     "output_type": "execute_result"
    }
   ],
   "source": [
    "# Creating a Logistic Regression model on the scaled data\n",
    "lr= LogisticRegression()\n",
    "\n",
    "# Fit the model to the data\n",
    "lr.fit(X_train_scaled, y_train)"
   ]
  },
  {
   "cell_type": "code",
   "execution_count": 21,
   "id": "f97b50b4",
   "metadata": {},
   "outputs": [
    {
     "name": "stdout",
     "output_type": "stream",
     "text": [
      "****************Train Score******************\n",
      "1.0\n",
      "\n",
      "**********Using K=3 cross validation**********\n",
      "[1. 1. 1.]\n",
      "\n",
      "************Confusion Matrix using cross_val_predict******************\n",
      "[[261   0]\n",
      " [  0 489]]\n",
      "\n",
      "********Classification Report******************\n",
      "              precision    recall  f1-score   support\n",
      "\n",
      "           0       1.00      1.00      1.00       261\n",
      "           1       1.00      1.00      1.00       489\n",
      "\n",
      "    accuracy                           1.00       750\n",
      "   macro avg       1.00      1.00      1.00       750\n",
      "weighted avg       1.00      1.00      1.00       750\n",
      "\n",
      "\n",
      "ROC Curve\n"
     ]
    },
    {
     "data": {
      "image/png": "[encoded data removed]",
      "text/plain": [
       "<Figure size 432x288 with 1 Axes>"
      ]
     },
     "metadata": {
      "needs_background": "light"
     },
     "output_type": "display_data"
    },
    {
     "name": "stdout",
     "output_type": "stream",
     "text": [
      "\n",
      "************Area under the curve******************\n",
      "1.0\n"
     ]
    }
   ],
   "source": [
    "#score for logistic regression using only training data\n",
    "train_score(lr)"
   ]
  },
  {
   "cell_type": "markdown",
   "id": "9f622f0a",
   "metadata": {},
   "source": [
    "## KNeighbors Classifier"
   ]
  },
  {
   "cell_type": "code",
   "execution_count": 22,
   "id": "7ab35b45",
   "metadata": {},
   "outputs": [
    {
     "data": {
      "text/plain": [
       "KNeighborsClassifier(n_neighbors=3)"
      ]
     },
     "execution_count": 22,
     "metadata": {},
     "output_type": "execute_result"
    }
   ],
   "source": [
    "# Creating a Kneighbors classifier model on the scaled data\n",
    "knn= KNeighborsClassifier(n_neighbors=3)\n",
    "\n",
    "# Fit the model to the data\n",
    "knn.fit(X_train_scaled, y_train)"
   ]
  },
  {
   "cell_type": "code",
   "execution_count": 23,
   "id": "3daa7fbd",
   "metadata": {},
   "outputs": [
    {
     "name": "stdout",
     "output_type": "stream",
     "text": [
      "****************Train Score******************\n",
      "1.0\n",
      "\n",
      "**********Using K=3 cross validation**********\n",
      "[1.    0.972 1.   ]\n",
      "\n",
      "************Confusion Matrix using cross_val_predict******************\n",
      "[[254   7]\n",
      " [  0 489]]\n",
      "\n",
      "********Classification Report******************\n",
      "              precision    recall  f1-score   support\n",
      "\n",
      "           0       1.00      0.97      0.99       261\n",
      "           1       0.99      1.00      0.99       489\n",
      "\n",
      "    accuracy                           0.99       750\n",
      "   macro avg       0.99      0.99      0.99       750\n",
      "weighted avg       0.99      0.99      0.99       750\n",
      "\n",
      "\n",
      "ROC Curve\n"
     ]
    },
    {
     "data": {
      "image/png": "[encoded data removed]",
      "text/plain": [
       "<Figure size 432x288 with 1 Axes>"
      ]
     },
     "metadata": {
      "needs_background": "light"
     },
     "output_type": "display_data"
    },
    {
     "name": "stdout",
     "output_type": "stream",
     "text": [
      "\n",
      "************Area under the curve******************\n",
      "1.0\n"
     ]
    }
   ],
   "source": [
    "#score for Kneighbors classifier using only training data\n",
    "train_score(knn)"
   ]
  },
  {
   "cell_type": "code",
   "execution_count": 24,
   "id": "02aa8bc9",
   "metadata": {},
   "outputs": [
    {
     "name": "stdout",
     "output_type": "stream",
     "text": [
      "k: 1, Train/Test Score: 1.000/1.000\n",
      "k: 3, Train/Test Score: 1.000/1.000\n",
      "k: 5, Train/Test Score: 1.000/1.000\n",
      "k: 7, Train/Test Score: 1.000/1.000\n",
      "k: 9, Train/Test Score: 1.000/1.000\n"
     ]
    },
    {
     "data": {
      "image/png": "[encoded data removed]",
      "text/plain": [
       "<Figure size 432x288 with 1 Axes>"
      ]
     },
     "metadata": {
      "needs_background": "light"
     },
     "output_type": "display_data"
    }
   ],
   "source": [
    "# Loop through different k values to find which has the highest accuracy.\n",
    "train_scores = []\n",
    "test_scores = []\n",
    "for k in range(1, 10, 2):\n",
    "    knn = KNeighborsClassifier(n_neighbors=k)\n",
    "    knn.fit(X_train_scaled, y_train)\n",
    "    tra_score = knn.score(X_train_scaled, y_train)\n",
    "    tes_score = knn.score(X_test_scaled, y_test)\n",
    "    train_scores.append(tra_score)\n",
    "    test_scores.append(tes_score)\n",
    "    print(f\"k: {k}, Train/Test Score: {tra_score:.3f}/{tes_score:.3f}\")\n",
    "    \n",
    "#plotting knn scores\n",
    "plt.plot(range(1, 10, 2), train_scores, marker='o')\n",
    "plt.plot(range(1, 10, 2), test_scores, marker=\"x\")\n",
    "plt.xlabel(\"k neighbors\")\n",
    "plt.ylabel(\"Testing accuracy Score\")\n",
    "plt.show()"
   ]
  },
  {
   "cell_type": "code",
   "execution_count": 25,
   "id": "cf04bbfc",
   "metadata": {},
   "outputs": [
    {
     "data": {
      "text/plain": [
       "KNeighborsClassifier()"
      ]
     },
     "execution_count": 25,
     "metadata": {},
     "output_type": "execute_result"
    }
   ],
   "source": [
    "# Creating a Kneighbors classifier model on the scaled data\n",
    "knn_5= KNeighborsClassifier(n_neighbors=5)\n",
    "\n",
    "# Fit the model to the data\n",
    "knn_5.fit(X_train_scaled, y_train)"
   ]
  },
  {
   "cell_type": "code",
   "execution_count": 26,
   "id": "1cd5d065",
   "metadata": {},
   "outputs": [
    {
     "name": "stdout",
     "output_type": "stream",
     "text": [
      "****************Train Score******************\n",
      "1.0\n",
      "\n",
      "**********Using K=3 cross validation**********\n",
      "[1.    0.972 1.   ]\n",
      "\n",
      "************Confusion Matrix using cross_val_predict******************\n",
      "[[254   7]\n",
      " [  0 489]]\n",
      "\n",
      "********Classification Report******************\n",
      "              precision    recall  f1-score   support\n",
      "\n",
      "           0       1.00      0.97      0.99       261\n",
      "           1       0.99      1.00      0.99       489\n",
      "\n",
      "    accuracy                           0.99       750\n",
      "   macro avg       0.99      0.99      0.99       750\n",
      "weighted avg       0.99      0.99      0.99       750\n",
      "\n",
      "\n",
      "ROC Curve\n"
     ]
    },
    {
     "data": {
      "image/png": "[encoded data removed]",
      "text/plain": [
       "<Figure size 432x288 with 1 Axes>"
      ]
     },
     "metadata": {
      "needs_background": "light"
     },
     "output_type": "display_data"
    },
    {
     "name": "stdout",
     "output_type": "stream",
     "text": [
      "\n",
      "************Area under the curve******************\n",
      "0.9995612282474986\n"
     ]
    }
   ],
   "source": [
    "#score for Kneighbors classifier using training and test data\n",
    "train_score(knn_5)"
   ]
  },
  {
   "cell_type": "markdown",
   "id": "74bac908",
   "metadata": {},
   "source": [
    "### Tuning hyperparamaters  using Grid Search CV for knn"
   ]
  },
  {
   "cell_type": "code",
   "execution_count": 27,
   "id": "2580806e",
   "metadata": {},
   "outputs": [],
   "source": [
    "#### Using GridSearchCV\n",
    "param_grid_knn = {'weights': ['uniform','distance'],\n",
    "              'algorithm': ['auto','ball_tree', 'kd_tree'],\n",
    "             'n_neighbors':[1,5,8,10]}\n",
    "grid_knn = GridSearchCV(knn_5, param_grid_knn, verbose=4, n_jobs=-1)"
   ]
  },
  {
   "cell_type": "code",
   "execution_count": 28,
   "id": "026705e4",
   "metadata": {},
   "outputs": [
    {
     "name": "stdout",
     "output_type": "stream",
     "text": [
      "Fitting 5 folds for each of 24 candidates, totalling 120 fits\n"
     ]
    },
    {
     "data": {
      "text/plain": [
       "GridSearchCV(estimator=KNeighborsClassifier(), n_jobs=-1,\n",
       "             param_grid={'algorithm': ['auto', 'ball_tree', 'kd_tree'],\n",
       "                         'n_neighbors': [1, 5, 8, 10],\n",
       "                         'weights': ['uniform', 'distance']},\n",
       "             verbose=4)"
      ]
     },
     "execution_count": 28,
     "metadata": {},
     "output_type": "execute_result"
    }
   ],
   "source": [
    "grid_knn.fit(X_train_scaled, y_train)"
   ]
  },
  {
   "cell_type": "code",
   "execution_count": 29,
   "id": "f0dd85db",
   "metadata": {},
   "outputs": [
    {
     "name": "stdout",
     "output_type": "stream",
     "text": [
      "{'algorithm': 'auto', 'n_neighbors': 1, 'weights': 'uniform'}\n"
     ]
    }
   ],
   "source": [
    "# List the best parameters for this dataset\n",
    "print(grid_knn.best_params_)"
   ]
  },
  {
   "cell_type": "code",
   "execution_count": 30,
   "id": "b74e9770",
   "metadata": {},
   "outputs": [
    {
     "name": "stdout",
     "output_type": "stream",
     "text": [
      "1.0\n"
     ]
    }
   ],
   "source": [
    "# List the best score\n",
    "print(grid_knn.best_score_)"
   ]
  },
  {
   "cell_type": "code",
   "execution_count": 31,
   "id": "58423785",
   "metadata": {},
   "outputs": [
    {
     "data": {
      "text/plain": [
       "KNeighborsClassifier(n_neighbors=1)"
      ]
     },
     "execution_count": 31,
     "metadata": {},
     "output_type": "execute_result"
    }
   ],
   "source": [
    "#best estimator\n",
    "knn_b=grid_knn.best_estimator_\n",
    "knn_b"
   ]
  },
  {
   "cell_type": "code",
   "execution_count": 32,
   "id": "96e9af47",
   "metadata": {},
   "outputs": [
    {
     "name": "stdout",
     "output_type": "stream",
     "text": [
      "****************Train Score******************\n",
      "1.0\n",
      "\n",
      "**********Using K=3 cross validation**********\n",
      "[1. 1. 1.]\n",
      "\n",
      "************Confusion Matrix using cross_val_predict******************\n",
      "[[261   0]\n",
      " [  0 489]]\n",
      "\n",
      "********Classification Report******************\n",
      "              precision    recall  f1-score   support\n",
      "\n",
      "           0       1.00      1.00      1.00       261\n",
      "           1       1.00      1.00      1.00       489\n",
      "\n",
      "    accuracy                           1.00       750\n",
      "   macro avg       1.00      1.00      1.00       750\n",
      "weighted avg       1.00      1.00      1.00       750\n",
      "\n",
      "\n",
      "ROC Curve\n"
     ]
    },
    {
     "data": {
      "image/png": "[encoded data removed]",
      "text/plain": [
       "<Figure size 432x288 with 1 Axes>"
      ]
     },
     "metadata": {
      "needs_background": "light"
     },
     "output_type": "display_data"
    },
    {
     "name": "stdout",
     "output_type": "stream",
     "text": [
      "\n",
      "************Area under the curve******************\n",
      "1.0\n"
     ]
    }
   ],
   "source": [
    "#score for logistic regression using training and test data\n",
    "train_score(knn_b)"
   ]
  },
  {
   "cell_type": "markdown",
   "id": "9d103b54",
   "metadata": {},
   "source": [
    "## Support Vector Classifier"
   ]
  },
  {
   "cell_type": "code",
   "execution_count": 33,
   "id": "b26943b6",
   "metadata": {},
   "outputs": [
    {
     "data": {
      "text/plain": [
       "SVC(kernel='linear', probability=True)"
      ]
     },
     "execution_count": 33,
     "metadata": {},
     "output_type": "execute_result"
    }
   ],
   "source": [
    "# Creating a support vector classifier model on the scaled data\n",
    "svc= SVC(kernel='linear',  probability=True)\n",
    "\n",
    "# Fit the model to the data\n",
    "svc.fit(X_train_scaled, y_train)"
   ]
  },
  {
   "cell_type": "code",
   "execution_count": 34,
   "id": "ba0120a3",
   "metadata": {},
   "outputs": [
    {
     "name": "stdout",
     "output_type": "stream",
     "text": [
      "****************Train Score******************\n",
      "1.0\n",
      "\n",
      "**********Using K=3 cross validation**********\n",
      "[1. 1. 1.]\n",
      "\n",
      "************Confusion Matrix using cross_val_predict******************\n",
      "[[261   0]\n",
      " [  0 489]]\n",
      "\n",
      "********Classification Report******************\n",
      "              precision    recall  f1-score   support\n",
      "\n",
      "           0       1.00      1.00      1.00       261\n",
      "           1       1.00      1.00      1.00       489\n",
      "\n",
      "    accuracy                           1.00       750\n",
      "   macro avg       1.00      1.00      1.00       750\n",
      "weighted avg       1.00      1.00      1.00       750\n",
      "\n",
      "\n",
      "ROC Curve\n"
     ]
    },
    {
     "data": {
      "image/png": "[encoded data removed]",
      "text/plain": [
       "<Figure size 432x288 with 1 Axes>"
      ]
     },
     "metadata": {
      "needs_background": "light"
     },
     "output_type": "display_data"
    },
    {
     "name": "stdout",
     "output_type": "stream",
     "text": [
      "\n",
      "************Area under the curve******************\n",
      "0.9999999999999999\n"
     ]
    }
   ],
   "source": [
    "#score for support vector classifier using only training data\n",
    "train_score(svc)"
   ]
  },
  {
   "cell_type": "markdown",
   "id": "15f479d8",
   "metadata": {},
   "source": [
    "### Tuning hyperparamaters  using Randomized Search CV for SVC"
   ]
  },
  {
   "cell_type": "code",
   "execution_count": 35,
   "id": "7f6a9197",
   "metadata": {},
   "outputs": [],
   "source": [
    "#### Using GridSearchCV\n",
    "param_rand_svc ={\n",
    "              'C': [1.0,2.0],\n",
    "                'kernel':['linear', 'poly','rbf'],\n",
    "                'gamma':['auto','scale']}\n",
    "rand_svc = RandomizedSearchCV(svc, param_rand_svc, cv=3, verbose=4, n_jobs=-1)"
   ]
  },
  {
   "cell_type": "code",
   "execution_count": 36,
   "id": "744c6048",
   "metadata": {},
   "outputs": [
    {
     "name": "stdout",
     "output_type": "stream",
     "text": [
      "Fitting 3 folds for each of 10 candidates, totalling 30 fits\n"
     ]
    },
    {
     "data": {
      "text/plain": [
       "RandomizedSearchCV(cv=3, estimator=SVC(kernel='linear', probability=True),\n",
       "                   n_jobs=-1,\n",
       "                   param_distributions={'C': [1.0, 2.0],\n",
       "                                        'gamma': ['auto', 'scale'],\n",
       "                                        'kernel': ['linear', 'poly', 'rbf']},\n",
       "                   verbose=4)"
      ]
     },
     "execution_count": 36,
     "metadata": {},
     "output_type": "execute_result"
    }
   ],
   "source": [
    "rand_svc.fit(X_train_scaled, y_train)"
   ]
  },
  {
   "cell_type": "code",
   "execution_count": 37,
   "id": "97f5c577",
   "metadata": {},
   "outputs": [
    {
     "name": "stdout",
     "output_type": "stream",
     "text": [
      "{'kernel': 'poly', 'gamma': 'auto', 'C': 1.0}\n"
     ]
    }
   ],
   "source": [
    "# List the best parameters for this dataset\n",
    "print(rand_svc.best_params_)"
   ]
  },
  {
   "cell_type": "code",
   "execution_count": 38,
   "id": "4138dffd",
   "metadata": {},
   "outputs": [
    {
     "name": "stdout",
     "output_type": "stream",
     "text": [
      "1.0\n"
     ]
    }
   ],
   "source": [
    "# List the best score\n",
    "print(rand_svc.best_score_)"
   ]
  },
  {
   "cell_type": "code",
   "execution_count": 39,
   "id": "e1375b6d",
   "metadata": {},
   "outputs": [
    {
     "data": {
      "text/plain": [
       "SVC(gamma='auto', kernel='poly', probability=True)"
      ]
     },
     "execution_count": 39,
     "metadata": {},
     "output_type": "execute_result"
    }
   ],
   "source": [
    "#best estimator\n",
    "svc_R_b=rand_svc.best_estimator_\n",
    "svc_R_b"
   ]
  },
  {
   "cell_type": "code",
   "execution_count": 40,
   "id": "b7bd375b",
   "metadata": {},
   "outputs": [
    {
     "name": "stdout",
     "output_type": "stream",
     "text": [
      "****************Train Score******************\n",
      "1.0\n",
      "\n",
      "**********Using K=3 cross validation**********\n",
      "[1. 1. 1.]\n",
      "\n",
      "************Confusion Matrix using cross_val_predict******************\n",
      "[[261   0]\n",
      " [  0 489]]\n",
      "\n",
      "********Classification Report******************\n",
      "              precision    recall  f1-score   support\n",
      "\n",
      "           0       1.00      1.00      1.00       261\n",
      "           1       1.00      1.00      1.00       489\n",
      "\n",
      "    accuracy                           1.00       750\n",
      "   macro avg       1.00      1.00      1.00       750\n",
      "weighted avg       1.00      1.00      1.00       750\n",
      "\n",
      "\n",
      "ROC Curve\n"
     ]
    },
    {
     "data": {
      "image/png": "[encoded data removed]",
      "text/plain": [
       "<Figure size 432x288 with 1 Axes>"
      ]
     },
     "metadata": {
      "needs_background": "light"
     },
     "output_type": "display_data"
    },
    {
     "name": "stdout",
     "output_type": "stream",
     "text": [
      "\n",
      "************Area under the curve******************\n",
      "1.0\n"
     ]
    }
   ],
   "source": [
    "#score for logistic regression using training and test data\n",
    "train_score(svc_R_b)"
   ]
  },
  {
   "cell_type": "markdown",
   "id": "74e98eaf",
   "metadata": {},
   "source": [
    "## Decision Tree Classifier"
   ]
  },
  {
   "cell_type": "code",
   "execution_count": 41,
   "id": "9984eafb",
   "metadata": {},
   "outputs": [
    {
     "data": {
      "text/plain": [
       "DecisionTreeClassifier()"
      ]
     },
     "execution_count": 41,
     "metadata": {},
     "output_type": "execute_result"
    }
   ],
   "source": [
    "# Creating a Decision Tree model on the scaled data\n",
    "dt= DecisionTreeClassifier()\n",
    "\n",
    "# Fit the model to the data\n",
    "dt.fit(X_train_scaled, y_train)"
   ]
  },
  {
   "cell_type": "code",
   "execution_count": 42,
   "id": "dbcf611c",
   "metadata": {},
   "outputs": [
    {
     "name": "stdout",
     "output_type": "stream",
     "text": [
      "****************Train Score******************\n",
      "1.0\n",
      "\n",
      "**********Using K=3 cross validation**********\n",
      "[1. 1. 1.]\n",
      "\n",
      "************Confusion Matrix using cross_val_predict******************\n",
      "[[261   0]\n",
      " [  0 489]]\n",
      "\n",
      "********Classification Report******************\n",
      "              precision    recall  f1-score   support\n",
      "\n",
      "           0       1.00      1.00      1.00       261\n",
      "           1       1.00      1.00      1.00       489\n",
      "\n",
      "    accuracy                           1.00       750\n",
      "   macro avg       1.00      1.00      1.00       750\n",
      "weighted avg       1.00      1.00      1.00       750\n",
      "\n",
      "\n",
      "ROC Curve\n"
     ]
    },
    {
     "data": {
      "image/png": "[encoded data removed]",
      "text/plain": [
       "<Figure size 432x288 with 1 Axes>"
      ]
     },
     "metadata": {
      "needs_background": "light"
     },
     "output_type": "display_data"
    },
    {
     "name": "stdout",
     "output_type": "stream",
     "text": [
      "\n",
      "************Area under the curve******************\n",
      "1.0\n"
     ]
    }
   ],
   "source": [
    "#score for Decision Tree using only training data\n",
    "train_score(dt)"
   ]
  },
  {
   "cell_type": "code",
   "execution_count": 43,
   "id": "508c2959",
   "metadata": {},
   "outputs": [
    {
     "name": "stdout",
     "output_type": "stream",
     "text": [
      "[0.         0.         0.         0.         0.         0.\n",
      " 0.         0.         0.         0.         0.         0.72860792\n",
      " 0.         0.         0.27139208 0.         0.         0.\n",
      " 0.         0.         0.         0.         0.        ]\n"
     ]
    },
    {
     "data": {
      "image/png": "[encoded data removed]",
      "text/plain": [
       "<Figure size 432x288 with 1 Axes>"
      ]
     },
     "metadata": {
      "needs_background": "light"
     },
     "output_type": "display_data"
    }
   ],
   "source": [
    "# plotting columns with its importances\n",
    "features_dt = dt.feature_importances_\n",
    "print(features_dt)\n",
    "plt.bar(x = range(len(features_dt)), height=features_dt)\n",
    "plt.show()"
   ]
  },
  {
   "cell_type": "markdown",
   "id": "1f6c335a",
   "metadata": {},
   "source": [
    "### Tuning hyperparamaters  using Randomized Search CV for Decision Tree"
   ]
  },
  {
   "cell_type": "code",
   "execution_count": 44,
   "id": "1aee651e",
   "metadata": {},
   "outputs": [],
   "source": [
    "#### Using GridSearchCV\n",
    "param_rand_dt ={\n",
    "              'criterion': ['gini','entropy'],\n",
    "             'max_depth':[1,2,5,10,100,1000,10000],\n",
    "                'min_samples_leaf':[1,5,10,100,1000,10000],\n",
    "                'max_features':['auto','sqrt','log2']}\n",
    "rand_dt = RandomizedSearchCV(dt, param_rand_dt, cv=3, verbose=4, n_jobs=-1)"
   ]
  },
  {
   "cell_type": "code",
   "execution_count": 45,
   "id": "05aa34eb",
   "metadata": {},
   "outputs": [
    {
     "name": "stdout",
     "output_type": "stream",
     "text": [
      "Fitting 3 folds for each of 10 candidates, totalling 30 fits\n"
     ]
    },
    {
     "data": {
      "text/plain": [
       "RandomizedSearchCV(cv=3, estimator=DecisionTreeClassifier(), n_jobs=-1,\n",
       "                   param_distributions={'criterion': ['gini', 'entropy'],\n",
       "                                        'max_depth': [1, 2, 5, 10, 100, 1000,\n",
       "                                                      10000],\n",
       "                                        'max_features': ['auto', 'sqrt',\n",
       "                                                         'log2'],\n",
       "                                        'min_samples_leaf': [1, 5, 10, 100,\n",
       "                                                             1000, 10000]},\n",
       "                   verbose=4)"
      ]
     },
     "execution_count": 45,
     "metadata": {},
     "output_type": "execute_result"
    }
   ],
   "source": [
    "rand_dt.fit(X_train_scaled, y_train)"
   ]
  },
  {
   "cell_type": "code",
   "execution_count": 46,
   "id": "335b5f3f",
   "metadata": {},
   "outputs": [
    {
     "name": "stdout",
     "output_type": "stream",
     "text": [
      "{'min_samples_leaf': 1, 'max_features': 'auto', 'max_depth': 1000, 'criterion': 'gini'}\n"
     ]
    }
   ],
   "source": [
    "# List the best parameters for this dataset\n",
    "print(rand_dt.best_params_)"
   ]
  },
  {
   "cell_type": "code",
   "execution_count": 47,
   "id": "3f0ee82b",
   "metadata": {},
   "outputs": [
    {
     "name": "stdout",
     "output_type": "stream",
     "text": [
      "1.0\n"
     ]
    }
   ],
   "source": [
    "# List the best score\n",
    "print(rand_dt.best_score_)"
   ]
  },
  {
   "cell_type": "code",
   "execution_count": 48,
   "id": "c5dc003b",
   "metadata": {},
   "outputs": [
    {
     "data": {
      "text/plain": [
       "DecisionTreeClassifier(max_depth=1000, max_features='auto')"
      ]
     },
     "execution_count": 48,
     "metadata": {},
     "output_type": "execute_result"
    }
   ],
   "source": [
    "#best estimator\n",
    "dt_R_b=rand_dt.best_estimator_\n",
    "dt_R_b"
   ]
  },
  {
   "cell_type": "code",
   "execution_count": 49,
   "id": "0a197d87",
   "metadata": {},
   "outputs": [
    {
     "name": "stdout",
     "output_type": "stream",
     "text": [
      "****************Train Score******************\n",
      "1.0\n",
      "\n",
      "**********Using K=3 cross validation**********\n",
      "[1. 1. 1.]\n",
      "\n",
      "************Confusion Matrix using cross_val_predict******************\n",
      "[[261   0]\n",
      " [  0 489]]\n",
      "\n",
      "********Classification Report******************\n",
      "              precision    recall  f1-score   support\n",
      "\n",
      "           0       1.00      1.00      1.00       261\n",
      "           1       1.00      1.00      1.00       489\n",
      "\n",
      "    accuracy                           1.00       750\n",
      "   macro avg       1.00      1.00      1.00       750\n",
      "weighted avg       1.00      1.00      1.00       750\n",
      "\n",
      "\n",
      "ROC Curve\n"
     ]
    },
    {
     "data": {
      "image/png": "[encoded data removed]",
      "text/plain": [
       "<Figure size 432x288 with 1 Axes>"
      ]
     },
     "metadata": {
      "needs_background": "light"
     },
     "output_type": "display_data"
    },
    {
     "name": "stdout",
     "output_type": "stream",
     "text": [
      "\n",
      "************Area under the curve******************\n",
      "1.0\n"
     ]
    }
   ],
   "source": [
    "#score for logistic regression using training and test data\n",
    "train_score(dt_R_b)"
   ]
  },
  {
   "cell_type": "markdown",
   "id": "ff4c2741",
   "metadata": {},
   "source": [
    "## Bagging"
   ]
  },
  {
   "cell_type": "markdown",
   "id": "90ce9c62",
   "metadata": {},
   "source": [
    "## a. Random Forest Classifier\n",
    "Instead of having one decision tree, we make more random trees and average their output."
   ]
  },
  {
   "cell_type": "code",
   "execution_count": 50,
   "id": "a7e46a79",
   "metadata": {},
   "outputs": [
    {
     "data": {
      "text/plain": [
       "RandomForestClassifier()"
      ]
     },
     "execution_count": 50,
     "metadata": {},
     "output_type": "execute_result"
    }
   ],
   "source": [
    "# Creating a Random Forest Classifer model on the scaled data\n",
    "rf= RandomForestClassifier()\n",
    "\n",
    "# Fit the model to the data\n",
    "rf.fit(X_train_scaled, y_train)"
   ]
  },
  {
   "cell_type": "code",
   "execution_count": 51,
   "id": "d4d4c5dc",
   "metadata": {},
   "outputs": [
    {
     "name": "stdout",
     "output_type": "stream",
     "text": [
      "****************Train Score******************\n",
      "1.0\n",
      "\n",
      "**********Using K=3 cross validation**********\n",
      "[1. 1. 1.]\n",
      "\n",
      "************Confusion Matrix using cross_val_predict******************\n",
      "[[261   0]\n",
      " [  0 489]]\n",
      "\n",
      "********Classification Report******************\n",
      "              precision    recall  f1-score   support\n",
      "\n",
      "           0       1.00      1.00      1.00       261\n",
      "           1       1.00      1.00      1.00       489\n",
      "\n",
      "    accuracy                           1.00       750\n",
      "   macro avg       1.00      1.00      1.00       750\n",
      "weighted avg       1.00      1.00      1.00       750\n",
      "\n",
      "\n",
      "ROC Curve\n"
     ]
    },
    {
     "data": {
      "image/png": "[encoded data removed]",
      "text/plain": [
       "<Figure size 432x288 with 1 Axes>"
      ]
     },
     "metadata": {
      "needs_background": "light"
     },
     "output_type": "display_data"
    },
    {
     "name": "stdout",
     "output_type": "stream",
     "text": [
      "\n",
      "************Area under the curve******************\n",
      "1.0\n"
     ]
    }
   ],
   "source": [
    "#score for Random Forest Classifer using only training data\n",
    "train_score(rf)"
   ]
  },
  {
   "cell_type": "code",
   "execution_count": 52,
   "id": "d0c64acd",
   "metadata": {},
   "outputs": [
    {
     "name": "stdout",
     "output_type": "stream",
     "text": [
      "[0.00223608 0.00021729 0.06574695 0.05049493 0.01170352 0.02678345\n",
      " 0.03232243 0.01266171 0.08949341 0.13459839 0.06069318 0.14741318\n",
      " 0.02182977 0.18925675 0.03210169 0.01391396 0.02219717 0.01400594\n",
      " 0.00549608 0.01173741 0.02089148 0.02228705 0.01191818]\n"
     ]
    },
    {
     "data": {
      "image/png": "[encoded data removed]",
      "text/plain": [
       "<Figure size 432x288 with 1 Axes>"
      ]
     },
     "metadata": {
      "needs_background": "light"
     },
     "output_type": "display_data"
    }
   ],
   "source": [
    "# plotting columns with its importances\n",
    "features_rf = rf.feature_importances_\n",
    "print(features_rf)\n",
    "plt.bar(x = range(len(features_rf)), height=features_rf)\n",
    "plt.show()"
   ]
  },
  {
   "cell_type": "markdown",
   "id": "e538dcfd",
   "metadata": {},
   "source": [
    "### Tuning hyperparamaters  using Randomized Search CV for Random Forest"
   ]
  },
  {
   "cell_type": "code",
   "execution_count": 53,
   "id": "f56a58e8",
   "metadata": {},
   "outputs": [],
   "source": [
    "#### Using GridSearchCV\n",
    "param_rand_rf = {'n_estimators':[100,200,500],\n",
    "              'criterion': ['gini','entropy'],\n",
    "             'max_depth':[1,2,5,10,100,1000,10000],\n",
    "                'min_samples_leaf':[1,5,10,100,1000,10000],\n",
    "                'max_features':['auto','sqrt','log2']}\n",
    "rand_rf = RandomizedSearchCV(rf, param_rand_rf, cv=3, verbose=1, n_jobs=-1)"
   ]
  },
  {
   "cell_type": "code",
   "execution_count": 54,
   "id": "0ab55f0d",
   "metadata": {},
   "outputs": [
    {
     "name": "stdout",
     "output_type": "stream",
     "text": [
      "Fitting 3 folds for each of 10 candidates, totalling 30 fits\n"
     ]
    },
    {
     "data": {
      "text/plain": [
       "RandomizedSearchCV(cv=3, estimator=RandomForestClassifier(), n_jobs=-1,\n",
       "                   param_distributions={'criterion': ['gini', 'entropy'],\n",
       "                                        'max_depth': [1, 2, 5, 10, 100, 1000,\n",
       "                                                      10000],\n",
       "                                        'max_features': ['auto', 'sqrt',\n",
       "                                                         'log2'],\n",
       "                                        'min_samples_leaf': [1, 5, 10, 100,\n",
       "                                                             1000, 10000],\n",
       "                                        'n_estimators': [100, 200, 500]},\n",
       "                   verbose=1)"
      ]
     },
     "execution_count": 54,
     "metadata": {},
     "output_type": "execute_result"
    }
   ],
   "source": [
    "rand_rf.fit(X_train_scaled, y_train)"
   ]
  },
  {
   "cell_type": "code",
   "execution_count": 55,
   "id": "673b253c",
   "metadata": {},
   "outputs": [
    {
     "name": "stdout",
     "output_type": "stream",
     "text": [
      "{'n_estimators': 100, 'min_samples_leaf': 1, 'max_features': 'auto', 'max_depth': 5, 'criterion': 'entropy'}\n"
     ]
    }
   ],
   "source": [
    "# List the best parameters for this dataset\n",
    "print(rand_rf.best_params_)"
   ]
  },
  {
   "cell_type": "code",
   "execution_count": 56,
   "id": "972b539e",
   "metadata": {},
   "outputs": [
    {
     "name": "stdout",
     "output_type": "stream",
     "text": [
      "1.0\n"
     ]
    }
   ],
   "source": [
    "# List the best score\n",
    "print(rand_rf.best_score_)"
   ]
  },
  {
   "cell_type": "code",
   "execution_count": 57,
   "id": "4f25a156",
   "metadata": {},
   "outputs": [
    {
     "data": {
      "text/plain": [
       "RandomForestClassifier(criterion='entropy', max_depth=5)"
      ]
     },
     "execution_count": 57,
     "metadata": {},
     "output_type": "execute_result"
    }
   ],
   "source": [
    "#best estimator\n",
    "rf_R_b=rand_rf.best_estimator_\n",
    "rf_R_b"
   ]
  },
  {
   "cell_type": "code",
   "execution_count": 58,
   "id": "0f07ec98",
   "metadata": {},
   "outputs": [
    {
     "name": "stdout",
     "output_type": "stream",
     "text": [
      "****************Train Score******************\n",
      "1.0\n",
      "\n",
      "**********Using K=3 cross validation**********\n",
      "[1. 1. 1.]\n",
      "\n",
      "************Confusion Matrix using cross_val_predict******************\n",
      "[[261   0]\n",
      " [  0 489]]\n",
      "\n",
      "********Classification Report******************\n",
      "              precision    recall  f1-score   support\n",
      "\n",
      "           0       1.00      1.00      1.00       261\n",
      "           1       1.00      1.00      1.00       489\n",
      "\n",
      "    accuracy                           1.00       750\n",
      "   macro avg       1.00      1.00      1.00       750\n",
      "weighted avg       1.00      1.00      1.00       750\n",
      "\n",
      "\n",
      "ROC Curve\n"
     ]
    },
    {
     "data": {
      "image/png": "[encoded data removed]",
      "text/plain": [
       "<Figure size 432x288 with 1 Axes>"
      ]
     },
     "metadata": {
      "needs_background": "light"
     },
     "output_type": "display_data"
    },
    {
     "name": "stdout",
     "output_type": "stream",
     "text": [
      "\n",
      "************Area under the curve******************\n",
      "1.0\n"
     ]
    }
   ],
   "source": [
    "#score for logistic regression using training and test data\n",
    "train_score(rf_R_b)"
   ]
  },
  {
   "cell_type": "code",
   "execution_count": 59,
   "id": "3e55f391",
   "metadata": {},
   "outputs": [
    {
     "name": "stdout",
     "output_type": "stream",
     "text": [
      "****************Train Score******************\n",
      "1.0\n",
      "\n",
      "*****************Test Score******************\n",
      "1.0\n",
      "\n",
      "************Confusion Matrix******************\n",
      "[[104   0]\n",
      " [  0 146]]\n",
      "\n",
      "********Classification Report******************\n",
      "              precision    recall  f1-score   support\n",
      "\n",
      "           0       1.00      1.00      1.00       104\n",
      "           1       1.00      1.00      1.00       146\n",
      "\n",
      "    accuracy                           1.00       250\n",
      "   macro avg       1.00      1.00      1.00       250\n",
      "weighted avg       1.00      1.00      1.00       250\n",
      "\n",
      "\n",
      "ROC Curve\n"
     ]
    },
    {
     "data": {
      "image/png": "[encoded data removed]",
      "text/plain": [
       "<Figure size 432x288 with 1 Axes>"
      ]
     },
     "metadata": {
      "needs_background": "light"
     },
     "output_type": "display_data"
    },
    {
     "name": "stdout",
     "output_type": "stream",
     "text": [
      "\n",
      "************Area under the curve******************\n",
      "1.0\n"
     ]
    }
   ],
   "source": [
    "test_score(rf_R_b)"
   ]
  },
  {
   "cell_type": "markdown",
   "id": "2eb180ec",
   "metadata": {},
   "source": [
    "## b. Extremely Random Trees\n",
    "Changing the behavior of the decision trees so that they randomly choose their splits"
   ]
  },
  {
   "cell_type": "code",
   "execution_count": 60,
   "id": "cb57a570",
   "metadata": {},
   "outputs": [
    {
     "data": {
      "text/plain": [
       "ExtraTreesClassifier()"
      ]
     },
     "execution_count": 60,
     "metadata": {},
     "output_type": "execute_result"
    }
   ],
   "source": [
    "# Creating a Extremely Random Trees model on the scaled data\n",
    "rt= ExtraTreesClassifier()\n",
    "\n",
    "# Fit the model to the data\n",
    "rt.fit(X_train_scaled, y_train)"
   ]
  },
  {
   "cell_type": "code",
   "execution_count": 61,
   "id": "46450c04",
   "metadata": {},
   "outputs": [
    {
     "name": "stdout",
     "output_type": "stream",
     "text": [
      "****************Train Score******************\n",
      "1.0\n",
      "\n",
      "**********Using K=3 cross validation**********\n",
      "[1. 1. 1.]\n",
      "\n",
      "************Confusion Matrix using cross_val_predict******************\n",
      "[[261   0]\n",
      " [  0 489]]\n",
      "\n",
      "********Classification Report******************\n",
      "              precision    recall  f1-score   support\n",
      "\n",
      "           0       1.00      1.00      1.00       261\n",
      "           1       1.00      1.00      1.00       489\n",
      "\n",
      "    accuracy                           1.00       750\n",
      "   macro avg       1.00      1.00      1.00       750\n",
      "weighted avg       1.00      1.00      1.00       750\n",
      "\n",
      "\n",
      "ROC Curve\n"
     ]
    },
    {
     "data": {
      "image/png": "[encoded data removed]",
      "text/plain": [
       "<Figure size 432x288 with 1 Axes>"
      ]
     },
     "metadata": {
      "needs_background": "light"
     },
     "output_type": "display_data"
    },
    {
     "name": "stdout",
     "output_type": "stream",
     "text": [
      "\n",
      "************Area under the curve******************\n",
      "1.0\n"
     ]
    }
   ],
   "source": [
    "#score for Extremely Random Trees using only training data\n",
    "train_score(rt)"
   ]
  },
  {
   "cell_type": "code",
   "execution_count": 62,
   "id": "bdfe0c81",
   "metadata": {},
   "outputs": [
    {
     "name": "stdout",
     "output_type": "stream",
     "text": [
      "[0.00136947 0.00049877 0.06691132 0.06247887 0.03465543 0.02872721\n",
      " 0.04854403 0.03499309 0.08779691 0.11805001 0.07023039 0.09641309\n",
      " 0.07435699 0.06939384 0.03946879 0.01936383 0.02922427 0.0158872\n",
      " 0.01938366 0.01598256 0.01918417 0.03270259 0.01438351]\n"
     ]
    },
    {
     "data": {
      "image/png": "[encoded data removed]",
      "text/plain": [
       "<Figure size 432x288 with 1 Axes>"
      ]
     },
     "metadata": {
      "needs_background": "light"
     },
     "output_type": "display_data"
    }
   ],
   "source": [
    "# plotting columns with its importances\n",
    "features_rt = rt.feature_importances_\n",
    "print(features_rt)\n",
    "plt.bar(x = range(len(features_rt)), height=features_rt)\n",
    "plt.show()"
   ]
  },
  {
   "cell_type": "markdown",
   "id": "2bd977d6",
   "metadata": {},
   "source": [
    "### Tuning hyperparamaters  using Randomized Search CV for Extremely Random Tree"
   ]
  },
  {
   "cell_type": "code",
   "execution_count": 64,
   "id": "5affa876",
   "metadata": {},
   "outputs": [],
   "source": [
    "#### Using GridSearchCV\n",
    "param_rand_rt = {'n_estimators':[100,200,500],\n",
    "              'criterion': ['gini','entropy'],\n",
    "             'max_depth':[5,10,1000,10000],\n",
    "                'min_samples_leaf':[10,100,1000,10000],\n",
    "                'max_features':['auto','sqrt','log2']}\n",
    "rand_rt = RandomizedSearchCV(rt, param_rand_rt, cv=3, verbose=1, n_jobs=-1)"
   ]
  },
  {
   "cell_type": "code",
   "execution_count": 65,
   "id": "a74020e2",
   "metadata": {},
   "outputs": [
    {
     "name": "stdout",
     "output_type": "stream",
     "text": [
      "Fitting 3 folds for each of 10 candidates, totalling 30 fits\n"
     ]
    },
    {
     "data": {
      "text/plain": [
       "RandomizedSearchCV(cv=3, estimator=ExtraTreesClassifier(), n_jobs=-1,\n",
       "                   param_distributions={'criterion': ['gini', 'entropy'],\n",
       "                                        'max_depth': [5, 10, 1000, 10000],\n",
       "                                        'max_features': ['auto', 'sqrt',\n",
       "                                                         'log2'],\n",
       "                                        'min_samples_leaf': [10, 100, 1000,\n",
       "                                                             10000],\n",
       "                                        'n_estimators': [100, 200, 500]},\n",
       "                   verbose=1)"
      ]
     },
     "execution_count": 65,
     "metadata": {},
     "output_type": "execute_result"
    }
   ],
   "source": [
    "rand_rt.fit(X_train_scaled, y_train)"
   ]
  },
  {
   "cell_type": "code",
   "execution_count": 66,
   "id": "9eb09955",
   "metadata": {},
   "outputs": [
    {
     "name": "stdout",
     "output_type": "stream",
     "text": [
      "{'n_estimators': 100, 'min_samples_leaf': 100, 'max_features': 'log2', 'max_depth': 10, 'criterion': 'gini'}\n"
     ]
    }
   ],
   "source": [
    "# List the best parameters for this dataset\n",
    "print(rand_rt.best_params_)"
   ]
  },
  {
   "cell_type": "code",
   "execution_count": 67,
   "id": "50f91a0e",
   "metadata": {},
   "outputs": [
    {
     "name": "stdout",
     "output_type": "stream",
     "text": [
      "0.94\n"
     ]
    }
   ],
   "source": [
    "# List the best score\n",
    "print(rand_rt.best_score_)"
   ]
  },
  {
   "cell_type": "code",
   "execution_count": 68,
   "id": "e51fb8ac",
   "metadata": {},
   "outputs": [
    {
     "data": {
      "text/plain": [
       "ExtraTreesClassifier(max_depth=10, max_features='log2', min_samples_leaf=100)"
      ]
     },
     "execution_count": 68,
     "metadata": {},
     "output_type": "execute_result"
    }
   ],
   "source": [
    "#best estimator\n",
    "rt_R_b=rand_rt.best_estimator_\n",
    "rt_R_b"
   ]
  },
  {
   "cell_type": "code",
   "execution_count": 69,
   "id": "901873e9",
   "metadata": {},
   "outputs": [
    {
     "name": "stdout",
     "output_type": "stream",
     "text": [
      "****************Train Score******************\n",
      "0.96\n",
      "\n",
      "**********Using K=3 cross validation**********\n",
      "[0.908 0.904 0.916]\n",
      "\n",
      "************Confusion Matrix using cross_val_predict******************\n",
      "[[215  46]\n",
      " [ 25 464]]\n",
      "\n",
      "********Classification Report******************\n",
      "              precision    recall  f1-score   support\n",
      "\n",
      "           0       0.90      0.82      0.86       261\n",
      "           1       0.91      0.95      0.93       489\n",
      "\n",
      "    accuracy                           0.91       750\n",
      "   macro avg       0.90      0.89      0.89       750\n",
      "weighted avg       0.90      0.91      0.90       750\n",
      "\n",
      "\n",
      "ROC Curve\n"
     ]
    },
    {
     "data": {
      "image/png": "[encoded data removed]",
      "text/plain": [
       "<Figure size 432x288 with 1 Axes>"
      ]
     },
     "metadata": {
      "needs_background": "light"
     },
     "output_type": "display_data"
    },
    {
     "name": "stdout",
     "output_type": "stream",
     "text": [
      "\n",
      "************Area under the curve******************\n",
      "0.9835930705403944\n"
     ]
    }
   ],
   "source": [
    "#score for logistic regression using training and test data\n",
    "train_score(rt_R_b)"
   ]
  },
  {
   "cell_type": "markdown",
   "id": "5da813e8",
   "metadata": {},
   "source": [
    "## Boosting\n",
    "In Bosting each new weak learner is trained on data that skews the training dataset to data points that the previous weak learners didn't estimate well."
   ]
  },
  {
   "cell_type": "code",
   "execution_count": 70,
   "id": "b0532474",
   "metadata": {},
   "outputs": [
    {
     "data": {
      "text/plain": [
       "AdaBoostClassifier(base_estimator=DecisionTreeClassifier())"
      ]
     },
     "execution_count": 70,
     "metadata": {},
     "output_type": "execute_result"
    }
   ],
   "source": [
    "# Creating a AdaBoostClassifier model on the scaled data\n",
    "ab= AdaBoostClassifier(base_estimator = dt)\n",
    "\n",
    "# Fit the model to the data\n",
    "ab.fit(X_train_scaled, y_train)"
   ]
  },
  {
   "cell_type": "code",
   "execution_count": 71,
   "id": "f868e9b8",
   "metadata": {},
   "outputs": [
    {
     "name": "stdout",
     "output_type": "stream",
     "text": [
      "****************Train Score******************\n",
      "1.0\n",
      "\n",
      "**********Using K=3 cross validation**********\n",
      "[1. 1. 1.]\n",
      "\n",
      "************Confusion Matrix using cross_val_predict******************\n",
      "[[261   0]\n",
      " [  0 489]]\n",
      "\n",
      "********Classification Report******************\n",
      "              precision    recall  f1-score   support\n",
      "\n",
      "           0       1.00      1.00      1.00       261\n",
      "           1       1.00      1.00      1.00       489\n",
      "\n",
      "    accuracy                           1.00       750\n",
      "   macro avg       1.00      1.00      1.00       750\n",
      "weighted avg       1.00      1.00      1.00       750\n",
      "\n",
      "\n",
      "ROC Curve\n"
     ]
    },
    {
     "data": {
      "image/png": "[encoded data removed]",
      "text/plain": [
       "<Figure size 432x288 with 1 Axes>"
      ]
     },
     "metadata": {
      "needs_background": "light"
     },
     "output_type": "display_data"
    },
    {
     "name": "stdout",
     "output_type": "stream",
     "text": [
      "\n",
      "************Area under the curve******************\n",
      "1.0\n"
     ]
    }
   ],
   "source": [
    "#score for logistic regression using only training data\n",
    "train_score(ab)"
   ]
  },
  {
   "cell_type": "code",
   "execution_count": 72,
   "id": "ee51bea8",
   "metadata": {},
   "outputs": [
    {
     "name": "stdout",
     "output_type": "stream",
     "text": [
      "[0.         0.         0.         0.         0.         0.\n",
      " 0.         0.         0.         0.         0.         0.72860792\n",
      " 0.         0.         0.27139208 0.         0.         0.\n",
      " 0.         0.         0.         0.         0.        ]\n"
     ]
    },
    {
     "data": {
      "image/png": "[encoded data removed]",
      "text/plain": [
       "<Figure size 432x288 with 1 Axes>"
      ]
     },
     "metadata": {
      "needs_background": "light"
     },
     "output_type": "display_data"
    }
   ],
   "source": [
    "# plotting columns with its importances\n",
    "features_ab = ab.feature_importances_\n",
    "print(features_ab)\n",
    "plt.bar(x = range(len(features_ab)), height=features_ab)\n",
    "plt.show()"
   ]
  },
  {
   "cell_type": "markdown",
   "id": "c77b97b9",
   "metadata": {},
   "source": [
    "### Tuning hyperparamaters  using Randomized Search CV for AdaBoostClassifier"
   ]
  },
  {
   "cell_type": "code",
   "execution_count": 73,
   "id": "ec68c89a",
   "metadata": {},
   "outputs": [],
   "source": [
    "#### Using GridSearchCV\n",
    "param_rand_ab = {'n_estimators':[100,200,500, 1000, 2000, 5000],\n",
    "             'learning_rate':[0.1,0.2,0.5]}\n",
    "rand_ab = RandomizedSearchCV(ab, param_rand_ab, cv=3, verbose=1, n_jobs=-1)"
   ]
  },
  {
   "cell_type": "code",
   "execution_count": 74,
   "id": "2b8c7ac7",
   "metadata": {},
   "outputs": [
    {
     "name": "stdout",
     "output_type": "stream",
     "text": [
      "Fitting 3 folds for each of 10 candidates, totalling 30 fits\n"
     ]
    },
    {
     "data": {
      "text/plain": [
       "RandomizedSearchCV(cv=3,\n",
       "                   estimator=AdaBoostClassifier(base_estimator=DecisionTreeClassifier()),\n",
       "                   n_jobs=-1,\n",
       "                   param_distributions={'learning_rate': [0.1, 0.2, 0.5],\n",
       "                                        'n_estimators': [100, 200, 500, 1000,\n",
       "                                                         2000, 5000]},\n",
       "                   verbose=1)"
      ]
     },
     "execution_count": 74,
     "metadata": {},
     "output_type": "execute_result"
    }
   ],
   "source": [
    "rand_ab.fit(X_train_scaled, y_train)"
   ]
  },
  {
   "cell_type": "code",
   "execution_count": 75,
   "id": "9fa93f4c",
   "metadata": {},
   "outputs": [
    {
     "name": "stdout",
     "output_type": "stream",
     "text": [
      "{'n_estimators': 5000, 'learning_rate': 0.1}\n"
     ]
    }
   ],
   "source": [
    "# List the best parameters for this dataset\n",
    "print(rand_ab.best_params_)"
   ]
  },
  {
   "cell_type": "code",
   "execution_count": 76,
   "id": "3dd900fd",
   "metadata": {},
   "outputs": [
    {
     "name": "stdout",
     "output_type": "stream",
     "text": [
      "1.0\n"
     ]
    }
   ],
   "source": [
    "# List the best score\n",
    "print(rand_ab.best_score_)"
   ]
  },
  {
   "cell_type": "code",
   "execution_count": 77,
   "id": "26e2a628",
   "metadata": {},
   "outputs": [
    {
     "data": {
      "text/plain": [
       "AdaBoostClassifier(base_estimator=DecisionTreeClassifier(), learning_rate=0.1,\n",
       "                   n_estimators=5000)"
      ]
     },
     "execution_count": 77,
     "metadata": {},
     "output_type": "execute_result"
    }
   ],
   "source": [
    "#best estimator\n",
    "ab_R_b=rand_ab.best_estimator_\n",
    "ab_R_b"
   ]
  },
  {
   "cell_type": "code",
   "execution_count": 78,
   "id": "f4f487b7",
   "metadata": {},
   "outputs": [
    {
     "name": "stdout",
     "output_type": "stream",
     "text": [
      "****************Train Score******************\n",
      "1.0\n",
      "\n",
      "**********Using K=3 cross validation**********\n",
      "[1. 1. 1.]\n",
      "\n",
      "************Confusion Matrix using cross_val_predict******************\n",
      "[[261   0]\n",
      " [  0 489]]\n",
      "\n",
      "********Classification Report******************\n",
      "              precision    recall  f1-score   support\n",
      "\n",
      "           0       1.00      1.00      1.00       261\n",
      "           1       1.00      1.00      1.00       489\n",
      "\n",
      "    accuracy                           1.00       750\n",
      "   macro avg       1.00      1.00      1.00       750\n",
      "weighted avg       1.00      1.00      1.00       750\n",
      "\n",
      "\n",
      "ROC Curve\n"
     ]
    },
    {
     "data": {
      "image/png": "[encoded data removed]",
      "text/plain": [
       "<Figure size 432x288 with 1 Axes>"
      ]
     },
     "metadata": {
      "needs_background": "light"
     },
     "output_type": "display_data"
    },
    {
     "name": "stdout",
     "output_type": "stream",
     "text": [
      "\n",
      "************Area under the curve******************\n",
      "1.0\n"
     ]
    }
   ],
   "source": [
    "#score for logistic regression using training and test data\n",
    "train_score(ab_R_b)"
   ]
  },
  {
   "cell_type": "code",
   "execution_count": null,
   "id": "34594594",
   "metadata": {},
   "outputs": [],
   "source": []
  },
  {
   "cell_type": "code",
   "execution_count": 79,
   "id": "3060f616",
   "metadata": {},
   "outputs": [
    {
     "name": "stdout",
     "output_type": "stream",
     "text": [
      "              precision    recall  f1-score   support\n",
      "\n",
      "           0       1.00      1.00      1.00       104\n",
      "           1       1.00      1.00      1.00       146\n",
      "\n",
      "    accuracy                           1.00       250\n",
      "   macro avg       1.00      1.00      1.00       250\n",
      "weighted avg       1.00      1.00      1.00       250\n",
      "\n",
      "Training Score: 1.0\n",
      "Testing Score: 1.0\n",
      "****************************************\n",
      "              precision    recall  f1-score   support\n",
      "\n",
      "           0       1.00      1.00      1.00       104\n",
      "           1       1.00      1.00      1.00       146\n",
      "\n",
      "    accuracy                           1.00       250\n",
      "   macro avg       1.00      1.00      1.00       250\n",
      "weighted avg       1.00      1.00      1.00       250\n",
      "\n",
      "Training Score: 1.0\n",
      "Testing Score: 1.0\n",
      "****************************************\n",
      "              precision    recall  f1-score   support\n",
      "\n",
      "           0       1.00      1.00      1.00       104\n",
      "           1       1.00      1.00      1.00       146\n",
      "\n",
      "    accuracy                           1.00       250\n",
      "   macro avg       1.00      1.00      1.00       250\n",
      "weighted avg       1.00      1.00      1.00       250\n",
      "\n",
      "Training Score: 1.0\n",
      "Testing Score: 1.0\n",
      "****************************************\n",
      "              precision    recall  f1-score   support\n",
      "\n",
      "           0       1.00      1.00      1.00       104\n",
      "           1       1.00      1.00      1.00       146\n",
      "\n",
      "    accuracy                           1.00       250\n",
      "   macro avg       1.00      1.00      1.00       250\n",
      "weighted avg       1.00      1.00      1.00       250\n",
      "\n",
      "Training Score: 1.0\n",
      "Testing Score: 1.0\n",
      "****************************************\n",
      "              precision    recall  f1-score   support\n",
      "\n",
      "           0       1.00      1.00      1.00       104\n",
      "           1       1.00      1.00      1.00       146\n",
      "\n",
      "    accuracy                           1.00       250\n",
      "   macro avg       1.00      1.00      1.00       250\n",
      "weighted avg       1.00      1.00      1.00       250\n",
      "\n",
      "Training Score: 1.0\n",
      "Testing Score: 1.0\n",
      "****************************************\n",
      "              precision    recall  f1-score   support\n",
      "\n",
      "           0       1.00      1.00      1.00       104\n",
      "           1       1.00      1.00      1.00       146\n",
      "\n",
      "    accuracy                           1.00       250\n",
      "   macro avg       1.00      1.00      1.00       250\n",
      "weighted avg       1.00      1.00      1.00       250\n",
      "\n",
      "Training Score: 1.0\n",
      "Testing Score: 1.0\n",
      "****************************************\n"
     ]
    }
   ],
   "source": [
    "def model_tester(model, X_train_scaled, X_test_scaled,y_train, y_test):\n",
    "    clf = model.fit(X_train_scaled, y_train)\n",
    "    y_pred=clf.predict(X_test_scaled)\n",
    "    print(classification_report(y_test, y_pred))\n",
    "    print(f'Training Score: {clf.score(X_train_scaled, y_train)}')\n",
    "    print(f'Testing Score: {clf.score(X_test_scaled, y_test)}')\n",
    "    print ('*'*40)\n",
    "    \n",
    "model_tester(AdaBoostClassifier(random_state=1, n_estimators=100), X_train_scaled, X_test_scaled,y_train, y_test)\n",
    "model_tester(AdaBoostClassifier(random_state=1, n_estimators=200), X_train_scaled, X_test_scaled,y_train, y_test)\n",
    "model_tester(AdaBoostClassifier(random_state=1, n_estimators=200, learning_rate=0.1), X_train_scaled, X_test_scaled,y_train, y_test)\n",
    "model_tester(AdaBoostClassifier(random_state=1, n_estimators=500, learning_rate=0.1), X_train_scaled, X_test_scaled,y_train, y_test)\n",
    "model_tester(AdaBoostClassifier(random_state=1, n_estimators=1000, learning_rate=0.1), X_train_scaled, X_test_scaled,y_train, y_test)\n",
    "model_tester(AdaBoostClassifier(random_state=1, n_estimators=2000, learning_rate=0.1), X_train_scaled, X_test_scaled,y_train, y_test)"
   ]
  },
  {
   "cell_type": "markdown",
   "id": "27e5c85c",
   "metadata": {},
   "source": [
    "## Real and predicted value using different model"
   ]
  },
  {
   "cell_type": "code",
   "execution_count": 95,
   "id": "27378aec",
   "metadata": {},
   "outputs": [],
   "source": [
    "#Predected value\n",
    "y_pred_sgd=sgd.predict(X_test_scaled)\n",
    "y_pred_lr=lr.predict(X_test_scaled)\n",
    "y_pred_svc=svc.predict(X_test_scaled)\n",
    "y_pred_dt=dt.predict(X_test_scaled)\n",
    "y_pred_rf=rf.predict(X_test_scaled)\n",
    "y_pred_rt=rt.predict(X_test_scaled)\n",
    "y_pred_ab=ab.predict(X_test_scaled)"
   ]
  },
  {
   "cell_type": "code",
   "execution_count": 96,
   "id": "286fa43d",
   "metadata": {},
   "outputs": [
    {
     "data": {
      "text/html": [
       "<div>\n",
       "<style scoped>\n",
       "    .dataframe tbody tr th:only-of-type {\n",
       "        vertical-align: middle;\n",
       "    }\n",
       "\n",
       "    .dataframe tbody tr th {\n",
       "        vertical-align: top;\n",
       "    }\n",
       "\n",
       "    .dataframe thead th {\n",
       "        text-align: right;\n",
       "    }\n",
       "</style>\n",
       "<table border=\"1\" class=\"dataframe\">\n",
       "  <thead>\n",
       "    <tr style=\"text-align: right;\">\n",
       "      <th></th>\n",
       "      <th>Real value</th>\n",
       "      <th>SGD Classifier</th>\n",
       "      <th>Logistic Regression</th>\n",
       "      <th>SVC</th>\n",
       "      <th>Decision Tree</th>\n",
       "      <th>Random Forest</th>\n",
       "      <th>Extra Random Tree</th>\n",
       "      <th>AdaBoost</th>\n",
       "    </tr>\n",
       "  </thead>\n",
       "  <tbody>\n",
       "    <tr>\n",
       "      <th>0</th>\n",
       "      <td>True</td>\n",
       "      <td>True</td>\n",
       "      <td>True</td>\n",
       "      <td>True</td>\n",
       "      <td>True</td>\n",
       "      <td>True</td>\n",
       "      <td>True</td>\n",
       "      <td>True</td>\n",
       "    </tr>\n",
       "    <tr>\n",
       "      <th>1</th>\n",
       "      <td>True</td>\n",
       "      <td>True</td>\n",
       "      <td>True</td>\n",
       "      <td>True</td>\n",
       "      <td>True</td>\n",
       "      <td>True</td>\n",
       "      <td>True</td>\n",
       "      <td>True</td>\n",
       "    </tr>\n",
       "    <tr>\n",
       "      <th>2</th>\n",
       "      <td>True</td>\n",
       "      <td>True</td>\n",
       "      <td>True</td>\n",
       "      <td>True</td>\n",
       "      <td>True</td>\n",
       "      <td>True</td>\n",
       "      <td>True</td>\n",
       "      <td>True</td>\n",
       "    </tr>\n",
       "    <tr>\n",
       "      <th>3</th>\n",
       "      <td>False</td>\n",
       "      <td>False</td>\n",
       "      <td>False</td>\n",
       "      <td>False</td>\n",
       "      <td>False</td>\n",
       "      <td>False</td>\n",
       "      <td>False</td>\n",
       "      <td>False</td>\n",
       "    </tr>\n",
       "    <tr>\n",
       "      <th>4</th>\n",
       "      <td>True</td>\n",
       "      <td>True</td>\n",
       "      <td>True</td>\n",
       "      <td>True</td>\n",
       "      <td>True</td>\n",
       "      <td>True</td>\n",
       "      <td>True</td>\n",
       "      <td>True</td>\n",
       "    </tr>\n",
       "    <tr>\n",
       "      <th>...</th>\n",
       "      <td>...</td>\n",
       "      <td>...</td>\n",
       "      <td>...</td>\n",
       "      <td>...</td>\n",
       "      <td>...</td>\n",
       "      <td>...</td>\n",
       "      <td>...</td>\n",
       "      <td>...</td>\n",
       "    </tr>\n",
       "    <tr>\n",
       "      <th>245</th>\n",
       "      <td>False</td>\n",
       "      <td>False</td>\n",
       "      <td>False</td>\n",
       "      <td>False</td>\n",
       "      <td>False</td>\n",
       "      <td>False</td>\n",
       "      <td>False</td>\n",
       "      <td>False</td>\n",
       "    </tr>\n",
       "    <tr>\n",
       "      <th>246</th>\n",
       "      <td>False</td>\n",
       "      <td>False</td>\n",
       "      <td>False</td>\n",
       "      <td>False</td>\n",
       "      <td>False</td>\n",
       "      <td>False</td>\n",
       "      <td>False</td>\n",
       "      <td>False</td>\n",
       "    </tr>\n",
       "    <tr>\n",
       "      <th>247</th>\n",
       "      <td>True</td>\n",
       "      <td>True</td>\n",
       "      <td>True</td>\n",
       "      <td>True</td>\n",
       "      <td>True</td>\n",
       "      <td>True</td>\n",
       "      <td>True</td>\n",
       "      <td>True</td>\n",
       "    </tr>\n",
       "    <tr>\n",
       "      <th>248</th>\n",
       "      <td>True</td>\n",
       "      <td>True</td>\n",
       "      <td>True</td>\n",
       "      <td>True</td>\n",
       "      <td>True</td>\n",
       "      <td>True</td>\n",
       "      <td>True</td>\n",
       "      <td>True</td>\n",
       "    </tr>\n",
       "    <tr>\n",
       "      <th>249</th>\n",
       "      <td>True</td>\n",
       "      <td>True</td>\n",
       "      <td>True</td>\n",
       "      <td>True</td>\n",
       "      <td>True</td>\n",
       "      <td>True</td>\n",
       "      <td>True</td>\n",
       "      <td>True</td>\n",
       "    </tr>\n",
       "  </tbody>\n",
       "</table>\n",
       "<p>250 rows × 8 columns</p>\n",
       "</div>"
      ],
      "text/plain": [
       "    Real value SGD Classifier Logistic Regression    SVC Decision Tree  \\\n",
       "0         True           True                True   True          True   \n",
       "1         True           True                True   True          True   \n",
       "2         True           True                True   True          True   \n",
       "3        False          False               False  False         False   \n",
       "4         True           True                True   True          True   \n",
       "..         ...            ...                 ...    ...           ...   \n",
       "245      False          False               False  False         False   \n",
       "246      False          False               False  False         False   \n",
       "247       True           True                True   True          True   \n",
       "248       True           True                True   True          True   \n",
       "249       True           True                True   True          True   \n",
       "\n",
       "    Random Forest Extra Random Tree AdaBoost  \n",
       "0            True              True     True  \n",
       "1            True              True     True  \n",
       "2            True              True     True  \n",
       "3           False             False    False  \n",
       "4            True              True     True  \n",
       "..            ...               ...      ...  \n",
       "245         False             False    False  \n",
       "246         False             False    False  \n",
       "247          True              True     True  \n",
       "248          True              True     True  \n",
       "249          True              True     True  \n",
       "\n",
       "[250 rows x 8 columns]"
      ]
     },
     "execution_count": 96,
     "metadata": {},
     "output_type": "execute_result"
    }
   ],
   "source": [
    "df_pred=pd.DataFrame({'Real value':y_test,\n",
    "                     'SGD Classifier':y_pred_sgd,\n",
    "                     'Logistic Regression':y_pred_lr,\n",
    "                     'SVC':y_pred_svc,\n",
    "                     'Decision Tree':y_pred_dt,\n",
    "                     'Random Forest':y_pred_rf,\n",
    "                     'Extra Random Tree':y_pred_rt,\n",
    "                     'AdaBoost':y_pred_ab})\n",
    "df_pred.replace({1:'True', 0: 'False'}, inplace=True)\n",
    "df_pred"
   ]
  },
  {
   "cell_type": "code",
   "execution_count": 97,
   "id": "d68a0368",
   "metadata": {},
   "outputs": [
    {
     "name": "stdout",
     "output_type": "stream",
     "text": [
      "SGD Classifier\n",
      "****************Train Score******************\n",
      "1.0\n",
      "\n",
      "*****************Test Score******************\n",
      "1.0\n",
      "\n",
      "************Confusion Matrix******************\n",
      "[[104   0]\n",
      " [  0 146]]\n",
      "\n",
      "********Classification Report******************\n",
      "              precision    recall  f1-score   support\n",
      "\n",
      "           0       1.00      1.00      1.00       104\n",
      "           1       1.00      1.00      1.00       146\n",
      "\n",
      "    accuracy                           1.00       250\n",
      "   macro avg       1.00      1.00      1.00       250\n",
      "weighted avg       1.00      1.00      1.00       250\n",
      "\n",
      "\n",
      "ROC Curve\n"
     ]
    },
    {
     "data": {
      "image/png": "[encoded data removed]",
      "text/plain": [
       "<Figure size 432x288 with 1 Axes>"
      ]
     },
     "metadata": {
      "needs_background": "light"
     },
     "output_type": "display_data"
    },
    {
     "name": "stdout",
     "output_type": "stream",
     "text": [
      "\n",
      "************Area under the curve******************\n",
      "1.0\n",
      "None\n",
      "****************************************************************************************************\n",
      "****************************************************************************************************\n",
      "\n",
      "Logistic Regression\n",
      "****************Train Score******************\n",
      "1.0\n",
      "\n",
      "*****************Test Score******************\n",
      "1.0\n",
      "\n",
      "************Confusion Matrix******************\n",
      "[[104   0]\n",
      " [  0 146]]\n",
      "\n",
      "********Classification Report******************\n",
      "              precision    recall  f1-score   support\n",
      "\n",
      "           0       1.00      1.00      1.00       104\n",
      "           1       1.00      1.00      1.00       146\n",
      "\n",
      "    accuracy                           1.00       250\n",
      "   macro avg       1.00      1.00      1.00       250\n",
      "weighted avg       1.00      1.00      1.00       250\n",
      "\n",
      "\n",
      "ROC Curve\n"
     ]
    },
    {
     "data": {
      "image/png": "[encoded data removed]",
      "text/plain": [
       "<Figure size 432x288 with 1 Axes>"
      ]
     },
     "metadata": {
      "needs_background": "light"
     },
     "output_type": "display_data"
    },
    {
     "name": "stdout",
     "output_type": "stream",
     "text": [
      "\n",
      "************Area under the curve******************\n",
      "1.0\n",
      "None\n",
      "****************************************************************************************************\n",
      "****************************************************************************************************\n",
      "\n",
      "SVC\n",
      "****************Train Score******************\n",
      "1.0\n",
      "\n",
      "*****************Test Score******************\n",
      "1.0\n",
      "\n",
      "************Confusion Matrix******************\n",
      "[[104   0]\n",
      " [  0 146]]\n",
      "\n",
      "********Classification Report******************\n",
      "              precision    recall  f1-score   support\n",
      "\n",
      "           0       1.00      1.00      1.00       104\n",
      "           1       1.00      1.00      1.00       146\n",
      "\n",
      "    accuracy                           1.00       250\n",
      "   macro avg       1.00      1.00      1.00       250\n",
      "weighted avg       1.00      1.00      1.00       250\n",
      "\n",
      "\n",
      "ROC Curve\n"
     ]
    },
    {
     "data": {
      "image/png": "[encoded data removed]",
      "text/plain": [
       "<Figure size 432x288 with 1 Axes>"
      ]
     },
     "metadata": {
      "needs_background": "light"
     },
     "output_type": "display_data"
    },
    {
     "name": "stdout",
     "output_type": "stream",
     "text": [
      "\n",
      "************Area under the curve******************\n",
      "1.0\n",
      "None\n",
      "****************************************************************************************************\n",
      "****************************************************************************************************\n",
      "\n",
      "Decision Tree\n",
      "****************Train Score******************\n",
      "1.0\n",
      "\n",
      "*****************Test Score******************\n",
      "1.0\n",
      "\n",
      "************Confusion Matrix******************\n",
      "[[104   0]\n",
      " [  0 146]]\n",
      "\n",
      "********Classification Report******************\n",
      "              precision    recall  f1-score   support\n",
      "\n",
      "           0       1.00      1.00      1.00       104\n",
      "           1       1.00      1.00      1.00       146\n",
      "\n",
      "    accuracy                           1.00       250\n",
      "   macro avg       1.00      1.00      1.00       250\n",
      "weighted avg       1.00      1.00      1.00       250\n",
      "\n",
      "\n",
      "ROC Curve\n"
     ]
    },
    {
     "data": {
      "image/png": "[encoded data removed]",
      "text/plain": [
       "<Figure size 432x288 with 1 Axes>"
      ]
     },
     "metadata": {
      "needs_background": "light"
     },
     "output_type": "display_data"
    },
    {
     "name": "stdout",
     "output_type": "stream",
     "text": [
      "\n",
      "************Area under the curve******************\n",
      "1.0\n",
      "None\n",
      "****************************************************************************************************\n",
      "****************************************************************************************************\n",
      "\n",
      "Random Forest\n",
      "****************Train Score******************\n",
      "1.0\n",
      "\n",
      "*****************Test Score******************\n",
      "1.0\n",
      "\n",
      "************Confusion Matrix******************\n",
      "[[104   0]\n",
      " [  0 146]]\n",
      "\n",
      "********Classification Report******************\n",
      "              precision    recall  f1-score   support\n",
      "\n",
      "           0       1.00      1.00      1.00       104\n",
      "           1       1.00      1.00      1.00       146\n",
      "\n",
      "    accuracy                           1.00       250\n",
      "   macro avg       1.00      1.00      1.00       250\n",
      "weighted avg       1.00      1.00      1.00       250\n",
      "\n",
      "\n",
      "ROC Curve\n"
     ]
    },
    {
     "data": {
      "image/png": "[encoded data removed]",
      "text/plain": [
       "<Figure size 432x288 with 1 Axes>"
      ]
     },
     "metadata": {
      "needs_background": "light"
     },
     "output_type": "display_data"
    },
    {
     "name": "stdout",
     "output_type": "stream",
     "text": [
      "\n",
      "************Area under the curve******************\n",
      "1.0\n",
      "None\n",
      "****************************************************************************************************\n",
      "****************************************************************************************************\n",
      "\n",
      "Extra Random Tree\n",
      "****************Train Score******************\n",
      "1.0\n",
      "\n",
      "*****************Test Score******************\n",
      "1.0\n",
      "\n",
      "************Confusion Matrix******************\n",
      "[[104   0]\n",
      " [  0 146]]\n",
      "\n",
      "********Classification Report******************\n",
      "              precision    recall  f1-score   support\n",
      "\n",
      "           0       1.00      1.00      1.00       104\n",
      "           1       1.00      1.00      1.00       146\n",
      "\n",
      "    accuracy                           1.00       250\n",
      "   macro avg       1.00      1.00      1.00       250\n",
      "weighted avg       1.00      1.00      1.00       250\n",
      "\n",
      "\n",
      "ROC Curve\n"
     ]
    },
    {
     "data": {
      "image/png": "[encoded data removed]",
      "text/plain": [
       "<Figure size 432x288 with 1 Axes>"
      ]
     },
     "metadata": {
      "needs_background": "light"
     },
     "output_type": "display_data"
    },
    {
     "name": "stdout",
     "output_type": "stream",
     "text": [
      "\n",
      "************Area under the curve******************\n",
      "1.0\n",
      "None\n",
      "****************************************************************************************************\n",
      "****************************************************************************************************\n",
      "\n",
      "AdaBoost\n",
      "****************Train Score******************\n",
      "1.0\n",
      "\n",
      "*****************Test Score******************\n",
      "1.0\n",
      "\n",
      "************Confusion Matrix******************\n",
      "[[104   0]\n",
      " [  0 146]]\n",
      "\n",
      "********Classification Report******************\n",
      "              precision    recall  f1-score   support\n",
      "\n",
      "           0       1.00      1.00      1.00       104\n",
      "           1       1.00      1.00      1.00       146\n",
      "\n",
      "    accuracy                           1.00       250\n",
      "   macro avg       1.00      1.00      1.00       250\n",
      "weighted avg       1.00      1.00      1.00       250\n",
      "\n",
      "\n",
      "ROC Curve\n"
     ]
    },
    {
     "data": {
      "image/png": "[encoded data removed]",
      "text/plain": [
       "<Figure size 432x288 with 1 Axes>"
      ]
     },
     "metadata": {
      "needs_background": "light"
     },
     "output_type": "display_data"
    },
    {
     "name": "stdout",
     "output_type": "stream",
     "text": [
      "\n",
      "************Area under the curve******************\n",
      "1.0\n",
      "None\n",
      "****************************************************************************************************\n",
      "****************************************************************************************************\n",
      "\n"
     ]
    }
   ],
   "source": [
    "# score for different models using test data\n",
    "print('SGD Classifier')\n",
    "print(test_score(sgd))\n",
    "print(\"*\"*100)\n",
    "print(\"*\"*100)\n",
    "print('')\n",
    "\n",
    "print('Logistic Regression')\n",
    "print(test_score(lr))\n",
    "print(\"*\"*100)\n",
    "print(\"*\"*100)\n",
    "print('')\n",
    "\n",
    "print('SVC')\n",
    "print(test_score(svc))\n",
    "print(\"*\"*100)\n",
    "print(\"*\"*100)\n",
    "print('')\n",
    "\n",
    "print('Decision Tree')\n",
    "print(test_score(dt))\n",
    "print(\"*\"*100)\n",
    "print(\"*\"*100)\n",
    "print('')\n",
    "\n",
    "print('Random Forest')\n",
    "print(test_score(rf))\n",
    "print(\"*\"*100)\n",
    "print(\"*\"*100)\n",
    "print('')\n",
    "\n",
    "print('Extra Random Tree')\n",
    "print(test_score(rt))\n",
    "print(\"*\"*100)\n",
    "print(\"*\"*100)\n",
    "print('')\n",
    "\n",
    "print('AdaBoost')\n",
    "print(test_score(ab))\n",
    "print(\"*\"*100)\n",
    "print(\"*\"*100)\n",
    "print('')"
   ]
  },
  {
   "cell_type": "code",
   "execution_count": 98,
   "id": "0aa9fd0f",
   "metadata": {},
   "outputs": [],
   "source": [
    "#defining function for model scoring with test set\n",
    "def model_score(model, X_train_scaled=X_train_scaled, X_test_scaled=X_test_scaled, \n",
    "               y_train=y_train,y_test=y_test):\n",
    "    #printing the accuracy score\n",
    "    train_score=model.score(X_train_scaled, y_train)\n",
    "    test_score=model.score(X_test_scaled, y_test)\n",
    "    y_pred=model.predict(X_test_scaled)\n",
    "    pre_score=precision_score(y_test, y_pred)\n",
    "    re_score=recall_score(y_test, y_pred)\n",
    "    f_score=f1_score(y_test, y_pred)\n",
    "    \n",
    "    y_proba = model.predict_proba(X_test_scaled)[:,1]  #proba of positive class\n",
    "    fpr, tpr, thresholds = roc_curve(y_test, y_proba)\n",
    "    \n",
    "    roc_auc = auc(fpr, tpr)\n",
    "    result=[train_score, test_score,pre_score, re_score,f_score, roc_auc ]\n",
    "    return result"
   ]
  },
  {
   "cell_type": "code",
   "execution_count": 99,
   "id": "a81aa90d",
   "metadata": {},
   "outputs": [
    {
     "data": {
      "text/html": [
       "<div>\n",
       "<style scoped>\n",
       "    .dataframe tbody tr th:only-of-type {\n",
       "        vertical-align: middle;\n",
       "    }\n",
       "\n",
       "    .dataframe tbody tr th {\n",
       "        vertical-align: top;\n",
       "    }\n",
       "\n",
       "    .dataframe thead th {\n",
       "        text-align: right;\n",
       "    }\n",
       "</style>\n",
       "<table border=\"1\" class=\"dataframe\">\n",
       "  <thead>\n",
       "    <tr style=\"text-align: right;\">\n",
       "      <th></th>\n",
       "      <th>SGD</th>\n",
       "      <th>logistic Reg</th>\n",
       "      <th>svc</th>\n",
       "      <th>Decision Tree</th>\n",
       "      <th>Random Forest</th>\n",
       "      <th>Extra Random Tree</th>\n",
       "      <th>Ada Boost</th>\n",
       "    </tr>\n",
       "  </thead>\n",
       "  <tbody>\n",
       "    <tr>\n",
       "      <th>train score</th>\n",
       "      <td>1.0</td>\n",
       "      <td>1.0</td>\n",
       "      <td>1.0</td>\n",
       "      <td>1.0</td>\n",
       "      <td>1.0</td>\n",
       "      <td>1.0</td>\n",
       "      <td>1.0</td>\n",
       "    </tr>\n",
       "    <tr>\n",
       "      <th>test score</th>\n",
       "      <td>1.0</td>\n",
       "      <td>1.0</td>\n",
       "      <td>1.0</td>\n",
       "      <td>1.0</td>\n",
       "      <td>1.0</td>\n",
       "      <td>1.0</td>\n",
       "      <td>1.0</td>\n",
       "    </tr>\n",
       "    <tr>\n",
       "      <th>precision_score</th>\n",
       "      <td>1.0</td>\n",
       "      <td>1.0</td>\n",
       "      <td>1.0</td>\n",
       "      <td>1.0</td>\n",
       "      <td>1.0</td>\n",
       "      <td>1.0</td>\n",
       "      <td>1.0</td>\n",
       "    </tr>\n",
       "    <tr>\n",
       "      <th>recall_score</th>\n",
       "      <td>1.0</td>\n",
       "      <td>1.0</td>\n",
       "      <td>1.0</td>\n",
       "      <td>1.0</td>\n",
       "      <td>1.0</td>\n",
       "      <td>1.0</td>\n",
       "      <td>1.0</td>\n",
       "    </tr>\n",
       "    <tr>\n",
       "      <th>f1_score</th>\n",
       "      <td>1.0</td>\n",
       "      <td>1.0</td>\n",
       "      <td>1.0</td>\n",
       "      <td>1.0</td>\n",
       "      <td>1.0</td>\n",
       "      <td>1.0</td>\n",
       "      <td>1.0</td>\n",
       "    </tr>\n",
       "    <tr>\n",
       "      <th>auc</th>\n",
       "      <td>1.0</td>\n",
       "      <td>1.0</td>\n",
       "      <td>1.0</td>\n",
       "      <td>1.0</td>\n",
       "      <td>1.0</td>\n",
       "      <td>1.0</td>\n",
       "      <td>1.0</td>\n",
       "    </tr>\n",
       "  </tbody>\n",
       "</table>\n",
       "</div>"
      ],
      "text/plain": [
       "                 SGD  logistic Reg  svc  Decision Tree  Random Forest  \\\n",
       "train score      1.0           1.0  1.0            1.0            1.0   \n",
       "test score       1.0           1.0  1.0            1.0            1.0   \n",
       "precision_score  1.0           1.0  1.0            1.0            1.0   \n",
       "recall_score     1.0           1.0  1.0            1.0            1.0   \n",
       "f1_score         1.0           1.0  1.0            1.0            1.0   \n",
       "auc              1.0           1.0  1.0            1.0            1.0   \n",
       "\n",
       "                 Extra Random Tree  Ada Boost  \n",
       "train score                    1.0        1.0  \n",
       "test score                     1.0        1.0  \n",
       "precision_score                1.0        1.0  \n",
       "recall_score                   1.0        1.0  \n",
       "f1_score                       1.0        1.0  \n",
       "auc                            1.0        1.0  "
      ]
     },
     "execution_count": 99,
     "metadata": {},
     "output_type": "execute_result"
    }
   ],
   "source": [
    "#making dataframe on evaluation metrices\n",
    "all_evaluation=pd.DataFrame({'SGD':model_score(sgd),\n",
    "                            'logistic Reg':model_score(lr),\n",
    "                            'svc':model_score(svc),\n",
    "                            'Decision Tree':model_score(dt),\n",
    "                           'Random Forest':model_score(rf),\n",
    "                            'Extra Random Tree':model_score(rt),\n",
    "                           'Ada Boost':model_score(ab)}\n",
    "                           ,index=['train score','test score', \n",
    "                                   'precision_score', 'recall_score', 'f1_score', 'auc'])\n",
    "all_evaluation"
   ]
  },
  {
   "cell_type": "code",
   "execution_count": 94,
   "id": "56c1eedc",
   "metadata": {},
   "outputs": [],
   "source": [
    "all_evaluation.to_html('Resources/Cleaned_data/under_metrics.html')"
   ]
  },
  {
   "cell_type": "markdown",
   "id": "c7ea699b",
   "metadata": {},
   "source": [
    "## Trying to improve score by selecting important features based on Adaboost\n"
   ]
  },
  {
   "cell_type": "code",
   "execution_count": 100,
   "id": "7cdadc9d",
   "metadata": {},
   "outputs": [
    {
     "data": {
      "text/plain": [
       "SelectFromModel(estimator=AdaBoostClassifier(base_estimator=DecisionTreeClassifier()))"
      ]
     },
     "execution_count": 100,
     "metadata": {},
     "output_type": "execute_result"
    }
   ],
   "source": [
    "#selecting and fitting model\n",
    "sel = SelectFromModel(ab)\n",
    "sel.fit(X_train_scaled, y_train)"
   ]
  },
  {
   "cell_type": "code",
   "execution_count": 101,
   "id": "95b6df3e",
   "metadata": {},
   "outputs": [
    {
     "data": {
      "text/plain": [
       "array([False, False, False, False, False, False, False, False, False,\n",
       "       False, False,  True, False, False,  True, False, False, False,\n",
       "       False, False, False, False, False])"
      ]
     },
     "execution_count": 101,
     "metadata": {},
     "output_type": "execute_result"
    }
   ],
   "source": [
    "sel.get_support()"
   ]
  },
  {
   "cell_type": "code",
   "execution_count": 103,
   "id": "5dafe364",
   "metadata": {},
   "outputs": [],
   "source": [
    "#splitting data using train_test split\n",
    "X_train_sel, X_test_sel, y_train, y_test=train_test_split(sel.transform(X), y_label, random_state=1)\n",
    "\n",
    "scaler1 = StandardScaler().fit(X_train_sel)\n",
    "X_selected_train_scaled = scaler1.transform(X_train_sel)\n",
    "X_selected_test_scaled = scaler1.transform(X_test_sel)\n"
   ]
  },
  {
   "cell_type": "markdown",
   "id": "61ed19f0",
   "metadata": {},
   "source": [
    "### SGD Classifier after selecting important features"
   ]
  },
  {
   "cell_type": "code",
   "execution_count": 104,
   "id": "3a969918",
   "metadata": {},
   "outputs": [
    {
     "name": "stdout",
     "output_type": "stream",
     "text": [
      "Training Score: 0.9666666666666667\n",
      "Testing Score: 0.94\n"
     ]
    }
   ],
   "source": [
    "#after model selection\n",
    "sgd_s = SGDClassifier(random_state=42, loss='log').fit(X_selected_train_scaled, y_train)\n",
    "print(f'Training Score: {sgd_s.score(X_selected_train_scaled, y_train)}')\n",
    "print(f'Testing Score: {sgd_s.score(X_selected_test_scaled, y_test)}')"
   ]
  },
  {
   "cell_type": "markdown",
   "id": "a7ee95db",
   "metadata": {},
   "source": [
    "### Logistic Regression after selecting important features"
   ]
  },
  {
   "cell_type": "code",
   "execution_count": 105,
   "id": "a7398218",
   "metadata": {},
   "outputs": [
    {
     "name": "stdout",
     "output_type": "stream",
     "text": [
      "Training Score: 0.9413333333333334\n",
      "Testing Score: 0.936\n"
     ]
    }
   ],
   "source": [
    "#after model selection\n",
    "lr_s = LogisticRegression().fit(X_selected_train_scaled, y_train)\n",
    "print(f'Training Score: {lr_s.score(X_selected_train_scaled, y_train)}')\n",
    "print(f'Testing Score: {lr_s.score(X_selected_test_scaled, y_test)}')"
   ]
  },
  {
   "cell_type": "markdown",
   "id": "56c5ce99",
   "metadata": {},
   "source": [
    "### SVC after selecting important features"
   ]
  },
  {
   "cell_type": "code",
   "execution_count": 106,
   "id": "148aad00",
   "metadata": {},
   "outputs": [
    {
     "name": "stdout",
     "output_type": "stream",
     "text": [
      "Training Score: 0.9666666666666667\n",
      "Testing Score: 0.94\n"
     ]
    }
   ],
   "source": [
    "#after model selection\n",
    "# Support vector machine linear classifier\n",
    "svc_s=SVC(kernel='linear', probability=True).fit(X_selected_train_scaled, y_train)\n",
    "print(f'Training Score: {svc_s.score(X_selected_train_scaled, y_train)}')\n",
    "print(f'Testing Score: {svc_s.score(X_selected_test_scaled, y_test)}')"
   ]
  },
  {
   "cell_type": "markdown",
   "id": "a291188d",
   "metadata": {},
   "source": [
    "### Decision Tree after selecting important features"
   ]
  },
  {
   "cell_type": "code",
   "execution_count": 107,
   "id": "eb7fc28d",
   "metadata": {},
   "outputs": [
    {
     "name": "stdout",
     "output_type": "stream",
     "text": [
      "Training Score: 1.0\n",
      "Testing Score: 1.0\n"
     ]
    }
   ],
   "source": [
    "#after model selection\n",
    "dt_s = DecisionTreeClassifier().fit(X_selected_train_scaled, y_train)\n",
    "print(f'Training Score: {dt_s.score(X_selected_train_scaled, y_train)}')\n",
    "print(f'Testing Score: {dt_s.score(X_selected_test_scaled, y_test)}')"
   ]
  },
  {
   "cell_type": "markdown",
   "id": "aa1264af",
   "metadata": {},
   "source": [
    "### Random Forest after selecting important features"
   ]
  },
  {
   "cell_type": "code",
   "execution_count": 108,
   "id": "4a259ea7",
   "metadata": {},
   "outputs": [
    {
     "name": "stdout",
     "output_type": "stream",
     "text": [
      "Training Score: 1.0\n",
      "Testing Score: 1.0\n"
     ]
    }
   ],
   "source": [
    "#after model selection\n",
    "rf_s = RandomForestClassifier().fit(X_selected_train_scaled, y_train)\n",
    "print(f'Training Score: {rf_s.score(X_selected_train_scaled, y_train)}')\n",
    "print(f'Testing Score: {rf_s.score(X_selected_test_scaled, y_test)}')"
   ]
  },
  {
   "cell_type": "markdown",
   "id": "b488479c",
   "metadata": {},
   "source": [
    "### Extra Random Tree after selecting important features"
   ]
  },
  {
   "cell_type": "code",
   "execution_count": 109,
   "id": "ccd4f796",
   "metadata": {},
   "outputs": [
    {
     "name": "stdout",
     "output_type": "stream",
     "text": [
      "Training Score: 1.0\n",
      "Testing Score: 1.0\n"
     ]
    }
   ],
   "source": [
    "#after model selection\n",
    "rt_s = RandomForestClassifier().fit(X_selected_train_scaled, y_train)\n",
    "rt_s_train=rt_s.score(X_selected_train_scaled, y_train)\n",
    "rt_s_test=rt_s.score(X_selected_test_scaled, y_test)\n",
    "print(f'Training Score: {rt_s_train}')\n",
    "print(f'Testing Score: {rt_s_test}')"
   ]
  },
  {
   "cell_type": "code",
   "execution_count": 110,
   "id": "82adbfd4",
   "metadata": {},
   "outputs": [],
   "source": [
    "#defining function for model scoring with test set\n",
    "def model_imp_feat(model, X_train_scaled=X_selected_train_scaled, X_test_scaled=X_selected_test_scaled, \n",
    "               y_train=y_train,y_test=y_test):\n",
    "    #printing the accuracy score\n",
    "    train_score=model.score(X_train_scaled, y_train)\n",
    "    test_score=model.score(X_test_scaled, y_test)\n",
    "    y_pred=model.predict(X_test_scaled)\n",
    "    pre_score=precision_score(y_test, y_pred)\n",
    "    re_score=recall_score(y_test, y_pred)\n",
    "    f_score=f1_score(y_test, y_pred)\n",
    "    \n",
    "    y_proba = model.predict_proba(X_test_scaled)[:,1]  #proba of positive class\n",
    "    fpr, tpr, thresholds = roc_curve(y_test, y_proba)\n",
    "    \n",
    "    roc_auc = auc(fpr, tpr)\n",
    "    result=[train_score, test_score,pre_score, re_score,f_score, roc_auc ]\n",
    "    return result"
   ]
  },
  {
   "cell_type": "code",
   "execution_count": 111,
   "id": "901d403b",
   "metadata": {},
   "outputs": [
    {
     "data": {
      "text/html": [
       "<div>\n",
       "<style scoped>\n",
       "    .dataframe tbody tr th:only-of-type {\n",
       "        vertical-align: middle;\n",
       "    }\n",
       "\n",
       "    .dataframe tbody tr th {\n",
       "        vertical-align: top;\n",
       "    }\n",
       "\n",
       "    .dataframe thead th {\n",
       "        text-align: right;\n",
       "    }\n",
       "</style>\n",
       "<table border=\"1\" class=\"dataframe\">\n",
       "  <thead>\n",
       "    <tr style=\"text-align: right;\">\n",
       "      <th></th>\n",
       "      <th>SGD</th>\n",
       "      <th>logistic Reg</th>\n",
       "      <th>svc</th>\n",
       "      <th>Decision Tree</th>\n",
       "      <th>Random Forest</th>\n",
       "      <th>Extra Random Tree</th>\n",
       "    </tr>\n",
       "  </thead>\n",
       "  <tbody>\n",
       "    <tr>\n",
       "      <th>train score</th>\n",
       "      <td>0.966667</td>\n",
       "      <td>0.941333</td>\n",
       "      <td>0.966667</td>\n",
       "      <td>1.0</td>\n",
       "      <td>1.0</td>\n",
       "      <td>1.0</td>\n",
       "    </tr>\n",
       "    <tr>\n",
       "      <th>test score</th>\n",
       "      <td>0.940000</td>\n",
       "      <td>0.936000</td>\n",
       "      <td>0.940000</td>\n",
       "      <td>1.0</td>\n",
       "      <td>1.0</td>\n",
       "      <td>1.0</td>\n",
       "    </tr>\n",
       "    <tr>\n",
       "      <th>precision_score</th>\n",
       "      <td>0.927273</td>\n",
       "      <td>1.000000</td>\n",
       "      <td>0.927273</td>\n",
       "      <td>1.0</td>\n",
       "      <td>1.0</td>\n",
       "      <td>1.0</td>\n",
       "    </tr>\n",
       "    <tr>\n",
       "      <th>recall_score</th>\n",
       "      <td>0.980769</td>\n",
       "      <td>0.897436</td>\n",
       "      <td>0.980769</td>\n",
       "      <td>1.0</td>\n",
       "      <td>1.0</td>\n",
       "      <td>1.0</td>\n",
       "    </tr>\n",
       "    <tr>\n",
       "      <th>f1_score</th>\n",
       "      <td>0.953271</td>\n",
       "      <td>0.945946</td>\n",
       "      <td>0.953271</td>\n",
       "      <td>1.0</td>\n",
       "      <td>1.0</td>\n",
       "      <td>1.0</td>\n",
       "    </tr>\n",
       "    <tr>\n",
       "      <th>auc</th>\n",
       "      <td>0.980769</td>\n",
       "      <td>0.991408</td>\n",
       "      <td>0.980769</td>\n",
       "      <td>1.0</td>\n",
       "      <td>1.0</td>\n",
       "      <td>1.0</td>\n",
       "    </tr>\n",
       "  </tbody>\n",
       "</table>\n",
       "</div>"
      ],
      "text/plain": [
       "                      SGD  logistic Reg       svc  Decision Tree  \\\n",
       "train score      0.966667      0.941333  0.966667            1.0   \n",
       "test score       0.940000      0.936000  0.940000            1.0   \n",
       "precision_score  0.927273      1.000000  0.927273            1.0   \n",
       "recall_score     0.980769      0.897436  0.980769            1.0   \n",
       "f1_score         0.953271      0.945946  0.953271            1.0   \n",
       "auc              0.980769      0.991408  0.980769            1.0   \n",
       "\n",
       "                 Random Forest  Extra Random Tree  \n",
       "train score                1.0                1.0  \n",
       "test score                 1.0                1.0  \n",
       "precision_score            1.0                1.0  \n",
       "recall_score               1.0                1.0  \n",
       "f1_score                   1.0                1.0  \n",
       "auc                        1.0                1.0  "
      ]
     },
     "execution_count": 111,
     "metadata": {},
     "output_type": "execute_result"
    },
    {
     "name": "stdout",
     "output_type": "stream",
     "text": [
      "[CV 1/5] END algorithm=auto, n_neighbors=1, weights=uniform;, score=1.000 total time=   0.0s\n",
      "[CV 4/5] END algorithm=auto, n_neighbors=1, weights=distance;, score=1.000 total time=   0.0s\n",
      "[CV 2/5] END algorithm=auto, n_neighbors=5, weights=uniform;, score=1.000 total time=   0.0s\n",
      "[CV 4/5] END algorithm=auto, n_neighbors=5, weights=uniform;, score=1.000 total time=   0.0s\n",
      "[CV 1/5] END algorithm=auto, n_neighbors=8, weights=uniform;, score=1.000 total time=   0.0s\n",
      "[CV 1/5] END algorithm=auto, n_neighbors=8, weights=distance;, score=1.000 total time=   0.0s\n",
      "[CV 4/5] END algorithm=auto, n_neighbors=8, weights=distance;, score=1.000 total time=   0.0s\n",
      "[CV 4/5] END algorithm=auto, n_neighbors=10, weights=uniform;, score=1.000 total time=   0.0s\n",
      "[CV 5/5] END algorithm=auto, n_neighbors=10, weights=distance;, score=1.000 total time=   0.0s\n",
      "[CV 5/5] END algorithm=ball_tree, n_neighbors=1, weights=uniform;, score=1.000 total time=   0.0s\n",
      "[CV 1/5] END algorithm=ball_tree, n_neighbors=1, weights=distance;, score=1.000 total time=   0.0s\n",
      "[CV 2/5] END algorithm=ball_tree, n_neighbors=5, weights=distance;, score=1.000 total time=   0.0s\n",
      "[CV 3/5] END algorithm=ball_tree, n_neighbors=5, weights=distance;, score=1.000 total time=   0.0s\n",
      "[CV 3/5] END algorithm=ball_tree, n_neighbors=8, weights=uniform;, score=0.960 total time=   0.0s\n",
      "[CV 4/5] END algorithm=ball_tree, n_neighbors=8, weights=uniform;, score=1.000 total time=   0.0s\n",
      "[CV 2/5] END algorithm=kd_tree, n_neighbors=5, weights=distance;, score=1.000 total time=   0.0s\n",
      "[CV 3/5] END algorithm=kd_tree, n_neighbors=5, weights=distance;, score=1.000 total time=   0.0s\n",
      "[CV 4/5] END algorithm=kd_tree, n_neighbors=5, weights=distance;, score=1.000 total time=   0.0s\n",
      "[CV 5/5] END algorithm=kd_tree, n_neighbors=5, weights=distance;, score=1.000 total time=   0.0s\n",
      "[CV 2/5] END algorithm=kd_tree, n_neighbors=8, weights=distance;, score=1.000 total time=   0.0s\n",
      "[CV 1/5] END algorithm=kd_tree, n_neighbors=10, weights=uniform;, score=0.973 total time=   0.0s\n",
      "[CV 3/5] END algorithm=kd_tree, n_neighbors=10, weights=distance;, score=1.000 total time=   0.0s\n",
      "[CV 3/3] END ....C=1.0, gamma=auto, kernel=poly;, score=1.000 total time=   0.0s\n",
      "[CV 3/3] END ....C=1.0, gamma=scale, kernel=rbf;, score=1.000 total time=   0.0s\n",
      "[CV 2/3] END .....C=2.0, gamma=auto, kernel=rbf;, score=1.000 total time=   0.0s\n",
      "[CV 3/3] END ..C=1.0, gamma=auto, kernel=linear;, score=1.000 total time=   0.0s\n",
      "[CV 2/3] END ...C=1.0, gamma=scale, kernel=poly;, score=1.000 total time=   0.0s\n",
      "[CV 3/3] END ..C=2.0, gamma=auto, kernel=linear;, score=1.000 total time=   0.0s\n",
      "[CV 4/5] END algorithm=auto, n_neighbors=1, weights=uniform;, score=1.000 total time=   0.0s\n",
      "[CV 2/5] END algorithm=auto, n_neighbors=5, weights=distance;, score=1.000 total time=   0.0s\n",
      "[CV 3/5] END algorithm=auto, n_neighbors=5, weights=distance;, score=1.000 total time=   0.0s\n",
      "[CV 5/5] END algorithm=auto, n_neighbors=5, weights=distance;, score=1.000 total time=   0.0s\n",
      "[CV 3/5] END algorithm=auto, n_neighbors=8, weights=uniform;, score=0.960 total time=   0.0s\n",
      "[CV 2/5] END algorithm=auto, n_neighbors=8, weights=distance;, score=1.000 total time=   0.0s\n",
      "[CV 2/5] END algorithm=auto, n_neighbors=10, weights=uniform;, score=1.000 total time=   0.0s\n",
      "[CV 4/5] END algorithm=auto, n_neighbors=10, weights=distance;, score=1.000 total time=   0.0s\n",
      "[CV 4/5] END algorithm=ball_tree, n_neighbors=1, weights=distance;, score=1.000 total time=   0.0s\n",
      "[CV 5/5] END algorithm=ball_tree, n_neighbors=1, weights=distance;, score=1.000 total time=   0.0s\n",
      "[CV 5/5] END algorithm=ball_tree, n_neighbors=5, weights=uniform;, score=1.000 total time=   0.0s\n",
      "[CV 1/5] END algorithm=ball_tree, n_neighbors=5, weights=distance;, score=1.000 total time=   0.0s\n",
      "[CV 2/5] END algorithm=ball_tree, n_neighbors=8, weights=distance;, score=1.000 total time=   0.0s\n",
      "[CV 3/5] END algorithm=ball_tree, n_neighbors=8, weights=distance;, score=1.000 total time=   0.0s\n",
      "[CV 1/5] END algorithm=kd_tree, n_neighbors=1, weights=uniform;, score=1.000 total time=   0.0s\n",
      "[CV 2/5] END algorithm=kd_tree, n_neighbors=1, weights=uniform;, score=1.000 total time=   0.0s\n",
      "[CV 3/5] END algorithm=kd_tree, n_neighbors=1, weights=uniform;, score=1.000 total time=   0.0s\n",
      "[CV 4/5] END algorithm=kd_tree, n_neighbors=1, weights=uniform;, score=1.000 total time=   0.0s\n",
      "[CV 1/5] END algorithm=kd_tree, n_neighbors=10, weights=distance;, score=1.000 total time=   0.0s\n",
      "[CV 5/5] END algorithm=kd_tree, n_neighbors=10, weights=distance;, score=1.000 total time=   0.0s\n",
      "[CV 1/3] END .C=2.0, gamma=scale, kernel=linear;, score=1.000 total time=   0.0s\n",
      "[CV 3/3] END .C=2.0, gamma=scale, kernel=linear;, score=1.000 total time=   0.0s\n",
      "[CV 3/3] END .....C=2.0, gamma=auto, kernel=rbf;, score=1.000 total time=   0.0s\n",
      "[CV 1/3] END ..C=1.0, gamma=auto, kernel=linear;, score=1.000 total time=   0.0s\n",
      "[CV 3/3] END ....C=2.0, gamma=scale, kernel=rbf;, score=1.000 total time=   0.0s\n",
      "[CV 2/3] END ....C=2.0, gamma=auto, kernel=poly;, score=1.000 total time=   0.0s\n",
      "[CV 2/3] END criterion=entropy, max_depth=100, max_features=sqrt, min_samples_leaf=10;, score=0.972 total time=   0.0s\n",
      "[CV 2/3] END criterion=gini, max_depth=1000, max_features=auto, min_samples_leaf=1;, score=1.000 total time=   0.0s\n",
      "[CV 1/3] END criterion=gini, max_depth=10000, max_features=auto, min_samples_leaf=10000;, score=0.652 total time=   0.0s\n",
      "[CV 2/3] END criterion=entropy, max_depth=2, max_features=auto, min_samples_leaf=1000;, score=0.652 total time=   0.0s\n",
      "[CV 1/3] END criterion=entropy, max_depth=10000, max_features=log2, min_samples_leaf=1000;, score=0.652 total time=   0.0s\n",
      "[CV 2/3] END criterion=gini, max_depth=10000, max_features=auto, min_samples_leaf=100;, score=0.832 total time=   0.0s\n",
      "[CV 1/3] END criterion=gini, max_depth=1000, max_features=auto, min_samples_leaf=10;, score=0.968 total time=   0.0s\n",
      "[CV 3/3] END criterion=gini, max_depth=1000, max_features=auto, min_samples_leaf=10;, score=0.988 total time=   0.0s\n",
      "[CV 3/3] END criterion=entropy, max_depth=1, max_features=auto, min_samples_leaf=100;, score=0.736 total time=   0.0s\n",
      "[CV 3/5] END algorithm=auto, n_neighbors=1, weights=distance;, score=1.000 total time=   0.0s\n",
      "[CV 3/5] END algorithm=ball_tree, n_neighbors=10, weights=uniform;, score=0.927 total time=   0.0s\n",
      "[CV 4/5] END algorithm=ball_tree, n_neighbors=10, weights=uniform;, score=1.000 total time=   0.0s\n",
      "[CV 5/5] END algorithm=ball_tree, n_neighbors=10, weights=uniform;, score=0.987 total time=   0.0s\n",
      "[CV 1/5] END algorithm=ball_tree, n_neighbors=10, weights=distance;, score=1.000 total time=   0.0s\n",
      "[CV 3/5] END algorithm=kd_tree, n_neighbors=10, weights=uniform;, score=0.927 total time=   0.0s\n",
      "[CV 1/3] END ....C=1.0, gamma=auto, kernel=poly;, score=1.000 total time=   0.0s\n",
      "[CV 1/3] END ....C=1.0, gamma=scale, kernel=rbf;, score=1.000 total time=   0.0s\n",
      "[CV 2/3] END .C=2.0, gamma=scale, kernel=linear;, score=1.000 total time=   0.0s\n",
      "[CV 1/3] END ...C=2.0, gamma=scale, kernel=poly;, score=1.000 total time=   0.0s\n",
      "[CV 2/3] END ...C=2.0, gamma=scale, kernel=poly;, score=1.000 total time=   0.0s\n",
      "[CV 1/3] END ....C=2.0, gamma=scale, kernel=rbf;, score=1.000 total time=   0.0s\n",
      "[CV 3/3] END ...C=1.0, gamma=scale, kernel=poly;, score=1.000 total time=   0.0s\n",
      "[CV 1/3] END criterion=gini, max_depth=1, max_features=auto, min_samples_leaf=5;, score=0.952 total time=   0.0s\n",
      "[CV 2/3] END criterion=gini, max_depth=10000, max_features=auto, min_samples_leaf=10000;, score=0.652 total time=   0.0s\n",
      "[CV 1/3] END criterion=entropy, max_depth=2, max_features=auto, min_samples_leaf=1000;, score=0.652 total time=   0.0s\n",
      "[CV 2/3] END criterion=entropy, max_depth=10000, max_features=log2, min_samples_leaf=1000;, score=0.652 total time=   0.0s\n",
      "[CV 1/3] END criterion=gini, max_depth=100, max_features=log2, min_samples_leaf=1000;, score=0.652 total time=   0.0s\n",
      "[CV 3/3] END criterion=gini, max_depth=100, max_features=log2, min_samples_leaf=1000;, score=0.652 total time=   0.0s\n",
      "[CV 2/5] END algorithm=auto, n_neighbors=1, weights=uniform;, score=1.000 total time=   0.0s\n",
      "[CV 5/5] END algorithm=auto, n_neighbors=1, weights=distance;, score=1.000 total time=   0.0s\n",
      "[CV 1/5] END algorithm=auto, n_neighbors=5, weights=uniform;, score=1.000 total time=   0.0s\n",
      "[CV 5/5] END algorithm=auto, n_neighbors=5, weights=uniform;, score=1.000 total time=   0.0s\n",
      "[CV 2/5] END algorithm=auto, n_neighbors=8, weights=uniform;, score=1.000 total time=   0.0s\n",
      "[CV 5/5] END algorithm=auto, n_neighbors=8, weights=uniform;, score=1.000 total time=   0.0s\n",
      "[CV 3/5] END algorithm=auto, n_neighbors=10, weights=uniform;, score=0.927 total time=   0.0s\n",
      "[CV 3/5] END algorithm=auto, n_neighbors=10, weights=distance;, score=1.000 total time=   0.0s\n",
      "[CV 3/5] END algorithm=ball_tree, n_neighbors=1, weights=uniform;, score=1.000 total time=   0.0s\n",
      "[CV 4/5] END algorithm=ball_tree, n_neighbors=1, weights=uniform;, score=1.000 total time=   0.0s\n",
      "[CV 4/5] END algorithm=ball_tree, n_neighbors=5, weights=distance;, score=1.000 total time=   0.0s\n",
      "[CV 5/5] END algorithm=ball_tree, n_neighbors=5, weights=distance;, score=1.000 total time=   0.0s\n",
      "[CV 4/5] END algorithm=ball_tree, n_neighbors=8, weights=distance;, score=1.000 total time=   0.0s\n",
      "[CV 5/5] END algorithm=ball_tree, n_neighbors=8, weights=distance;, score=1.000 total time=   0.0s\n",
      "[CV 5/5] END algorithm=kd_tree, n_neighbors=1, weights=uniform;, score=1.000 total time=   0.0s\n",
      "[CV 1/5] END algorithm=kd_tree, n_neighbors=1, weights=distance;, score=1.000 total time=   0.0s\n",
      "[CV 2/5] END algorithm=kd_tree, n_neighbors=1, weights=distance;, score=1.000 total time=   0.0s\n",
      "[CV 3/5] END algorithm=kd_tree, n_neighbors=1, weights=distance;, score=1.000 total time=   0.0s\n",
      "[CV 1/5] END algorithm=kd_tree, n_neighbors=8, weights=distance;, score=1.000 total time=   0.0s\n",
      "[CV 3/5] END algorithm=kd_tree, n_neighbors=8, weights=distance;, score=1.000 total time=   0.0s\n",
      "[CV 2/5] END algorithm=kd_tree, n_neighbors=10, weights=uniform;, score=1.000 total time=   0.0s\n",
      "[CV 4/5] END algorithm=kd_tree, n_neighbors=10, weights=distance;, score=1.000 total time=   0.0s\n",
      "[CV 2/3] END ....C=1.0, gamma=auto, kernel=poly;, score=1.000 total time=   0.0s\n",
      "[CV 2/3] END ....C=1.0, gamma=scale, kernel=rbf;, score=1.000 total time=   0.0s\n",
      "[CV 1/3] END .....C=2.0, gamma=auto, kernel=rbf;, score=1.000 total time=   0.0s\n",
      "[CV 2/3] END ..C=1.0, gamma=auto, kernel=linear;, score=1.000 total time=   0.0s\n",
      "[CV 2/3] END ....C=2.0, gamma=scale, kernel=rbf;, score=1.000 total time=   0.0s\n",
      "[CV 2/3] END ..C=2.0, gamma=auto, kernel=linear;, score=1.000 total time=   0.0s\n",
      "[CV 3/3] END ....C=2.0, gamma=auto, kernel=poly;, score=1.000 total time=   0.0s\n",
      "[CV 3/5] END algorithm=auto, n_neighbors=1, weights=uniform;, score=1.000 total time=   0.0s\n",
      "[CV 3/5] END algorithm=auto, n_neighbors=5, weights=uniform;, score=0.960 total time=   0.0s\n",
      "[CV 1/5] END algorithm=auto, n_neighbors=5, weights=distance;, score=1.000 total time=   0.0s\n",
      "[CV 4/5] END algorithm=auto, n_neighbors=5, weights=distance;, score=1.000 total time=   0.0s\n",
      "[CV 4/5] END algorithm=auto, n_neighbors=8, weights=uniform;, score=1.000 total time=   0.0s\n",
      "[CV 3/5] END algorithm=auto, n_neighbors=8, weights=distance;, score=1.000 total time=   0.0s\n",
      "[CV 1/5] END algorithm=auto, n_neighbors=10, weights=uniform;, score=0.973 total time=   0.0s\n",
      "[CV 1/5] END algorithm=auto, n_neighbors=10, weights=distance;, score=1.000 total time=   0.0s\n",
      "[CV 2/5] END algorithm=auto, n_neighbors=10, weights=distance;, score=1.000 total time=   0.0s\n",
      "[CV 1/5] END algorithm=ball_tree, n_neighbors=1, weights=uniform;, score=1.000 total time=   0.0s\n",
      "[CV 2/5] END algorithm=ball_tree, n_neighbors=1, weights=uniform;, score=1.000 total time=   0.0s\n",
      "[CV 1/5] END algorithm=ball_tree, n_neighbors=8, weights=uniform;, score=1.000 total time=   0.0s\n",
      "[CV 2/5] END algorithm=ball_tree, n_neighbors=8, weights=uniform;, score=1.000 total time=   0.0s\n",
      "[CV 3/5] END algorithm=kd_tree, n_neighbors=5, weights=uniform;, score=0.960 total time=   0.0s\n",
      "[CV 4/5] END algorithm=kd_tree, n_neighbors=5, weights=uniform;, score=1.000 total time=   0.0s\n",
      "[CV 5/5] END algorithm=kd_tree, n_neighbors=5, weights=uniform;, score=1.000 total time=   0.0s\n",
      "[CV 1/5] END algorithm=kd_tree, n_neighbors=5, weights=distance;, score=1.000 total time=   0.0s\n",
      "[CV 2/5] END algorithm=kd_tree, n_neighbors=10, weights=distance;, score=1.000 total time=   0.0s\n",
      "[CV 1/3] END ..C=2.0, gamma=auto, kernel=linear;, score=1.000 total time=   0.0s\n",
      "[CV 1/3] END criterion=entropy, max_depth=100, max_features=sqrt, min_samples_leaf=10;, score=1.000 total time=   0.0s\n",
      "[CV 3/3] END criterion=entropy, max_depth=100, max_features=sqrt, min_samples_leaf=10;, score=0.968 total time=   0.0s\n",
      "[CV 2/3] END criterion=gini, max_depth=1, max_features=auto, min_samples_leaf=5;, score=0.904 total time=   0.0s\n",
      "[CV 3/3] END criterion=gini, max_depth=1, max_features=auto, min_samples_leaf=5;, score=0.844 total time=   0.0s\n",
      "[CV 1/3] END criterion=gini, max_depth=1000, max_features=auto, min_samples_leaf=1;, score=1.000 total time=   0.0s\n",
      "[CV 3/3] END criterion=gini, max_depth=1000, max_features=auto, min_samples_leaf=1;, score=1.000 total time=   0.0s\n",
      "[CV 3/3] END criterion=gini, max_depth=10000, max_features=auto, min_samples_leaf=10000;, score=0.652 total time=   0.0s\n",
      "[CV 3/3] END criterion=entropy, max_depth=2, max_features=auto, min_samples_leaf=1000;, score=0.652 total time=   0.0s\n",
      "[CV 3/3] END criterion=entropy, max_depth=10000, max_features=log2, min_samples_leaf=1000;, score=0.652 total time=   0.0s\n",
      "[CV 2/3] END criterion=gini, max_depth=100, max_features=log2, min_samples_leaf=1000;, score=0.652 total time=   0.0s\n",
      "[CV 1/3] END criterion=gini, max_depth=10000, max_features=auto, min_samples_leaf=100;, score=0.932 total time=   0.0s\n",
      "[CV 3/3] END criterion=gini, max_depth=10000, max_features=auto, min_samples_leaf=100;, score=0.940 total time=   0.0s\n",
      "[CV 2/3] END criterion=gini, max_depth=1000, max_features=auto, min_samples_leaf=10;, score=0.952 total time=   0.0s\n",
      "[CV 1/3] END criterion=entropy, max_depth=1, max_features=auto, min_samples_leaf=100;, score=0.828 total time=   0.0s\n",
      "[CV 2/5] END algorithm=auto, n_neighbors=1, weights=distance;, score=1.000 total time=   0.0s\n",
      "[CV 2/5] END algorithm=ball_tree, n_neighbors=10, weights=distance;, score=1.000 total time=   0.0s\n",
      "[CV 3/5] END algorithm=ball_tree, n_neighbors=10, weights=distance;, score=1.000 total time=   0.0s\n",
      "[CV 4/5] END algorithm=ball_tree, n_neighbors=10, weights=distance;, score=1.000 total time=   0.0s\n",
      "[CV 5/5] END algorithm=ball_tree, n_neighbors=10, weights=distance;, score=1.000 total time=   0.0s\n",
      "[CV 5/5] END algorithm=kd_tree, n_neighbors=8, weights=uniform;, score=1.000 total time=   0.0s\n",
      "[CV 5/5] END algorithm=kd_tree, n_neighbors=8, weights=distance;, score=1.000 total time=   0.0s\n",
      "[CV 5/5] END algorithm=kd_tree, n_neighbors=10, weights=uniform;, score=0.987 total time=   0.0s\n",
      "[CV 2/3] END criterion=entropy, max_depth=1, max_features=auto, min_samples_leaf=100;, score=0.800 total time=   0.0s\n",
      "[CV 1/5] END algorithm=auto, n_neighbors=1, weights=distance;, score=1.000 total time=   0.0s\n",
      "[CV 2/5] END algorithm=ball_tree, n_neighbors=1, weights=distance;, score=1.000 total time=   0.0s\n",
      "[CV 3/5] END algorithm=ball_tree, n_neighbors=1, weights=distance;, score=1.000 total time=   0.0s\n",
      "[CV 3/5] END algorithm=ball_tree, n_neighbors=5, weights=uniform;, score=0.960 total time=   0.0s\n",
      "[CV 4/5] END algorithm=ball_tree, n_neighbors=5, weights=uniform;, score=1.000 total time=   0.0s\n",
      "[CV 1/5] END algorithm=ball_tree, n_neighbors=10, weights=uniform;, score=0.973 total time=   0.0s\n",
      "[CV 2/5] END algorithm=ball_tree, n_neighbors=10, weights=uniform;, score=1.000 total time=   0.0s\n",
      "[CV 1/5] END algorithm=kd_tree, n_neighbors=8, weights=uniform;, score=1.000 total time=   0.0s\n",
      "[CV 2/5] END algorithm=kd_tree, n_neighbors=8, weights=uniform;, score=1.000 total time=   0.0s\n",
      "[CV 3/5] END algorithm=kd_tree, n_neighbors=8, weights=uniform;, score=0.960 total time=   0.0s\n",
      "[CV 4/5] END algorithm=kd_tree, n_neighbors=8, weights=uniform;, score=1.000 total time=   0.0s\n",
      "[CV 3/3] END ...C=2.0, gamma=scale, kernel=poly;, score=1.000 total time=   0.0s\n",
      "[CV 1/3] END ...C=1.0, gamma=scale, kernel=poly;, score=1.000 total time=   0.0s\n",
      "[CV 1/3] END ....C=2.0, gamma=auto, kernel=poly;, score=1.000 total time=   0.0s\n"
     ]
    }
   ],
   "source": [
    "#making dataframe on evaluation metrices\n",
    "all_evaluation_imp_feat=pd.DataFrame({'SGD':model_imp_feat(sgd_s),\n",
    "                            'logistic Reg':model_imp_feat(lr_s),\n",
    "                            'svc':model_imp_feat(svc_s),\n",
    "                            'Decision Tree':model_imp_feat(dt_s),\n",
    "                           'Random Forest':model_imp_feat(rf_s),\n",
    "                            'Extra Random Tree':model_imp_feat(rt_s)}\n",
    "                           ,index=['train score','test score', \n",
    "                                   'precision_score', 'recall_score', 'f1_score', 'auc'])\n",
    "all_evaluation_imp_feat"
   ]
  },
  {
   "cell_type": "code",
   "execution_count": 96,
   "id": "c300fe28",
   "metadata": {},
   "outputs": [],
   "source": [
    "all_evaluation_imp_feat.to_html('Resources/Cleaned_data/under_metrics_imp.html')"
   ]
  },
  {
   "cell_type": "code",
   "execution_count": null,
   "id": "a943c12d",
   "metadata": {},
   "outputs": [],
   "source": []
  }
 ],
 "metadata": {
  "kernelspec": {
   "display_name": "Python 3 (ipykernel)",
   "language": "python",
   "name": "python3"
  },
  "language_info": {
   "codemirror_mode": {
    "name": "ipython",
    "version": 3
   },
   "file_extension": ".py",
   "mimetype": "text/x-python",
   "name": "python",
   "nbconvert_exporter": "python",
   "pygments_lexer": "ipython3",
   "version": "3.8.10"
  }
 },
 "nbformat": 4,
 "nbformat_minor": 5
}
