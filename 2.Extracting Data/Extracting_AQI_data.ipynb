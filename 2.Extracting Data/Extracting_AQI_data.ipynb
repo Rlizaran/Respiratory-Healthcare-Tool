{
 "cells": [
  {
   "cell_type": "code",
   "execution_count": 1,
   "id": "0d20d8f5-8932-468c-af0f-f998a00b925e",
   "metadata": {},
   "outputs": [],
   "source": [
    "import pandas as pd"
   ]
  },
  {
   "cell_type": "code",
   "execution_count": null,
   "id": "f80033a2-c5ca-4e02-acd0-a7cc0bf3bc0d",
   "metadata": {},
   "outputs": [],
   "source": [
    "df = pd.read_excel('https://query.data.world/s/c32jw6lhihf6lgqfkpb3qc4iuv7nce',sheet_name=1)\n",
    "df1 = pd.read_excel('https://query.data.world/s/pdhrbta2pzxfhwltovbyo3zmfz6p7c')"
   ]
  },
  {
   "cell_type": "code",
   "execution_count": null,
   "id": "88312b20-b568-4070-bfcf-ad3094f47417",
   "metadata": {},
   "outputs": [],
   "source": [
    "df"
   ]
  },
  {
   "cell_type": "code",
   "execution_count": null,
   "id": "7c8e08ff-3d65-4a92-b943-c62c65032afe",
   "metadata": {},
   "outputs": [],
   "source": [
    "df1"
   ]
  },
  {
   "cell_type": "code",
   "execution_count": null,
   "id": "0534c844-849d-400a-b5e7-4d840dcf759b",
   "metadata": {},
   "outputs": [],
   "source": []
  }
 ],
 "metadata": {
  "kernelspec": {
   "display_name": "Python 3",
   "language": "python",
   "name": "python3"
  },
  "language_info": {
   "codemirror_mode": {
    "name": "ipython",
    "version": 3
   },
   "file_extension": ".py",
   "mimetype": "text/x-python",
   "name": "python",
   "nbconvert_exporter": "python",
   "pygments_lexer": "ipython3",
   "version": "3.8.8"
  }
 },
 "nbformat": 4,
 "nbformat_minor": 5
}
