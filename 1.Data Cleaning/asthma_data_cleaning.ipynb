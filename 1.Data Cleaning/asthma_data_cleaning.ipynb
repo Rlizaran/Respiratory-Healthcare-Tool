{
 "cells": [
  {
   "cell_type": "code",
   "execution_count": 1,
   "id": "044516cc",
   "metadata": {},
   "outputs": [],
   "source": [
    "import warnings\n",
    "warnings.filterwarnings(\"ignore\")\n",
    "import pandas as pd\n",
    "\n",
    "#load data frames from resources folder\n",
    "df_asthma = pd.read_csv('../resources/Asthma_Emergency_Department_Visit_Rates_by_ZIP_Code.csv')\n",
    "df = pd.read_csv('../resources/asthma_data.csv')"
   ]
  },
  {
   "cell_type": "code",
   "execution_count": 2,
   "id": "360d5bfa",
   "metadata": {},
   "outputs": [
    {
     "data": {
      "text/html": [
       "<div>\n",
       "<style scoped>\n",
       "    .dataframe tbody tr th:only-of-type {\n",
       "        vertical-align: middle;\n",
       "    }\n",
       "\n",
       "    .dataframe tbody tr th {\n",
       "        vertical-align: top;\n",
       "    }\n",
       "\n",
       "    .dataframe thead th {\n",
       "        text-align: right;\n",
       "    }\n",
       "</style>\n",
       "<table border=\"1\" class=\"dataframe\">\n",
       "  <thead>\n",
       "    <tr style=\"text-align: right;\">\n",
       "      <th></th>\n",
       "      <th>Year</th>\n",
       "      <th>ZIP code</th>\n",
       "      <th>Age Group</th>\n",
       "      <th>Number of Visits</th>\n",
       "      <th>Age-adjusted rate</th>\n",
       "      <th>County Fips code</th>\n",
       "      <th>County</th>\n",
       "    </tr>\n",
       "  </thead>\n",
       "  <tbody>\n",
       "    <tr>\n",
       "      <th>0</th>\n",
       "      <td>2012</td>\n",
       "      <td>90001\\n(33.973271508000494, -118.24896959899968)</td>\n",
       "      <td>AllAges</td>\n",
       "      <td>433.0</td>\n",
       "      <td>76.200000</td>\n",
       "      <td>6037</td>\n",
       "      <td>LOS ANGELES</td>\n",
       "    </tr>\n",
       "    <tr>\n",
       "      <th>1</th>\n",
       "      <td>2012</td>\n",
       "      <td>90001\\n(33.973271508000494, -118.24896959899968)</td>\n",
       "      <td>Children (0-17)</td>\n",
       "      <td>221.0</td>\n",
       "      <td>108.600000</td>\n",
       "      <td>6037</td>\n",
       "      <td>LOS ANGELES</td>\n",
       "    </tr>\n",
       "    <tr>\n",
       "      <th>2</th>\n",
       "      <td>2012</td>\n",
       "      <td>90001\\n(33.973271508000494, -118.24896959899968)</td>\n",
       "      <td>Adults (18+)</td>\n",
       "      <td>212.0</td>\n",
       "      <td>64.900000</td>\n",
       "      <td>6037</td>\n",
       "      <td>LOS ANGELES</td>\n",
       "    </tr>\n",
       "    <tr>\n",
       "      <th>3</th>\n",
       "      <td>2012</td>\n",
       "      <td>90002\\n(33.94895251300045, -118.24697958699971)</td>\n",
       "      <td>AllAges</td>\n",
       "      <td>438.0</td>\n",
       "      <td>78.200000</td>\n",
       "      <td>6037</td>\n",
       "      <td>LOS ANGELES</td>\n",
       "    </tr>\n",
       "    <tr>\n",
       "      <th>4</th>\n",
       "      <td>2012</td>\n",
       "      <td>90002\\n(33.94895251300045, -118.24697958699971)</td>\n",
       "      <td>Children (0-17)</td>\n",
       "      <td>215.0</td>\n",
       "      <td>113.300000</td>\n",
       "      <td>6037</td>\n",
       "      <td>LOS ANGELES</td>\n",
       "    </tr>\n",
       "    <tr>\n",
       "      <th>...</th>\n",
       "      <td>...</td>\n",
       "      <td>...</td>\n",
       "      <td>...</td>\n",
       "      <td>...</td>\n",
       "      <td>...</td>\n",
       "      <td>...</td>\n",
       "      <td>...</td>\n",
       "    </tr>\n",
       "    <tr>\n",
       "      <th>7081</th>\n",
       "      <td>2009</td>\n",
       "      <td>96150\\n(38.91503998200005, -119.99451907399998)</td>\n",
       "      <td>Children (0-17)</td>\n",
       "      <td>16.0</td>\n",
       "      <td>19.176574</td>\n",
       "      <td>6017</td>\n",
       "      <td>EL DORADO</td>\n",
       "    </tr>\n",
       "    <tr>\n",
       "      <th>7082</th>\n",
       "      <td>2009</td>\n",
       "      <td>96150\\n(38.91503998200005, -119.99451907399998)</td>\n",
       "      <td>Adults (18+)</td>\n",
       "      <td>26.0</td>\n",
       "      <td>8.929906</td>\n",
       "      <td>6017</td>\n",
       "      <td>EL DORADO</td>\n",
       "    </tr>\n",
       "    <tr>\n",
       "      <th>7083</th>\n",
       "      <td>2009</td>\n",
       "      <td>96161\\n(39.34004669500007, -120.18931870499995)</td>\n",
       "      <td>All Ages</td>\n",
       "      <td>16.0</td>\n",
       "      <td>8.646950</td>\n",
       "      <td>6057</td>\n",
       "      <td>NEVADA</td>\n",
       "    </tr>\n",
       "    <tr>\n",
       "      <th>7084</th>\n",
       "      <td>2009</td>\n",
       "      <td>96161\\n(39.34004669500007, -120.18931870499995)</td>\n",
       "      <td>Children (0-17)</td>\n",
       "      <td>NaN</td>\n",
       "      <td>NaN</td>\n",
       "      <td>6057</td>\n",
       "      <td>NEVADA</td>\n",
       "    </tr>\n",
       "    <tr>\n",
       "      <th>7085</th>\n",
       "      <td>2009</td>\n",
       "      <td>96161\\n(39.34004669500007, -120.18931870499995)</td>\n",
       "      <td>Adults (18+)</td>\n",
       "      <td>NaN</td>\n",
       "      <td>NaN</td>\n",
       "      <td>6057</td>\n",
       "      <td>NEVADA</td>\n",
       "    </tr>\n",
       "  </tbody>\n",
       "</table>\n",
       "<p>7086 rows × 7 columns</p>\n",
       "</div>"
      ],
      "text/plain": [
       "      Year                                          ZIP code        Age Group  \\\n",
       "0     2012  90001\\n(33.973271508000494, -118.24896959899968)          AllAges   \n",
       "1     2012  90001\\n(33.973271508000494, -118.24896959899968)  Children (0-17)   \n",
       "2     2012  90001\\n(33.973271508000494, -118.24896959899968)     Adults (18+)   \n",
       "3     2012   90002\\n(33.94895251300045, -118.24697958699971)          AllAges   \n",
       "4     2012   90002\\n(33.94895251300045, -118.24697958699971)  Children (0-17)   \n",
       "...    ...                                               ...              ...   \n",
       "7081  2009   96150\\n(38.91503998200005, -119.99451907399998)  Children (0-17)   \n",
       "7082  2009   96150\\n(38.91503998200005, -119.99451907399998)     Adults (18+)   \n",
       "7083  2009   96161\\n(39.34004669500007, -120.18931870499995)         All Ages   \n",
       "7084  2009   96161\\n(39.34004669500007, -120.18931870499995)  Children (0-17)   \n",
       "7085  2009   96161\\n(39.34004669500007, -120.18931870499995)     Adults (18+)   \n",
       "\n",
       "      Number of Visits  Age-adjusted rate  County Fips code       County  \n",
       "0                433.0          76.200000              6037  LOS ANGELES  \n",
       "1                221.0         108.600000              6037  LOS ANGELES  \n",
       "2                212.0          64.900000              6037  LOS ANGELES  \n",
       "3                438.0          78.200000              6037  LOS ANGELES  \n",
       "4                215.0         113.300000              6037  LOS ANGELES  \n",
       "...                ...                ...               ...          ...  \n",
       "7081              16.0          19.176574              6017    EL DORADO  \n",
       "7082              26.0           8.929906              6017    EL DORADO  \n",
       "7083              16.0           8.646950              6057       NEVADA  \n",
       "7084               NaN                NaN              6057       NEVADA  \n",
       "7085               NaN                NaN              6057       NEVADA  \n",
       "\n",
       "[7086 rows x 7 columns]"
      ]
     },
     "execution_count": 2,
     "metadata": {},
     "output_type": "execute_result"
    }
   ],
   "source": [
    "df_asthma"
   ]
  },
  {
   "cell_type": "code",
   "execution_count": 3,
   "id": "9550a998",
   "metadata": {},
   "outputs": [],
   "source": [
    "#drop all AllAges or All Ages values in Age group column\n",
    "df_asthma_v1 = df_asthma[(df_asthma['Age Group'] != 'AllAges') & (df_asthma['Age Group'] != 'All Ages')]"
   ]
  },
  {
   "cell_type": "code",
   "execution_count": 4,
   "id": "e663a223",
   "metadata": {},
   "outputs": [],
   "source": [
    "#convert nans to 0\n",
    "df_asthma_v1 = df_asthma_v1.fillna(0)"
   ]
  },
  {
   "cell_type": "code",
   "execution_count": 5,
   "id": "aff15e44",
   "metadata": {},
   "outputs": [],
   "source": [
    "#Split ZIP code into lat_Lon and then split lat_Lon in into Lat and Lon\n",
    "df_asthma_v1[['ZIP code', 'Lat_Lon']] = df_asthma_v1['ZIP code'].str.split('\\n', 1, expand=True)\n",
    "\n",
    "df_asthma_v1[['Lat', 'Lon']] = df_asthma_v1['Lat_Lon'].str.split(',', 1, expand=True)\n",
    "\n",
    "df_asthma_v1.drop(columns=['Lat_Lon'],inplace=True)"
   ]
  },
  {
   "cell_type": "code",
   "execution_count": 6,
   "id": "b13f5700",
   "metadata": {},
   "outputs": [],
   "source": [
    "#Remove paranthesis from lat and lon\n",
    "df_asthma_v1['Lat'] = df_asthma_v1['Lat'].str[1:]\n",
    "df_asthma_v1['Lon'] = df_asthma_v1['Lon'].str[:-1]"
   ]
  },
  {
   "cell_type": "code",
   "execution_count": 7,
   "id": "8144a6b6",
   "metadata": {},
   "outputs": [
    {
     "data": {
      "text/html": [
       "<div>\n",
       "<style scoped>\n",
       "    .dataframe tbody tr th:only-of-type {\n",
       "        vertical-align: middle;\n",
       "    }\n",
       "\n",
       "    .dataframe tbody tr th {\n",
       "        vertical-align: top;\n",
       "    }\n",
       "\n",
       "    .dataframe thead th {\n",
       "        text-align: right;\n",
       "    }\n",
       "</style>\n",
       "<table border=\"1\" class=\"dataframe\">\n",
       "  <thead>\n",
       "    <tr style=\"text-align: right;\">\n",
       "      <th></th>\n",
       "      <th>Year</th>\n",
       "      <th>ZIP code</th>\n",
       "      <th>Age Group</th>\n",
       "      <th>Number of Visits</th>\n",
       "      <th>Age-adjusted rate</th>\n",
       "      <th>County Fips code</th>\n",
       "      <th>County</th>\n",
       "      <th>Lat</th>\n",
       "      <th>Lon</th>\n",
       "    </tr>\n",
       "  </thead>\n",
       "  <tbody>\n",
       "    <tr>\n",
       "      <th>1</th>\n",
       "      <td>2012</td>\n",
       "      <td>90001</td>\n",
       "      <td>Children (0-17)</td>\n",
       "      <td>221.0</td>\n",
       "      <td>108.600000</td>\n",
       "      <td>6037</td>\n",
       "      <td>LOS ANGELES</td>\n",
       "      <td>33.973271508000494</td>\n",
       "      <td>-118.24896959899968</td>\n",
       "    </tr>\n",
       "    <tr>\n",
       "      <th>2</th>\n",
       "      <td>2012</td>\n",
       "      <td>90001</td>\n",
       "      <td>Adults (18+)</td>\n",
       "      <td>212.0</td>\n",
       "      <td>64.900000</td>\n",
       "      <td>6037</td>\n",
       "      <td>LOS ANGELES</td>\n",
       "      <td>33.973271508000494</td>\n",
       "      <td>-118.24896959899968</td>\n",
       "    </tr>\n",
       "    <tr>\n",
       "      <th>4</th>\n",
       "      <td>2012</td>\n",
       "      <td>90002</td>\n",
       "      <td>Children (0-17)</td>\n",
       "      <td>215.0</td>\n",
       "      <td>113.300000</td>\n",
       "      <td>6037</td>\n",
       "      <td>LOS ANGELES</td>\n",
       "      <td>33.94895251300045</td>\n",
       "      <td>-118.24697958699971</td>\n",
       "    </tr>\n",
       "    <tr>\n",
       "      <th>5</th>\n",
       "      <td>2012</td>\n",
       "      <td>90002</td>\n",
       "      <td>Adults (18+)</td>\n",
       "      <td>223.0</td>\n",
       "      <td>66.000000</td>\n",
       "      <td>6037</td>\n",
       "      <td>LOS ANGELES</td>\n",
       "      <td>33.94895251300045</td>\n",
       "      <td>-118.24697958699971</td>\n",
       "    </tr>\n",
       "    <tr>\n",
       "      <th>7</th>\n",
       "      <td>2012</td>\n",
       "      <td>90003</td>\n",
       "      <td>Children (0-17)</td>\n",
       "      <td>295.0</td>\n",
       "      <td>125.200000</td>\n",
       "      <td>6037</td>\n",
       "      <td>LOS ANGELES</td>\n",
       "      <td>33.96335186100049</td>\n",
       "      <td>-118.27393599999971</td>\n",
       "    </tr>\n",
       "    <tr>\n",
       "      <th>...</th>\n",
       "      <td>...</td>\n",
       "      <td>...</td>\n",
       "      <td>...</td>\n",
       "      <td>...</td>\n",
       "      <td>...</td>\n",
       "      <td>...</td>\n",
       "      <td>...</td>\n",
       "      <td>...</td>\n",
       "      <td>...</td>\n",
       "    </tr>\n",
       "    <tr>\n",
       "      <th>7079</th>\n",
       "      <td>2009</td>\n",
       "      <td>96137</td>\n",
       "      <td>Adults (18+)</td>\n",
       "      <td>14.0</td>\n",
       "      <td>168.321586</td>\n",
       "      <td>6035</td>\n",
       "      <td>LASSEN</td>\n",
       "      <td>40.27826807800005</td>\n",
       "      <td>-121.11084657699996</td>\n",
       "    </tr>\n",
       "    <tr>\n",
       "      <th>7081</th>\n",
       "      <td>2009</td>\n",
       "      <td>96150</td>\n",
       "      <td>Children (0-17)</td>\n",
       "      <td>16.0</td>\n",
       "      <td>19.176574</td>\n",
       "      <td>6017</td>\n",
       "      <td>EL DORADO</td>\n",
       "      <td>38.91503998200005</td>\n",
       "      <td>-119.99451907399998</td>\n",
       "    </tr>\n",
       "    <tr>\n",
       "      <th>7082</th>\n",
       "      <td>2009</td>\n",
       "      <td>96150</td>\n",
       "      <td>Adults (18+)</td>\n",
       "      <td>26.0</td>\n",
       "      <td>8.929906</td>\n",
       "      <td>6017</td>\n",
       "      <td>EL DORADO</td>\n",
       "      <td>38.91503998200005</td>\n",
       "      <td>-119.99451907399998</td>\n",
       "    </tr>\n",
       "    <tr>\n",
       "      <th>7084</th>\n",
       "      <td>2009</td>\n",
       "      <td>96161</td>\n",
       "      <td>Children (0-17)</td>\n",
       "      <td>0.0</td>\n",
       "      <td>0.000000</td>\n",
       "      <td>6057</td>\n",
       "      <td>NEVADA</td>\n",
       "      <td>39.34004669500007</td>\n",
       "      <td>-120.18931870499995</td>\n",
       "    </tr>\n",
       "    <tr>\n",
       "      <th>7085</th>\n",
       "      <td>2009</td>\n",
       "      <td>96161</td>\n",
       "      <td>Adults (18+)</td>\n",
       "      <td>0.0</td>\n",
       "      <td>0.000000</td>\n",
       "      <td>6057</td>\n",
       "      <td>NEVADA</td>\n",
       "      <td>39.34004669500007</td>\n",
       "      <td>-120.18931870499995</td>\n",
       "    </tr>\n",
       "  </tbody>\n",
       "</table>\n",
       "<p>4724 rows × 9 columns</p>\n",
       "</div>"
      ],
      "text/plain": [
       "      Year ZIP code        Age Group  Number of Visits  Age-adjusted rate  \\\n",
       "1     2012    90001  Children (0-17)             221.0         108.600000   \n",
       "2     2012    90001     Adults (18+)             212.0          64.900000   \n",
       "4     2012    90002  Children (0-17)             215.0         113.300000   \n",
       "5     2012    90002     Adults (18+)             223.0          66.000000   \n",
       "7     2012    90003  Children (0-17)             295.0         125.200000   \n",
       "...    ...      ...              ...               ...                ...   \n",
       "7079  2009    96137     Adults (18+)              14.0         168.321586   \n",
       "7081  2009    96150  Children (0-17)              16.0          19.176574   \n",
       "7082  2009    96150     Adults (18+)              26.0           8.929906   \n",
       "7084  2009    96161  Children (0-17)               0.0           0.000000   \n",
       "7085  2009    96161     Adults (18+)               0.0           0.000000   \n",
       "\n",
       "      County Fips code       County                 Lat                   Lon  \n",
       "1                 6037  LOS ANGELES  33.973271508000494   -118.24896959899968  \n",
       "2                 6037  LOS ANGELES  33.973271508000494   -118.24896959899968  \n",
       "4                 6037  LOS ANGELES   33.94895251300045   -118.24697958699971  \n",
       "5                 6037  LOS ANGELES   33.94895251300045   -118.24697958699971  \n",
       "7                 6037  LOS ANGELES   33.96335186100049   -118.27393599999971  \n",
       "...                ...          ...                 ...                   ...  \n",
       "7079              6035       LASSEN   40.27826807800005   -121.11084657699996  \n",
       "7081              6017    EL DORADO   38.91503998200005   -119.99451907399998  \n",
       "7082              6017    EL DORADO   38.91503998200005   -119.99451907399998  \n",
       "7084              6057       NEVADA   39.34004669500007   -120.18931870499995  \n",
       "7085              6057       NEVADA   39.34004669500007   -120.18931870499995  \n",
       "\n",
       "[4724 rows x 9 columns]"
      ]
     },
     "execution_count": 7,
     "metadata": {},
     "output_type": "execute_result"
    }
   ],
   "source": [
    "df_asthma_v1"
   ]
  },
  {
   "cell_type": "code",
   "execution_count": 8,
   "id": "b56f45a2",
   "metadata": {},
   "outputs": [],
   "source": [
    "#Encode Age group into binary values\n",
    "df_asthma_v1['Age Group'].replace(('Children (0-17)', 'Adults (18+)'), (1, 0), inplace=True)"
   ]
  },
  {
   "cell_type": "code",
   "execution_count": 9,
   "id": "162369d8-09c4-4786-be1f-3fabb1d9ea75",
   "metadata": {},
   "outputs": [
    {
     "data": {
      "text/plain": [
       "Index(['Year', 'Zip_Code', 'Number_of_Asthma_ED_Visits',\n",
       "       'Age_Adjusted_Rate_of_Asthma_ED_V', 'Age_Group', 'county'],\n",
       "      dtype='object')"
      ]
     },
     "execution_count": 9,
     "metadata": {},
     "output_type": "execute_result"
    }
   ],
   "source": [
    "df.columns"
   ]
  },
  {
   "cell_type": "code",
   "execution_count": 10,
   "id": "56f0a8bd-368e-4dcc-a9fc-07192a029f93",
   "metadata": {},
   "outputs": [],
   "source": [
    "df['Age_Group'].replace(('0-17', '18+'), (1,0), inplace=True)"
   ]
  },
  {
   "cell_type": "code",
   "execution_count": 11,
   "id": "c444baa9-83f3-450d-8414-d9be33f682fb",
   "metadata": {},
   "outputs": [],
   "source": [
    "df['county'] = df['county'].str.capitalize()"
   ]
  },
  {
   "cell_type": "code",
   "execution_count": 12,
   "id": "006ea365",
   "metadata": {},
   "outputs": [],
   "source": [
    "#Convert County values to lower case\n",
    "df_asthma_v1['County'] = df_asthma_v1['County'].str.capitalize()"
   ]
  },
  {
   "cell_type": "code",
   "execution_count": 13,
   "id": "f0fa4b28",
   "metadata": {},
   "outputs": [],
   "source": [
    "df_asthma_v1 = df_asthma_v1.drop(columns={'County Fips code', 'Lat','Lon'})"
   ]
  },
  {
   "cell_type": "code",
   "execution_count": 14,
   "id": "c16263a1-2a59-4952-a66f-6757fc89bf4b",
   "metadata": {},
   "outputs": [
    {
     "data": {
      "text/plain": [
       "array([2012, 2009], dtype=int64)"
      ]
     },
     "execution_count": 14,
     "metadata": {},
     "output_type": "execute_result"
    }
   ],
   "source": [
    "df_asthma_v1['Year'].unique()"
   ]
  },
  {
   "cell_type": "code",
   "execution_count": 15,
   "id": "5b33039a-5de8-4b79-87a2-296960d31c90",
   "metadata": {},
   "outputs": [
    {
     "data": {
      "text/plain": [
       "array([2013, 2014, 2015, 2016, 2017, 2018], dtype=int64)"
      ]
     },
     "execution_count": 15,
     "metadata": {},
     "output_type": "execute_result"
    }
   ],
   "source": [
    "df['Year'].unique()"
   ]
  },
  {
   "cell_type": "code",
   "execution_count": 16,
   "id": "26d0c7a5",
   "metadata": {},
   "outputs": [],
   "source": [
    "df_asthma_v1 = df_asthma_v1.rename(columns={'ZIP code': 'Zip_Code','Age Group':'Age_Group'})"
   ]
  },
  {
   "cell_type": "code",
   "execution_count": 17,
   "id": "df7b3b31-9cdf-4b26-bc7f-e2538a929589",
   "metadata": {},
   "outputs": [],
   "source": [
    "df = df.rename(columns={'Number_of_Asthma_ED_Visits': 'Number of Visits','Age_Adjusted_Rate_of_Asthma_ED_V':'Age-adjusted rate','county':'County'})"
   ]
  },
  {
   "cell_type": "code",
   "execution_count": 18,
   "id": "ce3c281a-8e04-4e9a-9be4-ccdeae775434",
   "metadata": {},
   "outputs": [],
   "source": [
    "df_asthma_v1['Zip_Code'] = pd.to_numeric(df_asthma_v1['Zip_Code'])"
   ]
  },
  {
   "cell_type": "code",
   "execution_count": 19,
   "id": "6d50b687-59aa-46dd-9265-9db9364b188e",
   "metadata": {},
   "outputs": [],
   "source": [
    "df['Number of Visits'] = df['Number of Visits'].astype(float)"
   ]
  },
  {
   "cell_type": "code",
   "execution_count": 20,
   "id": "cc8b31cf-7ca9-4457-a2b6-ade7fbb94db4",
   "metadata": {
    "tags": []
   },
   "outputs": [
    {
     "data": {
      "text/plain": [
       "Year                   int64\n",
       "Zip_Code               int64\n",
       "Number of Visits     float64\n",
       "Age-adjusted rate    float64\n",
       "Age_Group              int64\n",
       "County                object\n",
       "dtype: object"
      ]
     },
     "execution_count": 20,
     "metadata": {},
     "output_type": "execute_result"
    }
   ],
   "source": [
    "df.dtypes"
   ]
  },
  {
   "cell_type": "code",
   "execution_count": 21,
   "id": "ca05acd7",
   "metadata": {},
   "outputs": [
    {
     "data": {
      "text/plain": [
       "Year                   int64\n",
       "Zip_Code               int64\n",
       "Age_Group              int64\n",
       "Number of Visits     float64\n",
       "Age-adjusted rate    float64\n",
       "County                object\n",
       "dtype: object"
      ]
     },
     "execution_count": 21,
     "metadata": {},
     "output_type": "execute_result"
    }
   ],
   "source": [
    "df_asthma_v1.dtypes"
   ]
  },
  {
   "cell_type": "code",
   "execution_count": 22,
   "id": "0156fd37-86d5-4a6d-9f84-50665477634f",
   "metadata": {},
   "outputs": [
    {
     "data": {
      "text/plain": [
       "['Year',\n",
       " 'Zip_Code',\n",
       " 'Age_Group',\n",
       " 'Number of Visits',\n",
       " 'Age-adjusted rate',\n",
       " 'County']"
      ]
     },
     "execution_count": 22,
     "metadata": {},
     "output_type": "execute_result"
    }
   ],
   "source": [
    "df_asthma_v1.columns.tolist()"
   ]
  },
  {
   "cell_type": "code",
   "execution_count": 23,
   "id": "fe2f751d-111e-4450-9e13-269b98de8b93",
   "metadata": {},
   "outputs": [],
   "source": [
    "asthma_df = df.merge(df_asthma_v1, how='outer', on=['Year','Zip_Code','Age_Group','Number of Visits','Age-adjusted rate', 'County'])"
   ]
  },
  {
   "cell_type": "code",
   "execution_count": 24,
   "id": "c569e489-720f-444e-9597-9243b7179338",
   "metadata": {},
   "outputs": [
    {
     "data": {
      "text/plain": [
       "Year                   int64\n",
       "Zip_Code               int64\n",
       "Number of Visits     float64\n",
       "Age-adjusted rate    float64\n",
       "Age_Group              int64\n",
       "County                object\n",
       "dtype: object"
      ]
     },
     "execution_count": 24,
     "metadata": {},
     "output_type": "execute_result"
    }
   ],
   "source": [
    "asthma_df.dtypes"
   ]
  },
  {
   "cell_type": "code",
   "execution_count": 25,
   "id": "dc56b27d-4953-40fe-8cf8-4bf433519791",
   "metadata": {},
   "outputs": [
    {
     "data": {
      "text/html": [
       "<div>\n",
       "<style scoped>\n",
       "    .dataframe tbody tr th:only-of-type {\n",
       "        vertical-align: middle;\n",
       "    }\n",
       "\n",
       "    .dataframe tbody tr th {\n",
       "        vertical-align: top;\n",
       "    }\n",
       "\n",
       "    .dataframe thead th {\n",
       "        text-align: right;\n",
       "    }\n",
       "</style>\n",
       "<table border=\"1\" class=\"dataframe\">\n",
       "  <thead>\n",
       "    <tr style=\"text-align: right;\">\n",
       "      <th></th>\n",
       "      <th>Year</th>\n",
       "      <th>Zip_Code</th>\n",
       "      <th>Number of Visits</th>\n",
       "      <th>Age-adjusted rate</th>\n",
       "      <th>Age_Group</th>\n",
       "      <th>County</th>\n",
       "    </tr>\n",
       "  </thead>\n",
       "  <tbody>\n",
       "    <tr>\n",
       "      <th>0</th>\n",
       "      <td>2013</td>\n",
       "      <td>90001</td>\n",
       "      <td>240.0</td>\n",
       "      <td>79.900000</td>\n",
       "      <td>0</td>\n",
       "      <td>Los angeles</td>\n",
       "    </tr>\n",
       "    <tr>\n",
       "      <th>1</th>\n",
       "      <td>2013</td>\n",
       "      <td>90002</td>\n",
       "      <td>215.0</td>\n",
       "      <td>67.800000</td>\n",
       "      <td>0</td>\n",
       "      <td>Los angeles</td>\n",
       "    </tr>\n",
       "    <tr>\n",
       "      <th>2</th>\n",
       "      <td>2013</td>\n",
       "      <td>90003</td>\n",
       "      <td>287.0</td>\n",
       "      <td>73.400000</td>\n",
       "      <td>0</td>\n",
       "      <td>Los angeles</td>\n",
       "    </tr>\n",
       "    <tr>\n",
       "      <th>3</th>\n",
       "      <td>2013</td>\n",
       "      <td>90004</td>\n",
       "      <td>101.0</td>\n",
       "      <td>21.700000</td>\n",
       "      <td>0</td>\n",
       "      <td>Los angeles</td>\n",
       "    </tr>\n",
       "    <tr>\n",
       "      <th>4</th>\n",
       "      <td>2013</td>\n",
       "      <td>90005</td>\n",
       "      <td>76.0</td>\n",
       "      <td>24.300000</td>\n",
       "      <td>0</td>\n",
       "      <td>Los angeles</td>\n",
       "    </tr>\n",
       "    <tr>\n",
       "      <th>...</th>\n",
       "      <td>...</td>\n",
       "      <td>...</td>\n",
       "      <td>...</td>\n",
       "      <td>...</td>\n",
       "      <td>...</td>\n",
       "      <td>...</td>\n",
       "    </tr>\n",
       "    <tr>\n",
       "      <th>16858</th>\n",
       "      <td>2009</td>\n",
       "      <td>96137</td>\n",
       "      <td>14.0</td>\n",
       "      <td>168.321586</td>\n",
       "      <td>0</td>\n",
       "      <td>Lassen</td>\n",
       "    </tr>\n",
       "    <tr>\n",
       "      <th>16859</th>\n",
       "      <td>2009</td>\n",
       "      <td>96150</td>\n",
       "      <td>16.0</td>\n",
       "      <td>19.176574</td>\n",
       "      <td>1</td>\n",
       "      <td>El dorado</td>\n",
       "    </tr>\n",
       "    <tr>\n",
       "      <th>16860</th>\n",
       "      <td>2009</td>\n",
       "      <td>96150</td>\n",
       "      <td>26.0</td>\n",
       "      <td>8.929906</td>\n",
       "      <td>0</td>\n",
       "      <td>El dorado</td>\n",
       "    </tr>\n",
       "    <tr>\n",
       "      <th>16861</th>\n",
       "      <td>2009</td>\n",
       "      <td>96161</td>\n",
       "      <td>0.0</td>\n",
       "      <td>0.000000</td>\n",
       "      <td>1</td>\n",
       "      <td>Nevada</td>\n",
       "    </tr>\n",
       "    <tr>\n",
       "      <th>16862</th>\n",
       "      <td>2009</td>\n",
       "      <td>96161</td>\n",
       "      <td>0.0</td>\n",
       "      <td>0.000000</td>\n",
       "      <td>0</td>\n",
       "      <td>Nevada</td>\n",
       "    </tr>\n",
       "  </tbody>\n",
       "</table>\n",
       "<p>16863 rows × 6 columns</p>\n",
       "</div>"
      ],
      "text/plain": [
       "       Year  Zip_Code  Number of Visits  Age-adjusted rate  Age_Group  \\\n",
       "0      2013     90001             240.0          79.900000          0   \n",
       "1      2013     90002             215.0          67.800000          0   \n",
       "2      2013     90003             287.0          73.400000          0   \n",
       "3      2013     90004             101.0          21.700000          0   \n",
       "4      2013     90005              76.0          24.300000          0   \n",
       "...     ...       ...               ...                ...        ...   \n",
       "16858  2009     96137              14.0         168.321586          0   \n",
       "16859  2009     96150              16.0          19.176574          1   \n",
       "16860  2009     96150              26.0           8.929906          0   \n",
       "16861  2009     96161               0.0           0.000000          1   \n",
       "16862  2009     96161               0.0           0.000000          0   \n",
       "\n",
       "            County  \n",
       "0      Los angeles  \n",
       "1      Los angeles  \n",
       "2      Los angeles  \n",
       "3      Los angeles  \n",
       "4      Los angeles  \n",
       "...            ...  \n",
       "16858       Lassen  \n",
       "16859    El dorado  \n",
       "16860    El dorado  \n",
       "16861       Nevada  \n",
       "16862       Nevada  \n",
       "\n",
       "[16863 rows x 6 columns]"
      ]
     },
     "execution_count": 25,
     "metadata": {},
     "output_type": "execute_result"
    }
   ],
   "source": [
    "asthma_df"
   ]
  },
  {
   "cell_type": "code",
   "execution_count": 26,
   "id": "c7c46dc3-82ec-4da7-a33e-750d0b2c65ca",
   "metadata": {},
   "outputs": [],
   "source": [
    "asthma_df.to_csv('../resources/Cleaned_folder/asthma2009_2018.csv', index= False)"
   ]
  }
 ],
 "metadata": {
  "kernelspec": {
   "display_name": "Python 3",
   "language": "python",
   "name": "python3"
  },
  "language_info": {
   "codemirror_mode": {
    "name": "ipython",
    "version": 3
   },
   "file_extension": ".py",
   "mimetype": "text/x-python",
   "name": "python",
   "nbconvert_exporter": "python",
   "pygments_lexer": "ipython3",
   "version": "3.8.8"
  }
 },
 "nbformat": 4,
 "nbformat_minor": 5
}
