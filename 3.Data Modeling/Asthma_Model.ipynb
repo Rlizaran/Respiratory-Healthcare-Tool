{
 "cells": [
  {
   "cell_type": "code",
   "execution_count": 25,
   "id": "672042ee",
   "metadata": {},
   "outputs": [],
   "source": [
    "#importing models\n",
    "import pandas as pd\n",
    "import numpy as np\n",
    "import os\n",
    "import matplotlib.pyplot as plt\n",
    "import statsmodels.api as sm\n",
    "import seaborn as sns\n",
    "from scipy import stats\n",
    "import warnings\n",
    "from matplotlib import rcParams\n",
    "#importing sklearn models\n",
    "from sklearn.model_selection import train_test_split\n",
    "from sklearn.linear_model import LinearRegression\n",
    "from sklearn.model_selection import cross_val_score\n",
    "from sklearn.linear_model import Lasso\n",
    "from sklearn.linear_model import Ridge\n",
    "from sklearn.svm import LinearSVR\n",
    "from sklearn.svm import SVR\n",
    "from sklearn.ensemble import RandomForestRegressor\n",
    "from sklearn.tree import DecisionTreeRegressor\n",
    "from sklearn.model_selection import GridSearchCV\n",
    "from sklearn.model_selection import RandomizedSearchCV\n",
    "from sklearn.metrics import mean_absolute_error, r2_score\n",
    "from sklearn.metrics import mean_squared_error\n",
    "from path import Path"
   ]
  },
  {
   "cell_type": "code",
   "execution_count": 26,
   "id": "9bafb078",
   "metadata": {},
   "outputs": [],
   "source": [
    "import warnings\n",
    "warnings.filterwarnings(\"ignore\")"
   ]
  },
  {
   "cell_type": "code",
   "execution_count": 27,
   "id": "423bf21c",
   "metadata": {},
   "outputs": [],
   "source": [
    "# defining data path\n",
    "data_path=Path('../0.resources/Cleaned_folder/aqi_asthma.csv')\n",
    "\n",
    "#data_path=Path('resources/Cleaned_folder/aqi_asthma_try.csv')\n",
    "\n",
    "# Reading data source using pandas\n",
    "asthma_df=pd.read_csv(data_path)"
   ]
  },
  {
   "cell_type": "code",
   "execution_count": 28,
   "id": "542f2e76",
   "metadata": {},
   "outputs": [
    {
     "data": {
      "text/plain": [
       "Index(['Year', 'Age_Group', 'county', 'Number_of_Asthma_ED_Visits',\n",
       "       'Age_Adjusted_Rate_of_Asthma_ED_V', 'NO2 AQI_mean', 'NO2 AQI_max',\n",
       "       'NO2 AQI_min', 'O3 AQI_mean', 'O3 AQI_max', 'O3 AQI_min',\n",
       "       'SO2 AQI_mean', 'SO2 AQI_max', 'SO2 AQI_min', 'CO AQI_mean',\n",
       "       'CO AQI_max', 'CO AQI_min'],\n",
       "      dtype='object')"
      ]
     },
     "execution_count": 28,
     "metadata": {},
     "output_type": "execute_result"
    }
   ],
   "source": [
    "asthma_df.columns"
   ]
  },
  {
   "cell_type": "code",
   "execution_count": 29,
   "id": "51ea4fe3",
   "metadata": {},
   "outputs": [
    {
     "data": {
      "text/html": [
       "<div>\n",
       "<style scoped>\n",
       "    .dataframe tbody tr th:only-of-type {\n",
       "        vertical-align: middle;\n",
       "    }\n",
       "\n",
       "    .dataframe tbody tr th {\n",
       "        vertical-align: top;\n",
       "    }\n",
       "\n",
       "    .dataframe thead th {\n",
       "        text-align: right;\n",
       "    }\n",
       "</style>\n",
       "<table border=\"1\" class=\"dataframe\">\n",
       "  <thead>\n",
       "    <tr style=\"text-align: right;\">\n",
       "      <th></th>\n",
       "      <th>Year</th>\n",
       "      <th>Age_Group</th>\n",
       "      <th>county</th>\n",
       "      <th>Number_of_Asthma_ED_Visits</th>\n",
       "      <th>Age_Adjusted_Rate_of_Asthma_ED_V</th>\n",
       "      <th>NO2 AQI_mean</th>\n",
       "      <th>NO2 AQI_max</th>\n",
       "      <th>NO2 AQI_min</th>\n",
       "      <th>O3 AQI_mean</th>\n",
       "      <th>O3 AQI_max</th>\n",
       "      <th>O3 AQI_min</th>\n",
       "      <th>SO2 AQI_mean</th>\n",
       "      <th>SO2 AQI_max</th>\n",
       "      <th>SO2 AQI_min</th>\n",
       "      <th>CO AQI_mean</th>\n",
       "      <th>CO AQI_max</th>\n",
       "      <th>CO AQI_min</th>\n",
       "    </tr>\n",
       "  </thead>\n",
       "  <tbody>\n",
       "    <tr>\n",
       "      <th>0</th>\n",
       "      <td>2013</td>\n",
       "      <td>0</td>\n",
       "      <td>Alameda</td>\n",
       "      <td>144.630435</td>\n",
       "      <td>55.506522</td>\n",
       "      <td>25.151099</td>\n",
       "      <td>61.000000</td>\n",
       "      <td>5.0</td>\n",
       "      <td>21.027473</td>\n",
       "      <td>50.0</td>\n",
       "      <td>3.0</td>\n",
       "      <td>2.491758</td>\n",
       "      <td>67.000000</td>\n",
       "      <td>0.0</td>\n",
       "      <td>8.043956</td>\n",
       "      <td>36.000000</td>\n",
       "      <td>2.0</td>\n",
       "    </tr>\n",
       "    <tr>\n",
       "      <th>1</th>\n",
       "      <td>2013</td>\n",
       "      <td>1</td>\n",
       "      <td>Alameda</td>\n",
       "      <td>82.384615</td>\n",
       "      <td>100.317949</td>\n",
       "      <td>25.151099</td>\n",
       "      <td>61.000000</td>\n",
       "      <td>5.0</td>\n",
       "      <td>21.027473</td>\n",
       "      <td>50.0</td>\n",
       "      <td>3.0</td>\n",
       "      <td>2.491758</td>\n",
       "      <td>67.000000</td>\n",
       "      <td>0.0</td>\n",
       "      <td>8.043956</td>\n",
       "      <td>36.000000</td>\n",
       "      <td>2.0</td>\n",
       "    </tr>\n",
       "    <tr>\n",
       "      <th>2</th>\n",
       "      <td>2013</td>\n",
       "      <td>0</td>\n",
       "      <td>Contra costa</td>\n",
       "      <td>129.000000</td>\n",
       "      <td>48.694444</td>\n",
       "      <td>15.813699</td>\n",
       "      <td>34.666667</td>\n",
       "      <td>3.0</td>\n",
       "      <td>29.459817</td>\n",
       "      <td>78.0</td>\n",
       "      <td>9.0</td>\n",
       "      <td>1.209132</td>\n",
       "      <td>6.666667</td>\n",
       "      <td>0.0</td>\n",
       "      <td>4.422831</td>\n",
       "      <td>9.666667</td>\n",
       "      <td>2.0</td>\n",
       "    </tr>\n",
       "    <tr>\n",
       "      <th>3</th>\n",
       "      <td>2013</td>\n",
       "      <td>1</td>\n",
       "      <td>Contra costa</td>\n",
       "      <td>76.482759</td>\n",
       "      <td>82.317241</td>\n",
       "      <td>15.813699</td>\n",
       "      <td>34.666667</td>\n",
       "      <td>3.0</td>\n",
       "      <td>29.459817</td>\n",
       "      <td>78.0</td>\n",
       "      <td>9.0</td>\n",
       "      <td>1.209132</td>\n",
       "      <td>6.666667</td>\n",
       "      <td>0.0</td>\n",
       "      <td>4.422831</td>\n",
       "      <td>9.666667</td>\n",
       "      <td>2.0</td>\n",
       "    </tr>\n",
       "    <tr>\n",
       "      <th>4</th>\n",
       "      <td>2013</td>\n",
       "      <td>0</td>\n",
       "      <td>Fresno</td>\n",
       "      <td>92.000000</td>\n",
       "      <td>55.602778</td>\n",
       "      <td>23.650000</td>\n",
       "      <td>57.000000</td>\n",
       "      <td>3.0</td>\n",
       "      <td>44.755556</td>\n",
       "      <td>145.0</td>\n",
       "      <td>3.0</td>\n",
       "      <td>0.877778</td>\n",
       "      <td>7.000000</td>\n",
       "      <td>0.0</td>\n",
       "      <td>7.325000</td>\n",
       "      <td>26.000000</td>\n",
       "      <td>0.0</td>\n",
       "    </tr>\n",
       "    <tr>\n",
       "      <th>...</th>\n",
       "      <td>...</td>\n",
       "      <td>...</td>\n",
       "      <td>...</td>\n",
       "      <td>...</td>\n",
       "      <td>...</td>\n",
       "      <td>...</td>\n",
       "      <td>...</td>\n",
       "      <td>...</td>\n",
       "      <td>...</td>\n",
       "      <td>...</td>\n",
       "      <td>...</td>\n",
       "      <td>...</td>\n",
       "      <td>...</td>\n",
       "      <td>...</td>\n",
       "      <td>...</td>\n",
       "      <td>...</td>\n",
       "      <td>...</td>\n",
       "    </tr>\n",
       "    <tr>\n",
       "      <th>99</th>\n",
       "      <td>2016</td>\n",
       "      <td>1</td>\n",
       "      <td>Santa barbara</td>\n",
       "      <td>63.500000</td>\n",
       "      <td>78.070000</td>\n",
       "      <td>4.106227</td>\n",
       "      <td>10.333333</td>\n",
       "      <td>0.0</td>\n",
       "      <td>39.021978</td>\n",
       "      <td>74.0</td>\n",
       "      <td>24.0</td>\n",
       "      <td>0.846154</td>\n",
       "      <td>2.333333</td>\n",
       "      <td>0.0</td>\n",
       "      <td>1.793040</td>\n",
       "      <td>4.000000</td>\n",
       "      <td>0.0</td>\n",
       "    </tr>\n",
       "    <tr>\n",
       "      <th>100</th>\n",
       "      <td>2016</td>\n",
       "      <td>0</td>\n",
       "      <td>Santa clara</td>\n",
       "      <td>80.688889</td>\n",
       "      <td>25.424444</td>\n",
       "      <td>23.355372</td>\n",
       "      <td>48.000000</td>\n",
       "      <td>4.0</td>\n",
       "      <td>30.454545</td>\n",
       "      <td>67.0</td>\n",
       "      <td>6.0</td>\n",
       "      <td>0.190083</td>\n",
       "      <td>1.000000</td>\n",
       "      <td>0.0</td>\n",
       "      <td>6.016529</td>\n",
       "      <td>15.000000</td>\n",
       "      <td>2.0</td>\n",
       "    </tr>\n",
       "    <tr>\n",
       "      <th>101</th>\n",
       "      <td>2016</td>\n",
       "      <td>1</td>\n",
       "      <td>Santa clara</td>\n",
       "      <td>40.657895</td>\n",
       "      <td>35.697368</td>\n",
       "      <td>23.355372</td>\n",
       "      <td>48.000000</td>\n",
       "      <td>4.0</td>\n",
       "      <td>30.454545</td>\n",
       "      <td>67.0</td>\n",
       "      <td>6.0</td>\n",
       "      <td>0.190083</td>\n",
       "      <td>1.000000</td>\n",
       "      <td>0.0</td>\n",
       "      <td>6.016529</td>\n",
       "      <td>15.000000</td>\n",
       "      <td>2.0</td>\n",
       "    </tr>\n",
       "    <tr>\n",
       "      <th>102</th>\n",
       "      <td>2016</td>\n",
       "      <td>0</td>\n",
       "      <td>Solano</td>\n",
       "      <td>205.000000</td>\n",
       "      <td>70.781818</td>\n",
       "      <td>17.851240</td>\n",
       "      <td>36.000000</td>\n",
       "      <td>1.0</td>\n",
       "      <td>31.545455</td>\n",
       "      <td>84.0</td>\n",
       "      <td>6.0</td>\n",
       "      <td>0.950413</td>\n",
       "      <td>9.000000</td>\n",
       "      <td>0.0</td>\n",
       "      <td>6.801653</td>\n",
       "      <td>20.000000</td>\n",
       "      <td>2.0</td>\n",
       "    </tr>\n",
       "    <tr>\n",
       "      <th>103</th>\n",
       "      <td>2016</td>\n",
       "      <td>1</td>\n",
       "      <td>Solano</td>\n",
       "      <td>106.400000</td>\n",
       "      <td>109.750000</td>\n",
       "      <td>17.851240</td>\n",
       "      <td>36.000000</td>\n",
       "      <td>1.0</td>\n",
       "      <td>31.545455</td>\n",
       "      <td>84.0</td>\n",
       "      <td>6.0</td>\n",
       "      <td>0.950413</td>\n",
       "      <td>9.000000</td>\n",
       "      <td>0.0</td>\n",
       "      <td>6.801653</td>\n",
       "      <td>20.000000</td>\n",
       "      <td>2.0</td>\n",
       "    </tr>\n",
       "  </tbody>\n",
       "</table>\n",
       "<p>104 rows × 17 columns</p>\n",
       "</div>"
      ],
      "text/plain": [
       "     Year  Age_Group         county  Number_of_Asthma_ED_Visits  \\\n",
       "0    2013          0        Alameda                  144.630435   \n",
       "1    2013          1        Alameda                   82.384615   \n",
       "2    2013          0   Contra costa                  129.000000   \n",
       "3    2013          1   Contra costa                   76.482759   \n",
       "4    2013          0         Fresno                   92.000000   \n",
       "..    ...        ...            ...                         ...   \n",
       "99   2016          1  Santa barbara                   63.500000   \n",
       "100  2016          0    Santa clara                   80.688889   \n",
       "101  2016          1    Santa clara                   40.657895   \n",
       "102  2016          0         Solano                  205.000000   \n",
       "103  2016          1         Solano                  106.400000   \n",
       "\n",
       "     Age_Adjusted_Rate_of_Asthma_ED_V  NO2 AQI_mean  NO2 AQI_max  NO2 AQI_min  \\\n",
       "0                           55.506522     25.151099    61.000000          5.0   \n",
       "1                          100.317949     25.151099    61.000000          5.0   \n",
       "2                           48.694444     15.813699    34.666667          3.0   \n",
       "3                           82.317241     15.813699    34.666667          3.0   \n",
       "4                           55.602778     23.650000    57.000000          3.0   \n",
       "..                                ...           ...          ...          ...   \n",
       "99                          78.070000      4.106227    10.333333          0.0   \n",
       "100                         25.424444     23.355372    48.000000          4.0   \n",
       "101                         35.697368     23.355372    48.000000          4.0   \n",
       "102                         70.781818     17.851240    36.000000          1.0   \n",
       "103                        109.750000     17.851240    36.000000          1.0   \n",
       "\n",
       "     O3 AQI_mean  O3 AQI_max  O3 AQI_min  SO2 AQI_mean  SO2 AQI_max  \\\n",
       "0      21.027473        50.0         3.0      2.491758    67.000000   \n",
       "1      21.027473        50.0         3.0      2.491758    67.000000   \n",
       "2      29.459817        78.0         9.0      1.209132     6.666667   \n",
       "3      29.459817        78.0         9.0      1.209132     6.666667   \n",
       "4      44.755556       145.0         3.0      0.877778     7.000000   \n",
       "..           ...         ...         ...           ...          ...   \n",
       "99     39.021978        74.0        24.0      0.846154     2.333333   \n",
       "100    30.454545        67.0         6.0      0.190083     1.000000   \n",
       "101    30.454545        67.0         6.0      0.190083     1.000000   \n",
       "102    31.545455        84.0         6.0      0.950413     9.000000   \n",
       "103    31.545455        84.0         6.0      0.950413     9.000000   \n",
       "\n",
       "     SO2 AQI_min  CO AQI_mean  CO AQI_max  CO AQI_min  \n",
       "0            0.0     8.043956   36.000000         2.0  \n",
       "1            0.0     8.043956   36.000000         2.0  \n",
       "2            0.0     4.422831    9.666667         2.0  \n",
       "3            0.0     4.422831    9.666667         2.0  \n",
       "4            0.0     7.325000   26.000000         0.0  \n",
       "..           ...          ...         ...         ...  \n",
       "99           0.0     1.793040    4.000000         0.0  \n",
       "100          0.0     6.016529   15.000000         2.0  \n",
       "101          0.0     6.016529   15.000000         2.0  \n",
       "102          0.0     6.801653   20.000000         2.0  \n",
       "103          0.0     6.801653   20.000000         2.0  \n",
       "\n",
       "[104 rows x 17 columns]"
      ]
     },
     "execution_count": 29,
     "metadata": {},
     "output_type": "execute_result"
    }
   ],
   "source": [
    "asthma_df"
   ]
  },
  {
   "cell_type": "code",
   "execution_count": 30,
   "id": "61e612b7",
   "metadata": {},
   "outputs": [],
   "source": [
    "asthma_df_O3.to_html('asthma2.html')"
   ]
  },
  {
   "cell_type": "code",
   "execution_count": 34,
   "id": "8c09457a",
   "metadata": {},
   "outputs": [],
   "source": [
    "asthma_df_O3=asthma_df[['Year','Age_Group', 'county', 'Number_of_Asthma_ED_Visits',\n",
    "       'Age_Adjusted_Rate_of_Asthma_ED_V',  'O3 AQI_mean', 'O3 AQI_max', 'O3 AQI_min',]]"
   ]
  },
  {
   "cell_type": "code",
   "execution_count": 35,
   "id": "ef984a2a",
   "metadata": {},
   "outputs": [
    {
     "data": {
      "text/plain": [
       "Year                                  int64\n",
       "Age_Group                             int64\n",
       "county                               object\n",
       "Number_of_Asthma_ED_Visits          float64\n",
       "Age_Adjusted_Rate_of_Asthma_ED_V    float64\n",
       "O3 AQI_mean                         float64\n",
       "O3 AQI_max                          float64\n",
       "O3 AQI_min                          float64\n",
       "dtype: object"
      ]
     },
     "execution_count": 35,
     "metadata": {},
     "output_type": "execute_result"
    }
   ],
   "source": [
    "asthma_df_O3.dtypes"
   ]
  },
  {
   "cell_type": "code",
   "execution_count": 36,
   "id": "7ef404ec",
   "metadata": {},
   "outputs": [],
   "source": [
    "# create feature matrix (X)\n",
    "#selecting all columns except 'Age-adjusted-rate'\n",
    "X=asthma_df_O3.drop(['Age_Adjusted_Rate_of_Asthma_ED_V','Number_of_Asthma_ED_Visits','Year','county'], axis=1) \n",
    "\n",
    "#X=asthma_df.drop(['Age-adjusted rate','county'], axis=1)\n",
    "\n",
    "# create response vector (y)\n",
    "##selecting 'Age-adjusted-rate'\n",
    "y=asthma_df_O3['Age_Adjusted_Rate_of_Asthma_ED_V'].values\n",
    "\n",
    "#y=asthma_df['Age-adjusted rate'].values"
   ]
  },
  {
   "cell_type": "markdown",
   "id": "fab4c528",
   "metadata": {},
   "source": [
    "#### Splitting data in train and test set"
   ]
  },
  {
   "cell_type": "code",
   "execution_count": 37,
   "id": "fb568b5e",
   "metadata": {},
   "outputs": [],
   "source": [
    "#Training set**: Used to train the classifier.\n",
    "#Testing set**: Used to estimate the error rate of the trained classifier.\n",
    "#Also using train_index and test_index to get train and test data index \n",
    "X_train, X_test, y_train, y_test = train_test_split(\n",
    "                               X, y, test_size=0.2, random_state=42)"
   ]
  },
  {
   "cell_type": "code",
   "execution_count": 38,
   "id": "c6174618",
   "metadata": {},
   "outputs": [
    {
     "name": "stdout",
     "output_type": "stream",
     "text": [
      "Shape of X_train=(83, 4)\n",
      "Shape of X_test=(21, 4)\n",
      "Shape of y_train=(83,)\n",
      "Shape of X_test=(21,)\n"
     ]
    }
   ],
   "source": [
    "print(f'Shape of X_train={X_train.shape}')\n",
    "print(f'Shape of X_test={X_test.shape}')\n",
    "print(f'Shape of y_train={y_train.shape}')\n",
    "print(f'Shape of X_test={y_test.shape}')"
   ]
  },
  {
   "cell_type": "markdown",
   "id": "369ea46a",
   "metadata": {},
   "source": [
    "#### Scaling using standard scaler on feature matrix (X) "
   ]
  },
  {
   "cell_type": "code",
   "execution_count": 39,
   "id": "81c8fd2b",
   "metadata": {},
   "outputs": [],
   "source": [
    "#Different columns have differnt scale so standrazied it \n",
    "#features scaling using standard scaler on x only\n",
    "from sklearn.preprocessing import StandardScaler\n",
    "std_scaler=StandardScaler()\n",
    "scaled_X_train=std_scaler.fit_transform(X_train)\n",
    "scaled_X_test=std_scaler.transform(X_test)"
   ]
  },
  {
   "cell_type": "code",
   "execution_count": 40,
   "id": "c076f2c0",
   "metadata": {},
   "outputs": [
    {
     "name": "stdout",
     "output_type": "stream",
     "text": [
      "(83, 4)\n",
      "(104,)\n"
     ]
    }
   ],
   "source": [
    "#shape of the X and y\n",
    "print(scaled_X_train.shape)\n",
    "print(y.shape)"
   ]
  },
  {
   "cell_type": "markdown",
   "id": "cf6037c4",
   "metadata": {},
   "source": [
    "### Evaluation Metric"
   ]
  },
  {
   "cell_type": "markdown",
   "id": "430ead78",
   "metadata": {},
   "source": [
    "To evaluate a model, we also need an **evaluation metric:**\n",
    "\n",
    "- A numeric calculation used to **quantify** the performance of a model.\n",
    "- The appropriate metric depends on the **goals** of your problem.\n",
    "\n",
    "The most common choices for regression problems are:\n",
    "\n",
    "- **R-squared**: The percentage of variation explained by the model (a \"reward function,\" as higher is better).\n",
    "- **Mean squared error**: The average squared distance between the prediction and the correct answer (a \"loss function,\" as lower is better).\n",
    "- **Mean absolute error**: The average absolute distance between the prediction and the correct answer (a \"loss function,\" as lower is better).\n",
    "\n",
    "In this case, we'll use mean squared error, R2, and mean absolute error because it is more interpretable in a predictive context."
   ]
  },
  {
   "cell_type": "markdown",
   "id": "66e37172",
   "metadata": {},
   "source": [
    "## Linear Regression"
   ]
  },
  {
   "cell_type": "code",
   "execution_count": 41,
   "id": "459c98ac",
   "metadata": {},
   "outputs": [
    {
     "data": {
      "text/plain": [
       "LinearRegression()"
      ]
     },
     "execution_count": 41,
     "metadata": {},
     "output_type": "execute_result"
    }
   ],
   "source": [
    "#using linear regression\n",
    "# Make a linear regression instance\n",
    "lr=LinearRegression()\n",
    "# Training the model on the data, storing the information learned from the data\n",
    "# Model is learning the relationship between X and y \n",
    "lr.fit(scaled_X_train, y_train)\n"
   ]
  },
  {
   "cell_type": "code",
   "execution_count": 42,
   "id": "50b6a24c",
   "metadata": {},
   "outputs": [
    {
     "name": "stdout",
     "output_type": "stream",
     "text": [
      "R2 Score of training set 0.41474033905301244\n",
      "R2 Score of testing  set  0.4373255461236534\n"
     ]
    }
   ],
   "source": [
    "#Printing the R2 score of test and train set\n",
    "print(f'R2 Score of training set {lr.score(scaled_X_train, y_train)}')\n",
    "print(f'R2 Score of testing  set  {lr.score(scaled_X_test, y_test)}')"
   ]
  },
  {
   "cell_type": "markdown",
   "id": "48b6391b",
   "metadata": {},
   "source": [
    "#### Create a cross-valiation with five folds.\n",
    "-  Cross valiation allows the training set into distinct subsets called folds.\n",
    "- A model is trained using k-1 of the folds as training data"
   ]
  },
  {
   "cell_type": "code",
   "execution_count": 43,
   "id": "fdd2f4ae",
   "metadata": {},
   "outputs": [
    {
     "data": {
      "text/plain": [
       "array([-21.82060501, -21.66038527, -17.33569076, -22.50264052,\n",
       "       -12.98015771])"
      ]
     },
     "execution_count": 43,
     "metadata": {},
     "output_type": "execute_result"
    }
   ],
   "source": [
    "#score of training set using cross_val_score\n",
    "cross_val_score(lr, scaled_X_train, y_train, scoring='neg_mean_absolute_error', cv=5)"
   ]
  },
  {
   "cell_type": "code",
   "execution_count": 44,
   "id": "ae790119",
   "metadata": {},
   "outputs": [
    {
     "name": "stdout",
     "output_type": "stream",
     "text": [
      "The R2 of Linear Regression is 0.12441727502598798\n",
      "The mean squared error of Linear Regression is 25.016387406162774\n",
      "The mean absolute error of Linear Regression is 19.25989585368098\n"
     ]
    }
   ],
   "source": [
    "#score of training set using cross_val_score\n",
    "lr_r2=np.mean(cross_val_score(lr, scaled_X_train, y_train, cv=5))\n",
    "print(f'The R2 of Linear Regression is {lr_r2}')\n",
    "\n",
    "#cross validation features gives greater is better, so score function is opposite of \n",
    "#MSE so we need to use -ve to get mse\n",
    "lr_mse=np.mean(cross_val_score(lr, scaled_X_train, y_train, cv=5, scoring='neg_mean_squared_error'))\n",
    "lr_rmse=np.sqrt(-(lr_mse))\n",
    "print(f'The mean squared error of Linear Regression is {lr_rmse}')\n",
    "\n",
    "#mean absolute error\n",
    "lr_mae=np.mean(cross_val_score(lr, scaled_X_train, y_train, cv=5, scoring='neg_mean_absolute_error'))\n",
    "lr_mae=(-(lr_mae))\n",
    "print(f'The mean absolute error of Linear Regression is {lr_mae}')"
   ]
  },
  {
   "cell_type": "markdown",
   "id": "691c08b2",
   "metadata": {},
   "source": [
    "## Ridge Regression"
   ]
  },
  {
   "cell_type": "code",
   "execution_count": 45,
   "id": "e472a414",
   "metadata": {},
   "outputs": [
    {
     "data": {
      "text/plain": [
       "Ridge()"
      ]
     },
     "execution_count": 45,
     "metadata": {},
     "output_type": "execute_result"
    }
   ],
   "source": [
    "#using ridge regression(ridge make some features going to near zero)\n",
    "#alpha=0 no regularization( all features are used)\n",
    "# Make a ridge regression instance\n",
    "lr_r=Ridge()\n",
    "lr_r.fit(scaled_X_train, y_train)\n"
   ]
  },
  {
   "cell_type": "code",
   "execution_count": 46,
   "id": "b5fc7452",
   "metadata": {},
   "outputs": [
    {
     "name": "stdout",
     "output_type": "stream",
     "text": [
      "R2 Score of training set 0.4146384290419671\n",
      "R2 Score of testing set  0.43354352170784693\n"
     ]
    }
   ],
   "source": [
    "#Printing the R2 score of test and train set\n",
    "print(f'R2 Score of training set {lr_r.score(scaled_X_train, y_train)}')\n",
    "print(f'R2 Score of testing set  {lr_r.score(scaled_X_test, y_test)}')"
   ]
  },
  {
   "cell_type": "markdown",
   "id": "75549963",
   "metadata": {},
   "source": [
    "#### Create a cross-valiation with five folds."
   ]
  },
  {
   "cell_type": "code",
   "execution_count": 47,
   "id": "1f95411d",
   "metadata": {},
   "outputs": [
    {
     "data": {
      "text/plain": [
       "array([-20.50322637, -20.67679948, -17.5815936 ])"
      ]
     },
     "execution_count": 47,
     "metadata": {},
     "output_type": "execute_result"
    }
   ],
   "source": [
    "#score of training set using cross_val_score\n",
    "cross_val_score(lr_r, scaled_X_train, y_train, scoring='neg_mean_absolute_error', cv=3)"
   ]
  },
  {
   "cell_type": "code",
   "execution_count": 48,
   "id": "2f5a1bc4",
   "metadata": {},
   "outputs": [
    {
     "name": "stdout",
     "output_type": "stream",
     "text": [
      "The R2 of Ridge Regression is 0.13598442989112783\n",
      "The mean squared error of Ridge Regression is 24.931466001870678\n",
      "The mean absolute error of Ridge Regression is 19.14386047389361\n"
     ]
    }
   ],
   "source": [
    "#score of training set using cross_val_score\n",
    "lr_r_r2=np.mean(cross_val_score(lr_r, scaled_X_train, y_train, cv=5))\n",
    "print(f'The R2 of Ridge Regression is {lr_r_r2}')\n",
    "\n",
    "#cross validation features gives greater is better, so score function is opposite of \n",
    "#MSE so we need to use -ve to get mse\n",
    "lr_r_mse=np.mean(cross_val_score(lr_r, scaled_X_train, y_train, cv=5, scoring='neg_mean_squared_error'))\n",
    "lr_r_rmse=np.sqrt(-(lr_r_mse))\n",
    "print(f'The mean squared error of Ridge Regression is {lr_r_rmse}')\n",
    "\n",
    "#mean absolute error\n",
    "lr_r_mae=np.mean(cross_val_score(lr_r, scaled_X_train, y_train, cv=5, scoring='neg_mean_absolute_error'))\n",
    "lr_r_mae=(-(lr_r_mae))\n",
    "print(f'The mean absolute error of Ridge Regression is {lr_r_mae}')"
   ]
  },
  {
   "cell_type": "code",
   "execution_count": 49,
   "id": "c3ede89c",
   "metadata": {},
   "outputs": [
    {
     "data": {
      "image/png": "[encoded data removed]",
      "text/plain": [
       "<Figure size 432x288 with 1 Axes>"
      ]
     },
     "metadata": {
      "needs_background": "light"
     },
     "output_type": "display_data"
    }
   ],
   "source": [
    "#choosing the best alpha\n",
    "alpha=[]\n",
    "error=[]\n",
    "for i in range(1,1000,50):\n",
    "    alpha.append(i/10)\n",
    "    lrr=Ridge(alpha=(i/10))\n",
    "    error.append(np.mean(cross_val_score(lrr, scaled_X_train, y_train, scoring='neg_mean_absolute_error',\n",
    "                                         cv=5)))\n",
    "plt.plot(alpha,error) \n",
    "plt.show()"
   ]
  },
  {
   "cell_type": "code",
   "execution_count": 50,
   "id": "43c8269d",
   "metadata": {},
   "outputs": [
    {
     "data": {
      "text/plain": [
       "Ridge(alpha=10)"
      ]
     },
     "execution_count": 50,
     "metadata": {},
     "output_type": "execute_result"
    }
   ],
   "source": [
    "#choosing the best alpha (look figure where alpha start to saturate)\n",
    "lrr=Ridge(alpha=10)\n",
    "lrr.fit(X_train, y_train)\n"
   ]
  },
  {
   "cell_type": "code",
   "execution_count": 51,
   "id": "b8024262",
   "metadata": {},
   "outputs": [
    {
     "name": "stdout",
     "output_type": "stream",
     "text": [
      "R2 Score of training set with alpha 40 0.24239976912676398\n",
      "R2 Score of testing set with alpha 40 0.3018575249435965\n"
     ]
    }
   ],
   "source": [
    "#Printing the R2 score of test and train set \n",
    "print(f'R2 Score of training set with alpha 40 {lrr.score(scaled_X_train, y_train)}')\n",
    "print(f'R2 Score of testing set with alpha 40 {lrr.score(scaled_X_test, y_test)}')"
   ]
  },
  {
   "cell_type": "markdown",
   "id": "3bf2b5e5",
   "metadata": {},
   "source": [
    "#### Create a cross-valiation with five folds."
   ]
  },
  {
   "cell_type": "code",
   "execution_count": 52,
   "id": "8711b32f",
   "metadata": {},
   "outputs": [
    {
     "data": {
      "text/plain": [
       "array([-20.50322637, -20.67679948, -17.5815936 ])"
      ]
     },
     "execution_count": 52,
     "metadata": {},
     "output_type": "execute_result"
    }
   ],
   "source": [
    "#score of training set using cross_val_score\n",
    "cross_val_score(lr_r, scaled_X_train, y_train, scoring='neg_mean_absolute_error', cv=3)"
   ]
  },
  {
   "cell_type": "code",
   "execution_count": 53,
   "id": "b168f212",
   "metadata": {},
   "outputs": [
    {
     "name": "stdout",
     "output_type": "stream",
     "text": [
      "The R2 of Ridge Regression with alpha 10 is 0.18776344398862516\n",
      "The mean squared error of Ridge Regression with alpha 10 is 24.931466001870678\n",
      "The mean absolute error of Ridge Regression with alpha 10 is 19.14386047389361\n"
     ]
    }
   ],
   "source": [
    "#score of training set using cross_val_score\n",
    "lrr_r2=np.mean(cross_val_score(lrr, scaled_X_train, y_train, cv=5))\n",
    "print(f'The R2 of Ridge Regression with alpha 10 is {lrr_r2}')\n",
    "\n",
    "#cross validation features gives greater is better, so score function is opposite of \n",
    "#MSE so we need to use -ve to get mse\n",
    "lrr_mse=np.mean(cross_val_score(lr_r, scaled_X_train, y_train, cv=5, scoring='neg_mean_squared_error'))\n",
    "lrr_rmse=np.sqrt(-(lrr_mse))\n",
    "print(f'The mean squared error of Ridge Regression with alpha 10 is {lrr_rmse}')\n",
    "\n",
    "#mean absolute error\n",
    "lrr_mae=np.mean(cross_val_score(lr_r, scaled_X_train, y_train, cv=5, scoring='neg_mean_absolute_error'))\n",
    "lrr_mae=(-(lrr_mae))\n",
    "print(f'The mean absolute error of Ridge Regression with alpha 10 is {lrr_mae}')"
   ]
  },
  {
   "cell_type": "markdown",
   "id": "750296f3",
   "metadata": {},
   "source": [
    "## Laso Regression"
   ]
  },
  {
   "cell_type": "code",
   "execution_count": 54,
   "id": "b00523c6",
   "metadata": {},
   "outputs": [
    {
     "data": {
      "text/plain": [
       "Lasso()"
      ]
     },
     "execution_count": 54,
     "metadata": {},
     "output_type": "execute_result"
    }
   ],
   "source": [
    "#using lassoregression(lasso make some features going to exactly zero)\n",
    "#alpha=0 no regularization( all features are used)\n",
    "# Make a lasso regression instance\n",
    "lr_l=Lasso()\n",
    "lr_l.fit(scaled_X_train, y_train)\n"
   ]
  },
  {
   "cell_type": "code",
   "execution_count": 55,
   "id": "4dedd5a2",
   "metadata": {},
   "outputs": [
    {
     "name": "stdout",
     "output_type": "stream",
     "text": [
      "R2 Score of training set 0.41131352130776966\n",
      "R2 Score of testing set  0.4284004894943124\n"
     ]
    }
   ],
   "source": [
    "#Printing the R2 score of test and train set\n",
    "print(f'R2 Score of training set {lr_l.score(scaled_X_train, y_train)}')\n",
    "print(f'R2 Score of testing set  {lr_l.score(scaled_X_test, y_test)}')"
   ]
  },
  {
   "cell_type": "markdown",
   "id": "26ed5897",
   "metadata": {},
   "source": [
    "#### Create a cross-valiation with five folds."
   ]
  },
  {
   "cell_type": "code",
   "execution_count": 56,
   "id": "a09d1bc5",
   "metadata": {},
   "outputs": [
    {
     "data": {
      "text/plain": [
       "array([-19.14988726, -18.41962506, -17.39016643])"
      ]
     },
     "execution_count": 56,
     "metadata": {},
     "output_type": "execute_result"
    }
   ],
   "source": [
    "#score of training set using cross_val_score\n",
    "cross_val_score(lr_l, scaled_X_train, y_train, scoring='neg_mean_absolute_error', cv=3)"
   ]
  },
  {
   "cell_type": "code",
   "execution_count": 57,
   "id": "be846b48",
   "metadata": {},
   "outputs": [
    {
     "name": "stdout",
     "output_type": "stream",
     "text": [
      "The R2 of Lasso Regression is 0.34186062297133285\n",
      "The mean squared error of Lasso Regression is 24.638206292946744\n",
      "The mean absolute error of Lasso Regression is 18.85188697019579\n"
     ]
    }
   ],
   "source": [
    "#score of training set using cross_val_score\n",
    "lr_l_r2=np.mean(cross_val_score(lr_l, scaled_X_train, y_train, cv=2))\n",
    "print(f'The R2 of Lasso Regression is {lr_l_r2}')\n",
    "\n",
    "#cross validation features gives greater is better, so score function is opposite of \n",
    "#MSE so we need to use -ve to get mse\n",
    "lr_l_mse=np.mean(cross_val_score(lr_l, scaled_X_train, y_train, cv=5, scoring='neg_mean_squared_error'))\n",
    "lr_l_rmse=np.sqrt(-(lr_l_mse))\n",
    "print(f'The mean squared error of Lasso Regression is {lr_l_rmse}')\n",
    "\n",
    "#mean absolute error\n",
    "lr_l_mae=np.mean(cross_val_score(lr_l, scaled_X_train, y_train, cv=5, scoring='neg_mean_absolute_error'))\n",
    "lr_l_mae=(-(lr_l_mae))\n",
    "print(f'The mean absolute error of Lasso Regression is {lr_l_mae}')"
   ]
  },
  {
   "cell_type": "code",
   "execution_count": 58,
   "id": "e58c1944",
   "metadata": {},
   "outputs": [
    {
     "data": {
      "image/png": "[encoded data removed]",
      "text/plain": [
       "<Figure size 432x288 with 1 Axes>"
      ]
     },
     "metadata": {
      "needs_background": "light"
     },
     "output_type": "display_data"
    }
   ],
   "source": [
    "#choosing the best alpha\n",
    "alpha=[]\n",
    "error=[]\n",
    "for i in range(1,100,10):\n",
    "    alpha.append(i/10)\n",
    "    lrl=Lasso(alpha=(i/10))\n",
    "    error.append(np.mean(cross_val_score(lrl, scaled_X_train, y_train, scoring='neg_mean_absolute_error',\n",
    "                                         cv=5)))\n",
    "plt.plot(alpha,error)\n",
    "plt.show()"
   ]
  },
  {
   "cell_type": "code",
   "execution_count": 59,
   "id": "f4984975",
   "metadata": {},
   "outputs": [
    {
     "data": {
      "text/plain": [
       "Lasso(alpha=10)"
      ]
     },
     "execution_count": 59,
     "metadata": {},
     "output_type": "execute_result"
    }
   ],
   "source": [
    "#choosing the best alpha\n",
    "lrl=Lasso(alpha=10)\n",
    "lrl.fit(scaled_X_train, y_train)\n"
   ]
  },
  {
   "cell_type": "code",
   "execution_count": 60,
   "id": "278534ff",
   "metadata": {},
   "outputs": [
    {
     "name": "stdout",
     "output_type": "stream",
     "text": [
      "R2 Score of training set with alpha 10 0.30267850496357285\n",
      "R2 Score of testing set with alpha 10 0.28237914152090693\n"
     ]
    }
   ],
   "source": [
    "#Printing the R2 score of test and train set \n",
    "print(f'R2 Score of training set with alpha 10 {lrl.score(scaled_X_train, y_train)}')\n",
    "print(f'R2 Score of testing set with alpha 10 {lrl.score(scaled_X_test, y_test)}')"
   ]
  },
  {
   "cell_type": "markdown",
   "id": "9641fe6b",
   "metadata": {},
   "source": [
    "#### Create a cross-valiation with five folds."
   ]
  },
  {
   "cell_type": "code",
   "execution_count": 61,
   "id": "606db176",
   "metadata": {},
   "outputs": [
    {
     "data": {
      "text/plain": [
       "array([-19.14988726, -18.41962506, -17.39016643])"
      ]
     },
     "execution_count": 61,
     "metadata": {},
     "output_type": "execute_result"
    }
   ],
   "source": [
    "#score of training set using cross_val_score\n",
    "cross_val_score(lr_l, scaled_X_train, y_train, scoring='neg_mean_absolute_error', cv=3)"
   ]
  },
  {
   "cell_type": "code",
   "execution_count": 62,
   "id": "20856c20",
   "metadata": {},
   "outputs": [
    {
     "name": "stdout",
     "output_type": "stream",
     "text": [
      "The R2 of Lasso Regression with alpha 10 is 0.18568445085525576\n",
      "The mean squared error of Lasso Regression with alpha 10 is 24.638206292946744\n",
      "The mean absolute error of Lasso Regressionwith alpha 10 is 18.85188697019579\n"
     ]
    }
   ],
   "source": [
    "#score of training set using cross_val_score\n",
    "lrl_r2=np.mean(cross_val_score(lrl, scaled_X_train, y_train, cv=5))\n",
    "print(f'The R2 of Lasso Regression with alpha 10 is {lrl_r2}')\n",
    "\n",
    "#cross validation features gives greater is better, so score function is opposite of \n",
    "#MSE so we need to use -ve to get mse\n",
    "lrl_mse=np.mean(cross_val_score(lr_l, scaled_X_train, y_train, cv=5, scoring='neg_mean_squared_error'))\n",
    "lrl_rmse=np.sqrt(-(lrl_mse))\n",
    "print(f'The mean squared error of Lasso Regression with alpha 10 is {lrl_rmse}')\n",
    "\n",
    "#mean absolute error\n",
    "lrl_mae=np.mean(cross_val_score(lr_l, scaled_X_train, y_train, cv=5, scoring='neg_mean_absolute_error'))\n",
    "lrl_mae=(-(lrl_mae))\n",
    "print(f'The mean absolute error of Lasso Regressionwith alpha 10 is {lrl_mae}')"
   ]
  },
  {
   "cell_type": "markdown",
   "id": "3c6b892f",
   "metadata": {},
   "source": [
    "## Support Vector Machine(SVM) Regression"
   ]
  },
  {
   "cell_type": "code",
   "execution_count": 63,
   "id": "cc2024af",
   "metadata": {},
   "outputs": [
    {
     "data": {
      "text/plain": [
       "LinearSVR(epsilon=1.5)"
      ]
     },
     "execution_count": 63,
     "metadata": {},
     "output_type": "execute_result"
    }
   ],
   "source": [
    "# Make a svm regression instance\n",
    "svm=LinearSVR(epsilon=1.5)\n",
    "svm.fit(scaled_X_train, y_train)\n"
   ]
  },
  {
   "cell_type": "code",
   "execution_count": 64,
   "id": "42dc2344",
   "metadata": {},
   "outputs": [
    {
     "name": "stdout",
     "output_type": "stream",
     "text": [
      "R2 Score of training set -0.05958886889452253\n",
      "R2 Score of testing set  0.04367542106815869\n"
     ]
    }
   ],
   "source": [
    "#Printing the R2 score of test and train set\n",
    "print(f'R2 Score of training set {svm.score(scaled_X_train, y_train)}')\n",
    "print(f'R2 Score of testing set  {svm.score(scaled_X_test, y_test)}')"
   ]
  },
  {
   "cell_type": "markdown",
   "id": "12da7713",
   "metadata": {},
   "source": [
    "#### Create a cross-valiation with five folds."
   ]
  },
  {
   "cell_type": "code",
   "execution_count": 65,
   "id": "d5d0aa3c",
   "metadata": {},
   "outputs": [
    {
     "data": {
      "text/plain": [
       "array([-30.73798013, -23.17440722, -32.07160472])"
      ]
     },
     "execution_count": 65,
     "metadata": {},
     "output_type": "execute_result"
    }
   ],
   "source": [
    "#score of training set using cross_val_score\n",
    "cross_val_score(svm, scaled_X_train, y_train, scoring='neg_mean_absolute_error', cv=3)"
   ]
  },
  {
   "cell_type": "code",
   "execution_count": 66,
   "id": "80d83c88",
   "metadata": {},
   "outputs": [
    {
     "name": "stdout",
     "output_type": "stream",
     "text": [
      "The R2 of svm Regression is -0.5325004165170775\n",
      "The mean squared error of svm Regression is 35.634718309384596\n",
      "The mean absolute error of svm Regression is 26.841870318590697\n"
     ]
    }
   ],
   "source": [
    "#score of training set using cross_val_score\n",
    "svm_r2=np.mean(cross_val_score(svm, scaled_X_train, y_train, cv=5))\n",
    "print(f'The R2 of svm Regression is {svm_r2}')\n",
    "\n",
    "#cross validation features gives greater is better, so score function is opposite of \n",
    "#MSE so we need to use -ve to get mse\n",
    "svm_mse=np.mean(cross_val_score(svm, scaled_X_train, y_train, cv=5, scoring='neg_mean_squared_error'))\n",
    "svm_rmse=np.sqrt(-(svm_mse))\n",
    "print(f'The mean squared error of svm Regression is {svm_rmse}')\n",
    "\n",
    "#mean absolute error\n",
    "svm_mae=np.mean(cross_val_score(svm, scaled_X_train, y_train, cv=5, scoring='neg_mean_absolute_error'))\n",
    "svm_mae=(-(svm_mae))\n",
    "print(f'The mean absolute error of svm Regression is {svm_mae}')"
   ]
  },
  {
   "cell_type": "markdown",
   "id": "71f6c983",
   "metadata": {},
   "source": [
    "## Support Vector Machine(SVR) Kernel Regression"
   ]
  },
  {
   "cell_type": "code",
   "execution_count": 67,
   "id": "6e041fb0",
   "metadata": {},
   "outputs": [
    {
     "data": {
      "text/plain": [
       "SVR(kernel='linear')"
      ]
     },
     "execution_count": 67,
     "metadata": {},
     "output_type": "execute_result"
    }
   ],
   "source": [
    "# Make a svm regression instance\n",
    "svr=SVR(kernel='linear')\n",
    "svr.fit(scaled_X_train, y_train)\n"
   ]
  },
  {
   "cell_type": "code",
   "execution_count": 68,
   "id": "b0ae897f",
   "metadata": {},
   "outputs": [
    {
     "name": "stdout",
     "output_type": "stream",
     "text": [
      "R2 Score of training set 0.37363925541273124\n",
      "R2 Score of testing set  0.3209092134215076\n"
     ]
    }
   ],
   "source": [
    "#Printing the R2 score of test and train set\n",
    "print(f'R2 Score of training set {svr.score(scaled_X_train, y_train)}')\n",
    "print(f'R2 Score of testing set  {svr.score(scaled_X_test, y_test)}')"
   ]
  },
  {
   "cell_type": "markdown",
   "id": "122b537c",
   "metadata": {},
   "source": [
    "#### Create a cross-valiation with five folds."
   ]
  },
  {
   "cell_type": "code",
   "execution_count": 69,
   "id": "214bf466",
   "metadata": {},
   "outputs": [
    {
     "data": {
      "text/plain": [
       "array([-19.31059148, -19.7592752 , -18.65774348])"
      ]
     },
     "execution_count": 69,
     "metadata": {},
     "output_type": "execute_result"
    }
   ],
   "source": [
    "#score of training set using cross_val_score\n",
    "cross_val_score(svr, scaled_X_train, y_train, scoring='neg_mean_absolute_error', cv=3)"
   ]
  },
  {
   "cell_type": "code",
   "execution_count": 70,
   "id": "fe8e3c47",
   "metadata": {},
   "outputs": [
    {
     "name": "stdout",
     "output_type": "stream",
     "text": [
      "The R2 of svr is 0.18020947869994428\n",
      "The mean squared error of svr is 26.14717990102985\n",
      "The mean absolute error of svr  is 19.75985893737263\n"
     ]
    }
   ],
   "source": [
    "#score of training set using cross_val_score\n",
    "svr_r2=np.mean(cross_val_score(svr, scaled_X_train, y_train, cv=5))\n",
    "print(f'The R2 of svr is {svr_r2}')\n",
    "\n",
    "#cross validation features gives greater is better, so score function is opposite of \n",
    "#MSE so we need to use -ve to get mse\n",
    "svr_mse=np.mean(cross_val_score(svr, scaled_X_train, y_train, cv=5, scoring='neg_mean_squared_error'))\n",
    "svr_rmse=np.sqrt(-(svr_mse))\n",
    "print(f'The mean squared error of svr is {svr_rmse}')\n",
    "\n",
    "#mean absolute error\n",
    "svr_mae=np.mean(cross_val_score(svr, scaled_X_train, y_train, cv=5, scoring='neg_mean_absolute_error'))\n",
    "svr_mae=(-(svr_mae))\n",
    "print(f'The mean absolute error of svr  is {svr_mae}')"
   ]
  },
  {
   "cell_type": "markdown",
   "id": "2aa2f81d",
   "metadata": {},
   "source": [
    "## Decision Tree"
   ]
  },
  {
   "cell_type": "code",
   "execution_count": 71,
   "id": "587252b6",
   "metadata": {},
   "outputs": [
    {
     "data": {
      "text/plain": [
       "DecisionTreeRegressor()"
      ]
     },
     "execution_count": 71,
     "metadata": {},
     "output_type": "execute_result"
    }
   ],
   "source": [
    "# Make a decision tree instance\n",
    "dt=DecisionTreeRegressor()\n",
    "dt.fit(scaled_X_train, y_train)"
   ]
  },
  {
   "cell_type": "code",
   "execution_count": 72,
   "id": "556489d4",
   "metadata": {},
   "outputs": [
    {
     "name": "stdout",
     "output_type": "stream",
     "text": [
      "R2 Score of training set 1.0\n",
      "R2 Score of testing set  0.3417395165609749\n"
     ]
    }
   ],
   "source": [
    "#Printing the score of test and train set\n",
    "print(f'R2 Score of training set {dt.score(scaled_X_train, y_train)}')\n",
    "print(f'R2 Score of testing set  {dt.score(scaled_X_test, y_test)}')"
   ]
  },
  {
   "cell_type": "markdown",
   "id": "ecfc030e",
   "metadata": {},
   "source": [
    "#### Create a cross-valiation with five folds."
   ]
  },
  {
   "cell_type": "code",
   "execution_count": 73,
   "id": "315dca6f",
   "metadata": {},
   "outputs": [
    {
     "data": {
      "text/plain": [
       "array([-19.3243898 , -31.42643934, -14.05745037])"
      ]
     },
     "execution_count": 73,
     "metadata": {},
     "output_type": "execute_result"
    }
   ],
   "source": [
    "#score of training set using cross_val_score\n",
    "cross_val_score(dt, scaled_X_train, y_train, scoring='neg_mean_absolute_error', cv=3)"
   ]
  },
  {
   "cell_type": "code",
   "execution_count": 74,
   "id": "85176303",
   "metadata": {},
   "outputs": [
    {
     "name": "stdout",
     "output_type": "stream",
     "text": [
      "The R2 of Decision Tree Regressor is -0.03660918768953416\n",
      "The mean squared error of Decision Tree Regressor is 24.99474265425015\n",
      "The mean absolute error of Decision Tree Regressor is 17.869733863784536\n"
     ]
    }
   ],
   "source": [
    "#score of training set using cross_val_score\n",
    "dt_r2=np.mean(cross_val_score(dt, scaled_X_train, y_train, cv=5))\n",
    "print(f'The R2 of Decision Tree Regressor is {dt_r2}')\n",
    "\n",
    "#cross validation features gives greater is better, so score function is opposite of \n",
    "#MSE so we need to use -ve to get mse\n",
    "dt_mse=np.mean(cross_val_score(dt, scaled_X_train, y_train, cv=5, scoring='neg_mean_squared_error'))\n",
    "dt_rmse=np.sqrt(-(dt_mse))\n",
    "print(f'The mean squared error of Decision Tree Regressor is {dt_rmse}')\n",
    "\n",
    "#mean absolute error\n",
    "dt_mae=np.mean(cross_val_score(dt, scaled_X_train, y_train, cv=5, scoring='neg_mean_absolute_error'))\n",
    "dt_mae=(-(dt_mae))\n",
    "print(f'The mean absolute error of Decision Tree Regressor is {dt_mae}')"
   ]
  },
  {
   "cell_type": "markdown",
   "id": "4cdcab15",
   "metadata": {},
   "source": [
    "### Tuning hyperparamaters  using Grid Search CV"
   ]
  },
  {
   "cell_type": "code",
   "execution_count": 75,
   "id": "bd5f20dc",
   "metadata": {},
   "outputs": [
    {
     "name": "stdout",
     "output_type": "stream",
     "text": [
      "Fitting 3 folds for each of 12 candidates, totalling 36 fits\n"
     ]
    },
    {
     "data": {
      "text/plain": [
       "GridSearchCV(cv=3, estimator=DecisionTreeRegressor(), n_jobs=-1,\n",
       "             param_grid={'max_depth': [6, 8, 12],\n",
       "                         'min_samples_leaf': range(1, 5)},\n",
       "             verbose=1)"
      ]
     },
     "execution_count": 75,
     "metadata": {},
     "output_type": "execute_result"
    }
   ],
   "source": [
    "parameters = {\n",
    "              'max_depth':[6, 8,12],\n",
    "              'min_samples_leaf':range(1,5)}\n",
    "gs_dt=GridSearchCV(dt, param_grid=parameters, \n",
    "                    cv=3, verbose=1, n_jobs=-1)\n",
    "gs_dt.fit(scaled_X_train, y_train)"
   ]
  },
  {
   "cell_type": "code",
   "execution_count": 76,
   "id": "20d55535",
   "metadata": {},
   "outputs": [
    {
     "data": {
      "text/plain": [
       "{'max_depth': 12, 'min_samples_leaf': 1}"
      ]
     },
     "execution_count": 76,
     "metadata": {},
     "output_type": "execute_result"
    }
   ],
   "source": [
    "#Best parameters\n",
    "gs_dt.best_params_"
   ]
  },
  {
   "cell_type": "code",
   "execution_count": 77,
   "id": "3366e9f5",
   "metadata": {},
   "outputs": [
    {
     "data": {
      "text/plain": [
       "DecisionTreeRegressor(max_depth=12)"
      ]
     },
     "execution_count": 77,
     "metadata": {},
     "output_type": "execute_result"
    }
   ],
   "source": [
    "#best estimator\n",
    "dt_b=gs_dt.best_estimator_\n",
    "dt_b"
   ]
  },
  {
   "cell_type": "code",
   "execution_count": 78,
   "id": "27b101aa",
   "metadata": {},
   "outputs": [
    {
     "name": "stdout",
     "output_type": "stream",
     "text": [
      "R2 Score of training set after hyperpar tuining 1.0\n",
      "R2 Score of testing set after hyperpar tuining  0.3478796152525635\n"
     ]
    }
   ],
   "source": [
    "#Printing the score of test and train set\n",
    "dt_tr=dt_b.score(scaled_X_train, y_train)\n",
    "dt_te=dt_b.score(scaled_X_test, y_test)\n",
    "print(f'R2 Score of training set after hyperpar tuining {dt_tr}')\n",
    "print(f'R2 Score of testing set after hyperpar tuining  {dt_te}')"
   ]
  },
  {
   "cell_type": "code",
   "execution_count": 79,
   "id": "24cf9293",
   "metadata": {},
   "outputs": [
    {
     "data": {
      "text/html": [
       "<div>\n",
       "<style scoped>\n",
       "    .dataframe tbody tr th:only-of-type {\n",
       "        vertical-align: middle;\n",
       "    }\n",
       "\n",
       "    .dataframe tbody tr th {\n",
       "        vertical-align: top;\n",
       "    }\n",
       "\n",
       "    .dataframe thead th {\n",
       "        text-align: right;\n",
       "    }\n",
       "</style>\n",
       "<table border=\"1\" class=\"dataframe\">\n",
       "  <thead>\n",
       "    <tr style=\"text-align: right;\">\n",
       "      <th></th>\n",
       "      <th>mean_fit_time</th>\n",
       "      <th>std_fit_time</th>\n",
       "      <th>mean_score_time</th>\n",
       "      <th>std_score_time</th>\n",
       "      <th>param_max_depth</th>\n",
       "      <th>param_min_samples_leaf</th>\n",
       "      <th>params</th>\n",
       "      <th>split0_test_score</th>\n",
       "      <th>split1_test_score</th>\n",
       "      <th>split2_test_score</th>\n",
       "      <th>mean_test_score</th>\n",
       "      <th>std_test_score</th>\n",
       "      <th>rank_test_score</th>\n",
       "    </tr>\n",
       "  </thead>\n",
       "  <tbody>\n",
       "    <tr>\n",
       "      <th>0</th>\n",
       "      <td>0.000749</td>\n",
       "      <td>0.000022</td>\n",
       "      <td>0.000532</td>\n",
       "      <td>0.000010</td>\n",
       "      <td>6</td>\n",
       "      <td>1</td>\n",
       "      <td>{'max_depth': 6, 'min_samples_leaf': 1}</td>\n",
       "      <td>0.217841</td>\n",
       "      <td>-0.217020</td>\n",
       "      <td>0.568761</td>\n",
       "      <td>0.189861</td>\n",
       "      <td>0.321403</td>\n",
       "      <td>3</td>\n",
       "    </tr>\n",
       "    <tr>\n",
       "      <th>1</th>\n",
       "      <td>0.000700</td>\n",
       "      <td>0.000009</td>\n",
       "      <td>0.000479</td>\n",
       "      <td>0.000010</td>\n",
       "      <td>6</td>\n",
       "      <td>2</td>\n",
       "      <td>{'max_depth': 6, 'min_samples_leaf': 2}</td>\n",
       "      <td>0.280604</td>\n",
       "      <td>-0.274608</td>\n",
       "      <td>0.599297</td>\n",
       "      <td>0.201765</td>\n",
       "      <td>0.361100</td>\n",
       "      <td>2</td>\n",
       "    </tr>\n",
       "    <tr>\n",
       "      <th>2</th>\n",
       "      <td>0.000937</td>\n",
       "      <td>0.000314</td>\n",
       "      <td>0.000632</td>\n",
       "      <td>0.000171</td>\n",
       "      <td>6</td>\n",
       "      <td>3</td>\n",
       "      <td>{'max_depth': 6, 'min_samples_leaf': 3}</td>\n",
       "      <td>0.363173</td>\n",
       "      <td>-0.468052</td>\n",
       "      <td>0.436243</td>\n",
       "      <td>0.110455</td>\n",
       "      <td>0.410152</td>\n",
       "      <td>11</td>\n",
       "    </tr>\n",
       "    <tr>\n",
       "      <th>3</th>\n",
       "      <td>0.000787</td>\n",
       "      <td>0.000009</td>\n",
       "      <td>0.001757</td>\n",
       "      <td>0.001572</td>\n",
       "      <td>6</td>\n",
       "      <td>4</td>\n",
       "      <td>{'max_depth': 6, 'min_samples_leaf': 4}</td>\n",
       "      <td>0.498626</td>\n",
       "      <td>-0.286714</td>\n",
       "      <td>0.339900</td>\n",
       "      <td>0.183937</td>\n",
       "      <td>0.339051</td>\n",
       "      <td>5</td>\n",
       "    </tr>\n",
       "    <tr>\n",
       "      <th>4</th>\n",
       "      <td>0.000796</td>\n",
       "      <td>0.000053</td>\n",
       "      <td>0.000708</td>\n",
       "      <td>0.000081</td>\n",
       "      <td>8</td>\n",
       "      <td>1</td>\n",
       "      <td>{'max_depth': 8, 'min_samples_leaf': 1}</td>\n",
       "      <td>0.255125</td>\n",
       "      <td>-0.451923</td>\n",
       "      <td>0.551447</td>\n",
       "      <td>0.118216</td>\n",
       "      <td>0.420909</td>\n",
       "      <td>10</td>\n",
       "    </tr>\n",
       "    <tr>\n",
       "      <th>5</th>\n",
       "      <td>0.000739</td>\n",
       "      <td>0.000043</td>\n",
       "      <td>0.000598</td>\n",
       "      <td>0.000033</td>\n",
       "      <td>8</td>\n",
       "      <td>2</td>\n",
       "      <td>{'max_depth': 8, 'min_samples_leaf': 2}</td>\n",
       "      <td>0.293238</td>\n",
       "      <td>-0.785720</td>\n",
       "      <td>0.616858</td>\n",
       "      <td>0.041459</td>\n",
       "      <td>0.599639</td>\n",
       "      <td>12</td>\n",
       "    </tr>\n",
       "    <tr>\n",
       "      <th>6</th>\n",
       "      <td>0.000713</td>\n",
       "      <td>0.000023</td>\n",
       "      <td>0.000558</td>\n",
       "      <td>0.000080</td>\n",
       "      <td>8</td>\n",
       "      <td>3</td>\n",
       "      <td>{'max_depth': 8, 'min_samples_leaf': 3}</td>\n",
       "      <td>0.442840</td>\n",
       "      <td>-0.468052</td>\n",
       "      <td>0.436243</td>\n",
       "      <td>0.137011</td>\n",
       "      <td>0.427852</td>\n",
       "      <td>8</td>\n",
       "    </tr>\n",
       "    <tr>\n",
       "      <th>7</th>\n",
       "      <td>0.000624</td>\n",
       "      <td>0.000075</td>\n",
       "      <td>0.000594</td>\n",
       "      <td>0.000046</td>\n",
       "      <td>8</td>\n",
       "      <td>4</td>\n",
       "      <td>{'max_depth': 8, 'min_samples_leaf': 4}</td>\n",
       "      <td>0.498626</td>\n",
       "      <td>-0.286714</td>\n",
       "      <td>0.213057</td>\n",
       "      <td>0.141656</td>\n",
       "      <td>0.324565</td>\n",
       "      <td>7</td>\n",
       "    </tr>\n",
       "    <tr>\n",
       "      <th>8</th>\n",
       "      <td>0.000655</td>\n",
       "      <td>0.000036</td>\n",
       "      <td>0.000487</td>\n",
       "      <td>0.000021</td>\n",
       "      <td>12</td>\n",
       "      <td>1</td>\n",
       "      <td>{'max_depth': 12, 'min_samples_leaf': 1}</td>\n",
       "      <td>0.241627</td>\n",
       "      <td>-0.123625</td>\n",
       "      <td>0.554142</td>\n",
       "      <td>0.224048</td>\n",
       "      <td>0.276976</td>\n",
       "      <td>1</td>\n",
       "    </tr>\n",
       "    <tr>\n",
       "      <th>9</th>\n",
       "      <td>0.000719</td>\n",
       "      <td>0.000068</td>\n",
       "      <td>0.000526</td>\n",
       "      <td>0.000113</td>\n",
       "      <td>12</td>\n",
       "      <td>2</td>\n",
       "      <td>{'max_depth': 12, 'min_samples_leaf': 2}</td>\n",
       "      <td>0.251866</td>\n",
       "      <td>-0.279232</td>\n",
       "      <td>0.583514</td>\n",
       "      <td>0.185383</td>\n",
       "      <td>0.355338</td>\n",
       "      <td>4</td>\n",
       "    </tr>\n",
       "    <tr>\n",
       "      <th>10</th>\n",
       "      <td>0.000817</td>\n",
       "      <td>0.000191</td>\n",
       "      <td>0.000595</td>\n",
       "      <td>0.000065</td>\n",
       "      <td>12</td>\n",
       "      <td>3</td>\n",
       "      <td>{'max_depth': 12, 'min_samples_leaf': 3}</td>\n",
       "      <td>0.442840</td>\n",
       "      <td>-0.468052</td>\n",
       "      <td>0.430428</td>\n",
       "      <td>0.135072</td>\n",
       "      <td>0.426503</td>\n",
       "      <td>9</td>\n",
       "    </tr>\n",
       "    <tr>\n",
       "      <th>11</th>\n",
       "      <td>0.000613</td>\n",
       "      <td>0.000024</td>\n",
       "      <td>0.000522</td>\n",
       "      <td>0.000100</td>\n",
       "      <td>12</td>\n",
       "      <td>4</td>\n",
       "      <td>{'max_depth': 12, 'min_samples_leaf': 4}</td>\n",
       "      <td>0.483526</td>\n",
       "      <td>-0.286714</td>\n",
       "      <td>0.339900</td>\n",
       "      <td>0.178904</td>\n",
       "      <td>0.334422</td>\n",
       "      <td>6</td>\n",
       "    </tr>\n",
       "  </tbody>\n",
       "</table>\n",
       "</div>"
      ],
      "text/plain": [
       "    mean_fit_time  std_fit_time  mean_score_time  std_score_time  \\\n",
       "0        0.000749      0.000022         0.000532        0.000010   \n",
       "1        0.000700      0.000009         0.000479        0.000010   \n",
       "2        0.000937      0.000314         0.000632        0.000171   \n",
       "3        0.000787      0.000009         0.001757        0.001572   \n",
       "4        0.000796      0.000053         0.000708        0.000081   \n",
       "5        0.000739      0.000043         0.000598        0.000033   \n",
       "6        0.000713      0.000023         0.000558        0.000080   \n",
       "7        0.000624      0.000075         0.000594        0.000046   \n",
       "8        0.000655      0.000036         0.000487        0.000021   \n",
       "9        0.000719      0.000068         0.000526        0.000113   \n",
       "10       0.000817      0.000191         0.000595        0.000065   \n",
       "11       0.000613      0.000024         0.000522        0.000100   \n",
       "\n",
       "   param_max_depth param_min_samples_leaf  \\\n",
       "0                6                      1   \n",
       "1                6                      2   \n",
       "2                6                      3   \n",
       "3                6                      4   \n",
       "4                8                      1   \n",
       "5                8                      2   \n",
       "6                8                      3   \n",
       "7                8                      4   \n",
       "8               12                      1   \n",
       "9               12                      2   \n",
       "10              12                      3   \n",
       "11              12                      4   \n",
       "\n",
       "                                      params  split0_test_score  \\\n",
       "0    {'max_depth': 6, 'min_samples_leaf': 1}           0.217841   \n",
       "1    {'max_depth': 6, 'min_samples_leaf': 2}           0.280604   \n",
       "2    {'max_depth': 6, 'min_samples_leaf': 3}           0.363173   \n",
       "3    {'max_depth': 6, 'min_samples_leaf': 4}           0.498626   \n",
       "4    {'max_depth': 8, 'min_samples_leaf': 1}           0.255125   \n",
       "5    {'max_depth': 8, 'min_samples_leaf': 2}           0.293238   \n",
       "6    {'max_depth': 8, 'min_samples_leaf': 3}           0.442840   \n",
       "7    {'max_depth': 8, 'min_samples_leaf': 4}           0.498626   \n",
       "8   {'max_depth': 12, 'min_samples_leaf': 1}           0.241627   \n",
       "9   {'max_depth': 12, 'min_samples_leaf': 2}           0.251866   \n",
       "10  {'max_depth': 12, 'min_samples_leaf': 3}           0.442840   \n",
       "11  {'max_depth': 12, 'min_samples_leaf': 4}           0.483526   \n",
       "\n",
       "    split1_test_score  split2_test_score  mean_test_score  std_test_score  \\\n",
       "0           -0.217020           0.568761         0.189861        0.321403   \n",
       "1           -0.274608           0.599297         0.201765        0.361100   \n",
       "2           -0.468052           0.436243         0.110455        0.410152   \n",
       "3           -0.286714           0.339900         0.183937        0.339051   \n",
       "4           -0.451923           0.551447         0.118216        0.420909   \n",
       "5           -0.785720           0.616858         0.041459        0.599639   \n",
       "6           -0.468052           0.436243         0.137011        0.427852   \n",
       "7           -0.286714           0.213057         0.141656        0.324565   \n",
       "8           -0.123625           0.554142         0.224048        0.276976   \n",
       "9           -0.279232           0.583514         0.185383        0.355338   \n",
       "10          -0.468052           0.430428         0.135072        0.426503   \n",
       "11          -0.286714           0.339900         0.178904        0.334422   \n",
       "\n",
       "    rank_test_score  \n",
       "0                 3  \n",
       "1                 2  \n",
       "2                11  \n",
       "3                 5  \n",
       "4                10  \n",
       "5                12  \n",
       "6                 8  \n",
       "7                 7  \n",
       "8                 1  \n",
       "9                 4  \n",
       "10                9  \n",
       "11                6  "
      ]
     },
     "execution_count": 79,
     "metadata": {},
     "output_type": "execute_result"
    }
   ],
   "source": [
    "#dataframe for results\n",
    "dt_df=pd.DataFrame(gs_dt.cv_results_)\n",
    "dt_df"
   ]
  },
  {
   "cell_type": "code",
   "execution_count": 80,
   "id": "ad29b837",
   "metadata": {},
   "outputs": [
    {
     "name": "stdout",
     "output_type": "stream",
     "text": [
      "0.18986059375545886 {'max_depth': 6, 'min_samples_leaf': 1}\n",
      "0.20176455097848237 {'max_depth': 6, 'min_samples_leaf': 2}\n",
      "0.11045472665788218 {'max_depth': 6, 'min_samples_leaf': 3}\n",
      "0.1839372892235078 {'max_depth': 6, 'min_samples_leaf': 4}\n",
      "0.11821623342222598 {'max_depth': 8, 'min_samples_leaf': 1}\n",
      "0.04145862576442483 {'max_depth': 8, 'min_samples_leaf': 2}\n",
      "0.13701056916507906 {'max_depth': 8, 'min_samples_leaf': 3}\n",
      "0.14165628064887134 {'max_depth': 8, 'min_samples_leaf': 4}\n",
      "0.22404812723126713 {'max_depth': 12, 'min_samples_leaf': 1}\n",
      "0.18538271339826162 {'max_depth': 12, 'min_samples_leaf': 2}\n",
      "0.1350721772670536 {'max_depth': 12, 'min_samples_leaf': 3}\n",
      "0.17890402392013394 {'max_depth': 12, 'min_samples_leaf': 4}\n"
     ]
    }
   ],
   "source": [
    "#printing the evaluation scores\n",
    "cvres_dt=gs_dt.cv_results_\n",
    "for mean_score, params in zip(cvres_dt['mean_test_score'], cvres_dt['params']):\n",
    "    print((mean_score), params)"
   ]
  },
  {
   "cell_type": "markdown",
   "id": "1cc3f315",
   "metadata": {},
   "source": [
    "## Random Forest"
   ]
  },
  {
   "cell_type": "code",
   "execution_count": 81,
   "id": "dbba7028",
   "metadata": {},
   "outputs": [
    {
     "data": {
      "text/plain": [
       "RandomForestRegressor()"
      ]
     },
     "execution_count": 81,
     "metadata": {},
     "output_type": "execute_result"
    }
   ],
   "source": [
    "# Make a Random forest instance\n",
    "rf=RandomForestRegressor()\n",
    "rf.fit(scaled_X_train, y_train)"
   ]
  },
  {
   "cell_type": "code",
   "execution_count": 82,
   "id": "9f549af5",
   "metadata": {},
   "outputs": [
    {
     "name": "stdout",
     "output_type": "stream",
     "text": [
      "R2 Score of training set 0.9380496952451699\n",
      "R2 Score of testing set 0.6056401839234891\n"
     ]
    }
   ],
   "source": [
    "#Printing the score of test and train set\n",
    "print(f'R2 Score of training set {rf.score(scaled_X_train, y_train)}')\n",
    "print(f'R2 Score of testing set {rf.score(scaled_X_test, y_test)}')"
   ]
  },
  {
   "cell_type": "markdown",
   "id": "bd44ea8c",
   "metadata": {},
   "source": [
    "#### Create a cross-valiation with five folds."
   ]
  },
  {
   "cell_type": "code",
   "execution_count": 83,
   "id": "6c483bb6",
   "metadata": {},
   "outputs": [
    {
     "data": {
      "text/plain": [
       "array([-17.16111618, -18.50655145, -14.08799218])"
      ]
     },
     "execution_count": 83,
     "metadata": {},
     "output_type": "execute_result"
    }
   ],
   "source": [
    "#score of training set using cross_val_score\n",
    "cross_val_score(rf, scaled_X_train, y_train, scoring='neg_mean_absolute_error', cv=3)"
   ]
  },
  {
   "cell_type": "code",
   "execution_count": 84,
   "id": "679684c2",
   "metadata": {},
   "outputs": [
    {
     "name": "stdout",
     "output_type": "stream",
     "text": [
      "The R2 of Random Forest Regressor is 0.46974248636035254\n",
      "The mean squared error of Random Forest Regressor is 24.638206292946744\n",
      "The mean absolute error of Random Forest Regressor is 14.573666668081085\n"
     ]
    }
   ],
   "source": [
    "#score of training set using cross_val_score\n",
    "rf_r2=np.mean(cross_val_score(rf, scaled_X_train, y_train, cv=5))\n",
    "print(f'The R2 of Random Forest Regressor is {rf_r2}')\n",
    "\n",
    "#cross validation features gives greater is better, so score function is opposite of \n",
    "#MSE so we need to use -ve to get mse\n",
    "rf_mse=np.mean(cross_val_score(rf, scaled_X_train, y_train, cv=5, scoring='neg_mean_squared_error'))\n",
    "rf_rmse=np.sqrt(-(lrl_mse))\n",
    "print(f'The mean squared error of Random Forest Regressor is {rf_rmse}')\n",
    "\n",
    "#mean absolute error\n",
    "rf_mae=np.mean(cross_val_score(rf, scaled_X_train, y_train, cv=5, scoring='neg_mean_absolute_error'))\n",
    "rf_mae=(-(rf_mae))\n",
    "print(f'The mean absolute error of Random Forest Regressor is {rf_mae}')"
   ]
  },
  {
   "cell_type": "markdown",
   "id": "a2b91239",
   "metadata": {},
   "source": [
    "#### Tuning the hyperparameters using Grid Search CV"
   ]
  },
  {
   "cell_type": "code",
   "execution_count": 85,
   "id": "fa0a673e",
   "metadata": {},
   "outputs": [
    {
     "data": {
      "text/plain": [
       "GridSearchCV(cv=5, estimator=RandomForestRegressor(),\n",
       "             param_grid=[{'max_features': [3, 6],\n",
       "                          'n_estimators': [30, 60, 100]}],\n",
       "             return_train_score=True, scoring='neg_mean_absolute_error')"
      ]
     },
     "execution_count": 85,
     "metadata": {},
     "output_type": "execute_result"
    }
   ],
   "source": [
    "parameters = [{'n_estimators':[30,60,100],\n",
    "              'max_features':[3,6]}]\n",
    "              #,{'bootstrap':[False], 'n_estimators':[3,10,100],\n",
    "              #'max_features':[4,6,8,10]}]\n",
    "gs_rf=GridSearchCV(rf, parameters, scoring='neg_mean_absolute_error',\n",
    "                   cv=5, return_train_score=True)\n",
    "gs_rf.fit(scaled_X_train, y_train)"
   ]
  },
  {
   "cell_type": "code",
   "execution_count": 86,
   "id": "541cac58",
   "metadata": {},
   "outputs": [
    {
     "data": {
      "text/plain": [
       "{'max_features': 3, 'n_estimators': 100}"
      ]
     },
     "execution_count": 86,
     "metadata": {},
     "output_type": "execute_result"
    }
   ],
   "source": [
    "#Best parameters\n",
    "gs_rf.best_params_"
   ]
  },
  {
   "cell_type": "code",
   "execution_count": 87,
   "id": "31738ade",
   "metadata": {},
   "outputs": [
    {
     "data": {
      "text/plain": [
       "RandomForestRegressor(max_features=3)"
      ]
     },
     "execution_count": 87,
     "metadata": {},
     "output_type": "execute_result"
    }
   ],
   "source": [
    "#best estimator\n",
    "rf_b=gs_rf.best_estimator_\n",
    "rf_b"
   ]
  },
  {
   "cell_type": "code",
   "execution_count": 88,
   "id": "830eeb23",
   "metadata": {},
   "outputs": [
    {
     "name": "stdout",
     "output_type": "stream",
     "text": [
      "R2 Score of training set after hyperpar tuining 0.9356867390619986\n",
      "R2 Score of testing set after hyperpar tuining  0.54573606731663\n"
     ]
    }
   ],
   "source": [
    "#Printing the score of test and train set\n",
    "rf_tr=rf_b.score(scaled_X_train, y_train)\n",
    "rf_te=rf_b.score(scaled_X_test, y_test)\n",
    "print(f'R2 Score of training set after hyperpar tuining {rf_tr}')\n",
    "print(f'R2 Score of testing set after hyperpar tuining  {rf_te}')"
   ]
  },
  {
   "cell_type": "code",
   "execution_count": 89,
   "id": "6941c29e",
   "metadata": {},
   "outputs": [
    {
     "data": {
      "text/html": [
       "<div>\n",
       "<style scoped>\n",
       "    .dataframe tbody tr th:only-of-type {\n",
       "        vertical-align: middle;\n",
       "    }\n",
       "\n",
       "    .dataframe tbody tr th {\n",
       "        vertical-align: top;\n",
       "    }\n",
       "\n",
       "    .dataframe thead th {\n",
       "        text-align: right;\n",
       "    }\n",
       "</style>\n",
       "<table border=\"1\" class=\"dataframe\">\n",
       "  <thead>\n",
       "    <tr style=\"text-align: right;\">\n",
       "      <th></th>\n",
       "      <th>mean_fit_time</th>\n",
       "      <th>std_fit_time</th>\n",
       "      <th>mean_score_time</th>\n",
       "      <th>std_score_time</th>\n",
       "      <th>param_max_features</th>\n",
       "      <th>param_n_estimators</th>\n",
       "      <th>params</th>\n",
       "      <th>split0_test_score</th>\n",
       "      <th>split1_test_score</th>\n",
       "      <th>split2_test_score</th>\n",
       "      <th>...</th>\n",
       "      <th>mean_test_score</th>\n",
       "      <th>std_test_score</th>\n",
       "      <th>rank_test_score</th>\n",
       "      <th>split0_train_score</th>\n",
       "      <th>split1_train_score</th>\n",
       "      <th>split2_train_score</th>\n",
       "      <th>split3_train_score</th>\n",
       "      <th>split4_train_score</th>\n",
       "      <th>mean_train_score</th>\n",
       "      <th>std_train_score</th>\n",
       "    </tr>\n",
       "  </thead>\n",
       "  <tbody>\n",
       "    <tr>\n",
       "      <th>0</th>\n",
       "      <td>0.025552</td>\n",
       "      <td>0.003154</td>\n",
       "      <td>0.001940</td>\n",
       "      <td>0.000160</td>\n",
       "      <td>3</td>\n",
       "      <td>30</td>\n",
       "      <td>{'max_features': 3, 'n_estimators': 30}</td>\n",
       "      <td>-16.064769</td>\n",
       "      <td>-16.443075</td>\n",
       "      <td>-14.208305</td>\n",
       "      <td>...</td>\n",
       "      <td>-14.919058</td>\n",
       "      <td>3.300008</td>\n",
       "      <td>2</td>\n",
       "      <td>-6.273037</td>\n",
       "      <td>-5.810010</td>\n",
       "      <td>-6.229800</td>\n",
       "      <td>-5.155168</td>\n",
       "      <td>-6.888791</td>\n",
       "      <td>-6.071361</td>\n",
       "      <td>0.573006</td>\n",
       "    </tr>\n",
       "    <tr>\n",
       "      <th>1</th>\n",
       "      <td>0.043017</td>\n",
       "      <td>0.001749</td>\n",
       "      <td>0.003308</td>\n",
       "      <td>0.000288</td>\n",
       "      <td>3</td>\n",
       "      <td>60</td>\n",
       "      <td>{'max_features': 3, 'n_estimators': 60}</td>\n",
       "      <td>-16.233474</td>\n",
       "      <td>-16.370051</td>\n",
       "      <td>-13.354247</td>\n",
       "      <td>...</td>\n",
       "      <td>-15.100755</td>\n",
       "      <td>3.739269</td>\n",
       "      <td>3</td>\n",
       "      <td>-6.093949</td>\n",
       "      <td>-6.112953</td>\n",
       "      <td>-6.535710</td>\n",
       "      <td>-5.121629</td>\n",
       "      <td>-6.005463</td>\n",
       "      <td>-5.973941</td>\n",
       "      <td>0.464056</td>\n",
       "    </tr>\n",
       "    <tr>\n",
       "      <th>2</th>\n",
       "      <td>0.075832</td>\n",
       "      <td>0.006663</td>\n",
       "      <td>0.005565</td>\n",
       "      <td>0.000775</td>\n",
       "      <td>3</td>\n",
       "      <td>100</td>\n",
       "      <td>{'max_features': 3, 'n_estimators': 100}</td>\n",
       "      <td>-15.627851</td>\n",
       "      <td>-14.832838</td>\n",
       "      <td>-13.120575</td>\n",
       "      <td>...</td>\n",
       "      <td>-14.387500</td>\n",
       "      <td>3.197744</td>\n",
       "      <td>1</td>\n",
       "      <td>-5.825398</td>\n",
       "      <td>-6.049383</td>\n",
       "      <td>-6.331998</td>\n",
       "      <td>-5.051963</td>\n",
       "      <td>-6.188825</td>\n",
       "      <td>-5.889513</td>\n",
       "      <td>0.450897</td>\n",
       "    </tr>\n",
       "    <tr>\n",
       "      <th>3</th>\n",
       "      <td>0.007940</td>\n",
       "      <td>0.000853</td>\n",
       "      <td>0.000000</td>\n",
       "      <td>0.000000</td>\n",
       "      <td>6</td>\n",
       "      <td>30</td>\n",
       "      <td>{'max_features': 6, 'n_estimators': 30}</td>\n",
       "      <td>NaN</td>\n",
       "      <td>NaN</td>\n",
       "      <td>NaN</td>\n",
       "      <td>...</td>\n",
       "      <td>NaN</td>\n",
       "      <td>NaN</td>\n",
       "      <td>4</td>\n",
       "      <td>NaN</td>\n",
       "      <td>NaN</td>\n",
       "      <td>NaN</td>\n",
       "      <td>NaN</td>\n",
       "      <td>NaN</td>\n",
       "      <td>NaN</td>\n",
       "      <td>NaN</td>\n",
       "    </tr>\n",
       "    <tr>\n",
       "      <th>4</th>\n",
       "      <td>0.016167</td>\n",
       "      <td>0.002460</td>\n",
       "      <td>0.000000</td>\n",
       "      <td>0.000000</td>\n",
       "      <td>6</td>\n",
       "      <td>60</td>\n",
       "      <td>{'max_features': 6, 'n_estimators': 60}</td>\n",
       "      <td>NaN</td>\n",
       "      <td>NaN</td>\n",
       "      <td>NaN</td>\n",
       "      <td>...</td>\n",
       "      <td>NaN</td>\n",
       "      <td>NaN</td>\n",
       "      <td>5</td>\n",
       "      <td>NaN</td>\n",
       "      <td>NaN</td>\n",
       "      <td>NaN</td>\n",
       "      <td>NaN</td>\n",
       "      <td>NaN</td>\n",
       "      <td>NaN</td>\n",
       "      <td>NaN</td>\n",
       "    </tr>\n",
       "    <tr>\n",
       "      <th>5</th>\n",
       "      <td>0.024965</td>\n",
       "      <td>0.003176</td>\n",
       "      <td>0.000000</td>\n",
       "      <td>0.000000</td>\n",
       "      <td>6</td>\n",
       "      <td>100</td>\n",
       "      <td>{'max_features': 6, 'n_estimators': 100}</td>\n",
       "      <td>NaN</td>\n",
       "      <td>NaN</td>\n",
       "      <td>NaN</td>\n",
       "      <td>...</td>\n",
       "      <td>NaN</td>\n",
       "      <td>NaN</td>\n",
       "      <td>6</td>\n",
       "      <td>NaN</td>\n",
       "      <td>NaN</td>\n",
       "      <td>NaN</td>\n",
       "      <td>NaN</td>\n",
       "      <td>NaN</td>\n",
       "      <td>NaN</td>\n",
       "      <td>NaN</td>\n",
       "    </tr>\n",
       "  </tbody>\n",
       "</table>\n",
       "<p>6 rows × 22 columns</p>\n",
       "</div>"
      ],
      "text/plain": [
       "   mean_fit_time  std_fit_time  mean_score_time  std_score_time  \\\n",
       "0       0.025552      0.003154         0.001940        0.000160   \n",
       "1       0.043017      0.001749         0.003308        0.000288   \n",
       "2       0.075832      0.006663         0.005565        0.000775   \n",
       "3       0.007940      0.000853         0.000000        0.000000   \n",
       "4       0.016167      0.002460         0.000000        0.000000   \n",
       "5       0.024965      0.003176         0.000000        0.000000   \n",
       "\n",
       "  param_max_features param_n_estimators  \\\n",
       "0                  3                 30   \n",
       "1                  3                 60   \n",
       "2                  3                100   \n",
       "3                  6                 30   \n",
       "4                  6                 60   \n",
       "5                  6                100   \n",
       "\n",
       "                                     params  split0_test_score  \\\n",
       "0   {'max_features': 3, 'n_estimators': 30}         -16.064769   \n",
       "1   {'max_features': 3, 'n_estimators': 60}         -16.233474   \n",
       "2  {'max_features': 3, 'n_estimators': 100}         -15.627851   \n",
       "3   {'max_features': 6, 'n_estimators': 30}                NaN   \n",
       "4   {'max_features': 6, 'n_estimators': 60}                NaN   \n",
       "5  {'max_features': 6, 'n_estimators': 100}                NaN   \n",
       "\n",
       "   split1_test_score  split2_test_score  ...  mean_test_score  std_test_score  \\\n",
       "0         -16.443075         -14.208305  ...       -14.919058        3.300008   \n",
       "1         -16.370051         -13.354247  ...       -15.100755        3.739269   \n",
       "2         -14.832838         -13.120575  ...       -14.387500        3.197744   \n",
       "3                NaN                NaN  ...              NaN             NaN   \n",
       "4                NaN                NaN  ...              NaN             NaN   \n",
       "5                NaN                NaN  ...              NaN             NaN   \n",
       "\n",
       "   rank_test_score  split0_train_score  split1_train_score  \\\n",
       "0                2           -6.273037           -5.810010   \n",
       "1                3           -6.093949           -6.112953   \n",
       "2                1           -5.825398           -6.049383   \n",
       "3                4                 NaN                 NaN   \n",
       "4                5                 NaN                 NaN   \n",
       "5                6                 NaN                 NaN   \n",
       "\n",
       "   split2_train_score  split3_train_score  split4_train_score  \\\n",
       "0           -6.229800           -5.155168           -6.888791   \n",
       "1           -6.535710           -5.121629           -6.005463   \n",
       "2           -6.331998           -5.051963           -6.188825   \n",
       "3                 NaN                 NaN                 NaN   \n",
       "4                 NaN                 NaN                 NaN   \n",
       "5                 NaN                 NaN                 NaN   \n",
       "\n",
       "   mean_train_score  std_train_score  \n",
       "0         -6.071361         0.573006  \n",
       "1         -5.973941         0.464056  \n",
       "2         -5.889513         0.450897  \n",
       "3               NaN              NaN  \n",
       "4               NaN              NaN  \n",
       "5               NaN              NaN  \n",
       "\n",
       "[6 rows x 22 columns]"
      ]
     },
     "execution_count": 89,
     "metadata": {},
     "output_type": "execute_result"
    }
   ],
   "source": [
    "#dataframe for results\n",
    "rf_df=pd.DataFrame(gs_rf.cv_results_)\n",
    "rf_df"
   ]
  },
  {
   "cell_type": "code",
   "execution_count": 90,
   "id": "4c361d3f",
   "metadata": {},
   "outputs": [
    {
     "name": "stdout",
     "output_type": "stream",
     "text": [
      "14.919057772183939 {'max_features': 3, 'n_estimators': 30}\n",
      "15.100755248979704 {'max_features': 3, 'n_estimators': 60}\n",
      "14.387499904672396 {'max_features': 3, 'n_estimators': 100}\n",
      "nan {'max_features': 6, 'n_estimators': 30}\n",
      "nan {'max_features': 6, 'n_estimators': 60}\n",
      "nan {'max_features': 6, 'n_estimators': 100}\n"
     ]
    }
   ],
   "source": [
    "#printing the evaluation scores\n",
    "cvres=gs_rf.cv_results_\n",
    "for mean_score, params in zip(cvres['mean_test_score'], cvres['params']):\n",
    "    print((-mean_score), params)"
   ]
  },
  {
   "cell_type": "markdown",
   "id": "73b97de2",
   "metadata": {},
   "source": [
    "### Important scores of each columns"
   ]
  },
  {
   "cell_type": "code",
   "execution_count": 91,
   "id": "2eaafb7f",
   "metadata": {},
   "outputs": [
    {
     "data": {
      "text/plain": [
       "[(0.40610574179812037, 'Age_Group'),\n",
       " (0.24897802952547357, 'O3 AQI_mean'),\n",
       " (0.2022576866203598, 'O3 AQI_max'),\n",
       " (0.1426585420560462, 'O3 AQI_min')]"
      ]
     },
     "execution_count": 91,
     "metadata": {},
     "output_type": "execute_result"
    }
   ],
   "source": [
    "feature_importances=rf_b.feature_importances_\n",
    "col=X.columns\n",
    "sorted(zip(feature_importances, col), reverse=True)"
   ]
  },
  {
   "cell_type": "markdown",
   "id": "f3de8f4b",
   "metadata": {},
   "source": [
    "## Predicting on Test set"
   ]
  },
  {
   "cell_type": "code",
   "execution_count": 92,
   "id": "4e098997",
   "metadata": {},
   "outputs": [],
   "source": [
    "#Testing the model in test data\n",
    "y_pred_lr=lr.predict(scaled_X_test)     #linear \n",
    "y_pred_lrl=lrl.predict(scaled_X_test)   #lasso\n",
    "y_pred_lrr=lrr.predict(scaled_X_test)   #Ridge\n",
    "y_pred_svm=svm.predict(scaled_X_test)   #svm\n",
    "y_pred_dt=dt_b.predict(scaled_X_test)   #Dicision tree\n",
    "y_pred_rf=rf_b.predict(scaled_X_test)   #Random forest"
   ]
  },
  {
   "cell_type": "markdown",
   "id": "b7ab8755",
   "metadata": {},
   "source": [
    "### R2_score"
   ]
  },
  {
   "cell_type": "code",
   "execution_count": 93,
   "id": "8bcaf3fc",
   "metadata": {},
   "outputs": [
    {
     "name": "stdout",
     "output_type": "stream",
     "text": [
      "The r2_score of linear regression is 0.4373255461236534\n",
      "The r2_score of lasso regression is 0.28237914152090693\n",
      "The r2_score of Ridge regression is 0.3018575249435965\n",
      "The r2_score of SVM regression is 0.04367542106815869\n",
      "The r2_score of decision tree regression is 0.3478796152525635\n",
      "The r2_score of random forest regression is 0.54573606731663\n"
     ]
    }
   ],
   "source": [
    "#regression matrices-mean absolute error(give you the prediction error)\n",
    "lin_r2_lr=r2_score(y_test, y_pred_lr)\n",
    "print(f'The r2_score of linear regression is {lin_r2_lr}')\n",
    "\n",
    "lin_r2_lrl=r2_score(y_test, y_pred_lrl)\n",
    "print(f'The r2_score of lasso regression is {lin_r2_lrl}')\n",
    "\n",
    "lin_r2_lrr=r2_score(y_test, y_pred_lrr)\n",
    "print(f'The r2_score of Ridge regression is {lin_r2_lrr}')\n",
    "\n",
    "lin_r2_svm=r2_score(y_test, y_pred_svm)\n",
    "print(f'The r2_score of SVM regression is {lin_r2_svm}')\n",
    "\n",
    "lin_r2_dt=r2_score(y_test, y_pred_dt)\n",
    "print(f'The r2_score of decision tree regression is {lin_r2_dt}')\n",
    "\n",
    "lin_r2_rf=r2_score(y_test, y_pred_rf)\n",
    "print(f'The r2_score of random forest regression is {lin_r2_rf}')\n"
   ]
  },
  {
   "cell_type": "markdown",
   "id": "bd79f612",
   "metadata": {},
   "source": [
    "### Mean Absolute Error"
   ]
  },
  {
   "cell_type": "code",
   "execution_count": 94,
   "id": "cf2a2fc3",
   "metadata": {},
   "outputs": [
    {
     "name": "stdout",
     "output_type": "stream",
     "text": [
      "The mean absoulte error of linear regression is 19.391147505256715\n",
      "The mean absoulte error of lasso regression is 22.30432768732225\n",
      "The mean absoulte error of Ridge regression is 23.093487458548214\n",
      "The mean absoulte error of SVM regression is 25.423647069349098\n",
      "The mean absoulte error of decision tree regression is 18.80018473959426\n",
      "The mean absoulte error of random forest regression is 16.69015455083371\n"
     ]
    }
   ],
   "source": [
    "#regression matrices-mean absolute error(give you the prediction error)\n",
    "lin_mae_lr=mean_absolute_error(y_test, y_pred_lr)\n",
    "print(f'The mean absoulte error of linear regression is {lin_mae_lr}')\n",
    "\n",
    "lin_mae_lrl=mean_absolute_error(y_test, y_pred_lrl)\n",
    "print(f'The mean absoulte error of lasso regression is {lin_mae_lrl}')\n",
    "\n",
    "lin_mae_lrr=mean_absolute_error(y_test, y_pred_lrr)\n",
    "print(f'The mean absoulte error of Ridge regression is {lin_mae_lrr}')\n",
    "\n",
    "lin_mae_svm=mean_absolute_error(y_test, y_pred_svm)\n",
    "print(f'The mean absoulte error of SVM regression is {lin_mae_svm}')\n",
    "\n",
    "lin_mae_dt=mean_absolute_error(y_test, y_pred_dt)\n",
    "print(f'The mean absoulte error of decision tree regression is {lin_mae_dt}')\n",
    "\n",
    "lin_mae_rf=mean_absolute_error(y_test, y_pred_rf)\n",
    "print(f'The mean absoulte error of random forest regression is {lin_mae_rf}')\n"
   ]
  },
  {
   "cell_type": "markdown",
   "id": "db69f952",
   "metadata": {},
   "source": [
    "### Root Mean Squared Error"
   ]
  },
  {
   "cell_type": "code",
   "execution_count": 95,
   "id": "be88121c",
   "metadata": {},
   "outputs": [
    {
     "name": "stdout",
     "output_type": "stream",
     "text": [
      "The mean squared error of linear regression is 27.22371558333459\n",
      "The mean squared error of lasso regression is 30.74442156940809\n",
      "The mean squared error of ridge regression is 30.324303211972286\n",
      "The mean squared error of SVM regression is 35.491263348255806\n",
      "The mean squared error of decision tree regression is 29.307764144604544\n",
      "The mean squared error of random forest regression is 24.46092792779027\n"
     ]
    }
   ],
   "source": [
    "#regression matrices-mean squared error(give you the prediction error)\n",
    "lin_mse_lr=mean_squared_error(y_test, y_pred_lr)\n",
    "lin_rmse_lr=np.sqrt(lin_mse_lr)\n",
    "print(f'The mean squared error of linear regression is {lin_rmse_lr}')\n",
    "\n",
    "lin_mse_lrl=mean_squared_error(y_test, y_pred_lrl)\n",
    "lin_rmse_lrl=np.sqrt(lin_mse_lrl)\n",
    "print(f'The mean squared error of lasso regression is {lin_rmse_lrl}')\n",
    "\n",
    "lin_mse_lrr=mean_squared_error(y_test, y_pred_lrr)\n",
    "lin_rmse_lrr=np.sqrt(lin_mse_lrr)\n",
    "print(f'The mean squared error of ridge regression is {lin_rmse_lrr}')\n",
    "\n",
    "lin_mse_svm=mean_squared_error(y_test, y_pred_svm)\n",
    "lin_rmse_svm=np.sqrt(lin_mse_svm)\n",
    "print(f'The mean squared error of SVM regression is {lin_rmse_svm}')\n",
    "\n",
    "lin_mse_dt=mean_squared_error(y_test, y_pred_dt)\n",
    "lin_rmse_dt=np.sqrt(lin_mse_dt)\n",
    "print(f'The mean squared error of decision tree regression is {lin_rmse_dt}')\n",
    "\n",
    "lin_mse_rf=mean_squared_error(y_test, y_pred_rf)\n",
    "lin_rmse_rf=np.sqrt(lin_mse_rf)\n",
    "print(f'The mean squared error of random forest regression is {lin_rmse_rf}')"
   ]
  },
  {
   "cell_type": "markdown",
   "id": "22ea89de",
   "metadata": {},
   "source": [
    "### Actual and predicted "
   ]
  },
  {
   "cell_type": "code",
   "execution_count": 96,
   "id": "fa35a1bd",
   "metadata": {},
   "outputs": [
    {
     "data": {
      "text/html": [
       "<div>\n",
       "<style scoped>\n",
       "    .dataframe tbody tr th:only-of-type {\n",
       "        vertical-align: middle;\n",
       "    }\n",
       "\n",
       "    .dataframe tbody tr th {\n",
       "        vertical-align: top;\n",
       "    }\n",
       "\n",
       "    .dataframe thead th {\n",
       "        text-align: right;\n",
       "    }\n",
       "</style>\n",
       "<table border=\"1\" class=\"dataframe\">\n",
       "  <thead>\n",
       "    <tr style=\"text-align: right;\">\n",
       "      <th></th>\n",
       "      <th>Actual Value of Age_Adjusted_Rate</th>\n",
       "      <th>Random Forest Predicted Age_Adjusted_Rate</th>\n",
       "      <th>Linear Reg Predicted Age_Adjusted_Rate</th>\n",
       "      <th>Lasso Reg Predicted Age_Adjusted_Rate</th>\n",
       "      <th>Ridge Reg Predicted Age_Adjusted_Rate</th>\n",
       "      <th>Decesion Tree Predicted Age_Adjusted_Rate</th>\n",
       "      <th>SVM Predicted Age_Adjusted_Rate</th>\n",
       "    </tr>\n",
       "  </thead>\n",
       "  <tbody>\n",
       "    <tr>\n",
       "      <th>0</th>\n",
       "      <td>46.005882</td>\n",
       "      <td>51.784548</td>\n",
       "      <td>46.642998</td>\n",
       "      <td>56.997428</td>\n",
       "      <td>29.555552</td>\n",
       "      <td>54.906061</td>\n",
       "      <td>32.494000</td>\n",
       "    </tr>\n",
       "    <tr>\n",
       "      <th>1</th>\n",
       "      <td>142.950000</td>\n",
       "      <td>100.705527</td>\n",
       "      <td>84.324619</td>\n",
       "      <td>75.909883</td>\n",
       "      <td>81.729036</td>\n",
       "      <td>141.000000</td>\n",
       "      <td>64.647370</td>\n",
       "    </tr>\n",
       "    <tr>\n",
       "      <th>2</th>\n",
       "      <td>52.825000</td>\n",
       "      <td>48.316266</td>\n",
       "      <td>45.219743</td>\n",
       "      <td>56.997428</td>\n",
       "      <td>29.196745</td>\n",
       "      <td>63.265116</td>\n",
       "      <td>38.987784</td>\n",
       "    </tr>\n",
       "    <tr>\n",
       "      <th>3</th>\n",
       "      <td>42.671053</td>\n",
       "      <td>91.513185</td>\n",
       "      <td>87.489405</td>\n",
       "      <td>75.909883</td>\n",
       "      <td>82.328058</td>\n",
       "      <td>101.470000</td>\n",
       "      <td>56.004045</td>\n",
       "    </tr>\n",
       "    <tr>\n",
       "      <th>4</th>\n",
       "      <td>95.936111</td>\n",
       "      <td>79.086259</td>\n",
       "      <td>87.962298</td>\n",
       "      <td>75.909883</td>\n",
       "      <td>82.315633</td>\n",
       "      <td>64.840000</td>\n",
       "      <td>59.198269</td>\n",
       "    </tr>\n",
       "    <tr>\n",
       "      <th>5</th>\n",
       "      <td>143.500000</td>\n",
       "      <td>81.447541</td>\n",
       "      <td>84.522772</td>\n",
       "      <td>75.909883</td>\n",
       "      <td>81.516654</td>\n",
       "      <td>84.537778</td>\n",
       "      <td>65.707796</td>\n",
       "    </tr>\n",
       "    <tr>\n",
       "      <th>6</th>\n",
       "      <td>62.400000</td>\n",
       "      <td>69.784682</td>\n",
       "      <td>86.542415</td>\n",
       "      <td>75.909883</td>\n",
       "      <td>81.709667</td>\n",
       "      <td>61.340000</td>\n",
       "      <td>61.915686</td>\n",
       "    </tr>\n",
       "    <tr>\n",
       "      <th>7</th>\n",
       "      <td>90.216279</td>\n",
       "      <td>92.326348</td>\n",
       "      <td>85.973013</td>\n",
       "      <td>75.909883</td>\n",
       "      <td>81.753325</td>\n",
       "      <td>86.887234</td>\n",
       "      <td>67.779266</td>\n",
       "    </tr>\n",
       "    <tr>\n",
       "      <th>8</th>\n",
       "      <td>38.738760</td>\n",
       "      <td>38.345016</td>\n",
       "      <td>46.845702</td>\n",
       "      <td>56.997428</td>\n",
       "      <td>29.401915</td>\n",
       "      <td>54.906061</td>\n",
       "      <td>34.823401</td>\n",
       "    </tr>\n",
       "    <tr>\n",
       "      <th>9</th>\n",
       "      <td>55.506522</td>\n",
       "      <td>56.253395</td>\n",
       "      <td>48.429835</td>\n",
       "      <td>56.997428</td>\n",
       "      <td>29.759932</td>\n",
       "      <td>53.652273</td>\n",
       "      <td>28.612766</td>\n",
       "    </tr>\n",
       "    <tr>\n",
       "      <th>10</th>\n",
       "      <td>57.374545</td>\n",
       "      <td>47.676973</td>\n",
       "      <td>47.363993</td>\n",
       "      <td>56.997428</td>\n",
       "      <td>29.271737</td>\n",
       "      <td>49.814286</td>\n",
       "      <td>42.705570</td>\n",
       "    </tr>\n",
       "    <tr>\n",
       "      <th>11</th>\n",
       "      <td>88.020690</td>\n",
       "      <td>89.622948</td>\n",
       "      <td>85.747874</td>\n",
       "      <td>75.909883</td>\n",
       "      <td>82.087843</td>\n",
       "      <td>81.113596</td>\n",
       "      <td>58.153586</td>\n",
       "    </tr>\n",
       "    <tr>\n",
       "      <th>12</th>\n",
       "      <td>42.800000</td>\n",
       "      <td>55.931119</td>\n",
       "      <td>48.846738</td>\n",
       "      <td>56.997428</td>\n",
       "      <td>29.595347</td>\n",
       "      <td>44.352174</td>\n",
       "      <td>31.994612</td>\n",
       "    </tr>\n",
       "    <tr>\n",
       "      <th>13</th>\n",
       "      <td>82.608108</td>\n",
       "      <td>71.092113</td>\n",
       "      <td>85.381307</td>\n",
       "      <td>75.909883</td>\n",
       "      <td>81.645383</td>\n",
       "      <td>67.800000</td>\n",
       "      <td>60.644901</td>\n",
       "    </tr>\n",
       "    <tr>\n",
       "      <th>14</th>\n",
       "      <td>62.610145</td>\n",
       "      <td>81.166086</td>\n",
       "      <td>87.449999</td>\n",
       "      <td>75.909883</td>\n",
       "      <td>82.040100</td>\n",
       "      <td>82.317904</td>\n",
       "      <td>60.949325</td>\n",
       "    </tr>\n",
       "    <tr>\n",
       "      <th>15</th>\n",
       "      <td>55.602778</td>\n",
       "      <td>55.323731</td>\n",
       "      <td>48.162157</td>\n",
       "      <td>56.997428</td>\n",
       "      <td>29.848512</td>\n",
       "      <td>56.325000</td>\n",
       "      <td>32.886736</td>\n",
       "    </tr>\n",
       "    <tr>\n",
       "      <th>16</th>\n",
       "      <td>30.440426</td>\n",
       "      <td>39.659493</td>\n",
       "      <td>46.060534</td>\n",
       "      <td>56.997428</td>\n",
       "      <td>29.849932</td>\n",
       "      <td>38.578682</td>\n",
       "      <td>29.091792</td>\n",
       "    </tr>\n",
       "    <tr>\n",
       "      <th>17</th>\n",
       "      <td>148.270588</td>\n",
       "      <td>97.731813</td>\n",
       "      <td>87.874886</td>\n",
       "      <td>75.909883</td>\n",
       "      <td>82.305455</td>\n",
       "      <td>65.767925</td>\n",
       "      <td>62.477696</td>\n",
       "    </tr>\n",
       "    <tr>\n",
       "      <th>18</th>\n",
       "      <td>24.567949</td>\n",
       "      <td>41.085636</td>\n",
       "      <td>45.090211</td>\n",
       "      <td>56.997428</td>\n",
       "      <td>29.544864</td>\n",
       "      <td>38.578682</td>\n",
       "      <td>33.170287</td>\n",
       "    </tr>\n",
       "    <tr>\n",
       "      <th>19</th>\n",
       "      <td>68.427273</td>\n",
       "      <td>47.753461</td>\n",
       "      <td>45.834119</td>\n",
       "      <td>56.997428</td>\n",
       "      <td>29.453897</td>\n",
       "      <td>25.137500</td>\n",
       "      <td>32.576302</td>\n",
       "    </tr>\n",
       "    <tr>\n",
       "      <th>20</th>\n",
       "      <td>30.086667</td>\n",
       "      <td>37.936956</td>\n",
       "      <td>42.579302</td>\n",
       "      <td>56.997428</td>\n",
       "      <td>28.433037</td>\n",
       "      <td>33.133333</td>\n",
       "      <td>43.461676</td>\n",
       "    </tr>\n",
       "  </tbody>\n",
       "</table>\n",
       "</div>"
      ],
      "text/plain": [
       "    Actual Value of Age_Adjusted_Rate  \\\n",
       "0                           46.005882   \n",
       "1                          142.950000   \n",
       "2                           52.825000   \n",
       "3                           42.671053   \n",
       "4                           95.936111   \n",
       "5                          143.500000   \n",
       "6                           62.400000   \n",
       "7                           90.216279   \n",
       "8                           38.738760   \n",
       "9                           55.506522   \n",
       "10                          57.374545   \n",
       "11                          88.020690   \n",
       "12                          42.800000   \n",
       "13                          82.608108   \n",
       "14                          62.610145   \n",
       "15                          55.602778   \n",
       "16                          30.440426   \n",
       "17                         148.270588   \n",
       "18                          24.567949   \n",
       "19                          68.427273   \n",
       "20                          30.086667   \n",
       "\n",
       "    Random Forest Predicted Age_Adjusted_Rate  \\\n",
       "0                                   51.784548   \n",
       "1                                  100.705527   \n",
       "2                                   48.316266   \n",
       "3                                   91.513185   \n",
       "4                                   79.086259   \n",
       "5                                   81.447541   \n",
       "6                                   69.784682   \n",
       "7                                   92.326348   \n",
       "8                                   38.345016   \n",
       "9                                   56.253395   \n",
       "10                                  47.676973   \n",
       "11                                  89.622948   \n",
       "12                                  55.931119   \n",
       "13                                  71.092113   \n",
       "14                                  81.166086   \n",
       "15                                  55.323731   \n",
       "16                                  39.659493   \n",
       "17                                  97.731813   \n",
       "18                                  41.085636   \n",
       "19                                  47.753461   \n",
       "20                                  37.936956   \n",
       "\n",
       "    Linear Reg Predicted Age_Adjusted_Rate  \\\n",
       "0                                46.642998   \n",
       "1                                84.324619   \n",
       "2                                45.219743   \n",
       "3                                87.489405   \n",
       "4                                87.962298   \n",
       "5                                84.522772   \n",
       "6                                86.542415   \n",
       "7                                85.973013   \n",
       "8                                46.845702   \n",
       "9                                48.429835   \n",
       "10                               47.363993   \n",
       "11                               85.747874   \n",
       "12                               48.846738   \n",
       "13                               85.381307   \n",
       "14                               87.449999   \n",
       "15                               48.162157   \n",
       "16                               46.060534   \n",
       "17                               87.874886   \n",
       "18                               45.090211   \n",
       "19                               45.834119   \n",
       "20                               42.579302   \n",
       "\n",
       "    Lasso Reg Predicted Age_Adjusted_Rate  \\\n",
       "0                               56.997428   \n",
       "1                               75.909883   \n",
       "2                               56.997428   \n",
       "3                               75.909883   \n",
       "4                               75.909883   \n",
       "5                               75.909883   \n",
       "6                               75.909883   \n",
       "7                               75.909883   \n",
       "8                               56.997428   \n",
       "9                               56.997428   \n",
       "10                              56.997428   \n",
       "11                              75.909883   \n",
       "12                              56.997428   \n",
       "13                              75.909883   \n",
       "14                              75.909883   \n",
       "15                              56.997428   \n",
       "16                              56.997428   \n",
       "17                              75.909883   \n",
       "18                              56.997428   \n",
       "19                              56.997428   \n",
       "20                              56.997428   \n",
       "\n",
       "    Ridge Reg Predicted Age_Adjusted_Rate  \\\n",
       "0                               29.555552   \n",
       "1                               81.729036   \n",
       "2                               29.196745   \n",
       "3                               82.328058   \n",
       "4                               82.315633   \n",
       "5                               81.516654   \n",
       "6                               81.709667   \n",
       "7                               81.753325   \n",
       "8                               29.401915   \n",
       "9                               29.759932   \n",
       "10                              29.271737   \n",
       "11                              82.087843   \n",
       "12                              29.595347   \n",
       "13                              81.645383   \n",
       "14                              82.040100   \n",
       "15                              29.848512   \n",
       "16                              29.849932   \n",
       "17                              82.305455   \n",
       "18                              29.544864   \n",
       "19                              29.453897   \n",
       "20                              28.433037   \n",
       "\n",
       "    Decesion Tree Predicted Age_Adjusted_Rate  SVM Predicted Age_Adjusted_Rate  \n",
       "0                                   54.906061                        32.494000  \n",
       "1                                  141.000000                        64.647370  \n",
       "2                                   63.265116                        38.987784  \n",
       "3                                  101.470000                        56.004045  \n",
       "4                                   64.840000                        59.198269  \n",
       "5                                   84.537778                        65.707796  \n",
       "6                                   61.340000                        61.915686  \n",
       "7                                   86.887234                        67.779266  \n",
       "8                                   54.906061                        34.823401  \n",
       "9                                   53.652273                        28.612766  \n",
       "10                                  49.814286                        42.705570  \n",
       "11                                  81.113596                        58.153586  \n",
       "12                                  44.352174                        31.994612  \n",
       "13                                  67.800000                        60.644901  \n",
       "14                                  82.317904                        60.949325  \n",
       "15                                  56.325000                        32.886736  \n",
       "16                                  38.578682                        29.091792  \n",
       "17                                  65.767925                        62.477696  \n",
       "18                                  38.578682                        33.170287  \n",
       "19                                  25.137500                        32.576302  \n",
       "20                                  33.133333                        43.461676  "
      ]
     },
     "execution_count": 96,
     "metadata": {},
     "output_type": "execute_result"
    }
   ],
   "source": [
    "#Actual and predicated value of house using our best model\n",
    "asthma_value=pd.DataFrame({'Actual Value of Age_Adjusted_Rate':y_test, \n",
    "                'Random Forest Predicted Age_Adjusted_Rate':y_pred_rf,\n",
    "                'Linear Reg Predicted Age_Adjusted_Rate':y_pred_lr,\n",
    "                'Lasso Reg Predicted Age_Adjusted_Rate':y_pred_lrl,\n",
    "                'Ridge Reg Predicted Age_Adjusted_Rate':y_pred_lrr,       \n",
    "                'Decesion Tree Predicted Age_Adjusted_Rate':y_pred_dt,\n",
    "                 'SVM Predicted Age_Adjusted_Rate':y_pred_svm})\n",
    "asthma_value"
   ]
  },
  {
   "cell_type": "code",
   "execution_count": 97,
   "id": "e81371d3",
   "metadata": {},
   "outputs": [],
   "source": [
    "asthma_value.to_html('asthma_pred.html')"
   ]
  },
  {
   "cell_type": "markdown",
   "id": "41015446",
   "metadata": {},
   "source": [
    "## Evaluation metrices of differnt models"
   ]
  },
  {
   "cell_type": "code",
   "execution_count": 68,
   "id": "4f7e1e21",
   "metadata": {},
   "outputs": [
    {
     "data": {
      "text/html": [
       "<div>\n",
       "<style scoped>\n",
       "    .dataframe tbody tr th:only-of-type {\n",
       "        vertical-align: middle;\n",
       "    }\n",
       "\n",
       "    .dataframe tbody tr th {\n",
       "        vertical-align: top;\n",
       "    }\n",
       "\n",
       "    .dataframe thead th {\n",
       "        text-align: right;\n",
       "    }\n",
       "</style>\n",
       "<table border=\"1\" class=\"dataframe\">\n",
       "  <thead>\n",
       "    <tr style=\"text-align: right;\">\n",
       "      <th></th>\n",
       "      <th>Linear Reg</th>\n",
       "      <th>Lasso Reg</th>\n",
       "      <th>Ridge Reg</th>\n",
       "      <th>SVM Reg</th>\n",
       "      <th>Decision Tree</th>\n",
       "      <th>Random Forest</th>\n",
       "    </tr>\n",
       "  </thead>\n",
       "  <tbody>\n",
       "    <tr>\n",
       "      <th>R2</th>\n",
       "      <td>0.437326</td>\n",
       "      <td>0.282379</td>\n",
       "      <td>0.301858</td>\n",
       "      <td>0.043579</td>\n",
       "      <td>0.409980</td>\n",
       "      <td>0.583515</td>\n",
       "    </tr>\n",
       "    <tr>\n",
       "      <th>Mean Absolute Error</th>\n",
       "      <td>19.391148</td>\n",
       "      <td>22.304328</td>\n",
       "      <td>23.093487</td>\n",
       "      <td>25.424080</td>\n",
       "      <td>17.709624</td>\n",
       "      <td>16.900970</td>\n",
       "    </tr>\n",
       "    <tr>\n",
       "      <th>Root Mean Squared Error</th>\n",
       "      <td>27.223716</td>\n",
       "      <td>30.744422</td>\n",
       "      <td>30.324303</td>\n",
       "      <td>35.493059</td>\n",
       "      <td>27.877402</td>\n",
       "      <td>23.421717</td>\n",
       "    </tr>\n",
       "  </tbody>\n",
       "</table>\n",
       "</div>"
      ],
      "text/plain": [
       "                         Linear Reg  Lasso Reg  Ridge Reg    SVM Reg  \\\n",
       "R2                         0.437326   0.282379   0.301858   0.043579   \n",
       "Mean Absolute Error       19.391148  22.304328  23.093487  25.424080   \n",
       "Root Mean Squared Error   27.223716  30.744422  30.324303  35.493059   \n",
       "\n",
       "                         Decision Tree  Random Forest  \n",
       "R2                            0.409980       0.583515  \n",
       "Mean Absolute Error          17.709624      16.900970  \n",
       "Root Mean Squared Error      27.877402      23.421717  "
      ]
     },
     "execution_count": 68,
     "metadata": {},
     "output_type": "execute_result"
    }
   ],
   "source": [
    "#making dataframe on evaluation metrices\n",
    "evaluation_df=pd.DataFrame({'Linear Reg':[lin_r2_lr,lin_mae_lr,lin_rmse_lr],\n",
    "                           'Lasso Reg':[lin_r2_lrl,lin_mae_lrl,lin_rmse_lrl],\n",
    "                            'Ridge Reg':[lin_r2_lrr,lin_mae_lrr,lin_rmse_lrr],\n",
    "                            'SVM Reg':[lin_r2_svm,lin_mae_svm,lin_rmse_svm],\n",
    "                           'Decision Tree':[lin_r2_dt,lin_mae_dt,lin_rmse_dt],\n",
    "                            'Random Forest':[lin_r2_rf,lin_mae_rf,lin_rmse_rf]}\n",
    "                           ,index=['R2','Mean Absolute Error',\n",
    "                                    'Root Mean Squared Error'])\n",
    "evaluation_df"
   ]
  },
  {
   "cell_type": "markdown",
   "id": "ccd7a312",
   "metadata": {},
   "source": [
    "## Saving the best model"
   ]
  },
  {
   "cell_type": "code",
   "execution_count": 69,
   "id": "ff680bad",
   "metadata": {},
   "outputs": [
    {
     "data": {
      "text/plain": [
       "['model_asthma.pkl']"
      ]
     },
     "execution_count": 69,
     "metadata": {},
     "output_type": "execute_result"
    }
   ],
   "source": [
    "import joblib\n",
    "joblib.dump(rf_b, 'model_asthma.pkl')"
   ]
  },
  {
   "cell_type": "code",
   "execution_count": 70,
   "id": "c2d2d1e9",
   "metadata": {},
   "outputs": [
    {
     "data": {
      "text/plain": [
       "['scaler_asthma.pkl']"
      ]
     },
     "execution_count": 70,
     "metadata": {},
     "output_type": "execute_result"
    }
   ],
   "source": [
    "#saving standard scaler\n",
    "joblib.dump(std_scaler, 'scaler_asthma.pkl')"
   ]
  },
  {
   "cell_type": "code",
   "execution_count": null,
   "id": "74023375",
   "metadata": {},
   "outputs": [],
   "source": []
  }
 ],
 "metadata": {
  "kernelspec": {
   "display_name": "Python 3 (ipykernel)",
   "language": "python",
   "name": "python3"
  },
  "language_info": {
   "codemirror_mode": {
    "name": "ipython",
    "version": 3
   },
   "file_extension": ".py",
   "mimetype": "text/x-python",
   "name": "python",
   "nbconvert_exporter": "python",
   "pygments_lexer": "ipython3",
   "version": "3.8.10"
  }
 },
 "nbformat": 4,
 "nbformat_minor": 5
}
