{
 "cells": [
  {
   "cell_type": "code",
   "execution_count": 8,
   "id": "2b08664a",
   "metadata": {},
   "outputs": [],
   "source": [
    "#importing modules\n",
    "import pandas as pd\n",
    "import numpy as np\n",
    "from pathlib import Path\n",
    "import matplotlib.pyplot as plt\n",
    "import seaborn as sns\n",
    "from sklearn.model_selection import train_test_split\n",
    "from sklearn.preprocessing import StandardScaler, LabelEncoder, MinMaxScaler\n",
    "from sklearn.linear_model import LogisticRegression\n",
    "from sklearn.metrics import confusion_matrix, classification_report\n",
    "from sklearn.metrics import roc_curve, auc\n",
    "from sklearn.neighbors import KNeighborsClassifier\n",
    "from sklearn.linear_model import SGDClassifier\n",
    "from sklearn.ensemble import RandomForestClassifier\n",
    "from sklearn.tree import DecisionTreeClassifier\n",
    "from sklearn.ensemble import ExtraTreesClassifier\n",
    "from sklearn.ensemble import AdaBoostClassifier\n",
    "from sklearn.feature_selection import SelectFromModel\n",
    "from sklearn.model_selection import RandomizedSearchCV\n",
    "from sklearn.model_selection import GridSearchCV\n",
    "from sklearn.svm import SVC\n",
    "from sklearn.model_selection import cross_val_predict, cross_val_score\n",
    "from sklearn.metrics import precision_score, recall_score, f1_score"
   ]
  },
  {
   "cell_type": "code",
   "execution_count": 9,
   "id": "e1b1a7aa",
   "metadata": {},
   "outputs": [],
   "source": [
    "# defining data path\n",
    "data_path=Path('../0.resources/cancer_patient_data_sets.csv')\n",
    "# Reading data source using pandas\n",
    "cancer_df=pd.read_csv(data_path)"
   ]
  },
  {
   "cell_type": "code",
   "execution_count": 10,
   "id": "ffd488f3",
   "metadata": {},
   "outputs": [
    {
     "data": {
      "text/html": [
       "<div>\n",
       "<style scoped>\n",
       "    .dataframe tbody tr th:only-of-type {\n",
       "        vertical-align: middle;\n",
       "    }\n",
       "\n",
       "    .dataframe tbody tr th {\n",
       "        vertical-align: top;\n",
       "    }\n",
       "\n",
       "    .dataframe thead th {\n",
       "        text-align: right;\n",
       "    }\n",
       "</style>\n",
       "<table border=\"1\" class=\"dataframe\">\n",
       "  <thead>\n",
       "    <tr style=\"text-align: right;\">\n",
       "      <th></th>\n",
       "      <th>Patient Id</th>\n",
       "      <th>Age</th>\n",
       "      <th>Gender</th>\n",
       "      <th>Air Pollution</th>\n",
       "      <th>Alcohol use</th>\n",
       "      <th>Dust Allergy</th>\n",
       "      <th>OccuPational Hazards</th>\n",
       "      <th>Genetic Risk</th>\n",
       "      <th>chronic Lung Disease</th>\n",
       "      <th>Balanced Diet</th>\n",
       "      <th>...</th>\n",
       "      <th>Fatigue</th>\n",
       "      <th>Weight Loss</th>\n",
       "      <th>Shortness of Breath</th>\n",
       "      <th>Wheezing</th>\n",
       "      <th>Swallowing Difficulty</th>\n",
       "      <th>Clubbing of Finger Nails</th>\n",
       "      <th>Frequent Cold</th>\n",
       "      <th>Dry Cough</th>\n",
       "      <th>Snoring</th>\n",
       "      <th>Level</th>\n",
       "    </tr>\n",
       "  </thead>\n",
       "  <tbody>\n",
       "    <tr>\n",
       "      <th>0</th>\n",
       "      <td>P1</td>\n",
       "      <td>33</td>\n",
       "      <td>1</td>\n",
       "      <td>2</td>\n",
       "      <td>4</td>\n",
       "      <td>5</td>\n",
       "      <td>4</td>\n",
       "      <td>3</td>\n",
       "      <td>2</td>\n",
       "      <td>2</td>\n",
       "      <td>...</td>\n",
       "      <td>3</td>\n",
       "      <td>4</td>\n",
       "      <td>2</td>\n",
       "      <td>2</td>\n",
       "      <td>3</td>\n",
       "      <td>1</td>\n",
       "      <td>2</td>\n",
       "      <td>3</td>\n",
       "      <td>4</td>\n",
       "      <td>Low</td>\n",
       "    </tr>\n",
       "    <tr>\n",
       "      <th>1</th>\n",
       "      <td>P10</td>\n",
       "      <td>17</td>\n",
       "      <td>1</td>\n",
       "      <td>3</td>\n",
       "      <td>1</td>\n",
       "      <td>5</td>\n",
       "      <td>3</td>\n",
       "      <td>4</td>\n",
       "      <td>2</td>\n",
       "      <td>2</td>\n",
       "      <td>...</td>\n",
       "      <td>1</td>\n",
       "      <td>3</td>\n",
       "      <td>7</td>\n",
       "      <td>8</td>\n",
       "      <td>6</td>\n",
       "      <td>2</td>\n",
       "      <td>1</td>\n",
       "      <td>7</td>\n",
       "      <td>2</td>\n",
       "      <td>Medium</td>\n",
       "    </tr>\n",
       "    <tr>\n",
       "      <th>2</th>\n",
       "      <td>P100</td>\n",
       "      <td>35</td>\n",
       "      <td>1</td>\n",
       "      <td>4</td>\n",
       "      <td>5</td>\n",
       "      <td>6</td>\n",
       "      <td>5</td>\n",
       "      <td>5</td>\n",
       "      <td>4</td>\n",
       "      <td>6</td>\n",
       "      <td>...</td>\n",
       "      <td>8</td>\n",
       "      <td>7</td>\n",
       "      <td>9</td>\n",
       "      <td>2</td>\n",
       "      <td>1</td>\n",
       "      <td>4</td>\n",
       "      <td>6</td>\n",
       "      <td>7</td>\n",
       "      <td>2</td>\n",
       "      <td>High</td>\n",
       "    </tr>\n",
       "    <tr>\n",
       "      <th>3</th>\n",
       "      <td>P1000</td>\n",
       "      <td>37</td>\n",
       "      <td>1</td>\n",
       "      <td>7</td>\n",
       "      <td>7</td>\n",
       "      <td>7</td>\n",
       "      <td>7</td>\n",
       "      <td>6</td>\n",
       "      <td>7</td>\n",
       "      <td>7</td>\n",
       "      <td>...</td>\n",
       "      <td>4</td>\n",
       "      <td>2</td>\n",
       "      <td>3</td>\n",
       "      <td>1</td>\n",
       "      <td>4</td>\n",
       "      <td>5</td>\n",
       "      <td>6</td>\n",
       "      <td>7</td>\n",
       "      <td>5</td>\n",
       "      <td>High</td>\n",
       "    </tr>\n",
       "    <tr>\n",
       "      <th>4</th>\n",
       "      <td>P101</td>\n",
       "      <td>46</td>\n",
       "      <td>1</td>\n",
       "      <td>6</td>\n",
       "      <td>8</td>\n",
       "      <td>7</td>\n",
       "      <td>7</td>\n",
       "      <td>7</td>\n",
       "      <td>6</td>\n",
       "      <td>7</td>\n",
       "      <td>...</td>\n",
       "      <td>3</td>\n",
       "      <td>2</td>\n",
       "      <td>4</td>\n",
       "      <td>1</td>\n",
       "      <td>4</td>\n",
       "      <td>2</td>\n",
       "      <td>4</td>\n",
       "      <td>2</td>\n",
       "      <td>3</td>\n",
       "      <td>High</td>\n",
       "    </tr>\n",
       "  </tbody>\n",
       "</table>\n",
       "<p>5 rows × 25 columns</p>\n",
       "</div>"
      ],
      "text/plain": [
       "  Patient Id  Age  Gender  Air Pollution  Alcohol use  Dust Allergy  \\\n",
       "0         P1   33       1              2            4             5   \n",
       "1        P10   17       1              3            1             5   \n",
       "2       P100   35       1              4            5             6   \n",
       "3      P1000   37       1              7            7             7   \n",
       "4       P101   46       1              6            8             7   \n",
       "\n",
       "   OccuPational Hazards  Genetic Risk  chronic Lung Disease  Balanced Diet  \\\n",
       "0                     4             3                     2              2   \n",
       "1                     3             4                     2              2   \n",
       "2                     5             5                     4              6   \n",
       "3                     7             6                     7              7   \n",
       "4                     7             7                     6              7   \n",
       "\n",
       "   ...  Fatigue  Weight Loss  Shortness of Breath  Wheezing  \\\n",
       "0  ...        3            4                    2         2   \n",
       "1  ...        1            3                    7         8   \n",
       "2  ...        8            7                    9         2   \n",
       "3  ...        4            2                    3         1   \n",
       "4  ...        3            2                    4         1   \n",
       "\n",
       "   Swallowing Difficulty  Clubbing of Finger Nails  Frequent Cold  Dry Cough  \\\n",
       "0                      3                         1              2          3   \n",
       "1                      6                         2              1          7   \n",
       "2                      1                         4              6          7   \n",
       "3                      4                         5              6          7   \n",
       "4                      4                         2              4          2   \n",
       "\n",
       "   Snoring   Level  \n",
       "0        4     Low  \n",
       "1        2  Medium  \n",
       "2        2    High  \n",
       "3        5    High  \n",
       "4        3    High  \n",
       "\n",
       "[5 rows x 25 columns]"
      ]
     },
     "execution_count": 10,
     "metadata": {},
     "output_type": "execute_result"
    }
   ],
   "source": [
    "# looking for dataframe\n",
    "cancer_df.head()"
   ]
  },
  {
   "cell_type": "code",
   "execution_count": 11,
   "id": "49f6ed2a",
   "metadata": {},
   "outputs": [],
   "source": [
    "#cancer_df=cancer_df[['Coughing of Blood','Obesity','Smoking','Fatigue','Alcohol use','Balanced Diet','Air Pollution', 'Level']]"
   ]
  },
  {
   "cell_type": "code",
   "execution_count": 12,
   "id": "ec2edb24",
   "metadata": {},
   "outputs": [
    {
     "data": {
      "text/plain": [
       "Index(['Patient Id', 'Age', 'Gender', 'Air Pollution', 'Alcohol use',\n",
       "       'Dust Allergy', 'OccuPational Hazards', 'Genetic Risk',\n",
       "       'chronic Lung Disease', 'Balanced Diet', 'Obesity', 'Smoking',\n",
       "       'Passive Smoker', 'Chest Pain', 'Coughing of Blood', 'Fatigue',\n",
       "       'Weight Loss', 'Shortness of Breath', 'Wheezing',\n",
       "       'Swallowing Difficulty', 'Clubbing of Finger Nails', 'Frequent Cold',\n",
       "       'Dry Cough', 'Snoring', 'Level'],\n",
       "      dtype='object')"
      ]
     },
     "execution_count": 12,
     "metadata": {},
     "output_type": "execute_result"
    }
   ],
   "source": [
    "cancer_df.columns"
   ]
  },
  {
   "cell_type": "code",
   "execution_count": 13,
   "id": "0fd3dbd1",
   "metadata": {},
   "outputs": [],
   "source": [
    "#cancer_df.to_html('cancer.html')"
   ]
  },
  {
   "cell_type": "code",
   "execution_count": 14,
   "id": "0c358982",
   "metadata": {},
   "outputs": [
    {
     "data": {
      "text/plain": [
       "(1000, 25)"
      ]
     },
     "execution_count": 14,
     "metadata": {},
     "output_type": "execute_result"
    }
   ],
   "source": [
    "# shape of dataframe\n",
    "cancer_df.shape"
   ]
  },
  {
   "cell_type": "code",
   "execution_count": 15,
   "id": "6fcdc7c6",
   "metadata": {},
   "outputs": [
    {
     "name": "stdout",
     "output_type": "stream",
     "text": [
      "<class 'pandas.core.frame.DataFrame'>\n",
      "RangeIndex: 1000 entries, 0 to 999\n",
      "Data columns (total 25 columns):\n",
      " #   Column                    Non-Null Count  Dtype \n",
      "---  ------                    --------------  ----- \n",
      " 0   Patient Id                1000 non-null   object\n",
      " 1   Age                       1000 non-null   int64 \n",
      " 2   Gender                    1000 non-null   int64 \n",
      " 3   Air Pollution             1000 non-null   int64 \n",
      " 4   Alcohol use               1000 non-null   int64 \n",
      " 5   Dust Allergy              1000 non-null   int64 \n",
      " 6   OccuPational Hazards      1000 non-null   int64 \n",
      " 7   Genetic Risk              1000 non-null   int64 \n",
      " 8   chronic Lung Disease      1000 non-null   int64 \n",
      " 9   Balanced Diet             1000 non-null   int64 \n",
      " 10  Obesity                   1000 non-null   int64 \n",
      " 11  Smoking                   1000 non-null   int64 \n",
      " 12  Passive Smoker            1000 non-null   int64 \n",
      " 13  Chest Pain                1000 non-null   int64 \n",
      " 14  Coughing of Blood         1000 non-null   int64 \n",
      " 15  Fatigue                   1000 non-null   int64 \n",
      " 16  Weight Loss               1000 non-null   int64 \n",
      " 17  Shortness of Breath       1000 non-null   int64 \n",
      " 18  Wheezing                  1000 non-null   int64 \n",
      " 19  Swallowing Difficulty     1000 non-null   int64 \n",
      " 20  Clubbing of Finger Nails  1000 non-null   int64 \n",
      " 21  Frequent Cold             1000 non-null   int64 \n",
      " 22  Dry Cough                 1000 non-null   int64 \n",
      " 23  Snoring                   1000 non-null   int64 \n",
      " 24  Level                     1000 non-null   object\n",
      "dtypes: int64(23), object(2)\n",
      "memory usage: 195.4+ KB\n"
     ]
    }
   ],
   "source": [
    "#data types of dataframe\n",
    "cancer_df.info()"
   ]
  },
  {
   "cell_type": "code",
   "execution_count": 16,
   "id": "d29530b9",
   "metadata": {},
   "outputs": [
    {
     "data": {
      "text/plain": [
       "High      365\n",
       "Medium    332\n",
       "Low       303\n",
       "Name: Level, dtype: int64"
      ]
     },
     "execution_count": 16,
     "metadata": {},
     "output_type": "execute_result"
    }
   ],
   "source": [
    "#looking for target columns\n",
    "cancer_df['Level'].value_counts()"
   ]
  },
  {
   "cell_type": "code",
   "execution_count": 17,
   "id": "41111c98",
   "metadata": {},
   "outputs": [],
   "source": [
    "#cancer_df['Level']=cancer_df['Level'].replace('Medium', 'Low')"
   ]
  },
  {
   "cell_type": "code",
   "execution_count": 18,
   "id": "f9f62b5d",
   "metadata": {},
   "outputs": [
    {
     "data": {
      "text/plain": [
       "High      365\n",
       "Medium    332\n",
       "Low       303\n",
       "Name: Level, dtype: int64"
      ]
     },
     "execution_count": 18,
     "metadata": {},
     "output_type": "execute_result"
    }
   ],
   "source": [
    "#looking for target columns\n",
    "cancer_df['Level'].value_counts()"
   ]
  },
  {
   "cell_type": "code",
   "execution_count": 21,
   "id": "dcce9d24",
   "metadata": {},
   "outputs": [],
   "source": [
    "#dropping unnecessary columns\n",
    "cancer_df.drop(columns=['Patient Id'], inplace=True)"
   ]
  },
  {
   "cell_type": "code",
   "execution_count": 22,
   "id": "1cbda4f1",
   "metadata": {},
   "outputs": [],
   "source": [
    "# create feature matrix (X)\n",
    "#selecting all columns except 'Revenue'\n",
    "X=cancer_df.drop('Level', axis=1) \n",
    "\n",
    "# create response vector (y)\n",
    "##selecting 'Revenue' column\n",
    "y=cancer_df['Level'].values "
   ]
  },
  {
   "cell_type": "code",
   "execution_count": 23,
   "id": "57d9c5cc",
   "metadata": {},
   "outputs": [
    {
     "data": {
      "text/plain": [
       "array([1, 2, 0, 0, 0, 0, 1, 1, 2, 2, 0, 0, 2, 0, 1, 2, 2, 0, 0, 2, 0, 0,\n",
       "       0, 0, 0, 2, 2, 2, 0, 2, 0, 0, 2, 1, 1, 2, 1, 1, 1, 1, 1, 1, 1, 1,\n",
       "       1, 1, 0, 1, 1, 1, 1, 1, 1, 1, 1, 1, 1, 0, 1, 1, 1, 1, 1, 2, 2, 2,\n",
       "       2, 2, 0, 2, 2, 2, 2, 2, 2, 2, 2, 2, 2, 0, 2, 2, 2, 2, 2, 2, 2, 0,\n",
       "       0, 0, 2, 0, 0, 0, 0, 0, 0, 0, 0, 0, 0, 2, 0, 0, 0, 0, 0, 0, 0, 0,\n",
       "       0, 0, 1, 2, 0, 0, 0, 1, 1, 2, 2, 0, 0, 2, 0, 1, 2, 2, 0, 0, 2, 0,\n",
       "       0, 0, 0, 2, 2, 2, 2, 0, 2, 0, 0, 2, 1, 1, 0, 1, 1, 1, 1, 1, 1, 1,\n",
       "       1, 1, 1, 0, 1, 1, 1, 1, 1, 1, 1, 1, 1, 1, 2, 1, 1, 1, 1, 1, 2, 2,\n",
       "       2, 2, 2, 1, 2, 2, 2, 2, 2, 2, 2, 2, 2, 2, 1, 2, 2, 2, 2, 2, 2, 2,\n",
       "       0, 0, 0, 1, 0, 0, 0, 0, 0, 0, 0, 0, 0, 0, 1, 0, 0, 0, 0, 0, 0, 0,\n",
       "       0, 0, 0, 2, 1, 0, 0, 0, 1, 1, 2, 2, 0, 0, 2, 1, 1, 2, 2, 0, 0, 2,\n",
       "       0, 0, 0, 0, 1, 2, 2, 2, 0, 2, 0, 0, 2, 1, 1, 1, 1, 1, 1, 1, 1, 1,\n",
       "       1, 1, 1, 1, 1, 1, 1, 1, 1, 1, 1, 1, 1, 1, 1, 1, 1, 1, 1, 1, 1, 2,\n",
       "       2, 2, 2, 2, 1, 2, 2, 2, 2, 2, 2, 2, 2, 2, 2, 1, 2, 2, 2, 2, 2, 2,\n",
       "       2, 0, 0, 0, 1, 0, 0, 0, 0, 0, 0, 0, 0, 0, 0, 1, 0, 0, 0, 0, 0, 0,\n",
       "       0, 0, 0, 0, 2, 1, 0, 0, 0, 1, 1, 2, 2, 0, 0, 2, 1, 1, 2, 2, 0, 0,\n",
       "       2, 0, 0, 0, 0, 1, 2, 2, 2, 0, 2, 0, 0, 2, 1, 1, 1, 1, 1, 1, 1, 1,\n",
       "       1, 1, 1, 1, 1, 1, 1, 1, 1, 1, 1, 1, 1, 1, 1, 1, 1, 1, 1, 1, 1, 1,\n",
       "       2, 2, 2, 2, 2, 1, 2, 2, 2, 2, 2, 2, 2, 2, 2, 2, 1, 2, 2, 2, 2, 2,\n",
       "       2, 2, 0, 0, 0, 1, 0, 0, 0, 0, 0, 0, 0, 0, 0, 0, 1, 0, 0, 0, 0, 0,\n",
       "       0, 0, 0, 0, 0, 0, 1, 0, 0, 0, 1, 1, 2, 2, 0, 0, 2, 1, 1, 2, 2, 0,\n",
       "       0, 2, 0, 0, 0, 0, 1, 2, 2, 2, 0, 2, 0, 0, 2, 1, 1, 2, 1, 1, 1, 1,\n",
       "       1, 1, 1, 1, 1, 1, 2, 1, 1, 1, 1, 1, 1, 1, 1, 1, 1, 2, 1, 1, 1, 1,\n",
       "       1, 2, 2, 2, 2, 2, 2, 2, 2, 2, 2, 2, 2, 2, 2, 2, 2, 2, 2, 2, 2, 2,\n",
       "       2, 2, 2, 0, 0, 0, 2, 0, 0, 0, 0, 0, 0, 0, 0, 0, 0, 2, 0, 0, 0, 0,\n",
       "       0, 0, 0, 0, 0, 0, 0, 2, 0, 0, 0, 1, 1, 2, 2, 0, 0, 2, 2, 1, 2, 2,\n",
       "       0, 0, 2, 0, 0, 0, 0, 2, 2, 2, 2, 0, 2, 0, 0, 2, 1, 1, 2, 1, 1, 1,\n",
       "       1, 1, 1, 1, 1, 1, 1, 2, 1, 1, 1, 1, 1, 1, 1, 1, 1, 1, 2, 1, 1, 1,\n",
       "       1, 1, 2, 2, 2, 2, 2, 2, 2, 2, 2, 2, 2, 2, 2, 2, 2, 2, 2, 2, 2, 2,\n",
       "       2, 2, 2, 2, 0, 0, 0, 2, 0, 0, 0, 0, 0, 0, 0, 0, 0, 0, 2, 0, 0, 0,\n",
       "       0, 0, 0, 0, 0, 0, 0, 2, 2, 0, 0, 0, 1, 1, 2, 2, 0, 0, 2, 2, 1, 2,\n",
       "       2, 0, 0, 2, 0, 0, 0, 0, 2, 2, 2, 2, 0, 2, 0, 0, 2, 1, 1, 2, 1, 1,\n",
       "       1, 1, 1, 1, 1, 1, 1, 1, 2, 1, 1, 1, 1, 1, 1, 1, 1, 1, 1, 0, 1, 1,\n",
       "       1, 1, 1, 2, 2, 2, 2, 2, 0, 2, 2, 2, 2, 2, 2, 2, 2, 2, 2, 0, 2, 2,\n",
       "       2, 2, 2, 2, 2, 0, 0, 0, 0, 0, 0, 0, 0, 0, 0, 0, 0, 0, 0, 0, 0, 0,\n",
       "       0, 0, 0, 0, 0, 0, 0, 0, 1, 0, 0, 0, 0, 1, 1, 2, 2, 0, 0, 2, 0, 1,\n",
       "       2, 2, 0, 0, 2, 0, 0, 0, 0, 0, 2, 2, 2, 0, 2, 0, 0, 2, 1, 1, 0, 1,\n",
       "       1, 1, 1, 1, 1, 1, 1, 1, 1, 0, 1, 1, 1, 1, 1, 1, 1, 1, 1, 1, 0, 1,\n",
       "       1, 1, 1, 1, 2, 2, 2, 2, 2, 0, 2, 2, 2, 2, 2, 2, 2, 2, 2, 2, 0, 2,\n",
       "       2, 2, 2, 2, 2, 2, 0, 0, 0, 0, 0, 0, 0, 0, 0, 0, 0, 0, 0, 0, 0, 0,\n",
       "       0, 0, 0, 0, 0, 0, 0, 0, 0, 2, 0, 0, 0, 0, 1, 1, 2, 2, 0, 0, 2, 0,\n",
       "       1, 2, 2, 0, 0, 2, 0, 0, 0, 0, 0, 2, 2, 2, 0, 2, 0, 0, 2, 1, 1, 0,\n",
       "       1, 1, 1, 1, 1, 1, 1, 1, 1, 1, 0, 1, 1, 1, 1, 1, 1, 1, 1, 1, 1, 0,\n",
       "       1, 1, 1, 1, 1, 2, 2, 2, 2, 2, 0, 2, 2, 2, 2, 2, 2, 2, 2, 2, 2, 0,\n",
       "       2, 2, 2, 2, 2, 2, 2, 0, 1, 1, 0, 1, 0, 0, 0, 2, 2, 0, 0, 0, 0, 0,\n",
       "       0, 0, 0, 0, 0, 0, 0, 0, 0, 0])"
      ]
     },
     "execution_count": 23,
     "metadata": {},
     "output_type": "execute_result"
    }
   ],
   "source": [
    "# Converting output labels to 0 and 1\n",
    "y_label = LabelEncoder().fit_transform(y)\n",
    "y_label"
   ]
  },
  {
   "cell_type": "code",
   "execution_count": 24,
   "id": "6120fd6e",
   "metadata": {},
   "outputs": [],
   "source": [
    "#Training set**: Used to train the classifier.\n",
    "#Testing set**: Used to estimate the error rate of the trained classifier.\n",
    "X_train, X_test, y_train, y_test = train_test_split(X, y_label, random_state=42)"
   ]
  },
  {
   "cell_type": "code",
   "execution_count": 25,
   "id": "f6e068b1",
   "metadata": {},
   "outputs": [],
   "source": [
    "# Scaling the X data by using StandardScaler()\n",
    "#scaler = StandardScaler().fit(X_train)\n",
    "#X_train_scaled = scaler.transform(X_train)\n",
    "X_train_scaled=X_train"
   ]
  },
  {
   "cell_type": "code",
   "execution_count": 26,
   "id": "cb96282f",
   "metadata": {},
   "outputs": [],
   "source": [
    "# Transforming the test dataset based on the fit from the training dataset\n",
    "#X_test_scaled = scaler.transform(X_test)\n",
    "X_test_scaled=X_test"
   ]
  },
  {
   "cell_type": "markdown",
   "id": "98650581",
   "metadata": {},
   "source": [
    "## Model score function using train data only"
   ]
  },
  {
   "cell_type": "code",
   "execution_count": 27,
   "id": "e7090af9",
   "metadata": {},
   "outputs": [],
   "source": [
    "#defining function for model scoring with training set only\n",
    "def train_score(model, X_train_scaled=X_train_scaled,\n",
    "                X_test_scaled=X_test_scaled, y_train=y_train,y_test=y_test):\n",
    "    #printing the accuracy score\n",
    "    train_score=model.score(X_train_scaled, y_train)\n",
    "    print(\"****************Train Score******************\")\n",
    "    print(train_score)\n",
    "    print()\n",
    "    \n",
    "    cvs=cross_val_score(model,X_train_scaled, y_train,cv=3, scoring='accuracy' )\n",
    "    print(\"**********Using K=3 cross validation**********\")\n",
    "    print(cvs)\n",
    "    print()\n",
    "    \n",
    "    #predection on the test set and confusion matrix\n",
    "    y_train_pred=cross_val_predict(model,X_train_scaled, y_train,cv=3)\n",
    "    cm=confusion_matrix(y_train, y_train_pred)\n",
    "    print(\"************Confusion Matrix using cross_val_predict******************\")\n",
    "    print(cm)\n",
    "    print()\n",
    "    \n",
    "    #classification report\n",
    "    cr=classification_report(y_train, y_train_pred)\n",
    "    print(\"********Classification Report******************\")\n",
    "    print(cr)\n",
    "    print()\n",
    "    \n",
    "\n"
   ]
  },
  {
   "cell_type": "markdown",
   "id": "82d43e81",
   "metadata": {},
   "source": [
    "## Model score function using both train and test data "
   ]
  },
  {
   "cell_type": "code",
   "execution_count": 28,
   "id": "4c0257ce",
   "metadata": {},
   "outputs": [],
   "source": [
    "#defining function for model scoring with test set\n",
    "def test_score(model, X_train_scaled=X_train_scaled,X_test_scaled=X_test_scaled, \n",
    "               y_train=y_train,y_test=y_test):\n",
    "    #printing the accuracy score\n",
    "    train_score=model.score(X_train_scaled, y_train)\n",
    "    test_score=model.score(X_test_scaled, y_test)\n",
    "    print(\"****************Train Score******************\")\n",
    "    print(train_score)\n",
    "    print()\n",
    "\n",
    "    print(\"*****************Test Score******************\")\n",
    "    print(test_score)\n",
    "    print()\n",
    "    \n",
    "    #predection on the test set and confusion matrix\n",
    "    y_pred=model.predict(X_test_scaled)\n",
    "    cm=confusion_matrix(y_test, y_pred)\n",
    "    print(\"************Confusion Matrix******************\")\n",
    "    print(cm)\n",
    "    print()\n",
    "    \n",
    "    #classification report\n",
    "    cr=classification_report(y_test, y_pred)\n",
    "    print(\"********Classification Report******************\")\n",
    "    print(cr)\n",
    "    print()\n",
    "    \n",
    "\n",
    "    \n"
   ]
  },
  {
   "cell_type": "markdown",
   "id": "0b38ebba",
   "metadata": {},
   "source": [
    "## Stochastic Gradent Descent Classifier"
   ]
  },
  {
   "cell_type": "code",
   "execution_count": 29,
   "id": "2ff4ec0c",
   "metadata": {},
   "outputs": [
    {
     "data": {
      "text/plain": [
       "SGDClassifier(loss='log', random_state=42)"
      ]
     },
     "execution_count": 29,
     "metadata": {},
     "output_type": "execute_result"
    }
   ],
   "source": [
    "# Creating a sgd classifier model on the scaled data\n",
    "sgd=SGDClassifier(random_state=42, loss='log')\n",
    "\n",
    "# Fit the model to the data\n",
    "sgd.fit(X_train_scaled, y_train)"
   ]
  },
  {
   "cell_type": "code",
   "execution_count": 30,
   "id": "fae82d92",
   "metadata": {},
   "outputs": [
    {
     "name": "stdout",
     "output_type": "stream",
     "text": [
      "****************Train Score******************\n",
      "0.9786666666666667\n",
      "\n",
      "**********Using K=3 cross validation**********\n",
      "[0.84  0.948 0.956]\n",
      "\n",
      "************Confusion Matrix using cross_val_predict******************\n",
      "[[261   0   0]\n",
      " [  3 196  38]\n",
      " [ 15   8 229]]\n",
      "\n",
      "********Classification Report******************\n",
      "              precision    recall  f1-score   support\n",
      "\n",
      "           0       0.94      1.00      0.97       261\n",
      "           1       0.96      0.83      0.89       237\n",
      "           2       0.86      0.91      0.88       252\n",
      "\n",
      "    accuracy                           0.91       750\n",
      "   macro avg       0.92      0.91      0.91       750\n",
      "weighted avg       0.92      0.91      0.91       750\n",
      "\n",
      "\n"
     ]
    }
   ],
   "source": [
    "#score for logistic regression using only training data\n",
    "train_score(sgd)"
   ]
  },
  {
   "cell_type": "markdown",
   "id": "08794096",
   "metadata": {},
   "source": [
    "## KNeighbors Classifier"
   ]
  },
  {
   "cell_type": "code",
   "execution_count": 31,
   "id": "83e34de7",
   "metadata": {},
   "outputs": [
    {
     "data": {
      "text/plain": [
       "KNeighborsClassifier(n_neighbors=3)"
      ]
     },
     "execution_count": 31,
     "metadata": {},
     "output_type": "execute_result"
    }
   ],
   "source": [
    "# Creating a Kneighbors classifier model on the scaled data\n",
    "knn= KNeighborsClassifier(n_neighbors=3)\n",
    "\n",
    "# Fit the model to the data\n",
    "knn.fit(X_train_scaled, y_train)"
   ]
  },
  {
   "cell_type": "code",
   "execution_count": 32,
   "id": "63e5f981",
   "metadata": {},
   "outputs": [
    {
     "name": "stdout",
     "output_type": "stream",
     "text": [
      "****************Train Score******************\n",
      "0.9986666666666667\n",
      "\n",
      "**********Using K=3 cross validation**********\n",
      "[0.996 0.972 1.   ]\n",
      "\n",
      "************Confusion Matrix using cross_val_predict******************\n",
      "[[254   7   0]\n",
      " [  0 236   1]\n",
      " [  0   0 252]]\n",
      "\n",
      "********Classification Report******************\n",
      "              precision    recall  f1-score   support\n",
      "\n",
      "           0       1.00      0.97      0.99       261\n",
      "           1       0.97      1.00      0.98       237\n",
      "           2       1.00      1.00      1.00       252\n",
      "\n",
      "    accuracy                           0.99       750\n",
      "   macro avg       0.99      0.99      0.99       750\n",
      "weighted avg       0.99      0.99      0.99       750\n",
      "\n",
      "\n"
     ]
    }
   ],
   "source": [
    "#score for Kneighbors classifier using only training data\n",
    "train_score(knn)"
   ]
  },
  {
   "cell_type": "code",
   "execution_count": 33,
   "id": "17f0ba58",
   "metadata": {},
   "outputs": [
    {
     "name": "stdout",
     "output_type": "stream",
     "text": [
      "k: 1, Train/Test Score: 1.000/1.000\n",
      "k: 3, Train/Test Score: 0.999/0.996\n",
      "k: 5, Train/Test Score: 0.999/0.996\n",
      "k: 7, Train/Test Score: 0.999/0.996\n",
      "k: 9, Train/Test Score: 0.999/0.996\n"
     ]
    },
    {
     "data": {
      "image/png": "[encoded data removed]",
      "text/plain": [
       "<Figure size 432x288 with 1 Axes>"
      ]
     },
     "metadata": {
      "needs_background": "light"
     },
     "output_type": "display_data"
    }
   ],
   "source": [
    "# Loop through different k values to find which has the highest accuracy.\n",
    "train_scores = []\n",
    "test_scores = []\n",
    "for k in range(1, 10, 2):\n",
    "    knn = KNeighborsClassifier(n_neighbors=k)\n",
    "    knn.fit(X_train_scaled, y_train)\n",
    "    tra_score = knn.score(X_train_scaled, y_train)\n",
    "    tes_score = knn.score(X_test_scaled, y_test)\n",
    "    train_scores.append(tra_score)\n",
    "    test_scores.append(tes_score)\n",
    "    print(f\"k: {k}, Train/Test Score: {tra_score:.3f}/{tes_score:.3f}\")\n",
    "    \n",
    "#plotting knn scores\n",
    "plt.plot(range(1, 10, 2), train_scores, marker='o')\n",
    "plt.plot(range(1, 10, 2), test_scores, marker=\"x\")\n",
    "plt.xlabel(\"k neighbors\")\n",
    "plt.ylabel(\"Testing accuracy Score\")\n",
    "plt.show()"
   ]
  },
  {
   "cell_type": "code",
   "execution_count": 34,
   "id": "9b83ad9f",
   "metadata": {},
   "outputs": [
    {
     "data": {
      "text/plain": [
       "KNeighborsClassifier()"
      ]
     },
     "execution_count": 34,
     "metadata": {},
     "output_type": "execute_result"
    }
   ],
   "source": [
    "# Creating a Kneighbors classifier model on the scaled data\n",
    "knn_5= KNeighborsClassifier(n_neighbors=5)\n",
    "\n",
    "# Fit the model to the data\n",
    "knn_5.fit(X_train_scaled, y_train)"
   ]
  },
  {
   "cell_type": "code",
   "execution_count": 35,
   "id": "fdd742d9",
   "metadata": {},
   "outputs": [
    {
     "name": "stdout",
     "output_type": "stream",
     "text": [
      "****************Train Score******************\n",
      "0.9986666666666667\n",
      "\n",
      "**********Using K=3 cross validation**********\n",
      "[0.996 0.952 1.   ]\n",
      "\n",
      "************Confusion Matrix using cross_val_predict******************\n",
      "[[254   7   0]\n",
      " [  0 236   1]\n",
      " [  5   0 247]]\n",
      "\n",
      "********Classification Report******************\n",
      "              precision    recall  f1-score   support\n",
      "\n",
      "           0       0.98      0.97      0.98       261\n",
      "           1       0.97      1.00      0.98       237\n",
      "           2       1.00      0.98      0.99       252\n",
      "\n",
      "    accuracy                           0.98       750\n",
      "   macro avg       0.98      0.98      0.98       750\n",
      "weighted avg       0.98      0.98      0.98       750\n",
      "\n",
      "\n"
     ]
    }
   ],
   "source": [
    "#score for Kneighbors classifier using training and test data\n",
    "train_score(knn_5)"
   ]
  },
  {
   "cell_type": "markdown",
   "id": "c4184a8f",
   "metadata": {},
   "source": [
    "### Tuning hyperparamaters  using Grid Search CV for knn"
   ]
  },
  {
   "cell_type": "code",
   "execution_count": 36,
   "id": "68a85090",
   "metadata": {},
   "outputs": [],
   "source": [
    "#### Using GridSearchCV\n",
    "param_grid_knn = {'weights': ['uniform','distance'],\n",
    "              'algorithm': ['auto','ball_tree', 'kd_tree'],\n",
    "             'n_neighbors':[1,5,8,10]}\n",
    "grid_knn = GridSearchCV(knn_5, param_grid_knn, verbose=4, n_jobs=-1)"
   ]
  },
  {
   "cell_type": "code",
   "execution_count": 37,
   "id": "b85d6397",
   "metadata": {},
   "outputs": [
    {
     "name": "stdout",
     "output_type": "stream",
     "text": [
      "Fitting 5 folds for each of 24 candidates, totalling 120 fits\n"
     ]
    },
    {
     "data": {
      "text/plain": [
       "GridSearchCV(estimator=KNeighborsClassifier(), n_jobs=-1,\n",
       "             param_grid={'algorithm': ['auto', 'ball_tree', 'kd_tree'],\n",
       "                         'n_neighbors': [1, 5, 8, 10],\n",
       "                         'weights': ['uniform', 'distance']},\n",
       "             verbose=4)"
      ]
     },
     "execution_count": 37,
     "metadata": {},
     "output_type": "execute_result"
    }
   ],
   "source": [
    "grid_knn.fit(X_train_scaled, y_train)"
   ]
  },
  {
   "cell_type": "code",
   "execution_count": 38,
   "id": "a0e63111",
   "metadata": {},
   "outputs": [
    {
     "name": "stdout",
     "output_type": "stream",
     "text": [
      "{'algorithm': 'auto', 'n_neighbors': 1, 'weights': 'uniform'}\n"
     ]
    }
   ],
   "source": [
    "# List the best parameters for this dataset\n",
    "print(grid_knn.best_params_)"
   ]
  },
  {
   "cell_type": "code",
   "execution_count": 39,
   "id": "e08ed8b0",
   "metadata": {},
   "outputs": [
    {
     "name": "stdout",
     "output_type": "stream",
     "text": [
      "0.9986666666666666\n"
     ]
    }
   ],
   "source": [
    "# List the best score\n",
    "print(grid_knn.best_score_)"
   ]
  },
  {
   "cell_type": "code",
   "execution_count": 40,
   "id": "14118b04",
   "metadata": {},
   "outputs": [
    {
     "data": {
      "text/plain": [
       "KNeighborsClassifier(n_neighbors=1)"
      ]
     },
     "execution_count": 40,
     "metadata": {},
     "output_type": "execute_result"
    }
   ],
   "source": [
    "#best estimator\n",
    "knn_b=grid_knn.best_estimator_\n",
    "knn_b"
   ]
  },
  {
   "cell_type": "code",
   "execution_count": 41,
   "id": "f2a68acd",
   "metadata": {},
   "outputs": [
    {
     "name": "stdout",
     "output_type": "stream",
     "text": [
      "****************Train Score******************\n",
      "1.0\n",
      "\n",
      "**********Using K=3 cross validation**********\n",
      "[0.996 1.    1.   ]\n",
      "\n",
      "************Confusion Matrix using cross_val_predict******************\n",
      "[[261   0   0]\n",
      " [  0 236   1]\n",
      " [  0   0 252]]\n",
      "\n",
      "********Classification Report******************\n",
      "              precision    recall  f1-score   support\n",
      "\n",
      "           0       1.00      1.00      1.00       261\n",
      "           1       1.00      1.00      1.00       237\n",
      "           2       1.00      1.00      1.00       252\n",
      "\n",
      "    accuracy                           1.00       750\n",
      "   macro avg       1.00      1.00      1.00       750\n",
      "weighted avg       1.00      1.00      1.00       750\n",
      "\n",
      "\n"
     ]
    }
   ],
   "source": [
    "#score for logistic regression using training and test data\n",
    "train_score(knn_b)"
   ]
  },
  {
   "cell_type": "markdown",
   "id": "3fd9feee",
   "metadata": {},
   "source": [
    "## Support Vector Classifier"
   ]
  },
  {
   "cell_type": "code",
   "execution_count": 42,
   "id": "0b19ad21",
   "metadata": {},
   "outputs": [
    {
     "data": {
      "text/plain": [
       "SVC(kernel='linear', probability=True)"
      ]
     },
     "execution_count": 42,
     "metadata": {},
     "output_type": "execute_result"
    }
   ],
   "source": [
    "# Creating a support vector classifier model on the scaled data\n",
    "svc= SVC(kernel='linear',  probability=True)\n",
    "\n",
    "# Fit the model to the data\n",
    "svc.fit(X_train_scaled, y_train)"
   ]
  },
  {
   "cell_type": "code",
   "execution_count": 43,
   "id": "351f9b5e",
   "metadata": {},
   "outputs": [
    {
     "name": "stdout",
     "output_type": "stream",
     "text": [
      "****************Train Score******************\n",
      "1.0\n",
      "\n",
      "**********Using K=3 cross validation**********\n",
      "[1. 1. 1.]\n",
      "\n",
      "************Confusion Matrix using cross_val_predict******************\n",
      "[[261   0   0]\n",
      " [  0 237   0]\n",
      " [  0   0 252]]\n",
      "\n",
      "********Classification Report******************\n",
      "              precision    recall  f1-score   support\n",
      "\n",
      "           0       1.00      1.00      1.00       261\n",
      "           1       1.00      1.00      1.00       237\n",
      "           2       1.00      1.00      1.00       252\n",
      "\n",
      "    accuracy                           1.00       750\n",
      "   macro avg       1.00      1.00      1.00       750\n",
      "weighted avg       1.00      1.00      1.00       750\n",
      "\n",
      "\n"
     ]
    }
   ],
   "source": [
    "#score for support vector classifier using only training data\n",
    "train_score(svc)"
   ]
  },
  {
   "cell_type": "markdown",
   "id": "568f1eaf",
   "metadata": {},
   "source": [
    "### Tuning hyperparamaters  using Randomized Search CV for SVC"
   ]
  },
  {
   "cell_type": "code",
   "execution_count": 44,
   "id": "15dcf5c4",
   "metadata": {},
   "outputs": [],
   "source": [
    "#### Using GridSearchCV\n",
    "param_rand_svc ={\n",
    "              'C': [1.0,2.0],\n",
    "                'kernel':['linear', 'poly','rbf'],\n",
    "                'gamma':['auto','scale']}\n",
    "rand_svc = RandomizedSearchCV(svc, param_rand_svc, cv=3, verbose=4, n_jobs=-1)"
   ]
  },
  {
   "cell_type": "code",
   "execution_count": 45,
   "id": "35980d65",
   "metadata": {},
   "outputs": [
    {
     "name": "stdout",
     "output_type": "stream",
     "text": [
      "Fitting 3 folds for each of 10 candidates, totalling 30 fits\n"
     ]
    },
    {
     "data": {
      "text/plain": [
       "RandomizedSearchCV(cv=3, estimator=SVC(kernel='linear', probability=True),\n",
       "                   n_jobs=-1,\n",
       "                   param_distributions={'C': [1.0, 2.0],\n",
       "                                        'gamma': ['auto', 'scale'],\n",
       "                                        'kernel': ['linear', 'poly', 'rbf']},\n",
       "                   verbose=4)"
      ]
     },
     "execution_count": 45,
     "metadata": {},
     "output_type": "execute_result"
    }
   ],
   "source": [
    "rand_svc.fit(X_train_scaled, y_train)"
   ]
  },
  {
   "cell_type": "code",
   "execution_count": 46,
   "id": "298d87e0",
   "metadata": {},
   "outputs": [
    {
     "name": "stdout",
     "output_type": "stream",
     "text": [
      "{'kernel': 'poly', 'gamma': 'auto', 'C': 1.0}\n"
     ]
    }
   ],
   "source": [
    "# List the best parameters for this dataset\n",
    "print(rand_svc.best_params_)"
   ]
  },
  {
   "cell_type": "code",
   "execution_count": 47,
   "id": "e1271a04",
   "metadata": {},
   "outputs": [
    {
     "name": "stdout",
     "output_type": "stream",
     "text": [
      "1.0\n"
     ]
    }
   ],
   "source": [
    "# List the best score\n",
    "print(rand_svc.best_score_)"
   ]
  },
  {
   "cell_type": "code",
   "execution_count": 48,
   "id": "f2921235",
   "metadata": {},
   "outputs": [
    {
     "data": {
      "text/plain": [
       "SVC(gamma='auto', kernel='poly', probability=True)"
      ]
     },
     "execution_count": 48,
     "metadata": {},
     "output_type": "execute_result"
    }
   ],
   "source": [
    "#best estimator\n",
    "svc_R_b=rand_svc.best_estimator_\n",
    "svc_R_b"
   ]
  },
  {
   "cell_type": "code",
   "execution_count": 49,
   "id": "c666bb8e",
   "metadata": {},
   "outputs": [
    {
     "name": "stdout",
     "output_type": "stream",
     "text": [
      "****************Train Score******************\n",
      "1.0\n",
      "\n",
      "**********Using K=3 cross validation**********\n",
      "[1. 1. 1.]\n",
      "\n",
      "************Confusion Matrix using cross_val_predict******************\n",
      "[[261   0   0]\n",
      " [  0 237   0]\n",
      " [  0   0 252]]\n",
      "\n",
      "********Classification Report******************\n",
      "              precision    recall  f1-score   support\n",
      "\n",
      "           0       1.00      1.00      1.00       261\n",
      "           1       1.00      1.00      1.00       237\n",
      "           2       1.00      1.00      1.00       252\n",
      "\n",
      "    accuracy                           1.00       750\n",
      "   macro avg       1.00      1.00      1.00       750\n",
      "weighted avg       1.00      1.00      1.00       750\n",
      "\n",
      "\n"
     ]
    }
   ],
   "source": [
    "#score for logistic regression using training and test data\n",
    "train_score(svc_R_b)"
   ]
  },
  {
   "cell_type": "markdown",
   "id": "4b00cf7d",
   "metadata": {},
   "source": [
    "## Decision Tree Classifier"
   ]
  },
  {
   "cell_type": "code",
   "execution_count": 50,
   "id": "2713eddf",
   "metadata": {},
   "outputs": [
    {
     "data": {
      "text/plain": [
       "DecisionTreeClassifier()"
      ]
     },
     "execution_count": 50,
     "metadata": {},
     "output_type": "execute_result"
    }
   ],
   "source": [
    "# Creating a Decision Tree model on the scaled data\n",
    "dt= DecisionTreeClassifier()\n",
    "\n",
    "# Fit the model to the data\n",
    "dt.fit(X_train_scaled, y_train)"
   ]
  },
  {
   "cell_type": "code",
   "execution_count": 51,
   "id": "2b7a01c5",
   "metadata": {},
   "outputs": [
    {
     "name": "stdout",
     "output_type": "stream",
     "text": [
      "****************Train Score******************\n",
      "1.0\n",
      "\n",
      "**********Using K=3 cross validation**********\n",
      "[1. 1. 1.]\n",
      "\n",
      "************Confusion Matrix using cross_val_predict******************\n",
      "[[261   0   0]\n",
      " [  0 237   0]\n",
      " [  0   0 252]]\n",
      "\n",
      "********Classification Report******************\n",
      "              precision    recall  f1-score   support\n",
      "\n",
      "           0       1.00      1.00      1.00       261\n",
      "           1       1.00      1.00      1.00       237\n",
      "           2       1.00      1.00      1.00       252\n",
      "\n",
      "    accuracy                           1.00       750\n",
      "   macro avg       1.00      1.00      1.00       750\n",
      "weighted avg       1.00      1.00      1.00       750\n",
      "\n",
      "\n"
     ]
    }
   ],
   "source": [
    "#score for Decision Tree using only training data\n",
    "train_score(dt)"
   ]
  },
  {
   "cell_type": "code",
   "execution_count": 52,
   "id": "8b23ef6c",
   "metadata": {},
   "outputs": [
    {
     "name": "stdout",
     "output_type": "stream",
     "text": [
      "[0.         0.         0.         0.         0.         0.\n",
      " 0.         0.         0.         0.18102066 0.10775114 0.37237461\n",
      " 0.         0.         0.         0.         0.         0.22911083\n",
      " 0.         0.         0.         0.         0.10974275]\n"
     ]
    },
    {
     "data": {
      "image/png": "[encoded data removed]",
      "text/plain": [
       "<Figure size 432x288 with 1 Axes>"
      ]
     },
     "metadata": {
      "needs_background": "light"
     },
     "output_type": "display_data"
    }
   ],
   "source": [
    "# plotting columns with its importances\n",
    "features_dt = dt.feature_importances_\n",
    "print(features_dt)\n",
    "plt.bar(x = range(len(features_dt)), height=features_dt)\n",
    "plt.show()"
   ]
  },
  {
   "cell_type": "markdown",
   "id": "581aeb2e",
   "metadata": {},
   "source": [
    "### Tuning hyperparamaters  using Randomized Search CV for Decision Tree"
   ]
  },
  {
   "cell_type": "code",
   "execution_count": 53,
   "id": "993d553a",
   "metadata": {},
   "outputs": [],
   "source": [
    "#### Using GridSearchCV\n",
    "param_rand_dt ={\n",
    "              'criterion': ['gini','entropy'],\n",
    "             'max_depth':[1,2,5,10,100,1000,10000],\n",
    "                'min_samples_leaf':[1,5,10,100,1000,10000],\n",
    "                'max_features':['auto','sqrt','log2']}\n",
    "rand_dt = RandomizedSearchCV(dt, param_rand_dt, cv=3, verbose=4, n_jobs=-1)"
   ]
  },
  {
   "cell_type": "code",
   "execution_count": 54,
   "id": "b93db3ee",
   "metadata": {},
   "outputs": [
    {
     "name": "stdout",
     "output_type": "stream",
     "text": [
      "Fitting 3 folds for each of 10 candidates, totalling 30 fits\n"
     ]
    },
    {
     "data": {
      "text/plain": [
       "RandomizedSearchCV(cv=3, estimator=DecisionTreeClassifier(), n_jobs=-1,\n",
       "                   param_distributions={'criterion': ['gini', 'entropy'],\n",
       "                                        'max_depth': [1, 2, 5, 10, 100, 1000,\n",
       "                                                      10000],\n",
       "                                        'max_features': ['auto', 'sqrt',\n",
       "                                                         'log2'],\n",
       "                                        'min_samples_leaf': [1, 5, 10, 100,\n",
       "                                                             1000, 10000]},\n",
       "                   verbose=4)"
      ]
     },
     "execution_count": 54,
     "metadata": {},
     "output_type": "execute_result"
    }
   ],
   "source": [
    "rand_dt.fit(X_train_scaled, y_train)"
   ]
  },
  {
   "cell_type": "code",
   "execution_count": 55,
   "id": "972c0f00",
   "metadata": {},
   "outputs": [
    {
     "name": "stdout",
     "output_type": "stream",
     "text": [
      "{'min_samples_leaf': 1, 'max_features': 'auto', 'max_depth': 10, 'criterion': 'gini'}\n"
     ]
    }
   ],
   "source": [
    "# List the best parameters for this dataset\n",
    "print(rand_dt.best_params_)"
   ]
  },
  {
   "cell_type": "code",
   "execution_count": 56,
   "id": "3556952d",
   "metadata": {},
   "outputs": [
    {
     "name": "stdout",
     "output_type": "stream",
     "text": [
      "1.0\n"
     ]
    }
   ],
   "source": [
    "# List the best score\n",
    "print(rand_dt.best_score_)"
   ]
  },
  {
   "cell_type": "code",
   "execution_count": 57,
   "id": "3f0873fb",
   "metadata": {},
   "outputs": [
    {
     "data": {
      "text/plain": [
       "DecisionTreeClassifier(max_depth=10, max_features='auto')"
      ]
     },
     "execution_count": 57,
     "metadata": {},
     "output_type": "execute_result"
    }
   ],
   "source": [
    "#best estimator\n",
    "dt_R_b=rand_dt.best_estimator_\n",
    "dt_R_b"
   ]
  },
  {
   "cell_type": "code",
   "execution_count": 58,
   "id": "abad7860",
   "metadata": {},
   "outputs": [
    {
     "name": "stdout",
     "output_type": "stream",
     "text": [
      "****************Train Score******************\n",
      "1.0\n",
      "\n",
      "**********Using K=3 cross validation**********\n",
      "[1. 1. 1.]\n",
      "\n",
      "************Confusion Matrix using cross_val_predict******************\n",
      "[[261   0   0]\n",
      " [  0 237   0]\n",
      " [  0   0 252]]\n",
      "\n",
      "********Classification Report******************\n",
      "              precision    recall  f1-score   support\n",
      "\n",
      "           0       1.00      1.00      1.00       261\n",
      "           1       1.00      1.00      1.00       237\n",
      "           2       1.00      1.00      1.00       252\n",
      "\n",
      "    accuracy                           1.00       750\n",
      "   macro avg       1.00      1.00      1.00       750\n",
      "weighted avg       1.00      1.00      1.00       750\n",
      "\n",
      "\n"
     ]
    }
   ],
   "source": [
    "#score for logistic regression using training and test data\n",
    "train_score(dt_R_b)"
   ]
  },
  {
   "cell_type": "markdown",
   "id": "a2a7ab53",
   "metadata": {},
   "source": [
    "## Bagging"
   ]
  },
  {
   "cell_type": "markdown",
   "id": "5bf19acd",
   "metadata": {},
   "source": [
    "## a. Random Forest Classifier\n",
    "Instead of having one decision tree, we make more random trees and average their output."
   ]
  },
  {
   "cell_type": "code",
   "execution_count": 59,
   "id": "a4654b5d",
   "metadata": {},
   "outputs": [
    {
     "data": {
      "text/plain": [
       "RandomForestClassifier()"
      ]
     },
     "execution_count": 59,
     "metadata": {},
     "output_type": "execute_result"
    }
   ],
   "source": [
    "# Creating a Random Forest Classifer model on the scaled data\n",
    "rf= RandomForestClassifier()\n",
    "\n",
    "# Fit the model to the data\n",
    "rf.fit(X_train_scaled, y_train)"
   ]
  },
  {
   "cell_type": "code",
   "execution_count": 60,
   "id": "ec5bea68",
   "metadata": {},
   "outputs": [
    {
     "name": "stdout",
     "output_type": "stream",
     "text": [
      "****************Train Score******************\n",
      "1.0\n",
      "\n",
      "**********Using K=3 cross validation**********\n",
      "[1. 1. 1.]\n",
      "\n",
      "************Confusion Matrix using cross_val_predict******************\n",
      "[[261   0   0]\n",
      " [  0 237   0]\n",
      " [  0   0 252]]\n",
      "\n",
      "********Classification Report******************\n",
      "              precision    recall  f1-score   support\n",
      "\n",
      "           0       1.00      1.00      1.00       261\n",
      "           1       1.00      1.00      1.00       237\n",
      "           2       1.00      1.00      1.00       252\n",
      "\n",
      "    accuracy                           1.00       750\n",
      "   macro avg       1.00      1.00      1.00       750\n",
      "weighted avg       1.00      1.00      1.00       750\n",
      "\n",
      "\n"
     ]
    }
   ],
   "source": [
    "#score for Random Forest Classifer using only training data\n",
    "train_score(rf)"
   ]
  },
  {
   "cell_type": "code",
   "execution_count": 61,
   "id": "ed780941",
   "metadata": {},
   "outputs": [
    {
     "name": "stdout",
     "output_type": "stream",
     "text": [
      "[0.00781816 0.00062435 0.02822476 0.05544305 0.04313948 0.0268126\n",
      " 0.04701964 0.01275925 0.04507699 0.1001405  0.03810548 0.12049065\n",
      " 0.03035055 0.07375581 0.07469227 0.02441095 0.03418013 0.08013334\n",
      " 0.043072   0.02905675 0.02530831 0.02113339 0.0382516 ]\n"
     ]
    },
    {
     "data": {
      "image/png": "[encoded data removed]",
      "text/plain": [
       "<Figure size 432x288 with 1 Axes>"
      ]
     },
     "metadata": {
      "needs_background": "light"
     },
     "output_type": "display_data"
    }
   ],
   "source": [
    "# plotting columns with its importances\n",
    "features_rf = rf.feature_importances_\n",
    "print(features_rf)\n",
    "plt.bar(x = range(len(features_rf)), height=features_rf)\n",
    "plt.show()"
   ]
  },
  {
   "cell_type": "markdown",
   "id": "3c2e8adc",
   "metadata": {},
   "source": [
    "### Tuning hyperparamaters  using Randomized Search CV for Random Forest"
   ]
  },
  {
   "cell_type": "code",
   "execution_count": 62,
   "id": "10295a4b",
   "metadata": {},
   "outputs": [],
   "source": [
    "#### Using GridSearchCV\n",
    "param_rand_rf = {'n_estimators':[100,200,500],\n",
    "              'criterion': ['gini','entropy'],\n",
    "             'max_depth':[1,2,5,10,100,1000,10000],\n",
    "                'min_samples_leaf':[1,5,10,100,1000,10000],\n",
    "                'max_features':['auto','sqrt','log2']}\n",
    "rand_rf = RandomizedSearchCV(rf, param_rand_rf, cv=3, verbose=1, n_jobs=-1)"
   ]
  },
  {
   "cell_type": "code",
   "execution_count": 63,
   "id": "7c81a187",
   "metadata": {},
   "outputs": [
    {
     "name": "stdout",
     "output_type": "stream",
     "text": [
      "Fitting 3 folds for each of 10 candidates, totalling 30 fits\n"
     ]
    },
    {
     "data": {
      "text/plain": [
       "RandomizedSearchCV(cv=3, estimator=RandomForestClassifier(), n_jobs=-1,\n",
       "                   param_distributions={'criterion': ['gini', 'entropy'],\n",
       "                                        'max_depth': [1, 2, 5, 10, 100, 1000,\n",
       "                                                      10000],\n",
       "                                        'max_features': ['auto', 'sqrt',\n",
       "                                                         'log2'],\n",
       "                                        'min_samples_leaf': [1, 5, 10, 100,\n",
       "                                                             1000, 10000],\n",
       "                                        'n_estimators': [100, 200, 500]},\n",
       "                   verbose=1)"
      ]
     },
     "execution_count": 63,
     "metadata": {},
     "output_type": "execute_result"
    }
   ],
   "source": [
    "rand_rf.fit(X_train_scaled, y_train)"
   ]
  },
  {
   "cell_type": "code",
   "execution_count": 64,
   "id": "5d30f5ae",
   "metadata": {},
   "outputs": [
    {
     "name": "stdout",
     "output_type": "stream",
     "text": [
      "{'n_estimators': 500, 'min_samples_leaf': 5, 'max_features': 'sqrt', 'max_depth': 10, 'criterion': 'entropy'}\n"
     ]
    }
   ],
   "source": [
    "# List the best parameters for this dataset\n",
    "print(rand_rf.best_params_)"
   ]
  },
  {
   "cell_type": "code",
   "execution_count": 65,
   "id": "6772bad2",
   "metadata": {},
   "outputs": [
    {
     "name": "stdout",
     "output_type": "stream",
     "text": [
      "0.9906666666666667\n"
     ]
    }
   ],
   "source": [
    "# List the best score\n",
    "print(rand_rf.best_score_)"
   ]
  },
  {
   "cell_type": "code",
   "execution_count": 66,
   "id": "201cd794",
   "metadata": {},
   "outputs": [
    {
     "data": {
      "text/plain": [
       "RandomForestClassifier(criterion='entropy', max_depth=10, max_features='sqrt',\n",
       "                       min_samples_leaf=5, n_estimators=500)"
      ]
     },
     "execution_count": 66,
     "metadata": {},
     "output_type": "execute_result"
    }
   ],
   "source": [
    "#best estimator\n",
    "rf_R_b=rand_rf.best_estimator_\n",
    "rf_R_b"
   ]
  },
  {
   "cell_type": "code",
   "execution_count": 67,
   "id": "864d1f7e",
   "metadata": {},
   "outputs": [
    {
     "name": "stdout",
     "output_type": "stream",
     "text": [
      "****************Train Score******************\n",
      "1.0\n",
      "\n",
      "**********Using K=3 cross validation**********\n",
      "[1.    0.972 1.   ]\n",
      "\n",
      "************Confusion Matrix using cross_val_predict******************\n",
      "[[254   0   7]\n",
      " [  0 237   0]\n",
      " [  0   0 252]]\n",
      "\n",
      "********Classification Report******************\n",
      "              precision    recall  f1-score   support\n",
      "\n",
      "           0       1.00      0.97      0.99       261\n",
      "           1       1.00      1.00      1.00       237\n",
      "           2       0.97      1.00      0.99       252\n",
      "\n",
      "    accuracy                           0.99       750\n",
      "   macro avg       0.99      0.99      0.99       750\n",
      "weighted avg       0.99      0.99      0.99       750\n",
      "\n",
      "\n"
     ]
    }
   ],
   "source": [
    "#score for logistic regression using training and test data\n",
    "train_score(rf_R_b)"
   ]
  },
  {
   "cell_type": "code",
   "execution_count": 68,
   "id": "90653f15",
   "metadata": {},
   "outputs": [
    {
     "name": "stdout",
     "output_type": "stream",
     "text": [
      "****************Train Score******************\n",
      "1.0\n",
      "\n",
      "*****************Test Score******************\n",
      "1.0\n",
      "\n",
      "************Confusion Matrix******************\n",
      "[[104   0   0]\n",
      " [  0  66   0]\n",
      " [  0   0  80]]\n",
      "\n",
      "********Classification Report******************\n",
      "              precision    recall  f1-score   support\n",
      "\n",
      "           0       1.00      1.00      1.00       104\n",
      "           1       1.00      1.00      1.00        66\n",
      "           2       1.00      1.00      1.00        80\n",
      "\n",
      "    accuracy                           1.00       250\n",
      "   macro avg       1.00      1.00      1.00       250\n",
      "weighted avg       1.00      1.00      1.00       250\n",
      "\n",
      "\n"
     ]
    }
   ],
   "source": [
    "test_score(rf_R_b)"
   ]
  },
  {
   "cell_type": "markdown",
   "id": "4718824f",
   "metadata": {},
   "source": [
    "## b. Extremely Random Trees\n",
    "Changing the behavior of the decision trees so that they randomly choose their splits"
   ]
  },
  {
   "cell_type": "code",
   "execution_count": 69,
   "id": "c1d0d2fe",
   "metadata": {},
   "outputs": [
    {
     "data": {
      "text/plain": [
       "ExtraTreesClassifier()"
      ]
     },
     "execution_count": 69,
     "metadata": {},
     "output_type": "execute_result"
    }
   ],
   "source": [
    "# Creating a Extremely Random Trees model on the scaled data\n",
    "rt= ExtraTreesClassifier()\n",
    "\n",
    "# Fit the model to the data\n",
    "rt.fit(X_train_scaled, y_train)"
   ]
  },
  {
   "cell_type": "code",
   "execution_count": 70,
   "id": "2b432017",
   "metadata": {},
   "outputs": [
    {
     "name": "stdout",
     "output_type": "stream",
     "text": [
      "****************Train Score******************\n",
      "1.0\n",
      "\n",
      "**********Using K=3 cross validation**********\n",
      "[1. 1. 1.]\n",
      "\n",
      "************Confusion Matrix using cross_val_predict******************\n",
      "[[261   0   0]\n",
      " [  0 237   0]\n",
      " [  0   0 252]]\n",
      "\n",
      "********Classification Report******************\n",
      "              precision    recall  f1-score   support\n",
      "\n",
      "           0       1.00      1.00      1.00       261\n",
      "           1       1.00      1.00      1.00       237\n",
      "           2       1.00      1.00      1.00       252\n",
      "\n",
      "    accuracy                           1.00       750\n",
      "   macro avg       1.00      1.00      1.00       750\n",
      "weighted avg       1.00      1.00      1.00       750\n",
      "\n",
      "\n"
     ]
    }
   ],
   "source": [
    "#score for Extremely Random Trees using only training data\n",
    "train_score(rt)"
   ]
  },
  {
   "cell_type": "code",
   "execution_count": 71,
   "id": "3267f404",
   "metadata": {},
   "outputs": [
    {
     "name": "stdout",
     "output_type": "stream",
     "text": [
      "[0.00404855 0.00200204 0.04463772 0.06753124 0.04440406 0.02928841\n",
      " 0.05297534 0.02966228 0.09387001 0.0722288  0.03835197 0.06559102\n",
      " 0.043734   0.05970051 0.06398759 0.03724567 0.03663208 0.05858371\n",
      " 0.03501571 0.03935676 0.02640843 0.02113382 0.03361028]\n"
     ]
    },
    {
     "data": {
      "image/png": "[encoded data removed]",
      "text/plain": [
       "<Figure size 432x288 with 1 Axes>"
      ]
     },
     "metadata": {
      "needs_background": "light"
     },
     "output_type": "display_data"
    }
   ],
   "source": [
    "# plotting columns with its importances\n",
    "features_rt = rt.feature_importances_\n",
    "print(features_rt)\n",
    "plt.bar(x = range(len(features_rt)), height=features_rt)\n",
    "plt.show()"
   ]
  },
  {
   "cell_type": "markdown",
   "id": "3c7b8681",
   "metadata": {},
   "source": [
    "### Tuning hyperparamaters  using Randomized Search CV for Extremely Random Tree"
   ]
  },
  {
   "cell_type": "code",
   "execution_count": 72,
   "id": "a0f636ab",
   "metadata": {},
   "outputs": [],
   "source": [
    "#### Using GridSearchCV\n",
    "param_rand_rt = {'n_estimators':[100,200,500],\n",
    "              'criterion': ['gini','entropy'],\n",
    "             'max_depth':[5,10,1000,10000],\n",
    "                'min_samples_leaf':[10,100,1000,10000],\n",
    "                'max_features':['auto','sqrt','log2']}\n",
    "rand_rt = RandomizedSearchCV(rt, param_rand_rt, cv=3, verbose=1, n_jobs=-1)"
   ]
  },
  {
   "cell_type": "code",
   "execution_count": 73,
   "id": "4bd8121e",
   "metadata": {},
   "outputs": [
    {
     "name": "stdout",
     "output_type": "stream",
     "text": [
      "Fitting 3 folds for each of 10 candidates, totalling 30 fits\n"
     ]
    },
    {
     "data": {
      "text/plain": [
       "RandomizedSearchCV(cv=3, estimator=ExtraTreesClassifier(), n_jobs=-1,\n",
       "                   param_distributions={'criterion': ['gini', 'entropy'],\n",
       "                                        'max_depth': [5, 10, 1000, 10000],\n",
       "                                        'max_features': ['auto', 'sqrt',\n",
       "                                                         'log2'],\n",
       "                                        'min_samples_leaf': [10, 100, 1000,\n",
       "                                                             10000],\n",
       "                                        'n_estimators': [100, 200, 500]},\n",
       "                   verbose=1)"
      ]
     },
     "execution_count": 73,
     "metadata": {},
     "output_type": "execute_result"
    }
   ],
   "source": [
    "rand_rt.fit(X_train_scaled, y_train)"
   ]
  },
  {
   "cell_type": "code",
   "execution_count": 74,
   "id": "e7d237c8",
   "metadata": {},
   "outputs": [
    {
     "name": "stdout",
     "output_type": "stream",
     "text": [
      "{'n_estimators': 500, 'min_samples_leaf': 10, 'max_features': 'log2', 'max_depth': 10, 'criterion': 'entropy'}\n"
     ]
    }
   ],
   "source": [
    "# List the best parameters for this dataset\n",
    "print(rand_rt.best_params_)"
   ]
  },
  {
   "cell_type": "code",
   "execution_count": 75,
   "id": "1aeca335",
   "metadata": {},
   "outputs": [
    {
     "name": "stdout",
     "output_type": "stream",
     "text": [
      "0.9866666666666667\n"
     ]
    }
   ],
   "source": [
    "# List the best score\n",
    "print(rand_rt.best_score_)"
   ]
  },
  {
   "cell_type": "code",
   "execution_count": 76,
   "id": "1d08017e",
   "metadata": {},
   "outputs": [
    {
     "data": {
      "text/plain": [
       "ExtraTreesClassifier(criterion='entropy', max_depth=10, max_features='log2',\n",
       "                     min_samples_leaf=10, n_estimators=500)"
      ]
     },
     "execution_count": 76,
     "metadata": {},
     "output_type": "execute_result"
    }
   ],
   "source": [
    "#best estimator\n",
    "rt_R_b=rand_rt.best_estimator_\n",
    "rt_R_b"
   ]
  },
  {
   "cell_type": "code",
   "execution_count": 77,
   "id": "772e567a",
   "metadata": {},
   "outputs": [
    {
     "name": "stdout",
     "output_type": "stream",
     "text": [
      "****************Train Score******************\n",
      "1.0\n",
      "\n",
      "**********Using K=3 cross validation**********\n",
      "[1.    0.972 1.   ]\n",
      "\n",
      "************Confusion Matrix using cross_val_predict******************\n",
      "[[254   0   7]\n",
      " [  0 234   3]\n",
      " [  0   0 252]]\n",
      "\n",
      "********Classification Report******************\n",
      "              precision    recall  f1-score   support\n",
      "\n",
      "           0       1.00      0.97      0.99       261\n",
      "           1       1.00      0.99      0.99       237\n",
      "           2       0.96      1.00      0.98       252\n",
      "\n",
      "    accuracy                           0.99       750\n",
      "   macro avg       0.99      0.99      0.99       750\n",
      "weighted avg       0.99      0.99      0.99       750\n",
      "\n",
      "\n"
     ]
    }
   ],
   "source": [
    "#score for logistic regression using training and test data\n",
    "train_score(rt_R_b)"
   ]
  },
  {
   "cell_type": "markdown",
   "id": "ff3fa962",
   "metadata": {},
   "source": [
    "## Boosting\n",
    "In Bosting each new weak learner is trained on data that skews the training dataset to data points that the previous weak learners didn't estimate well."
   ]
  },
  {
   "cell_type": "code",
   "execution_count": 78,
   "id": "5ec597a6",
   "metadata": {},
   "outputs": [
    {
     "data": {
      "text/plain": [
       "AdaBoostClassifier(base_estimator=RandomForestClassifier())"
      ]
     },
     "execution_count": 78,
     "metadata": {},
     "output_type": "execute_result"
    }
   ],
   "source": [
    "# Creating a AdaBoostClassifier model on the scaled data\n",
    "ab= AdaBoostClassifier(base_estimator = rf)\n",
    "\n",
    "# Fit the model to the data\n",
    "ab.fit(X_train_scaled, y_train)"
   ]
  },
  {
   "cell_type": "code",
   "execution_count": 79,
   "id": "0504cbbe",
   "metadata": {},
   "outputs": [
    {
     "name": "stdout",
     "output_type": "stream",
     "text": [
      "****************Train Score******************\n",
      "1.0\n",
      "\n",
      "**********Using K=3 cross validation**********\n",
      "[1. 1. 1.]\n",
      "\n",
      "************Confusion Matrix using cross_val_predict******************\n",
      "[[261   0   0]\n",
      " [  0 237   0]\n",
      " [  0   0 252]]\n",
      "\n",
      "********Classification Report******************\n",
      "              precision    recall  f1-score   support\n",
      "\n",
      "           0       1.00      1.00      1.00       261\n",
      "           1       1.00      1.00      1.00       237\n",
      "           2       1.00      1.00      1.00       252\n",
      "\n",
      "    accuracy                           1.00       750\n",
      "   macro avg       1.00      1.00      1.00       750\n",
      "weighted avg       1.00      1.00      1.00       750\n",
      "\n",
      "\n"
     ]
    }
   ],
   "source": [
    "#score for logistic regression using only training data\n",
    "train_score(ab)"
   ]
  },
  {
   "cell_type": "code",
   "execution_count": 80,
   "id": "37f76c15",
   "metadata": {},
   "outputs": [
    {
     "name": "stdout",
     "output_type": "stream",
     "text": [
      "[0.0056238  0.000618   0.03332387 0.05694018 0.03853414 0.03714514\n",
      " 0.03449844 0.01439019 0.05427323 0.10544616 0.03294108 0.09041184\n",
      " 0.02286866 0.11934607 0.05740323 0.01786415 0.05040146 0.08821303\n",
      " 0.03834907 0.03366774 0.02230932 0.01120826 0.03422294]\n"
     ]
    },
    {
     "data": {
      "image/png": "[encoded data removed]",
      "text/plain": [
       "<Figure size 432x288 with 1 Axes>"
      ]
     },
     "metadata": {
      "needs_background": "light"
     },
     "output_type": "display_data"
    }
   ],
   "source": [
    "# plotting columns with its importances\n",
    "features_ab = ab.feature_importances_\n",
    "print(features_ab)\n",
    "plt.bar(x = range(len(features_ab)), height=features_ab)\n",
    "plt.show()"
   ]
  },
  {
   "cell_type": "markdown",
   "id": "0e2ce8d7",
   "metadata": {},
   "source": [
    "### Tuning hyperparamaters  using Randomized Search CV for AdaBoostClassifier"
   ]
  },
  {
   "cell_type": "code",
   "execution_count": 81,
   "id": "1de08cde",
   "metadata": {},
   "outputs": [],
   "source": [
    "#### Using GridSearchCV\n",
    "param_rand_ab = {'n_estimators':[100,200,500, 1000, 2000, 5000],\n",
    "             'learning_rate':[0.1,0.2,0.5]}\n",
    "rand_ab = RandomizedSearchCV(ab, param_rand_ab, cv=3, verbose=1, n_jobs=-1)"
   ]
  },
  {
   "cell_type": "code",
   "execution_count": 82,
   "id": "b8b5ce1d",
   "metadata": {},
   "outputs": [
    {
     "name": "stdout",
     "output_type": "stream",
     "text": [
      "Fitting 3 folds for each of 10 candidates, totalling 30 fits\n"
     ]
    },
    {
     "data": {
      "text/plain": [
       "RandomizedSearchCV(cv=3,\n",
       "                   estimator=AdaBoostClassifier(base_estimator=RandomForestClassifier()),\n",
       "                   n_jobs=-1,\n",
       "                   param_distributions={'learning_rate': [0.1, 0.2, 0.5],\n",
       "                                        'n_estimators': [100, 200, 500, 1000,\n",
       "                                                         2000, 5000]},\n",
       "                   verbose=1)"
      ]
     },
     "execution_count": 82,
     "metadata": {},
     "output_type": "execute_result"
    }
   ],
   "source": [
    "rand_ab.fit(X_train_scaled, y_train)"
   ]
  },
  {
   "cell_type": "code",
   "execution_count": 83,
   "id": "cdff8476",
   "metadata": {},
   "outputs": [
    {
     "name": "stdout",
     "output_type": "stream",
     "text": [
      "{'n_estimators': 100, 'learning_rate': 0.2}\n"
     ]
    }
   ],
   "source": [
    "# List the best parameters for this dataset\n",
    "print(rand_ab.best_params_)"
   ]
  },
  {
   "cell_type": "code",
   "execution_count": 84,
   "id": "cefc34bc",
   "metadata": {},
   "outputs": [
    {
     "name": "stdout",
     "output_type": "stream",
     "text": [
      "1.0\n"
     ]
    }
   ],
   "source": [
    "# List the best score\n",
    "print(rand_ab.best_score_)"
   ]
  },
  {
   "cell_type": "code",
   "execution_count": 85,
   "id": "f7795dac",
   "metadata": {},
   "outputs": [
    {
     "data": {
      "text/plain": [
       "AdaBoostClassifier(base_estimator=RandomForestClassifier(), learning_rate=0.2,\n",
       "                   n_estimators=100)"
      ]
     },
     "execution_count": 85,
     "metadata": {},
     "output_type": "execute_result"
    }
   ],
   "source": [
    "#best estimator\n",
    "ab_R_b=rand_ab.best_estimator_\n",
    "ab_R_b"
   ]
  },
  {
   "cell_type": "code",
   "execution_count": 86,
   "id": "4df855cd",
   "metadata": {},
   "outputs": [
    {
     "name": "stdout",
     "output_type": "stream",
     "text": [
      "****************Train Score******************\n",
      "1.0\n",
      "\n",
      "**********Using K=3 cross validation**********\n",
      "[1. 1. 1.]\n",
      "\n",
      "************Confusion Matrix using cross_val_predict******************\n",
      "[[261   0   0]\n",
      " [  0 237   0]\n",
      " [  0   0 252]]\n",
      "\n",
      "********Classification Report******************\n",
      "              precision    recall  f1-score   support\n",
      "\n",
      "           0       1.00      1.00      1.00       261\n",
      "           1       1.00      1.00      1.00       237\n",
      "           2       1.00      1.00      1.00       252\n",
      "\n",
      "    accuracy                           1.00       750\n",
      "   macro avg       1.00      1.00      1.00       750\n",
      "weighted avg       1.00      1.00      1.00       750\n",
      "\n",
      "\n"
     ]
    }
   ],
   "source": [
    "#score for logistic regression using training and test data\n",
    "train_score(ab_R_b)"
   ]
  },
  {
   "cell_type": "code",
   "execution_count": null,
   "id": "38babd93",
   "metadata": {},
   "outputs": [],
   "source": []
  },
  {
   "cell_type": "markdown",
   "id": "588297c3",
   "metadata": {},
   "source": [
    "## Real and predicted value using different model"
   ]
  },
  {
   "cell_type": "code",
   "execution_count": 88,
   "id": "eb8032d3",
   "metadata": {},
   "outputs": [],
   "source": [
    "#Predected value\n",
    "y_pred_sgd=sgd.predict(X_test_scaled)\n",
    "y_pred_rf=rf.predict(X_test_scaled)\n",
    "y_pred_rt=rt.predict(X_test_scaled)\n",
    "y_pred_ab=ab.predict(X_test_scaled)"
   ]
  },
  {
   "cell_type": "code",
   "execution_count": 92,
   "id": "1fa79fd4",
   "metadata": {},
   "outputs": [
    {
     "name": "stdout",
     "output_type": "stream",
     "text": [
      "[CV 3/5] END algorithm=auto, n_neighbors=1, weights=distance;, score=1.000 total time=   0.0s\n",
      "[CV 4/5] END algorithm=auto, n_neighbors=1, weights=distance;, score=1.000 total time=   0.0s\n",
      "[CV 2/5] END algorithm=auto, n_neighbors=5, weights=distance;, score=0.993 total time=   0.0s\n",
      "[CV 1/5] END algorithm=auto, n_neighbors=8, weights=distance;, score=1.000 total time=   0.0s\n",
      "[CV 5/5] END algorithm=auto, n_neighbors=8, weights=distance;, score=1.000 total time=   0.0s\n",
      "[CV 5/5] END algorithm=auto, n_neighbors=10, weights=uniform;, score=0.973 total time=   0.0s\n",
      "[CV 4/5] END algorithm=ball_tree, n_neighbors=1, weights=uniform;, score=1.000 total time=   0.0s\n",
      "[CV 3/5] END algorithm=ball_tree, n_neighbors=5, weights=uniform;, score=0.960 total time=   0.0s\n",
      "[CV 4/5] END algorithm=ball_tree, n_neighbors=5, weights=uniform;, score=1.000 total time=   0.0s\n",
      "[CV 2/5] END algorithm=ball_tree, n_neighbors=8, weights=distance;, score=0.993 total time=   0.0s\n",
      "[CV 3/5] END algorithm=ball_tree, n_neighbors=8, weights=distance;, score=1.000 total time=   0.0s\n",
      "[CV 5/5] END algorithm=kd_tree, n_neighbors=1, weights=uniform;, score=1.000 total time=   0.0s\n",
      "[CV 1/5] END algorithm=kd_tree, n_neighbors=1, weights=distance;, score=1.000 total time=   0.0s\n",
      "[CV 2/5] END algorithm=kd_tree, n_neighbors=1, weights=distance;, score=0.993 total time=   0.0s\n",
      "[CV 3/5] END algorithm=kd_tree, n_neighbors=1, weights=distance;, score=1.000 total time=   0.0s\n",
      "[CV 4/5] END algorithm=kd_tree, n_neighbors=10, weights=uniform;, score=0.987 total time=   0.0s\n",
      "[CV 3/5] END algorithm=kd_tree, n_neighbors=10, weights=distance;, score=1.000 total time=   0.0s\n",
      "[CV 2/3] END ..C=2.0, gamma=auto, kernel=linear;, score=1.000 total time=   0.0s\n",
      "[CV 3/3] END ....C=2.0, gamma=auto, kernel=poly;, score=1.000 total time=   0.0s\n",
      "[CV 1/3] END ....C=2.0, gamma=scale, kernel=rbf;, score=0.952 total time=   0.0s\n",
      "[CV 3/3] END criterion=entropy, max_depth=2, max_features=log2, min_samples_leaf=5;, score=0.868 total time=   0.0s\n",
      "[CV 2/3] END criterion=gini, max_depth=1000, max_features=auto, min_samples_leaf=5;, score=0.956 total time=   0.0s\n",
      "[CV 2/3] END criterion=gini, max_depth=2, max_features=log2, min_samples_leaf=5;, score=0.784 total time=   0.0s\n",
      "[CV 1/3] END criterion=gini, max_depth=2, max_features=auto, min_samples_leaf=1;, score=0.704 total time=   0.0s\n",
      "[CV 2/3] END criterion=entropy, max_depth=100, max_features=sqrt, min_samples_leaf=10;, score=0.944 total time=   0.0s\n"
     ]
    }
   ],
   "source": [
    "df_pred=pd.DataFrame({'Real value':y_test,\n",
    "                     'SGD Classifier':y_pred_sgd,\n",
    "                     'Random Forest':y_pred_rf,\n",
    "                     'Extra Random Tree':y_pred_rt,\n",
    "                     'AdaBoost':y_pred_ab})\n",
    "df_pred.replace({0:'Low',1:'Medium', 2:'High'}, inplace=True)"
   ]
  },
  {
   "cell_type": "code",
   "execution_count": 93,
   "id": "baaa68e1",
   "metadata": {},
   "outputs": [
    {
     "name": "stdout",
     "output_type": "stream",
     "text": [
      "[CV 4/5] END algorithm=auto, n_neighbors=1, weights=uniform;, score=1.000 total time=   0.0s\n",
      "[CV 4/5] END algorithm=auto, n_neighbors=5, weights=uniform;, score=1.000 total time=   0.0s\n",
      "[CV 1/5] END algorithm=auto, n_neighbors=8, weights=uniform;, score=0.960 total time=   0.0s\n",
      "[CV 3/5] END algorithm=auto, n_neighbors=8, weights=distance;, score=1.000 total time=   0.0s\n",
      "[CV 2/5] END algorithm=auto, n_neighbors=10, weights=uniform;, score=0.967 total time=   0.0s\n",
      "[CV 1/5] END algorithm=auto, n_neighbors=10, weights=distance;, score=1.000 total time=   0.0s\n",
      "[CV 5/5] END algorithm=auto, n_neighbors=10, weights=distance;, score=1.000 total time=   0.0s\n",
      "[CV 1/5] END algorithm=ball_tree, n_neighbors=1, weights=distance;, score=1.000 total time=   0.0s\n",
      "[CV 4/5] END algorithm=ball_tree, n_neighbors=1, weights=distance;, score=1.000 total time=   0.0s\n",
      "[CV 5/5] END algorithm=ball_tree, n_neighbors=1, weights=distance;, score=1.000 total time=   0.0s\n",
      "[CV 4/5] END algorithm=ball_tree, n_neighbors=5, weights=distance;, score=1.000 total time=   0.0s\n",
      "[CV 5/5] END algorithm=ball_tree, n_neighbors=5, weights=distance;, score=1.000 total time=   0.0s\n",
      "[CV 3/5] END algorithm=ball_tree, n_neighbors=8, weights=uniform;, score=0.933 total time=   0.0s\n",
      "[CV 4/5] END algorithm=ball_tree, n_neighbors=8, weights=uniform;, score=1.000 total time=   0.0s\n",
      "[CV 4/5] END algorithm=ball_tree, n_neighbors=10, weights=distance;, score=1.000 total time=   0.0s\n",
      "[CV 5/5] END algorithm=ball_tree, n_neighbors=10, weights=distance;, score=1.000 total time=   0.0s\n",
      "[CV 4/5] END algorithm=kd_tree, n_neighbors=8, weights=distance;, score=1.000 total time=   0.0s\n",
      "[CV 5/5] END algorithm=kd_tree, n_neighbors=8, weights=distance;, score=1.000 total time=   0.0s\n",
      "[CV 1/5] END algorithm=kd_tree, n_neighbors=10, weights=uniform;, score=0.933 total time=   0.0s\n",
      "[CV 2/5] END algorithm=kd_tree, n_neighbors=10, weights=uniform;, score=0.967 total time=   0.0s\n",
      "[CV 1/3] END ....C=1.0, gamma=auto, kernel=poly;, score=1.000 total time=   0.0s\n",
      "[CV 1/3] END ....C=1.0, gamma=scale, kernel=rbf;, score=0.952 total time=   0.1s\n",
      "[CV 3/3] END ..C=2.0, gamma=auto, kernel=linear;, score=1.000 total time=   0.0s\n",
      "[CV 2/3] END ...C=1.0, gamma=scale, kernel=poly;, score=0.952 total time=   0.0s\n",
      "[CV 1/3] END criterion=entropy, max_depth=2, max_features=log2, min_samples_leaf=5;, score=0.676 total time=   0.0s\n",
      "[CV 3/3] END criterion=gini, max_depth=1000, max_features=auto, min_samples_leaf=5;, score=0.992 total time=   0.0s\n",
      "[CV 1/3] END criterion=entropy, max_depth=1, max_features=log2, min_samples_leaf=5;, score=0.616 total time=   0.0s\n",
      "[CV 3/3] END criterion=gini, max_depth=2, max_features=auto, min_samples_leaf=1;, score=0.808 total time=   0.0s\n",
      "[CV 3/3] END criterion=entropy, max_depth=100, max_features=sqrt, min_samples_leaf=10;, score=0.964 total time=   0.0s\n",
      "[CV 5/5] END algorithm=auto, n_neighbors=1, weights=uniform;, score=1.000 total time=   0.0s\n",
      "[CV 3/5] END algorithm=ball_tree, n_neighbors=1, weights=distance;, score=1.000 total time=   0.0s\n",
      "[CV 5/5] END algorithm=ball_tree, n_neighbors=5, weights=uniform;, score=1.000 total time=   0.0s\n",
      "[CV 1/5] END algorithm=ball_tree, n_neighbors=5, weights=distance;, score=1.000 total time=   0.0s\n",
      "[CV 1/5] END algorithm=ball_tree, n_neighbors=10, weights=uniform;, score=0.933 total time=   0.0s\n",
      "[CV 2/5] END algorithm=ball_tree, n_neighbors=10, weights=uniform;, score=0.967 total time=   0.0s\n",
      "[CV 5/5] END algorithm=kd_tree, n_neighbors=8, weights=uniform;, score=1.000 total time=   0.0s\n",
      "[CV 1/5] END algorithm=kd_tree, n_neighbors=8, weights=distance;, score=1.000 total time=   0.0s\n",
      "[CV 2/5] END algorithm=kd_tree, n_neighbors=8, weights=distance;, score=0.993 total time=   0.0s\n",
      "[CV 3/5] END algorithm=kd_tree, n_neighbors=8, weights=distance;, score=1.000 total time=   0.0s\n",
      "[CV 4/5] END algorithm=kd_tree, n_neighbors=10, weights=distance;, score=1.000 total time=   0.0s\n",
      "[CV 3/3] END ....C=1.0, gamma=auto, kernel=poly;, score=1.000 total time=   0.0s\n",
      "[CV 2/3] END ....C=1.0, gamma=scale, kernel=rbf;, score=0.980 total time=   0.1s\n",
      "[CV 2/3] END ...C=2.0, gamma=scale, kernel=poly;, score=0.964 total time=   0.0s\n",
      "[CV 1/3] END .C=2.0, gamma=scale, kernel=linear;, score=1.000 total time=   0.0s\n",
      "[CV 2/3] END criterion=gini, max_depth=10, max_features=auto, min_samples_leaf=1;, score=1.000 total time=   0.0s\n",
      "[CV 1/3] END criterion=gini, max_depth=10, max_features=log2, min_samples_leaf=10000;, score=0.348 total time=   0.0s\n",
      "[CV 3/3] END criterion=gini, max_depth=10, max_features=log2, min_samples_leaf=10000;, score=0.348 total time=   0.0s\n",
      "[CV 1/3] END criterion=gini, max_depth=2, max_features=sqrt, min_samples_leaf=1;, score=0.812 total time=   0.0s\n",
      "[CV 1/3] END criterion=gini, max_depth=1, max_features=auto, min_samples_leaf=10000;, score=0.348 total time=   0.0s\n",
      "[CV 1/5] END algorithm=auto, n_neighbors=1, weights=distance;, score=1.000 total time=   0.0s\n",
      "[CV 1/5] END algorithm=auto, n_neighbors=5, weights=uniform;, score=1.000 total time=   0.0s\n",
      "[CV 5/5] END algorithm=auto, n_neighbors=5, weights=distance;, score=1.000 total time=   0.0s\n",
      "[CV 5/5] END algorithm=auto, n_neighbors=8, weights=uniform;, score=1.000 total time=   0.0s\n",
      "[CV 1/5] END algorithm=auto, n_neighbors=10, weights=uniform;, score=0.933 total time=   0.0s\n",
      "[CV 2/5] END algorithm=auto, n_neighbors=10, weights=distance;, score=0.993 total time=   0.0s\n",
      "[CV 3/5] END algorithm=ball_tree, n_neighbors=1, weights=uniform;, score=1.000 total time=   0.0s\n",
      "[CV 1/5] END algorithm=ball_tree, n_neighbors=5, weights=uniform;, score=1.000 total time=   0.0s\n",
      "[CV 2/5] END algorithm=ball_tree, n_neighbors=5, weights=uniform;, score=0.993 total time=   0.0s\n",
      "[CV 4/5] END algorithm=ball_tree, n_neighbors=8, weights=distance;, score=1.000 total time=   0.0s\n",
      "[CV 5/5] END algorithm=ball_tree, n_neighbors=8, weights=distance;, score=1.000 total time=   0.0s\n",
      "[CV 5/5] END algorithm=ball_tree, n_neighbors=10, weights=uniform;, score=0.973 total time=   0.0s\n",
      "[CV 1/5] END algorithm=ball_tree, n_neighbors=10, weights=distance;, score=1.000 total time=   0.0s\n",
      "[CV 2/5] END algorithm=kd_tree, n_neighbors=5, weights=distance;, score=0.993 total time=   0.0s\n",
      "[CV 3/5] END algorithm=kd_tree, n_neighbors=5, weights=distance;, score=1.000 total time=   0.0s\n",
      "[CV 4/5] END algorithm=kd_tree, n_neighbors=5, weights=distance;, score=1.000 total time=   0.0s\n",
      "[CV 5/5] END algorithm=kd_tree, n_neighbors=5, weights=distance;, score=1.000 total time=   0.0s\n",
      "[CV 5/5] END algorithm=kd_tree, n_neighbors=10, weights=uniform;, score=0.973 total time=   0.0s\n",
      "[CV 2/3] END ....C=1.0, gamma=auto, kernel=poly;, score=1.000 total time=   0.0s\n",
      "[CV 3/3] END ..C=1.0, gamma=auto, kernel=linear;, score=1.000 total time=   0.0s\n",
      "[CV 3/3] END .....C=1.0, gamma=auto, kernel=rbf;, score=1.000 total time=   0.1s\n",
      "[CV 1/3] END ...C=1.0, gamma=scale, kernel=poly;, score=0.908 total time=   0.0s\n",
      "[CV 3/3] END ....C=2.0, gamma=scale, kernel=rbf;, score=0.988 total time=   0.0s\n",
      "[CV 2/3] END criterion=entropy, max_depth=2, max_features=log2, min_samples_leaf=5;, score=0.712 total time=   0.0s\n",
      "[CV 3/3] END criterion=gini, max_depth=10, max_features=auto, min_samples_leaf=1;, score=1.000 total time=   0.0s\n",
      "[CV 1/3] END criterion=gini, max_depth=2, max_features=log2, min_samples_leaf=5;, score=0.732 total time=   0.0s\n",
      "[CV 2/3] END criterion=entropy, max_depth=1, max_features=log2, min_samples_leaf=5;, score=0.544 total time=   0.0s\n",
      "[CV 2/3] END criterion=gini, max_depth=2, max_features=sqrt, min_samples_leaf=1;, score=0.760 total time=   0.0s\n",
      "[CV 3/3] END criterion=gini, max_depth=1, max_features=auto, min_samples_leaf=10000;, score=0.348 total time=   0.0s\n",
      "[CV 3/5] END algorithm=auto, n_neighbors=1, weights=uniform;, score=1.000 total time=   0.0s\n",
      "[CV 2/5] END algorithm=auto, n_neighbors=5, weights=uniform;, score=0.993 total time=   0.0s\n",
      "[CV 3/5] END algorithm=auto, n_neighbors=5, weights=distance;, score=1.000 total time=   0.0s\n",
      "[CV 3/5] END algorithm=auto, n_neighbors=8, weights=uniform;, score=0.933 total time=   0.0s\n",
      "[CV 2/5] END algorithm=ball_tree, n_neighbors=1, weights=distance;, score=0.993 total time=   0.0s\n",
      "[CV 2/5] END algorithm=ball_tree, n_neighbors=5, weights=distance;, score=0.993 total time=   0.0s\n",
      "[CV 3/5] END algorithm=ball_tree, n_neighbors=5, weights=distance;, score=1.000 total time=   0.0s\n",
      "[CV 3/5] END algorithm=kd_tree, n_neighbors=5, weights=uniform;, score=0.960 total time=   0.0s\n",
      "[CV 4/5] END algorithm=kd_tree, n_neighbors=5, weights=uniform;, score=1.000 total time=   0.0s\n",
      "[CV 5/5] END algorithm=kd_tree, n_neighbors=5, weights=uniform;, score=1.000 total time=   0.0s\n",
      "[CV 1/5] END algorithm=kd_tree, n_neighbors=5, weights=distance;, score=1.000 total time=   0.0s\n",
      "[CV 1/5] END algorithm=kd_tree, n_neighbors=10, weights=distance;, score=1.000 total time=   0.0s\n",
      "[CV 5/5] END algorithm=kd_tree, n_neighbors=10, weights=distance;, score=1.000 total time=   0.0s\n",
      "[CV 1/3] END ..C=2.0, gamma=auto, kernel=linear;, score=1.000 total time=   0.0s\n",
      "[CV 1/3] END ...C=2.0, gamma=scale, kernel=poly;, score=0.932 total time=   0.0s\n",
      "[CV 3/3] END ...C=1.0, gamma=scale, kernel=poly;, score=0.936 total time=   0.0s\n",
      "[CV 2/3] END criterion=gini, max_depth=2, max_features=auto, min_samples_leaf=1;, score=0.800 total time=   0.0s\n",
      "[CV 3/3] END criterion=gini, max_depth=2, max_features=sqrt, min_samples_leaf=1;, score=0.796 total time=   0.0s\n",
      "[CV 1/5] END algorithm=auto, n_neighbors=1, weights=uniform;, score=1.000 total time=   0.0s\n",
      "[CV 3/5] END algorithm=auto, n_neighbors=5, weights=uniform;, score=0.960 total time=   0.0s\n",
      "[CV 4/5] END algorithm=auto, n_neighbors=5, weights=distance;, score=1.000 total time=   0.0s\n",
      "[CV 4/5] END algorithm=auto, n_neighbors=8, weights=uniform;, score=1.000 total time=   0.0s\n",
      "[CV 3/5] END algorithm=auto, n_neighbors=10, weights=uniform;, score=0.960 total time=   0.0s\n",
      "[CV 3/5] END algorithm=auto, n_neighbors=10, weights=distance;, score=1.000 total time=   0.0s\n",
      "[CV 2/5] END algorithm=ball_tree, n_neighbors=1, weights=uniform;, score=0.993 total time=   0.0s\n",
      "[CV 5/5] END algorithm=ball_tree, n_neighbors=8, weights=uniform;, score=1.000 total time=   0.0s\n",
      "[CV 1/5] END algorithm=ball_tree, n_neighbors=8, weights=distance;, score=1.000 total time=   0.0s\n",
      "[CV 2/5] END algorithm=ball_tree, n_neighbors=10, weights=distance;, score=0.993 total time=   0.0s\n",
      "[CV 3/5] END algorithm=ball_tree, n_neighbors=10, weights=distance;, score=1.000 total time=   0.0s\n",
      "[CV 4/5] END algorithm=kd_tree, n_neighbors=1, weights=distance;, score=1.000 total time=   0.0s\n",
      "[CV 5/5] END algorithm=kd_tree, n_neighbors=1, weights=distance;, score=1.000 total time=   0.0s\n",
      "[CV 1/5] END algorithm=kd_tree, n_neighbors=5, weights=uniform;, score=1.000 total time=   0.0s\n",
      "[CV 2/5] END algorithm=kd_tree, n_neighbors=5, weights=uniform;, score=0.993 total time=   0.0s\n",
      "[CV 3/5] END algorithm=kd_tree, n_neighbors=10, weights=uniform;, score=0.960 total time=   0.0s\n",
      "[CV 1/3] END ..C=1.0, gamma=auto, kernel=linear;, score=1.000 total time=   0.0s\n",
      "[CV 3/3] END ....C=1.0, gamma=scale, kernel=rbf;, score=0.984 total time=   0.1s\n",
      "[CV 1/3] END ....C=2.0, gamma=auto, kernel=poly;, score=1.000 total time=   0.0s\n",
      "[CV 3/3] END .C=2.0, gamma=scale, kernel=linear;, score=1.000 total time=   0.0s\n",
      "[CV 1/3] END criterion=gini, max_depth=10, max_features=auto, min_samples_leaf=1;, score=1.000 total time=   0.0s\n",
      "[CV 1/3] END criterion=gini, max_depth=1000, max_features=auto, min_samples_leaf=5;, score=0.952 total time=   0.0s\n",
      "[CV 2/3] END criterion=gini, max_depth=10, max_features=log2, min_samples_leaf=10000;, score=0.348 total time=   0.0s\n",
      "[CV 3/3] END criterion=gini, max_depth=2, max_features=log2, min_samples_leaf=5;, score=0.792 total time=   0.0s\n",
      "[CV 3/3] END criterion=entropy, max_depth=1, max_features=log2, min_samples_leaf=5;, score=0.616 total time=   0.0s\n",
      "[CV 1/3] END criterion=entropy, max_depth=100, max_features=sqrt, min_samples_leaf=10;, score=0.980 total time=   0.0s\n",
      "[CV 2/5] END algorithm=auto, n_neighbors=1, weights=uniform;, score=0.993 total time=   0.0s\n",
      "[CV 5/5] END algorithm=auto, n_neighbors=1, weights=distance;, score=1.000 total time=   0.0s\n",
      "[CV 1/5] END algorithm=auto, n_neighbors=5, weights=distance;, score=1.000 total time=   0.0s\n",
      "[CV 2/5] END algorithm=auto, n_neighbors=8, weights=distance;, score=0.993 total time=   0.0s\n",
      "[CV 5/5] END algorithm=ball_tree, n_neighbors=1, weights=uniform;, score=1.000 total time=   0.0s\n",
      "[CV 1/5] END algorithm=ball_tree, n_neighbors=8, weights=uniform;, score=0.960 total time=   0.0s\n",
      "[CV 2/5] END algorithm=ball_tree, n_neighbors=8, weights=uniform;, score=0.993 total time=   0.0s\n",
      "[CV 3/5] END algorithm=ball_tree, n_neighbors=10, weights=uniform;, score=0.960 total time=   0.0s\n",
      "[CV 4/5] END algorithm=ball_tree, n_neighbors=10, weights=uniform;, score=0.987 total time=   0.0s\n",
      "[CV 1/5] END algorithm=kd_tree, n_neighbors=8, weights=uniform;, score=0.960 total time=   0.0s\n",
      "[CV 2/5] END algorithm=kd_tree, n_neighbors=8, weights=uniform;, score=0.993 total time=   0.0s\n",
      "[CV 3/5] END algorithm=kd_tree, n_neighbors=8, weights=uniform;, score=0.933 total time=   0.0s\n",
      "[CV 4/5] END algorithm=kd_tree, n_neighbors=8, weights=uniform;, score=1.000 total time=   0.0s\n",
      "[CV 1/3] END .....C=1.0, gamma=auto, kernel=rbf;, score=1.000 total time=   0.1s\n",
      "[CV 3/3] END ...C=2.0, gamma=scale, kernel=poly;, score=0.944 total time=   0.0s\n",
      "[CV 2/3] END .C=2.0, gamma=scale, kernel=linear;, score=1.000 total time=   0.0s\n",
      "[CV 2/3] END criterion=gini, max_depth=1, max_features=auto, min_samples_leaf=10000;, score=0.348 total time=   0.0s\n",
      "[CV 2/5] END algorithm=auto, n_neighbors=1, weights=distance;, score=0.993 total time=   0.0s\n",
      "[CV 5/5] END algorithm=auto, n_neighbors=5, weights=uniform;, score=1.000 total time=   0.0s\n",
      "[CV 2/5] END algorithm=auto, n_neighbors=8, weights=uniform;, score=0.993 total time=   0.0s\n",
      "[CV 4/5] END algorithm=auto, n_neighbors=8, weights=distance;, score=1.000 total time=   0.0s\n",
      "[CV 4/5] END algorithm=auto, n_neighbors=10, weights=uniform;, score=0.987 total time=   0.0s\n",
      "[CV 4/5] END algorithm=auto, n_neighbors=10, weights=distance;, score=1.000 total time=   0.0s\n",
      "[CV 1/5] END algorithm=ball_tree, n_neighbors=1, weights=uniform;, score=1.000 total time=   0.0s\n",
      "[CV 1/5] END algorithm=kd_tree, n_neighbors=1, weights=uniform;, score=1.000 total time=   0.0s\n",
      "[CV 2/5] END algorithm=kd_tree, n_neighbors=1, weights=uniform;, score=0.993 total time=   0.0s\n",
      "[CV 3/5] END algorithm=kd_tree, n_neighbors=1, weights=uniform;, score=1.000 total time=   0.0s\n",
      "[CV 4/5] END algorithm=kd_tree, n_neighbors=1, weights=uniform;, score=1.000 total time=   0.0s\n",
      "[CV 2/5] END algorithm=kd_tree, n_neighbors=10, weights=distance;, score=0.993 total time=   0.0s\n",
      "[CV 2/3] END ..C=1.0, gamma=auto, kernel=linear;, score=1.000 total time=   0.0s\n",
      "[CV 2/3] END .....C=1.0, gamma=auto, kernel=rbf;, score=0.996 total time=   0.1s\n",
      "[CV 2/3] END ....C=2.0, gamma=auto, kernel=poly;, score=1.000 total time=   0.0s\n",
      "[CV 2/3] END ....C=2.0, gamma=scale, kernel=rbf;, score=0.992 total time=   0.0s\n"
     ]
    }
   ],
   "source": [
    "df_pred.to_html(\"cancer_pred.html\")"
   ]
  },
  {
   "cell_type": "code",
   "execution_count": 97,
   "id": "73070654",
   "metadata": {},
   "outputs": [
    {
     "name": "stdout",
     "output_type": "stream",
     "text": [
      "SGD Classifier\n",
      "****************Train Score******************\n",
      "1.0\n",
      "\n",
      "*****************Test Score******************\n",
      "1.0\n",
      "\n",
      "************Confusion Matrix******************\n",
      "[[104   0]\n",
      " [  0 146]]\n",
      "\n",
      "********Classification Report******************\n",
      "              precision    recall  f1-score   support\n",
      "\n",
      "           0       1.00      1.00      1.00       104\n",
      "           1       1.00      1.00      1.00       146\n",
      "\n",
      "    accuracy                           1.00       250\n",
      "   macro avg       1.00      1.00      1.00       250\n",
      "weighted avg       1.00      1.00      1.00       250\n",
      "\n",
      "\n",
      "ROC Curve\n"
     ]
    },
    {
     "data": {
      "image/png": "[encoded data removed]",
      "text/plain": [
       "<Figure size 432x288 with 1 Axes>"
      ]
     },
     "metadata": {
      "needs_background": "light"
     },
     "output_type": "display_data"
    },
    {
     "name": "stdout",
     "output_type": "stream",
     "text": [
      "\n",
      "************Area under the curve******************\n",
      "1.0\n",
      "None\n",
      "****************************************************************************************************\n",
      "****************************************************************************************************\n",
      "\n",
      "Logistic Regression\n",
      "****************Train Score******************\n",
      "1.0\n",
      "\n",
      "*****************Test Score******************\n",
      "1.0\n",
      "\n",
      "************Confusion Matrix******************\n",
      "[[104   0]\n",
      " [  0 146]]\n",
      "\n",
      "********Classification Report******************\n",
      "              precision    recall  f1-score   support\n",
      "\n",
      "           0       1.00      1.00      1.00       104\n",
      "           1       1.00      1.00      1.00       146\n",
      "\n",
      "    accuracy                           1.00       250\n",
      "   macro avg       1.00      1.00      1.00       250\n",
      "weighted avg       1.00      1.00      1.00       250\n",
      "\n",
      "\n",
      "ROC Curve\n"
     ]
    },
    {
     "data": {
      "image/png": "[encoded data removed]",
      "text/plain": [
       "<Figure size 432x288 with 1 Axes>"
      ]
     },
     "metadata": {
      "needs_background": "light"
     },
     "output_type": "display_data"
    },
    {
     "name": "stdout",
     "output_type": "stream",
     "text": [
      "\n",
      "************Area under the curve******************\n",
      "1.0\n",
      "None\n",
      "****************************************************************************************************\n",
      "****************************************************************************************************\n",
      "\n",
      "SVC\n",
      "****************Train Score******************\n",
      "1.0\n",
      "\n",
      "*****************Test Score******************\n",
      "1.0\n",
      "\n",
      "************Confusion Matrix******************\n",
      "[[104   0]\n",
      " [  0 146]]\n",
      "\n",
      "********Classification Report******************\n",
      "              precision    recall  f1-score   support\n",
      "\n",
      "           0       1.00      1.00      1.00       104\n",
      "           1       1.00      1.00      1.00       146\n",
      "\n",
      "    accuracy                           1.00       250\n",
      "   macro avg       1.00      1.00      1.00       250\n",
      "weighted avg       1.00      1.00      1.00       250\n",
      "\n",
      "\n",
      "ROC Curve\n"
     ]
    },
    {
     "data": {
      "image/png": "[encoded data removed]",
      "text/plain": [
       "<Figure size 432x288 with 1 Axes>"
      ]
     },
     "metadata": {
      "needs_background": "light"
     },
     "output_type": "display_data"
    },
    {
     "name": "stdout",
     "output_type": "stream",
     "text": [
      "\n",
      "************Area under the curve******************\n",
      "1.0\n",
      "None\n",
      "****************************************************************************************************\n",
      "****************************************************************************************************\n",
      "\n",
      "Decision Tree\n",
      "****************Train Score******************\n",
      "1.0\n",
      "\n",
      "*****************Test Score******************\n",
      "1.0\n",
      "\n",
      "************Confusion Matrix******************\n",
      "[[104   0]\n",
      " [  0 146]]\n",
      "\n",
      "********Classification Report******************\n",
      "              precision    recall  f1-score   support\n",
      "\n",
      "           0       1.00      1.00      1.00       104\n",
      "           1       1.00      1.00      1.00       146\n",
      "\n",
      "    accuracy                           1.00       250\n",
      "   macro avg       1.00      1.00      1.00       250\n",
      "weighted avg       1.00      1.00      1.00       250\n",
      "\n",
      "\n",
      "ROC Curve\n"
     ]
    },
    {
     "data": {
      "image/png": "[encoded data removed]",
      "text/plain": [
       "<Figure size 432x288 with 1 Axes>"
      ]
     },
     "metadata": {
      "needs_background": "light"
     },
     "output_type": "display_data"
    },
    {
     "name": "stdout",
     "output_type": "stream",
     "text": [
      "\n",
      "************Area under the curve******************\n",
      "1.0\n",
      "None\n",
      "****************************************************************************************************\n",
      "****************************************************************************************************\n",
      "\n",
      "Random Forest\n",
      "****************Train Score******************\n",
      "1.0\n",
      "\n",
      "*****************Test Score******************\n",
      "1.0\n",
      "\n",
      "************Confusion Matrix******************\n",
      "[[104   0]\n",
      " [  0 146]]\n",
      "\n",
      "********Classification Report******************\n",
      "              precision    recall  f1-score   support\n",
      "\n",
      "           0       1.00      1.00      1.00       104\n",
      "           1       1.00      1.00      1.00       146\n",
      "\n",
      "    accuracy                           1.00       250\n",
      "   macro avg       1.00      1.00      1.00       250\n",
      "weighted avg       1.00      1.00      1.00       250\n",
      "\n",
      "\n",
      "ROC Curve\n"
     ]
    },
    {
     "data": {
      "image/png": "[encoded data removed]",
      "text/plain": [
       "<Figure size 432x288 with 1 Axes>"
      ]
     },
     "metadata": {
      "needs_background": "light"
     },
     "output_type": "display_data"
    },
    {
     "name": "stdout",
     "output_type": "stream",
     "text": [
      "\n",
      "************Area under the curve******************\n",
      "1.0\n",
      "None\n",
      "****************************************************************************************************\n",
      "****************************************************************************************************\n",
      "\n",
      "Extra Random Tree\n",
      "****************Train Score******************\n",
      "1.0\n",
      "\n",
      "*****************Test Score******************\n",
      "1.0\n",
      "\n",
      "************Confusion Matrix******************\n",
      "[[104   0]\n",
      " [  0 146]]\n",
      "\n",
      "********Classification Report******************\n",
      "              precision    recall  f1-score   support\n",
      "\n",
      "           0       1.00      1.00      1.00       104\n",
      "           1       1.00      1.00      1.00       146\n",
      "\n",
      "    accuracy                           1.00       250\n",
      "   macro avg       1.00      1.00      1.00       250\n",
      "weighted avg       1.00      1.00      1.00       250\n",
      "\n",
      "\n",
      "ROC Curve\n"
     ]
    },
    {
     "data": {
      "image/png": "[encoded data removed]",
      "text/plain": [
       "<Figure size 432x288 with 1 Axes>"
      ]
     },
     "metadata": {
      "needs_background": "light"
     },
     "output_type": "display_data"
    },
    {
     "name": "stdout",
     "output_type": "stream",
     "text": [
      "\n",
      "************Area under the curve******************\n",
      "1.0\n",
      "None\n",
      "****************************************************************************************************\n",
      "****************************************************************************************************\n",
      "\n",
      "AdaBoost\n",
      "****************Train Score******************\n",
      "1.0\n",
      "\n",
      "*****************Test Score******************\n",
      "1.0\n",
      "\n",
      "************Confusion Matrix******************\n",
      "[[104   0]\n",
      " [  0 146]]\n",
      "\n",
      "********Classification Report******************\n",
      "              precision    recall  f1-score   support\n",
      "\n",
      "           0       1.00      1.00      1.00       104\n",
      "           1       1.00      1.00      1.00       146\n",
      "\n",
      "    accuracy                           1.00       250\n",
      "   macro avg       1.00      1.00      1.00       250\n",
      "weighted avg       1.00      1.00      1.00       250\n",
      "\n",
      "\n",
      "ROC Curve\n"
     ]
    },
    {
     "data": {
      "image/png": "[encoded data removed]",
      "text/plain": [
       "<Figure size 432x288 with 1 Axes>"
      ]
     },
     "metadata": {
      "needs_background": "light"
     },
     "output_type": "display_data"
    },
    {
     "name": "stdout",
     "output_type": "stream",
     "text": [
      "\n",
      "************Area under the curve******************\n",
      "1.0\n",
      "None\n",
      "****************************************************************************************************\n",
      "****************************************************************************************************\n",
      "\n"
     ]
    }
   ],
   "source": [
    "# score for different models using test data\n",
    "print('SGD Classifier')\n",
    "print(test_score(sgd))\n",
    "print(\"*\"*100)\n",
    "print(\"*\"*100)\n",
    "print('')\n",
    "\n",
    "print('Logistic Regression')\n",
    "print(test_score(lr))\n",
    "print(\"*\"*100)\n",
    "print(\"*\"*100)\n",
    "print('')\n",
    "\n",
    "print('SVC')\n",
    "print(test_score(svc))\n",
    "print(\"*\"*100)\n",
    "print(\"*\"*100)\n",
    "print('')\n",
    "\n",
    "print('Decision Tree')\n",
    "print(test_score(dt))\n",
    "print(\"*\"*100)\n",
    "print(\"*\"*100)\n",
    "print('')\n",
    "\n",
    "print('Random Forest')\n",
    "print(test_score(rf))\n",
    "print(\"*\"*100)\n",
    "print(\"*\"*100)\n",
    "print('')\n",
    "\n",
    "print('Extra Random Tree')\n",
    "print(test_score(rt))\n",
    "print(\"*\"*100)\n",
    "print(\"*\"*100)\n",
    "print('')\n",
    "\n",
    "print('AdaBoost')\n",
    "print(test_score(ab))\n",
    "print(\"*\"*100)\n",
    "print(\"*\"*100)\n",
    "print('')"
   ]
  },
  {
   "cell_type": "code",
   "execution_count": 98,
   "id": "4c719447",
   "metadata": {},
   "outputs": [],
   "source": [
    "#defining function for model scoring with test set\n",
    "def model_score(model, X_train_scaled=X_train_scaled, X_test_scaled=X_test_scaled, \n",
    "               y_train=y_train,y_test=y_test):\n",
    "    #printing the accuracy score\n",
    "    train_score=model.score(X_train_scaled, y_train)\n",
    "    test_score=model.score(X_test_scaled, y_test)\n",
    "    y_pred=model.predict(X_test_scaled)\n",
    "    pre_score=precision_score(y_test, y_pred)\n",
    "    re_score=recall_score(y_test, y_pred)\n",
    "    f_score=f1_score(y_test, y_pred)\n",
    "    \n",
    "    y_proba = model.predict_proba(X_test_scaled)[:,1]  #proba of positive class\n",
    "    fpr, tpr, thresholds = roc_curve(y_test, y_proba)\n",
    "    \n",
    "    roc_auc = auc(fpr, tpr)\n",
    "    result=[train_score, test_score,pre_score, re_score,f_score, roc_auc ]\n",
    "    return result"
   ]
  },
  {
   "cell_type": "code",
   "execution_count": 99,
   "id": "2335b703",
   "metadata": {},
   "outputs": [
    {
     "data": {
      "text/html": [
       "<div>\n",
       "<style scoped>\n",
       "    .dataframe tbody tr th:only-of-type {\n",
       "        vertical-align: middle;\n",
       "    }\n",
       "\n",
       "    .dataframe tbody tr th {\n",
       "        vertical-align: top;\n",
       "    }\n",
       "\n",
       "    .dataframe thead th {\n",
       "        text-align: right;\n",
       "    }\n",
       "</style>\n",
       "<table border=\"1\" class=\"dataframe\">\n",
       "  <thead>\n",
       "    <tr style=\"text-align: right;\">\n",
       "      <th></th>\n",
       "      <th>SGD</th>\n",
       "      <th>logistic Reg</th>\n",
       "      <th>svc</th>\n",
       "      <th>Decision Tree</th>\n",
       "      <th>Random Forest</th>\n",
       "      <th>Extra Random Tree</th>\n",
       "      <th>Ada Boost</th>\n",
       "    </tr>\n",
       "  </thead>\n",
       "  <tbody>\n",
       "    <tr>\n",
       "      <th>train score</th>\n",
       "      <td>1.0</td>\n",
       "      <td>1.0</td>\n",
       "      <td>1.0</td>\n",
       "      <td>1.0</td>\n",
       "      <td>1.0</td>\n",
       "      <td>1.0</td>\n",
       "      <td>1.0</td>\n",
       "    </tr>\n",
       "    <tr>\n",
       "      <th>test score</th>\n",
       "      <td>1.0</td>\n",
       "      <td>1.0</td>\n",
       "      <td>1.0</td>\n",
       "      <td>1.0</td>\n",
       "      <td>1.0</td>\n",
       "      <td>1.0</td>\n",
       "      <td>1.0</td>\n",
       "    </tr>\n",
       "    <tr>\n",
       "      <th>precision_score</th>\n",
       "      <td>1.0</td>\n",
       "      <td>1.0</td>\n",
       "      <td>1.0</td>\n",
       "      <td>1.0</td>\n",
       "      <td>1.0</td>\n",
       "      <td>1.0</td>\n",
       "      <td>1.0</td>\n",
       "    </tr>\n",
       "    <tr>\n",
       "      <th>recall_score</th>\n",
       "      <td>1.0</td>\n",
       "      <td>1.0</td>\n",
       "      <td>1.0</td>\n",
       "      <td>1.0</td>\n",
       "      <td>1.0</td>\n",
       "      <td>1.0</td>\n",
       "      <td>1.0</td>\n",
       "    </tr>\n",
       "    <tr>\n",
       "      <th>f1_score</th>\n",
       "      <td>1.0</td>\n",
       "      <td>1.0</td>\n",
       "      <td>1.0</td>\n",
       "      <td>1.0</td>\n",
       "      <td>1.0</td>\n",
       "      <td>1.0</td>\n",
       "      <td>1.0</td>\n",
       "    </tr>\n",
       "    <tr>\n",
       "      <th>auc</th>\n",
       "      <td>1.0</td>\n",
       "      <td>1.0</td>\n",
       "      <td>1.0</td>\n",
       "      <td>1.0</td>\n",
       "      <td>1.0</td>\n",
       "      <td>1.0</td>\n",
       "      <td>1.0</td>\n",
       "    </tr>\n",
       "  </tbody>\n",
       "</table>\n",
       "</div>"
      ],
      "text/plain": [
       "                 SGD  logistic Reg  svc  Decision Tree  Random Forest  \\\n",
       "train score      1.0           1.0  1.0            1.0            1.0   \n",
       "test score       1.0           1.0  1.0            1.0            1.0   \n",
       "precision_score  1.0           1.0  1.0            1.0            1.0   \n",
       "recall_score     1.0           1.0  1.0            1.0            1.0   \n",
       "f1_score         1.0           1.0  1.0            1.0            1.0   \n",
       "auc              1.0           1.0  1.0            1.0            1.0   \n",
       "\n",
       "                 Extra Random Tree  Ada Boost  \n",
       "train score                    1.0        1.0  \n",
       "test score                     1.0        1.0  \n",
       "precision_score                1.0        1.0  \n",
       "recall_score                   1.0        1.0  \n",
       "f1_score                       1.0        1.0  \n",
       "auc                            1.0        1.0  "
      ]
     },
     "execution_count": 99,
     "metadata": {},
     "output_type": "execute_result"
    }
   ],
   "source": [
    "#making dataframe on evaluation metrices\n",
    "all_evaluation=pd.DataFrame({'SGD':model_score(sgd),\n",
    "                            'logistic Reg':model_score(lr),\n",
    "                            'svc':model_score(svc),\n",
    "                            'Decision Tree':model_score(dt),\n",
    "                           'Random Forest':model_score(rf),\n",
    "                            'Extra Random Tree':model_score(rt),\n",
    "                           'Ada Boost':model_score(ab)}\n",
    "                           ,index=['train score','test score', \n",
    "                                   'precision_score', 'recall_score', 'f1_score', 'auc'])\n",
    "all_evaluation"
   ]
  },
  {
   "cell_type": "code",
   "execution_count": 94,
   "id": "3f0ee6de",
   "metadata": {},
   "outputs": [],
   "source": [
    "all_evaluation.to_html('Resources/Cleaned_data/under_metrics.html')"
   ]
  },
  {
   "cell_type": "markdown",
   "id": "1e4aface",
   "metadata": {},
   "source": [
    "## Trying to improve score by selecting important features based on Adaboost\n"
   ]
  },
  {
   "cell_type": "code",
   "execution_count": 70,
   "id": "96c007d6",
   "metadata": {},
   "outputs": [
    {
     "data": {
      "text/plain": [
       "SelectFromModel(estimator=AdaBoostClassifier(base_estimator=RandomForestClassifier()))"
      ]
     },
     "execution_count": 70,
     "metadata": {},
     "output_type": "execute_result"
    }
   ],
   "source": [
    "#selecting and fitting model\n",
    "sel = SelectFromModel(ab)\n",
    "sel.fit(X_train_scaled, y_train)"
   ]
  },
  {
   "cell_type": "code",
   "execution_count": 71,
   "id": "bf34d09d",
   "metadata": {},
   "outputs": [
    {
     "data": {
      "text/plain": [
       "array([False, False, False,  True,  True, False, False, False,  True,\n",
       "        True, False,  True, False,  True,  True, False, False,  True,\n",
       "       False, False, False, False, False])"
      ]
     },
     "execution_count": 71,
     "metadata": {},
     "output_type": "execute_result"
    }
   ],
   "source": [
    "sel.get_support()"
   ]
  },
  {
   "cell_type": "code",
   "execution_count": 72,
   "id": "acce4f99",
   "metadata": {},
   "outputs": [],
   "source": [
    "#splitting data using train_test split\n",
    "X_train_sel, X_test_sel, y_train, y_test=train_test_split(sel.transform(X), y_label, random_state=1)\n",
    "\n",
    "scaler1 = StandardScaler().fit(X_train_sel)\n",
    "X_selected_train_scaled = scaler1.transform(X_train_sel)\n",
    "X_selected_test_scaled = scaler1.transform(X_test_sel)\n"
   ]
  },
  {
   "cell_type": "markdown",
   "id": "932dabd8",
   "metadata": {},
   "source": [
    "### SGD Classifier after selecting important features"
   ]
  },
  {
   "cell_type": "code",
   "execution_count": 73,
   "id": "4e3e0455",
   "metadata": {},
   "outputs": [
    {
     "name": "stdout",
     "output_type": "stream",
     "text": [
      "Training Score: 0.9906666666666667\n",
      "Testing Score: 0.988\n"
     ]
    }
   ],
   "source": [
    "#after model selection\n",
    "sgd_s = SGDClassifier(random_state=42, loss='log').fit(X_selected_train_scaled, y_train)\n",
    "print(f'Training Score: {sgd_s.score(X_selected_train_scaled, y_train)}')\n",
    "print(f'Testing Score: {sgd_s.score(X_selected_test_scaled, y_test)}')"
   ]
  },
  {
   "cell_type": "markdown",
   "id": "86bfe820",
   "metadata": {},
   "source": [
    "### Logistic Regression after selecting important features"
   ]
  },
  {
   "cell_type": "code",
   "execution_count": 74,
   "id": "7e470814",
   "metadata": {},
   "outputs": [
    {
     "name": "stdout",
     "output_type": "stream",
     "text": [
      "Training Score: 0.984\n",
      "Testing Score: 0.968\n"
     ]
    }
   ],
   "source": [
    "#after model selection\n",
    "lr_s = LogisticRegression().fit(X_selected_train_scaled, y_train)\n",
    "print(f'Training Score: {lr_s.score(X_selected_train_scaled, y_train)}')\n",
    "print(f'Testing Score: {lr_s.score(X_selected_test_scaled, y_test)}')"
   ]
  },
  {
   "cell_type": "markdown",
   "id": "0baf15af",
   "metadata": {},
   "source": [
    "### SVC after selecting important features"
   ]
  },
  {
   "cell_type": "code",
   "execution_count": 75,
   "id": "8dcd1a81",
   "metadata": {},
   "outputs": [
    {
     "name": "stdout",
     "output_type": "stream",
     "text": [
      "Training Score: 1.0\n",
      "Testing Score: 1.0\n"
     ]
    }
   ],
   "source": [
    "#after model selection\n",
    "# Support vector machine linear classifier\n",
    "svc_s=SVC(kernel='linear', probability=True).fit(X_selected_train_scaled, y_train)\n",
    "print(f'Training Score: {svc_s.score(X_selected_train_scaled, y_train)}')\n",
    "print(f'Testing Score: {svc_s.score(X_selected_test_scaled, y_test)}')"
   ]
  },
  {
   "cell_type": "markdown",
   "id": "f6b6b69c",
   "metadata": {},
   "source": [
    "### Decision Tree after selecting important features"
   ]
  },
  {
   "cell_type": "code",
   "execution_count": 76,
   "id": "74831372",
   "metadata": {},
   "outputs": [
    {
     "name": "stdout",
     "output_type": "stream",
     "text": [
      "Training Score: 1.0\n",
      "Testing Score: 1.0\n"
     ]
    }
   ],
   "source": [
    "#after model selection\n",
    "dt_s = DecisionTreeClassifier().fit(X_selected_train_scaled, y_train)\n",
    "print(f'Training Score: {dt_s.score(X_selected_train_scaled, y_train)}')\n",
    "print(f'Testing Score: {dt_s.score(X_selected_test_scaled, y_test)}')"
   ]
  },
  {
   "cell_type": "markdown",
   "id": "487b5600",
   "metadata": {},
   "source": [
    "### Random Forest after selecting important features"
   ]
  },
  {
   "cell_type": "code",
   "execution_count": 77,
   "id": "594639b5",
   "metadata": {},
   "outputs": [
    {
     "name": "stdout",
     "output_type": "stream",
     "text": [
      "Training Score: 1.0\n",
      "Testing Score: 1.0\n"
     ]
    }
   ],
   "source": [
    "#after model selection\n",
    "rf_s = RandomForestClassifier().fit(X_selected_train_scaled, y_train)\n",
    "print(f'Training Score: {rf_s.score(X_selected_train_scaled, y_train)}')\n",
    "print(f'Testing Score: {rf_s.score(X_selected_test_scaled, y_test)}')"
   ]
  },
  {
   "cell_type": "markdown",
   "id": "9fe7cb38",
   "metadata": {},
   "source": [
    "### Extra Random Tree after selecting important features"
   ]
  },
  {
   "cell_type": "code",
   "execution_count": 78,
   "id": "392ce919",
   "metadata": {},
   "outputs": [
    {
     "name": "stdout",
     "output_type": "stream",
     "text": [
      "Training Score: 1.0\n",
      "Testing Score: 1.0\n"
     ]
    }
   ],
   "source": [
    "#after model selection\n",
    "rt_s = RandomForestClassifier().fit(X_selected_train_scaled, y_train)\n",
    "rt_s_train=rt_s.score(X_selected_train_scaled, y_train)\n",
    "rt_s_test=rt_s.score(X_selected_test_scaled, y_test)\n",
    "print(f'Training Score: {rt_s_train}')\n",
    "print(f'Testing Score: {rt_s_test}')"
   ]
  },
  {
   "cell_type": "code",
   "execution_count": 79,
   "id": "c98a197b",
   "metadata": {},
   "outputs": [],
   "source": [
    "#defining function for model scoring with test set\n",
    "def model_imp_feat(model, X_train_scaled=X_selected_train_scaled, X_test_scaled=X_selected_test_scaled, \n",
    "               y_train=y_train,y_test=y_test):\n",
    "    #printing the accuracy score\n",
    "    train_score=model.score(X_train_scaled, y_train)\n",
    "    test_score=model.score(X_test_scaled, y_test)\n",
    "    y_pred=model.predict(X_test_scaled)\n",
    "    pre_score=precision_score(y_test, y_pred)\n",
    "    re_score=recall_score(y_test, y_pred)\n",
    "    f_score=f1_score(y_test, y_pred)\n",
    "    \n",
    "    y_proba = model.predict_proba(X_test_scaled)[:,1]  #proba of positive class\n",
    "    fpr, tpr, thresholds = roc_curve(y_test, y_proba)\n",
    "    \n",
    "    roc_auc = auc(fpr, tpr)\n",
    "    result=[train_score, test_score,pre_score, re_score,f_score, roc_auc ]\n",
    "    return result"
   ]
  },
  {
   "cell_type": "markdown",
   "id": "e66bd7bd",
   "metadata": {},
   "source": [
    "## Saving the best model"
   ]
  },
  {
   "cell_type": "code",
   "execution_count": 133,
   "id": "40a4ea04",
   "metadata": {},
   "outputs": [
    {
     "data": {
      "text/plain": [
       "['model_cancer.pkl']"
      ]
     },
     "execution_count": 133,
     "metadata": {},
     "output_type": "execute_result"
    }
   ],
   "source": [
    "import joblib\n",
    "joblib.dump(rf, 'model_cancer.pkl')"
   ]
  },
  {
   "cell_type": "code",
   "execution_count": null,
   "id": "272f4040",
   "metadata": {},
   "outputs": [],
   "source": []
  },
  {
   "cell_type": "code",
   "execution_count": 80,
   "id": "ea1f59f3",
   "metadata": {},
   "outputs": [
    {
     "ename": "ValueError",
     "evalue": "Target is multiclass but average='binary'. Please choose another average setting, one of [None, 'micro', 'macro', 'weighted'].",
     "output_type": "error",
     "traceback": [
      "\u001b[0;31m---------------------------------------------------------------------------\u001b[0m",
      "\u001b[0;31mValueError\u001b[0m                                Traceback (most recent call last)",
      "\u001b[0;32m/var/folders/ld/_spx9cwj74z4zm921xp1zssh0000gn/T/ipykernel_49691/1834113591.py\u001b[0m in \u001b[0;36m<module>\u001b[0;34m\u001b[0m\n\u001b[1;32m      1\u001b[0m \u001b[0;31m#making dataframe on evaluation metrices\u001b[0m\u001b[0;34m\u001b[0m\u001b[0;34m\u001b[0m\u001b[0;34m\u001b[0m\u001b[0m\n\u001b[0;32m----> 2\u001b[0;31m all_evaluation_imp_feat=pd.DataFrame({'SGD':model_imp_feat(sgd_s),\n\u001b[0m\u001b[1;32m      3\u001b[0m                             \u001b[0;34m'logistic Reg'\u001b[0m\u001b[0;34m:\u001b[0m\u001b[0mmodel_imp_feat\u001b[0m\u001b[0;34m(\u001b[0m\u001b[0mlr_s\u001b[0m\u001b[0;34m)\u001b[0m\u001b[0;34m,\u001b[0m\u001b[0;34m\u001b[0m\u001b[0;34m\u001b[0m\u001b[0m\n\u001b[1;32m      4\u001b[0m                             \u001b[0;34m'svc'\u001b[0m\u001b[0;34m:\u001b[0m\u001b[0mmodel_imp_feat\u001b[0m\u001b[0;34m(\u001b[0m\u001b[0msvc_s\u001b[0m\u001b[0;34m)\u001b[0m\u001b[0;34m,\u001b[0m\u001b[0;34m\u001b[0m\u001b[0;34m\u001b[0m\u001b[0m\n\u001b[1;32m      5\u001b[0m                             \u001b[0;34m'Decision Tree'\u001b[0m\u001b[0;34m:\u001b[0m\u001b[0mmodel_imp_feat\u001b[0m\u001b[0;34m(\u001b[0m\u001b[0mdt_s\u001b[0m\u001b[0;34m)\u001b[0m\u001b[0;34m,\u001b[0m\u001b[0;34m\u001b[0m\u001b[0;34m\u001b[0m\u001b[0m\n",
      "\u001b[0;32m/var/folders/ld/_spx9cwj74z4zm921xp1zssh0000gn/T/ipykernel_49691/3824633492.py\u001b[0m in \u001b[0;36mmodel_imp_feat\u001b[0;34m(model, X_train_scaled, X_test_scaled, y_train, y_test)\u001b[0m\n\u001b[1;32m      6\u001b[0m     \u001b[0mtest_score\u001b[0m\u001b[0;34m=\u001b[0m\u001b[0mmodel\u001b[0m\u001b[0;34m.\u001b[0m\u001b[0mscore\u001b[0m\u001b[0;34m(\u001b[0m\u001b[0mX_test_scaled\u001b[0m\u001b[0;34m,\u001b[0m \u001b[0my_test\u001b[0m\u001b[0;34m)\u001b[0m\u001b[0;34m\u001b[0m\u001b[0;34m\u001b[0m\u001b[0m\n\u001b[1;32m      7\u001b[0m     \u001b[0my_pred\u001b[0m\u001b[0;34m=\u001b[0m\u001b[0mmodel\u001b[0m\u001b[0;34m.\u001b[0m\u001b[0mpredict\u001b[0m\u001b[0;34m(\u001b[0m\u001b[0mX_test_scaled\u001b[0m\u001b[0;34m)\u001b[0m\u001b[0;34m\u001b[0m\u001b[0;34m\u001b[0m\u001b[0m\n\u001b[0;32m----> 8\u001b[0;31m     \u001b[0mpre_score\u001b[0m\u001b[0;34m=\u001b[0m\u001b[0mprecision_score\u001b[0m\u001b[0;34m(\u001b[0m\u001b[0my_test\u001b[0m\u001b[0;34m,\u001b[0m \u001b[0my_pred\u001b[0m\u001b[0;34m)\u001b[0m\u001b[0;34m\u001b[0m\u001b[0;34m\u001b[0m\u001b[0m\n\u001b[0m\u001b[1;32m      9\u001b[0m     \u001b[0mre_score\u001b[0m\u001b[0;34m=\u001b[0m\u001b[0mrecall_score\u001b[0m\u001b[0;34m(\u001b[0m\u001b[0my_test\u001b[0m\u001b[0;34m,\u001b[0m \u001b[0my_pred\u001b[0m\u001b[0;34m)\u001b[0m\u001b[0;34m\u001b[0m\u001b[0;34m\u001b[0m\u001b[0m\n\u001b[1;32m     10\u001b[0m     \u001b[0mf_score\u001b[0m\u001b[0;34m=\u001b[0m\u001b[0mf1_score\u001b[0m\u001b[0;34m(\u001b[0m\u001b[0my_test\u001b[0m\u001b[0;34m,\u001b[0m \u001b[0my_pred\u001b[0m\u001b[0;34m)\u001b[0m\u001b[0;34m\u001b[0m\u001b[0;34m\u001b[0m\u001b[0m\n",
      "\u001b[0;32m~/.local/lib/python3.8/site-packages/sklearn/utils/validation.py\u001b[0m in \u001b[0;36minner_f\u001b[0;34m(*args, **kwargs)\u001b[0m\n\u001b[1;32m     61\u001b[0m             \u001b[0mextra_args\u001b[0m \u001b[0;34m=\u001b[0m \u001b[0mlen\u001b[0m\u001b[0;34m(\u001b[0m\u001b[0margs\u001b[0m\u001b[0;34m)\u001b[0m \u001b[0;34m-\u001b[0m \u001b[0mlen\u001b[0m\u001b[0;34m(\u001b[0m\u001b[0mall_args\u001b[0m\u001b[0;34m)\u001b[0m\u001b[0;34m\u001b[0m\u001b[0;34m\u001b[0m\u001b[0m\n\u001b[1;32m     62\u001b[0m             \u001b[0;32mif\u001b[0m \u001b[0mextra_args\u001b[0m \u001b[0;34m<=\u001b[0m \u001b[0;36m0\u001b[0m\u001b[0;34m:\u001b[0m\u001b[0;34m\u001b[0m\u001b[0;34m\u001b[0m\u001b[0m\n\u001b[0;32m---> 63\u001b[0;31m                 \u001b[0;32mreturn\u001b[0m \u001b[0mf\u001b[0m\u001b[0;34m(\u001b[0m\u001b[0;34m*\u001b[0m\u001b[0margs\u001b[0m\u001b[0;34m,\u001b[0m \u001b[0;34m**\u001b[0m\u001b[0mkwargs\u001b[0m\u001b[0;34m)\u001b[0m\u001b[0;34m\u001b[0m\u001b[0;34m\u001b[0m\u001b[0m\n\u001b[0m\u001b[1;32m     64\u001b[0m \u001b[0;34m\u001b[0m\u001b[0m\n\u001b[1;32m     65\u001b[0m             \u001b[0;31m# extra_args > 0\u001b[0m\u001b[0;34m\u001b[0m\u001b[0;34m\u001b[0m\u001b[0;34m\u001b[0m\u001b[0m\n",
      "\u001b[0;32m~/.local/lib/python3.8/site-packages/sklearn/metrics/_classification.py\u001b[0m in \u001b[0;36mprecision_score\u001b[0;34m(y_true, y_pred, labels, pos_label, average, sample_weight, zero_division)\u001b[0m\n\u001b[1;32m   1654\u001b[0m \u001b[0;34m\u001b[0m\u001b[0m\n\u001b[1;32m   1655\u001b[0m     \"\"\"\n\u001b[0;32m-> 1656\u001b[0;31m     p, _, _, _ = precision_recall_fscore_support(y_true, y_pred,\n\u001b[0m\u001b[1;32m   1657\u001b[0m                                                  \u001b[0mlabels\u001b[0m\u001b[0;34m=\u001b[0m\u001b[0mlabels\u001b[0m\u001b[0;34m,\u001b[0m\u001b[0;34m\u001b[0m\u001b[0;34m\u001b[0m\u001b[0m\n\u001b[1;32m   1658\u001b[0m                                                  \u001b[0mpos_label\u001b[0m\u001b[0;34m=\u001b[0m\u001b[0mpos_label\u001b[0m\u001b[0;34m,\u001b[0m\u001b[0;34m\u001b[0m\u001b[0;34m\u001b[0m\u001b[0m\n",
      "\u001b[0;32m~/.local/lib/python3.8/site-packages/sklearn/utils/validation.py\u001b[0m in \u001b[0;36minner_f\u001b[0;34m(*args, **kwargs)\u001b[0m\n\u001b[1;32m     61\u001b[0m             \u001b[0mextra_args\u001b[0m \u001b[0;34m=\u001b[0m \u001b[0mlen\u001b[0m\u001b[0;34m(\u001b[0m\u001b[0margs\u001b[0m\u001b[0;34m)\u001b[0m \u001b[0;34m-\u001b[0m \u001b[0mlen\u001b[0m\u001b[0;34m(\u001b[0m\u001b[0mall_args\u001b[0m\u001b[0;34m)\u001b[0m\u001b[0;34m\u001b[0m\u001b[0;34m\u001b[0m\u001b[0m\n\u001b[1;32m     62\u001b[0m             \u001b[0;32mif\u001b[0m \u001b[0mextra_args\u001b[0m \u001b[0;34m<=\u001b[0m \u001b[0;36m0\u001b[0m\u001b[0;34m:\u001b[0m\u001b[0;34m\u001b[0m\u001b[0;34m\u001b[0m\u001b[0m\n\u001b[0;32m---> 63\u001b[0;31m                 \u001b[0;32mreturn\u001b[0m \u001b[0mf\u001b[0m\u001b[0;34m(\u001b[0m\u001b[0;34m*\u001b[0m\u001b[0margs\u001b[0m\u001b[0;34m,\u001b[0m \u001b[0;34m**\u001b[0m\u001b[0mkwargs\u001b[0m\u001b[0;34m)\u001b[0m\u001b[0;34m\u001b[0m\u001b[0;34m\u001b[0m\u001b[0m\n\u001b[0m\u001b[1;32m     64\u001b[0m \u001b[0;34m\u001b[0m\u001b[0m\n\u001b[1;32m     65\u001b[0m             \u001b[0;31m# extra_args > 0\u001b[0m\u001b[0;34m\u001b[0m\u001b[0;34m\u001b[0m\u001b[0;34m\u001b[0m\u001b[0m\n",
      "\u001b[0;32m~/.local/lib/python3.8/site-packages/sklearn/metrics/_classification.py\u001b[0m in \u001b[0;36mprecision_recall_fscore_support\u001b[0;34m(y_true, y_pred, beta, labels, pos_label, average, warn_for, sample_weight, zero_division)\u001b[0m\n\u001b[1;32m   1462\u001b[0m     \u001b[0;32mif\u001b[0m \u001b[0mbeta\u001b[0m \u001b[0;34m<\u001b[0m \u001b[0;36m0\u001b[0m\u001b[0;34m:\u001b[0m\u001b[0;34m\u001b[0m\u001b[0;34m\u001b[0m\u001b[0m\n\u001b[1;32m   1463\u001b[0m         \u001b[0;32mraise\u001b[0m \u001b[0mValueError\u001b[0m\u001b[0;34m(\u001b[0m\u001b[0;34m\"beta should be >=0 in the F-beta score\"\u001b[0m\u001b[0;34m)\u001b[0m\u001b[0;34m\u001b[0m\u001b[0;34m\u001b[0m\u001b[0m\n\u001b[0;32m-> 1464\u001b[0;31m     labels = _check_set_wise_labels(y_true, y_pred, average, labels,\n\u001b[0m\u001b[1;32m   1465\u001b[0m                                     pos_label)\n\u001b[1;32m   1466\u001b[0m \u001b[0;34m\u001b[0m\u001b[0m\n",
      "\u001b[0;32m~/.local/lib/python3.8/site-packages/sklearn/metrics/_classification.py\u001b[0m in \u001b[0;36m_check_set_wise_labels\u001b[0;34m(y_true, y_pred, average, labels, pos_label)\u001b[0m\n\u001b[1;32m   1292\u001b[0m             \u001b[0;32mif\u001b[0m \u001b[0my_type\u001b[0m \u001b[0;34m==\u001b[0m \u001b[0;34m'multiclass'\u001b[0m\u001b[0;34m:\u001b[0m\u001b[0;34m\u001b[0m\u001b[0;34m\u001b[0m\u001b[0m\n\u001b[1;32m   1293\u001b[0m                 \u001b[0maverage_options\u001b[0m\u001b[0;34m.\u001b[0m\u001b[0mremove\u001b[0m\u001b[0;34m(\u001b[0m\u001b[0;34m'samples'\u001b[0m\u001b[0;34m)\u001b[0m\u001b[0;34m\u001b[0m\u001b[0;34m\u001b[0m\u001b[0m\n\u001b[0;32m-> 1294\u001b[0;31m             raise ValueError(\"Target is %s but average='binary'. Please \"\n\u001b[0m\u001b[1;32m   1295\u001b[0m                              \u001b[0;34m\"choose another average setting, one of %r.\"\u001b[0m\u001b[0;34m\u001b[0m\u001b[0;34m\u001b[0m\u001b[0m\n\u001b[1;32m   1296\u001b[0m                              % (y_type, average_options))\n",
      "\u001b[0;31mValueError\u001b[0m: Target is multiclass but average='binary'. Please choose another average setting, one of [None, 'micro', 'macro', 'weighted']."
     ]
    }
   ],
   "source": [
    "#making dataframe on evaluation metrices\n",
    "all_evaluation_imp_feat=pd.DataFrame({'SGD':model_imp_feat(sgd_s),\n",
    "                            'logistic Reg':model_imp_feat(lr_s),\n",
    "                            'svc':model_imp_feat(svc_s),\n",
    "                            'Decision Tree':model_imp_feat(dt_s),\n",
    "                           'Random Forest':model_imp_feat(rf_s),\n",
    "                            'Extra Random Tree':model_imp_feat(rt_s)}\n",
    "                           ,index=['train score','test score', \n",
    "                                   'precision_score', 'recall_score', 'f1_score', 'auc'])\n",
    "all_evaluation_imp_feat"
   ]
  },
  {
   "cell_type": "code",
   "execution_count": 96,
   "id": "2faa5d23",
   "metadata": {},
   "outputs": [],
   "source": [
    "all_evaluation_imp_feat.to_html('Resources/Cleaned_data/under_metrics_imp.html')"
   ]
  },
  {
   "cell_type": "code",
   "execution_count": null,
   "id": "caaa79ca",
   "metadata": {},
   "outputs": [],
   "source": []
  }
 ],
 "metadata": {
  "kernelspec": {
   "display_name": "Python 3 (ipykernel)",
   "language": "python",
   "name": "python3"
  },
  "language_info": {
   "codemirror_mode": {
    "name": "ipython",
    "version": 3
   },
   "file_extension": ".py",
   "mimetype": "text/x-python",
   "name": "python",
   "nbconvert_exporter": "python",
   "pygments_lexer": "ipython3",
   "version": "3.8.10"
  }
 },
 "nbformat": 4,
 "nbformat_minor": 5
}
