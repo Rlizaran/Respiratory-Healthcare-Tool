{
 "cells": [
  {
   "cell_type": "code",
   "execution_count": 1,
   "id": "eae3416d",
   "metadata": {},
   "outputs": [],
   "source": [
    "#importing models\n",
    "import pandas as pd\n",
    "import numpy as np\n",
    "import os\n",
    "import matplotlib.pyplot as plt\n",
    "import statsmodels.api as sm\n",
    "import seaborn as sns\n",
    "from scipy import stats\n",
    "import warnings\n",
    "from matplotlib import rcParams\n",
    "#importing sklearn models\n",
    "from sklearn.model_selection import train_test_split\n",
    "from sklearn.linear_model import LinearRegression\n",
    "from sklearn.model_selection import cross_val_score\n",
    "from sklearn.linear_model import Lasso\n",
    "from sklearn.linear_model import Ridge\n",
    "from sklearn.svm import LinearSVR\n",
    "from sklearn.svm import SVR\n",
    "from sklearn.ensemble import RandomForestRegressor\n",
    "from sklearn.tree import DecisionTreeRegressor\n",
    "from sklearn.model_selection import GridSearchCV\n",
    "from sklearn.model_selection import RandomizedSearchCV\n",
    "from sklearn.metrics import mean_absolute_error, r2_score\n",
    "from sklearn.metrics import mean_squared_error\n",
    "from path import Path"
   ]
  },
  {
   "cell_type": "code",
   "execution_count": 2,
   "id": "fef5099c",
   "metadata": {},
   "outputs": [],
   "source": [
    "import warnings\n",
    "warnings.filterwarnings(\"ignore\")"
   ]
  },
  {
   "cell_type": "code",
   "execution_count": 3,
   "id": "4d333ed8",
   "metadata": {},
   "outputs": [],
   "source": [
    "# defining data path\n",
    "data_path=Path('resources/Cleaned_folder/aqi_asthma.csv')\n",
    "\n",
    "#data_path=Path('resources/Cleaned_folder/aqi_asthma_try.csv')\n",
    "\n",
    "# Reading data source using pandas\n",
    "asthma_df=pd.read_csv(data_path)"
   ]
  },
  {
   "cell_type": "code",
   "execution_count": 4,
   "id": "0927bea5",
   "metadata": {},
   "outputs": [
    {
     "data": {
      "text/plain": [
       "Year                                  int64\n",
       "Age_Group                             int64\n",
       "county                               object\n",
       "Number_of_Asthma_ED_Visits          float64\n",
       "Age_Adjusted_Rate_of_Asthma_ED_V    float64\n",
       "NO2 AQI_mean                        float64\n",
       "NO2 AQI_max                         float64\n",
       "NO2 AQI_min                         float64\n",
       "O3 AQI_mean                         float64\n",
       "O3 AQI_max                          float64\n",
       "O3 AQI_min                          float64\n",
       "SO2 AQI_mean                        float64\n",
       "SO2 AQI_max                         float64\n",
       "SO2 AQI_min                         float64\n",
       "CO AQI_mean                         float64\n",
       "CO AQI_max                          float64\n",
       "CO AQI_min                          float64\n",
       "dtype: object"
      ]
     },
     "execution_count": 4,
     "metadata": {},
     "output_type": "execute_result"
    }
   ],
   "source": [
    "asthma_df.dtypes"
   ]
  },
  {
   "cell_type": "code",
   "execution_count": 5,
   "id": "7a9584bf",
   "metadata": {},
   "outputs": [],
   "source": [
    "# create feature matrix (X)\n",
    "#selecting all columns except 'Age-adjusted-rate'\n",
    "X=asthma_df.drop(['Age_Adjusted_Rate_of_Asthma_ED_V','county'], axis=1) \n",
    "\n",
    "#X=asthma_df.drop(['Age-adjusted rate','county'], axis=1)\n",
    "\n",
    "# create response vector (y)\n",
    "##selecting 'Age-adjusted-rate'\n",
    "y=asthma_df['Age_Adjusted_Rate_of_Asthma_ED_V'].values\n",
    "\n",
    "#y=asthma_df['Age-adjusted rate'].values"
   ]
  },
  {
   "cell_type": "markdown",
   "id": "8e619e1c",
   "metadata": {},
   "source": [
    "#### Splitting data in train and test set"
   ]
  },
  {
   "cell_type": "code",
   "execution_count": 6,
   "id": "d849489e",
   "metadata": {},
   "outputs": [],
   "source": [
    "#Training set**: Used to train the classifier.\n",
    "#Testing set**: Used to estimate the error rate of the trained classifier.\n",
    "#Also using train_index and test_index to get train and test data index \n",
    "X_train, X_test, y_train, y_test = train_test_split(\n",
    "                               X, y, test_size=0.2, random_state=42)"
   ]
  },
  {
   "cell_type": "code",
   "execution_count": 7,
   "id": "0a0ab691",
   "metadata": {},
   "outputs": [
    {
     "name": "stdout",
     "output_type": "stream",
     "text": [
      "Shape of X_train=(83, 15)\n",
      "Shape of X_test=(21, 15)\n",
      "Shape of y_train=(83,)\n",
      "Shape of X_test=(21,)\n"
     ]
    }
   ],
   "source": [
    "print(f'Shape of X_train={X_train.shape}')\n",
    "print(f'Shape of X_test={X_test.shape}')\n",
    "print(f'Shape of y_train={y_train.shape}')\n",
    "print(f'Shape of X_test={y_test.shape}')"
   ]
  },
  {
   "cell_type": "markdown",
   "id": "5ae03b8b",
   "metadata": {},
   "source": [
    "#### Scaling using standard scaler on feature matrix (X) "
   ]
  },
  {
   "cell_type": "code",
   "execution_count": 8,
   "id": "59ca8f49",
   "metadata": {},
   "outputs": [],
   "source": [
    "#Different columns have differnt scale so standrazied it \n",
    "#features scaling using standard scaler on x only\n",
    "from sklearn.preprocessing import StandardScaler\n",
    "std_scaler=StandardScaler()\n",
    "scaled_X_train=std_scaler.fit_transform(X_train)\n",
    "scaled_X_test=std_scaler.transform(X_test)"
   ]
  },
  {
   "cell_type": "code",
   "execution_count": 9,
   "id": "d3d4b650",
   "metadata": {},
   "outputs": [
    {
     "name": "stdout",
     "output_type": "stream",
     "text": [
      "(83, 15)\n",
      "(104,)\n"
     ]
    }
   ],
   "source": [
    "#shape of the X and y\n",
    "print(scaled_X_train.shape)\n",
    "print(y.shape)"
   ]
  },
  {
   "cell_type": "markdown",
   "id": "b8cbc52c",
   "metadata": {},
   "source": [
    "### Evaluation Metric"
   ]
  },
  {
   "cell_type": "markdown",
   "id": "1fb62448",
   "metadata": {},
   "source": [
    "To evaluate a model, we also need an **evaluation metric:**\n",
    "\n",
    "- A numeric calculation used to **quantify** the performance of a model.\n",
    "- The appropriate metric depends on the **goals** of your problem.\n",
    "\n",
    "The most common choices for regression problems are:\n",
    "\n",
    "- **R-squared**: The percentage of variation explained by the model (a \"reward function,\" as higher is better).\n",
    "- **Mean squared error**: The average squared distance between the prediction and the correct answer (a \"loss function,\" as lower is better).\n",
    "- **Mean absolute error**: The average absolute distance between the prediction and the correct answer (a \"loss function,\" as lower is better).\n",
    "\n",
    "In this case, we'll use mean squared error, R2, and mean absolute error because it is more interpretable in a predictive context."
   ]
  },
  {
   "cell_type": "markdown",
   "id": "ff3e8d5b",
   "metadata": {},
   "source": [
    "## Linear Regression"
   ]
  },
  {
   "cell_type": "code",
   "execution_count": 10,
   "id": "0cf35236",
   "metadata": {},
   "outputs": [
    {
     "data": {
      "text/plain": [
       "LinearRegression()"
      ]
     },
     "execution_count": 10,
     "metadata": {},
     "output_type": "execute_result"
    }
   ],
   "source": [
    "#using linear regression\n",
    "# Make a linear regression instance\n",
    "lr=LinearRegression()\n",
    "# Training the model on the data, storing the information learned from the data\n",
    "# Model is learning the relationship between X and y \n",
    "lr.fit(scaled_X_train, y_train)\n"
   ]
  },
  {
   "cell_type": "code",
   "execution_count": 11,
   "id": "d8ee5aec",
   "metadata": {},
   "outputs": [
    {
     "name": "stdout",
     "output_type": "stream",
     "text": [
      "R2 Score of training set 0.8187233825511082\n",
      "R2 Score of testing  set  0.8590207162163466\n"
     ]
    }
   ],
   "source": [
    "#Printing the R2 score of test and train set\n",
    "print(f'R2 Score of training set {lr.score(scaled_X_train, y_train)}')\n",
    "print(f'R2 Score of testing  set  {lr.score(scaled_X_test, y_test)}')"
   ]
  },
  {
   "cell_type": "markdown",
   "id": "da321253",
   "metadata": {},
   "source": [
    "#### Create a cross-valiation with five folds.\n",
    "-  Cross valiation allows the training set into distinct subsets called folds.\n",
    "- A model is trained using k-1 of the folds as training data"
   ]
  },
  {
   "cell_type": "code",
   "execution_count": 12,
   "id": "d9bffa8e",
   "metadata": {},
   "outputs": [
    {
     "data": {
      "text/plain": [
       "array([-12.18150373, -13.01962261, -14.08140065, -14.40623236,\n",
       "       -12.7821553 ])"
      ]
     },
     "execution_count": 12,
     "metadata": {},
     "output_type": "execute_result"
    }
   ],
   "source": [
    "#score of training set using cross_val_score\n",
    "cross_val_score(lr, scaled_X_train, y_train, scoring='neg_mean_absolute_error', cv=5)"
   ]
  },
  {
   "cell_type": "code",
   "execution_count": 13,
   "id": "bc53cf68",
   "metadata": {},
   "outputs": [
    {
     "name": "stdout",
     "output_type": "stream",
     "text": [
      "The R2 of Linear Regression is 0.48817169182285447\n",
      "The mean squared error of Linear Regression is 16.85909268459506\n",
      "The mean absolute error of Linear Regression is 13.294182929913623\n"
     ]
    }
   ],
   "source": [
    "#score of training set using cross_val_score\n",
    "lr_r2=np.mean(cross_val_score(lr, scaled_X_train, y_train, cv=5))\n",
    "print(f'The R2 of Linear Regression is {lr_r2}')\n",
    "\n",
    "#cross validation features gives greater is better, so score function is opposite of \n",
    "#MSE so we need to use -ve to get mse\n",
    "lr_mse=np.mean(cross_val_score(lr, scaled_X_train, y_train, cv=5, scoring='neg_mean_squared_error'))\n",
    "lr_rmse=np.sqrt(-(lr_mse))\n",
    "print(f'The mean squared error of Linear Regression is {lr_rmse}')\n",
    "\n",
    "#mean absolute error\n",
    "lr_mae=np.mean(cross_val_score(lr, scaled_X_train, y_train, cv=5, scoring='neg_mean_absolute_error'))\n",
    "lr_mae=(-(lr_mae))\n",
    "print(f'The mean absolute error of Linear Regression is {lr_mae}')"
   ]
  },
  {
   "cell_type": "markdown",
   "id": "e0f390e4",
   "metadata": {},
   "source": [
    "## Ridge Regression"
   ]
  },
  {
   "cell_type": "code",
   "execution_count": 14,
   "id": "56dbafca",
   "metadata": {},
   "outputs": [
    {
     "data": {
      "text/plain": [
       "Ridge()"
      ]
     },
     "execution_count": 14,
     "metadata": {},
     "output_type": "execute_result"
    }
   ],
   "source": [
    "#using ridge regression(ridge make some features going to near zero)\n",
    "#alpha=0 no regularization( all features are used)\n",
    "# Make a ridge regression instance\n",
    "lr_r=Ridge()\n",
    "lr_r.fit(scaled_X_train, y_train)\n"
   ]
  },
  {
   "cell_type": "code",
   "execution_count": 15,
   "id": "8c1c63a8",
   "metadata": {},
   "outputs": [
    {
     "name": "stdout",
     "output_type": "stream",
     "text": [
      "R2 Score of training set 0.814320407949326\n",
      "R2 Score of testing set  0.8647024989632942\n"
     ]
    }
   ],
   "source": [
    "#Printing the R2 score of test and train set\n",
    "print(f'R2 Score of training set {lr_r.score(scaled_X_train, y_train)}')\n",
    "print(f'R2 Score of testing set  {lr_r.score(scaled_X_test, y_test)}')"
   ]
  },
  {
   "cell_type": "markdown",
   "id": "1d917074",
   "metadata": {},
   "source": [
    "#### Create a cross-valiation with five folds."
   ]
  },
  {
   "cell_type": "code",
   "execution_count": 16,
   "id": "fc70cc7d",
   "metadata": {},
   "outputs": [
    {
     "data": {
      "text/plain": [
       "array([-11.26694862, -13.02570106, -15.81391099])"
      ]
     },
     "execution_count": 16,
     "metadata": {},
     "output_type": "execute_result"
    }
   ],
   "source": [
    "#score of training set using cross_val_score\n",
    "cross_val_score(lr_r, scaled_X_train, y_train, scoring='neg_mean_absolute_error', cv=3)"
   ]
  },
  {
   "cell_type": "code",
   "execution_count": 17,
   "id": "e4be8990",
   "metadata": {},
   "outputs": [
    {
     "name": "stdout",
     "output_type": "stream",
     "text": [
      "The R2 of Ridge Regression is 0.5190225440234283\n",
      "The mean squared error of Ridge Regression is 16.67797198033198\n",
      "The mean absolute error of Ridge Regression is 12.573961515804765\n"
     ]
    }
   ],
   "source": [
    "#score of training set using cross_val_score\n",
    "lr_r_r2=np.mean(cross_val_score(lr_r, scaled_X_train, y_train, cv=5))\n",
    "print(f'The R2 of Ridge Regression is {lr_r_r2}')\n",
    "\n",
    "#cross validation features gives greater is better, so score function is opposite of \n",
    "#MSE so we need to use -ve to get mse\n",
    "lr_r_mse=np.mean(cross_val_score(lr_r, scaled_X_train, y_train, cv=5, scoring='neg_mean_squared_error'))\n",
    "lr_r_rmse=np.sqrt(-(lr_r_mse))\n",
    "print(f'The mean squared error of Ridge Regression is {lr_r_rmse}')\n",
    "\n",
    "#mean absolute error\n",
    "lr_r_mae=np.mean(cross_val_score(lr_r, scaled_X_train, y_train, cv=5, scoring='neg_mean_absolute_error'))\n",
    "lr_r_mae=(-(lr_r_mae))\n",
    "print(f'The mean absolute error of Ridge Regression is {lr_r_mae}')"
   ]
  },
  {
   "cell_type": "code",
   "execution_count": 18,
   "id": "e5b0d68f",
   "metadata": {},
   "outputs": [
    {
     "data": {
      "image/png": "[encoded data removed]",
      "text/plain": [
       "<Figure size 432x288 with 1 Axes>"
      ]
     },
     "metadata": {
      "needs_background": "light"
     },
     "output_type": "display_data"
    }
   ],
   "source": [
    "#choosing the best alpha\n",
    "alpha=[]\n",
    "error=[]\n",
    "for i in range(1,1000,50):\n",
    "    alpha.append(i/10)\n",
    "    lrr=Ridge(alpha=(i/10))\n",
    "    error.append(np.mean(cross_val_score(lrr, scaled_X_train, y_train, scoring='neg_mean_absolute_error',\n",
    "                                         cv=5)))\n",
    "plt.plot(alpha,error) \n",
    "plt.show()"
   ]
  },
  {
   "cell_type": "code",
   "execution_count": 19,
   "id": "a4951f73",
   "metadata": {},
   "outputs": [
    {
     "data": {
      "text/plain": [
       "Ridge(alpha=10)"
      ]
     },
     "execution_count": 19,
     "metadata": {},
     "output_type": "execute_result"
    }
   ],
   "source": [
    "#choosing the best alpha (look figure where alpha start to saturate)\n",
    "lrr=Ridge(alpha=10)\n",
    "lrr.fit(X_train, y_train)\n"
   ]
  },
  {
   "cell_type": "code",
   "execution_count": 20,
   "id": "5f081208",
   "metadata": {},
   "outputs": [
    {
     "name": "stdout",
     "output_type": "stream",
     "text": [
      "R2 Score of training set with alpha 40 -4369.043902778573\n",
      "R2 Score of testing set with alpha 40 -3041.1788073850216\n"
     ]
    }
   ],
   "source": [
    "#Printing the R2 score of test and train set \n",
    "print(f'R2 Score of training set with alpha 40 {lrr.score(scaled_X_train, y_train)}')\n",
    "print(f'R2 Score of testing set with alpha 40 {lrr.score(scaled_X_test, y_test)}')"
   ]
  },
  {
   "cell_type": "markdown",
   "id": "36f373da",
   "metadata": {},
   "source": [
    "#### Create a cross-valiation with five folds."
   ]
  },
  {
   "cell_type": "code",
   "execution_count": 21,
   "id": "69e9d466",
   "metadata": {},
   "outputs": [
    {
     "data": {
      "text/plain": [
       "array([-11.26694862, -13.02570106, -15.81391099])"
      ]
     },
     "execution_count": 21,
     "metadata": {},
     "output_type": "execute_result"
    }
   ],
   "source": [
    "#score of training set using cross_val_score\n",
    "cross_val_score(lr_r, scaled_X_train, y_train, scoring='neg_mean_absolute_error', cv=3)"
   ]
  },
  {
   "cell_type": "code",
   "execution_count": 22,
   "id": "d20b56ff",
   "metadata": {},
   "outputs": [
    {
     "name": "stdout",
     "output_type": "stream",
     "text": [
      "The R2 of Ridge Regression with alpha 10 is 0.5538084409345555\n",
      "The mean squared error of Ridge Regression with alpha 10 is 16.67797198033198\n",
      "The mean absolute error of Ridge Regression with alpha 10 is 12.573961515804765\n"
     ]
    }
   ],
   "source": [
    "#score of training set using cross_val_score\n",
    "lrr_r2=np.mean(cross_val_score(lrr, scaled_X_train, y_train, cv=5))\n",
    "print(f'The R2 of Ridge Regression with alpha 10 is {lrr_r2}')\n",
    "\n",
    "#cross validation features gives greater is better, so score function is opposite of \n",
    "#MSE so we need to use -ve to get mse\n",
    "lrr_mse=np.mean(cross_val_score(lr_r, scaled_X_train, y_train, cv=5, scoring='neg_mean_squared_error'))\n",
    "lrr_rmse=np.sqrt(-(lrr_mse))\n",
    "print(f'The mean squared error of Ridge Regression with alpha 10 is {lrr_rmse}')\n",
    "\n",
    "#mean absolute error\n",
    "lrr_mae=np.mean(cross_val_score(lr_r, scaled_X_train, y_train, cv=5, scoring='neg_mean_absolute_error'))\n",
    "lrr_mae=(-(lrr_mae))\n",
    "print(f'The mean absolute error of Ridge Regression with alpha 10 is {lrr_mae}')"
   ]
  },
  {
   "cell_type": "markdown",
   "id": "e6058a94",
   "metadata": {},
   "source": [
    "## Laso Regression"
   ]
  },
  {
   "cell_type": "code",
   "execution_count": 23,
   "id": "28bcfe0e",
   "metadata": {},
   "outputs": [
    {
     "data": {
      "text/plain": [
       "Lasso()"
      ]
     },
     "execution_count": 23,
     "metadata": {},
     "output_type": "execute_result"
    }
   ],
   "source": [
    "#using lassoregression(lasso make some features going to exactly zero)\n",
    "#alpha=0 no regularization( all features are used)\n",
    "# Make a lasso regression instance\n",
    "lr_l=Lasso()\n",
    "lr_l.fit(scaled_X_train, y_train)\n"
   ]
  },
  {
   "cell_type": "code",
   "execution_count": 24,
   "id": "ab17e686",
   "metadata": {},
   "outputs": [
    {
     "name": "stdout",
     "output_type": "stream",
     "text": [
      "R2 Score of training set 0.7488283842876851\n",
      "R2 Score of testing set  0.7701611905503272\n"
     ]
    }
   ],
   "source": [
    "#Printing the R2 score of test and train set\n",
    "print(f'R2 Score of training set {lr_l.score(scaled_X_train, y_train)}')\n",
    "print(f'R2 Score of testing set  {lr_l.score(scaled_X_test, y_test)}')"
   ]
  },
  {
   "cell_type": "markdown",
   "id": "842638a2",
   "metadata": {},
   "source": [
    "#### Create a cross-valiation with five folds."
   ]
  },
  {
   "cell_type": "code",
   "execution_count": 25,
   "id": "0effb939",
   "metadata": {},
   "outputs": [
    {
     "data": {
      "text/plain": [
       "array([-10.80297702, -13.94631581, -12.85551078])"
      ]
     },
     "execution_count": 25,
     "metadata": {},
     "output_type": "execute_result"
    }
   ],
   "source": [
    "#score of training set using cross_val_score\n",
    "cross_val_score(lr_l, scaled_X_train, y_train, scoring='neg_mean_absolute_error', cv=3)"
   ]
  },
  {
   "cell_type": "code",
   "execution_count": 26,
   "id": "1237e404",
   "metadata": {},
   "outputs": [
    {
     "name": "stdout",
     "output_type": "stream",
     "text": [
      "The R2 of Lasso Regression is 0.6329144771147858\n",
      "The mean squared error of Lasso Regression is 17.60157625433874\n",
      "The mean absolute error of Lasso Regression is 12.5212452427749\n"
     ]
    }
   ],
   "source": [
    "#score of training set using cross_val_score\n",
    "lr_l_r2=np.mean(cross_val_score(lr_l, scaled_X_train, y_train, cv=2))\n",
    "print(f'The R2 of Lasso Regression is {lr_l_r2}')\n",
    "\n",
    "#cross validation features gives greater is better, so score function is opposite of \n",
    "#MSE so we need to use -ve to get mse\n",
    "lr_l_mse=np.mean(cross_val_score(lr_l, scaled_X_train, y_train, cv=5, scoring='neg_mean_squared_error'))\n",
    "lr_l_rmse=np.sqrt(-(lr_l_mse))\n",
    "print(f'The mean squared error of Lasso Regression is {lr_l_rmse}')\n",
    "\n",
    "#mean absolute error\n",
    "lr_l_mae=np.mean(cross_val_score(lr_l, scaled_X_train, y_train, cv=5, scoring='neg_mean_absolute_error'))\n",
    "lr_l_mae=(-(lr_l_mae))\n",
    "print(f'The mean absolute error of Lasso Regression is {lr_l_mae}')"
   ]
  },
  {
   "cell_type": "code",
   "execution_count": 27,
   "id": "18aaa374",
   "metadata": {},
   "outputs": [
    {
     "data": {
      "image/png": "[encoded data removed]",
      "text/plain": [
       "<Figure size 432x288 with 1 Axes>"
      ]
     },
     "metadata": {
      "needs_background": "light"
     },
     "output_type": "display_data"
    }
   ],
   "source": [
    "#choosing the best alpha\n",
    "alpha=[]\n",
    "error=[]\n",
    "for i in range(1,100,10):\n",
    "    alpha.append(i/10)\n",
    "    lrl=Lasso(alpha=(i/10))\n",
    "    error.append(np.mean(cross_val_score(lrl, scaled_X_train, y_train, scoring='neg_mean_absolute_error',\n",
    "                                         cv=5)))\n",
    "plt.plot(alpha,error)\n",
    "plt.show()"
   ]
  },
  {
   "cell_type": "code",
   "execution_count": 28,
   "id": "5ffaae4b",
   "metadata": {},
   "outputs": [
    {
     "data": {
      "text/plain": [
       "Lasso(alpha=10)"
      ]
     },
     "execution_count": 28,
     "metadata": {},
     "output_type": "execute_result"
    }
   ],
   "source": [
    "#choosing the best alpha\n",
    "lrl=Lasso(alpha=10)\n",
    "lrl.fit(scaled_X_train, y_train)\n"
   ]
  },
  {
   "cell_type": "code",
   "execution_count": 29,
   "id": "20b8b7e1",
   "metadata": {},
   "outputs": [
    {
     "name": "stdout",
     "output_type": "stream",
     "text": [
      "R2 Score of training set with alpha 10 0.30267850496357285\n",
      "R2 Score of testing set with alpha 10 0.28237914152090693\n"
     ]
    }
   ],
   "source": [
    "#Printing the R2 score of test and train set \n",
    "print(f'R2 Score of training set with alpha 10 {lrl.score(scaled_X_train, y_train)}')\n",
    "print(f'R2 Score of testing set with alpha 10 {lrl.score(scaled_X_test, y_test)}')"
   ]
  },
  {
   "cell_type": "markdown",
   "id": "a6002558",
   "metadata": {},
   "source": [
    "#### Create a cross-valiation with five folds."
   ]
  },
  {
   "cell_type": "code",
   "execution_count": 30,
   "id": "cec426fe",
   "metadata": {},
   "outputs": [
    {
     "data": {
      "text/plain": [
       "array([-10.80297702, -13.94631581, -12.85551078])"
      ]
     },
     "execution_count": 30,
     "metadata": {},
     "output_type": "execute_result"
    }
   ],
   "source": [
    "#score of training set using cross_val_score\n",
    "cross_val_score(lr_l, scaled_X_train, y_train, scoring='neg_mean_absolute_error', cv=3)"
   ]
  },
  {
   "cell_type": "code",
   "execution_count": 31,
   "id": "73ee7b9b",
   "metadata": {},
   "outputs": [
    {
     "name": "stdout",
     "output_type": "stream",
     "text": [
      "The R2 of Lasso Regression with alpha 10 is 0.19788197709315403\n",
      "The mean squared error of Lasso Regression with alpha 10 is 17.60157625433874\n",
      "The mean absolute error of Lasso Regressionwith alpha 10 is 12.5212452427749\n"
     ]
    }
   ],
   "source": [
    "#score of training set using cross_val_score\n",
    "lrl_r2=np.mean(cross_val_score(lrl, scaled_X_train, y_train, cv=5))\n",
    "print(f'The R2 of Lasso Regression with alpha 10 is {lrl_r2}')\n",
    "\n",
    "#cross validation features gives greater is better, so score function is opposite of \n",
    "#MSE so we need to use -ve to get mse\n",
    "lrl_mse=np.mean(cross_val_score(lr_l, scaled_X_train, y_train, cv=5, scoring='neg_mean_squared_error'))\n",
    "lrl_rmse=np.sqrt(-(lrl_mse))\n",
    "print(f'The mean squared error of Lasso Regression with alpha 10 is {lrl_rmse}')\n",
    "\n",
    "#mean absolute error\n",
    "lrl_mae=np.mean(cross_val_score(lr_l, scaled_X_train, y_train, cv=5, scoring='neg_mean_absolute_error'))\n",
    "lrl_mae=(-(lrl_mae))\n",
    "print(f'The mean absolute error of Lasso Regressionwith alpha 10 is {lrl_mae}')"
   ]
  },
  {
   "cell_type": "markdown",
   "id": "ef0b4d79",
   "metadata": {},
   "source": [
    "## Support Vector Machine(SVM) Regression"
   ]
  },
  {
   "cell_type": "code",
   "execution_count": 32,
   "id": "972957f6",
   "metadata": {},
   "outputs": [
    {
     "data": {
      "text/plain": [
       "LinearSVR(epsilon=1.5)"
      ]
     },
     "execution_count": 32,
     "metadata": {},
     "output_type": "execute_result"
    }
   ],
   "source": [
    "# Make a svm regression instance\n",
    "svm=LinearSVR(epsilon=1.5)\n",
    "svm.fit(scaled_X_train, y_train)\n"
   ]
  },
  {
   "cell_type": "code",
   "execution_count": 33,
   "id": "83b8b8e2",
   "metadata": {},
   "outputs": [
    {
     "name": "stdout",
     "output_type": "stream",
     "text": [
      "R2 Score of training set 0.3950704138577692\n",
      "R2 Score of testing set  0.44934524126567765\n"
     ]
    }
   ],
   "source": [
    "#Printing the R2 score of test and train set\n",
    "print(f'R2 Score of training set {svm.score(scaled_X_train, y_train)}')\n",
    "print(f'R2 Score of testing set  {svm.score(scaled_X_test, y_test)}')"
   ]
  },
  {
   "cell_type": "markdown",
   "id": "d5ac1731",
   "metadata": {},
   "source": [
    "#### Create a cross-valiation with five folds."
   ]
  },
  {
   "cell_type": "code",
   "execution_count": 34,
   "id": "96070d8e",
   "metadata": {},
   "outputs": [
    {
     "data": {
      "text/plain": [
       "array([-28.37396804, -22.83972214, -32.68533443])"
      ]
     },
     "execution_count": 34,
     "metadata": {},
     "output_type": "execute_result"
    }
   ],
   "source": [
    "#score of training set using cross_val_score\n",
    "cross_val_score(svm, scaled_X_train, y_train, scoring='neg_mean_absolute_error', cv=3)"
   ]
  },
  {
   "cell_type": "code",
   "execution_count": 35,
   "id": "0129d264",
   "metadata": {},
   "outputs": [
    {
     "name": "stdout",
     "output_type": "stream",
     "text": [
      "The R2 of svm Regression is -0.2495528546543194\n",
      "The mean squared error of svm Regression is 31.26520551969261\n",
      "The mean absolute error of svm Regression is 22.804195112461322\n"
     ]
    }
   ],
   "source": [
    "#score of training set using cross_val_score\n",
    "svm_r2=np.mean(cross_val_score(svm, scaled_X_train, y_train, cv=5))\n",
    "print(f'The R2 of svm Regression is {svm_r2}')\n",
    "\n",
    "#cross validation features gives greater is better, so score function is opposite of \n",
    "#MSE so we need to use -ve to get mse\n",
    "svm_mse=np.mean(cross_val_score(svm, scaled_X_train, y_train, cv=5, scoring='neg_mean_squared_error'))\n",
    "svm_rmse=np.sqrt(-(svm_mse))\n",
    "print(f'The mean squared error of svm Regression is {svm_rmse}')\n",
    "\n",
    "#mean absolute error\n",
    "svm_mae=np.mean(cross_val_score(svm, scaled_X_train, y_train, cv=5, scoring='neg_mean_absolute_error'))\n",
    "svm_mae=(-(svm_mae))\n",
    "print(f'The mean absolute error of svm Regression is {svm_mae}')"
   ]
  },
  {
   "cell_type": "markdown",
   "id": "32a08892",
   "metadata": {},
   "source": [
    "## Support Vector Machine(SVR) Kernel Regression"
   ]
  },
  {
   "cell_type": "code",
   "execution_count": 36,
   "id": "a577e349",
   "metadata": {},
   "outputs": [
    {
     "data": {
      "text/plain": [
       "SVR(kernel='linear')"
      ]
     },
     "execution_count": 36,
     "metadata": {},
     "output_type": "execute_result"
    }
   ],
   "source": [
    "# Make a svm regression instance\n",
    "svr=SVR(kernel='linear')\n",
    "svr.fit(scaled_X_train, y_train)\n"
   ]
  },
  {
   "cell_type": "code",
   "execution_count": 37,
   "id": "4ae46ffa",
   "metadata": {},
   "outputs": [
    {
     "name": "stdout",
     "output_type": "stream",
     "text": [
      "R2 Score of training set 0.6560044126021761\n",
      "R2 Score of testing set  0.6971531026611963\n"
     ]
    }
   ],
   "source": [
    "#Printing the R2 score of test and train set\n",
    "print(f'R2 Score of training set {svr.score(scaled_X_train, y_train)}')\n",
    "print(f'R2 Score of testing set  {svr.score(scaled_X_test, y_test)}')"
   ]
  },
  {
   "cell_type": "markdown",
   "id": "f2adc541",
   "metadata": {},
   "source": [
    "#### Create a cross-valiation with five folds."
   ]
  },
  {
   "cell_type": "code",
   "execution_count": 38,
   "id": "1f2165a7",
   "metadata": {},
   "outputs": [
    {
     "data": {
      "text/plain": [
       "array([-14.45240362, -16.08003476, -15.26700429])"
      ]
     },
     "execution_count": 38,
     "metadata": {},
     "output_type": "execute_result"
    }
   ],
   "source": [
    "#score of training set using cross_val_score\n",
    "cross_val_score(svr, scaled_X_train, y_train, scoring='neg_mean_absolute_error', cv=3)"
   ]
  },
  {
   "cell_type": "code",
   "execution_count": 39,
   "id": "b20259d8",
   "metadata": {},
   "outputs": [
    {
     "name": "stdout",
     "output_type": "stream",
     "text": [
      "The R2 of svr is 0.5139168530443536\n",
      "The mean squared error of svr is 21.14974312582804\n",
      "The mean absolute error of svr  is 14.799399460341936\n"
     ]
    }
   ],
   "source": [
    "#score of training set using cross_val_score\n",
    "svr_r2=np.mean(cross_val_score(svr, scaled_X_train, y_train, cv=5))\n",
    "print(f'The R2 of svr is {svr_r2}')\n",
    "\n",
    "#cross validation features gives greater is better, so score function is opposite of \n",
    "#MSE so we need to use -ve to get mse\n",
    "svr_mse=np.mean(cross_val_score(svr, scaled_X_train, y_train, cv=5, scoring='neg_mean_squared_error'))\n",
    "svr_rmse=np.sqrt(-(svr_mse))\n",
    "print(f'The mean squared error of svr is {svr_rmse}')\n",
    "\n",
    "#mean absolute error\n",
    "svr_mae=np.mean(cross_val_score(svr, scaled_X_train, y_train, cv=5, scoring='neg_mean_absolute_error'))\n",
    "svr_mae=(-(svr_mae))\n",
    "print(f'The mean absolute error of svr  is {svr_mae}')"
   ]
  },
  {
   "cell_type": "markdown",
   "id": "8e4a433f",
   "metadata": {},
   "source": [
    "## Decision Tree"
   ]
  },
  {
   "cell_type": "code",
   "execution_count": 40,
   "id": "16ce2892",
   "metadata": {},
   "outputs": [
    {
     "data": {
      "text/plain": [
       "DecisionTreeRegressor()"
      ]
     },
     "execution_count": 40,
     "metadata": {},
     "output_type": "execute_result"
    }
   ],
   "source": [
    "# Make a decision tree instance\n",
    "dt=DecisionTreeRegressor()\n",
    "dt.fit(scaled_X_train, y_train)"
   ]
  },
  {
   "cell_type": "code",
   "execution_count": 41,
   "id": "203f961c",
   "metadata": {},
   "outputs": [
    {
     "name": "stdout",
     "output_type": "stream",
     "text": [
      "R2 Score of training set 1.0\n",
      "R2 Score of testing set  0.8232338551430278\n"
     ]
    }
   ],
   "source": [
    "#Printing the score of test and train set\n",
    "print(f'R2 Score of training set {dt.score(scaled_X_train, y_train)}')\n",
    "print(f'R2 Score of testing set  {dt.score(scaled_X_test, y_test)}')"
   ]
  },
  {
   "cell_type": "markdown",
   "id": "6f5079ab",
   "metadata": {},
   "source": [
    "#### Create a cross-valiation with five folds."
   ]
  },
  {
   "cell_type": "code",
   "execution_count": 42,
   "id": "197a86ce",
   "metadata": {},
   "outputs": [
    {
     "data": {
      "text/plain": [
       "array([-12.85293201, -15.95993144, -16.86970054])"
      ]
     },
     "execution_count": 42,
     "metadata": {},
     "output_type": "execute_result"
    }
   ],
   "source": [
    "#score of training set using cross_val_score\n",
    "cross_val_score(dt, scaled_X_train, y_train, scoring='neg_mean_absolute_error', cv=3)"
   ]
  },
  {
   "cell_type": "code",
   "execution_count": 43,
   "id": "5a1b676e",
   "metadata": {},
   "outputs": [
    {
     "name": "stdout",
     "output_type": "stream",
     "text": [
      "The R2 of Decision Tree Regressor is 0.5965225200256683\n",
      "The mean squared error of Decision Tree Regressor is 18.188673641163003\n",
      "The mean absolute error of Decision Tree Regressor is 12.073603078467045\n"
     ]
    }
   ],
   "source": [
    "#score of training set using cross_val_score\n",
    "dt_r2=np.mean(cross_val_score(dt, scaled_X_train, y_train, cv=5))\n",
    "print(f'The R2 of Decision Tree Regressor is {dt_r2}')\n",
    "\n",
    "#cross validation features gives greater is better, so score function is opposite of \n",
    "#MSE so we need to use -ve to get mse\n",
    "dt_mse=np.mean(cross_val_score(dt, scaled_X_train, y_train, cv=5, scoring='neg_mean_squared_error'))\n",
    "dt_rmse=np.sqrt(-(dt_mse))\n",
    "print(f'The mean squared error of Decision Tree Regressor is {dt_rmse}')\n",
    "\n",
    "#mean absolute error\n",
    "dt_mae=np.mean(cross_val_score(dt, scaled_X_train, y_train, cv=5, scoring='neg_mean_absolute_error'))\n",
    "dt_mae=(-(dt_mae))\n",
    "print(f'The mean absolute error of Decision Tree Regressor is {dt_mae}')"
   ]
  },
  {
   "cell_type": "markdown",
   "id": "df43df9c",
   "metadata": {},
   "source": [
    "### Tuning hyperparamaters  using Grid Search CV"
   ]
  },
  {
   "cell_type": "code",
   "execution_count": 44,
   "id": "4a0adfa6",
   "metadata": {},
   "outputs": [
    {
     "name": "stdout",
     "output_type": "stream",
     "text": [
      "Fitting 3 folds for each of 12 candidates, totalling 36 fits\n"
     ]
    },
    {
     "data": {
      "text/plain": [
       "GridSearchCV(cv=3, estimator=DecisionTreeRegressor(), n_jobs=-1,\n",
       "             param_grid={'max_depth': [6, 8, 12],\n",
       "                         'min_samples_leaf': range(1, 5)},\n",
       "             verbose=1)"
      ]
     },
     "execution_count": 44,
     "metadata": {},
     "output_type": "execute_result"
    }
   ],
   "source": [
    "parameters = {\n",
    "              'max_depth':[6, 8,12],\n",
    "              'min_samples_leaf':range(1,5)}\n",
    "gs_dt=GridSearchCV(dt, param_grid=parameters, \n",
    "                    cv=3, verbose=1, n_jobs=-1)\n",
    "gs_dt.fit(scaled_X_train, y_train)"
   ]
  },
  {
   "cell_type": "code",
   "execution_count": 45,
   "id": "a16726a7",
   "metadata": {},
   "outputs": [
    {
     "data": {
      "text/plain": [
       "{'max_depth': 12, 'min_samples_leaf': 3}"
      ]
     },
     "execution_count": 45,
     "metadata": {},
     "output_type": "execute_result"
    }
   ],
   "source": [
    "#Best parameters\n",
    "gs_dt.best_params_"
   ]
  },
  {
   "cell_type": "code",
   "execution_count": 46,
   "id": "f248d449",
   "metadata": {},
   "outputs": [
    {
     "data": {
      "text/plain": [
       "DecisionTreeRegressor(max_depth=12, min_samples_leaf=3)"
      ]
     },
     "execution_count": 46,
     "metadata": {},
     "output_type": "execute_result"
    }
   ],
   "source": [
    "#best estimator\n",
    "dt_b=gs_dt.best_estimator_\n",
    "dt_b"
   ]
  },
  {
   "cell_type": "code",
   "execution_count": 47,
   "id": "c524b8c9",
   "metadata": {},
   "outputs": [
    {
     "name": "stdout",
     "output_type": "stream",
     "text": [
      "R2 Score of training set after hyperpar tuining 0.9613499441459871\n",
      "R2 Score of testing set after hyperpar tuining  0.773867153133622\n"
     ]
    }
   ],
   "source": [
    "#Printing the score of test and train set\n",
    "dt_tr=dt_b.score(scaled_X_train, y_train)\n",
    "dt_te=dt_b.score(scaled_X_test, y_test)\n",
    "print(f'R2 Score of training set after hyperpar tuining {dt_tr}')\n",
    "print(f'R2 Score of testing set after hyperpar tuining  {dt_te}')"
   ]
  },
  {
   "cell_type": "code",
   "execution_count": 48,
   "id": "759d24f9",
   "metadata": {},
   "outputs": [
    {
     "data": {
      "text/html": [
       "<div>\n",
       "<style scoped>\n",
       "    .dataframe tbody tr th:only-of-type {\n",
       "        vertical-align: middle;\n",
       "    }\n",
       "\n",
       "    .dataframe tbody tr th {\n",
       "        vertical-align: top;\n",
       "    }\n",
       "\n",
       "    .dataframe thead th {\n",
       "        text-align: right;\n",
       "    }\n",
       "</style>\n",
       "<table border=\"1\" class=\"dataframe\">\n",
       "  <thead>\n",
       "    <tr style=\"text-align: right;\">\n",
       "      <th></th>\n",
       "      <th>mean_fit_time</th>\n",
       "      <th>std_fit_time</th>\n",
       "      <th>mean_score_time</th>\n",
       "      <th>std_score_time</th>\n",
       "      <th>param_max_depth</th>\n",
       "      <th>param_min_samples_leaf</th>\n",
       "      <th>params</th>\n",
       "      <th>split0_test_score</th>\n",
       "      <th>split1_test_score</th>\n",
       "      <th>split2_test_score</th>\n",
       "      <th>mean_test_score</th>\n",
       "      <th>std_test_score</th>\n",
       "      <th>rank_test_score</th>\n",
       "    </tr>\n",
       "  </thead>\n",
       "  <tbody>\n",
       "    <tr>\n",
       "      <th>0</th>\n",
       "      <td>0.000997</td>\n",
       "      <td>9.798072e-07</td>\n",
       "      <td>0.000997</td>\n",
       "      <td>1.946680e-07</td>\n",
       "      <td>6</td>\n",
       "      <td>1</td>\n",
       "      <td>{'max_depth': 6, 'min_samples_leaf': 1}</td>\n",
       "      <td>0.637584</td>\n",
       "      <td>0.520924</td>\n",
       "      <td>0.464356</td>\n",
       "      <td>0.540954</td>\n",
       "      <td>0.072124</td>\n",
       "      <td>11</td>\n",
       "    </tr>\n",
       "    <tr>\n",
       "      <th>1</th>\n",
       "      <td>0.001661</td>\n",
       "      <td>4.706398e-04</td>\n",
       "      <td>0.000666</td>\n",
       "      <td>4.708647e-04</td>\n",
       "      <td>6</td>\n",
       "      <td>2</td>\n",
       "      <td>{'max_depth': 6, 'min_samples_leaf': 2}</td>\n",
       "      <td>0.656623</td>\n",
       "      <td>0.603715</td>\n",
       "      <td>0.368737</td>\n",
       "      <td>0.543025</td>\n",
       "      <td>0.125118</td>\n",
       "      <td>10</td>\n",
       "    </tr>\n",
       "    <tr>\n",
       "      <th>2</th>\n",
       "      <td>0.001330</td>\n",
       "      <td>4.684492e-04</td>\n",
       "      <td>0.000665</td>\n",
       "      <td>4.701956e-04</td>\n",
       "      <td>6</td>\n",
       "      <td>3</td>\n",
       "      <td>{'max_depth': 6, 'min_samples_leaf': 3}</td>\n",
       "      <td>0.711139</td>\n",
       "      <td>0.578349</td>\n",
       "      <td>0.635222</td>\n",
       "      <td>0.641570</td>\n",
       "      <td>0.054397</td>\n",
       "      <td>5</td>\n",
       "    </tr>\n",
       "    <tr>\n",
       "      <th>3</th>\n",
       "      <td>0.000996</td>\n",
       "      <td>3.371748e-07</td>\n",
       "      <td>0.000665</td>\n",
       "      <td>4.701347e-04</td>\n",
       "      <td>6</td>\n",
       "      <td>4</td>\n",
       "      <td>{'max_depth': 6, 'min_samples_leaf': 4}</td>\n",
       "      <td>0.653774</td>\n",
       "      <td>0.554138</td>\n",
       "      <td>0.759628</td>\n",
       "      <td>0.655847</td>\n",
       "      <td>0.083904</td>\n",
       "      <td>3</td>\n",
       "    </tr>\n",
       "    <tr>\n",
       "      <th>4</th>\n",
       "      <td>0.001330</td>\n",
       "      <td>4.706398e-04</td>\n",
       "      <td>0.000997</td>\n",
       "      <td>1.236308e-06</td>\n",
       "      <td>8</td>\n",
       "      <td>1</td>\n",
       "      <td>{'max_depth': 8, 'min_samples_leaf': 1}</td>\n",
       "      <td>0.627485</td>\n",
       "      <td>0.431501</td>\n",
       "      <td>0.579799</td>\n",
       "      <td>0.546262</td>\n",
       "      <td>0.083451</td>\n",
       "      <td>9</td>\n",
       "    </tr>\n",
       "    <tr>\n",
       "      <th>5</th>\n",
       "      <td>0.000995</td>\n",
       "      <td>3.484139e-06</td>\n",
       "      <td>0.000333</td>\n",
       "      <td>4.704712e-04</td>\n",
       "      <td>8</td>\n",
       "      <td>2</td>\n",
       "      <td>{'max_depth': 8, 'min_samples_leaf': 2}</td>\n",
       "      <td>0.648490</td>\n",
       "      <td>0.601484</td>\n",
       "      <td>0.446365</td>\n",
       "      <td>0.565446</td>\n",
       "      <td>0.086362</td>\n",
       "      <td>8</td>\n",
       "    </tr>\n",
       "    <tr>\n",
       "      <th>6</th>\n",
       "      <td>0.000997</td>\n",
       "      <td>6.836514e-07</td>\n",
       "      <td>0.000332</td>\n",
       "      <td>4.696845e-04</td>\n",
       "      <td>8</td>\n",
       "      <td>3</td>\n",
       "      <td>{'max_depth': 8, 'min_samples_leaf': 3}</td>\n",
       "      <td>0.710460</td>\n",
       "      <td>0.561517</td>\n",
       "      <td>0.630014</td>\n",
       "      <td>0.633997</td>\n",
       "      <td>0.060871</td>\n",
       "      <td>6</td>\n",
       "    </tr>\n",
       "    <tr>\n",
       "      <th>7</th>\n",
       "      <td>0.001330</td>\n",
       "      <td>4.711456e-04</td>\n",
       "      <td>0.000333</td>\n",
       "      <td>4.708084e-04</td>\n",
       "      <td>8</td>\n",
       "      <td>4</td>\n",
       "      <td>{'max_depth': 8, 'min_samples_leaf': 4}</td>\n",
       "      <td>0.653774</td>\n",
       "      <td>0.554138</td>\n",
       "      <td>0.759628</td>\n",
       "      <td>0.655847</td>\n",
       "      <td>0.083904</td>\n",
       "      <td>2</td>\n",
       "    </tr>\n",
       "    <tr>\n",
       "      <th>8</th>\n",
       "      <td>0.001330</td>\n",
       "      <td>4.703603e-04</td>\n",
       "      <td>0.000665</td>\n",
       "      <td>4.701342e-04</td>\n",
       "      <td>12</td>\n",
       "      <td>1</td>\n",
       "      <td>{'max_depth': 12, 'min_samples_leaf': 1}</td>\n",
       "      <td>0.630584</td>\n",
       "      <td>0.398119</td>\n",
       "      <td>0.342799</td>\n",
       "      <td>0.457167</td>\n",
       "      <td>0.124686</td>\n",
       "      <td>12</td>\n",
       "    </tr>\n",
       "    <tr>\n",
       "      <th>9</th>\n",
       "      <td>0.001662</td>\n",
       "      <td>4.691232e-04</td>\n",
       "      <td>0.000331</td>\n",
       "      <td>4.686730e-04</td>\n",
       "      <td>12</td>\n",
       "      <td>2</td>\n",
       "      <td>{'max_depth': 12, 'min_samples_leaf': 2}</td>\n",
       "      <td>0.657934</td>\n",
       "      <td>0.624034</td>\n",
       "      <td>0.448291</td>\n",
       "      <td>0.576753</td>\n",
       "      <td>0.091885</td>\n",
       "      <td>7</td>\n",
       "    </tr>\n",
       "    <tr>\n",
       "      <th>10</th>\n",
       "      <td>0.001305</td>\n",
       "      <td>4.888727e-04</td>\n",
       "      <td>0.000665</td>\n",
       "      <td>4.704151e-04</td>\n",
       "      <td>12</td>\n",
       "      <td>3</td>\n",
       "      <td>{'max_depth': 12, 'min_samples_leaf': 3}</td>\n",
       "      <td>0.710460</td>\n",
       "      <td>0.562361</td>\n",
       "      <td>0.720239</td>\n",
       "      <td>0.664354</td>\n",
       "      <td>0.072230</td>\n",
       "      <td>1</td>\n",
       "    </tr>\n",
       "    <tr>\n",
       "      <th>11</th>\n",
       "      <td>0.000997</td>\n",
       "      <td>2.973602e-07</td>\n",
       "      <td>0.000665</td>\n",
       "      <td>4.701340e-04</td>\n",
       "      <td>12</td>\n",
       "      <td>4</td>\n",
       "      <td>{'max_depth': 12, 'min_samples_leaf': 4}</td>\n",
       "      <td>0.653774</td>\n",
       "      <td>0.554138</td>\n",
       "      <td>0.758019</td>\n",
       "      <td>0.655310</td>\n",
       "      <td>0.083241</td>\n",
       "      <td>4</td>\n",
       "    </tr>\n",
       "  </tbody>\n",
       "</table>\n",
       "</div>"
      ],
      "text/plain": [
       "    mean_fit_time  std_fit_time  mean_score_time  std_score_time  \\\n",
       "0        0.000997  9.798072e-07         0.000997    1.946680e-07   \n",
       "1        0.001661  4.706398e-04         0.000666    4.708647e-04   \n",
       "2        0.001330  4.684492e-04         0.000665    4.701956e-04   \n",
       "3        0.000996  3.371748e-07         0.000665    4.701347e-04   \n",
       "4        0.001330  4.706398e-04         0.000997    1.236308e-06   \n",
       "5        0.000995  3.484139e-06         0.000333    4.704712e-04   \n",
       "6        0.000997  6.836514e-07         0.000332    4.696845e-04   \n",
       "7        0.001330  4.711456e-04         0.000333    4.708084e-04   \n",
       "8        0.001330  4.703603e-04         0.000665    4.701342e-04   \n",
       "9        0.001662  4.691232e-04         0.000331    4.686730e-04   \n",
       "10       0.001305  4.888727e-04         0.000665    4.704151e-04   \n",
       "11       0.000997  2.973602e-07         0.000665    4.701340e-04   \n",
       "\n",
       "   param_max_depth param_min_samples_leaf  \\\n",
       "0                6                      1   \n",
       "1                6                      2   \n",
       "2                6                      3   \n",
       "3                6                      4   \n",
       "4                8                      1   \n",
       "5                8                      2   \n",
       "6                8                      3   \n",
       "7                8                      4   \n",
       "8               12                      1   \n",
       "9               12                      2   \n",
       "10              12                      3   \n",
       "11              12                      4   \n",
       "\n",
       "                                      params  split0_test_score  \\\n",
       "0    {'max_depth': 6, 'min_samples_leaf': 1}           0.637584   \n",
       "1    {'max_depth': 6, 'min_samples_leaf': 2}           0.656623   \n",
       "2    {'max_depth': 6, 'min_samples_leaf': 3}           0.711139   \n",
       "3    {'max_depth': 6, 'min_samples_leaf': 4}           0.653774   \n",
       "4    {'max_depth': 8, 'min_samples_leaf': 1}           0.627485   \n",
       "5    {'max_depth': 8, 'min_samples_leaf': 2}           0.648490   \n",
       "6    {'max_depth': 8, 'min_samples_leaf': 3}           0.710460   \n",
       "7    {'max_depth': 8, 'min_samples_leaf': 4}           0.653774   \n",
       "8   {'max_depth': 12, 'min_samples_leaf': 1}           0.630584   \n",
       "9   {'max_depth': 12, 'min_samples_leaf': 2}           0.657934   \n",
       "10  {'max_depth': 12, 'min_samples_leaf': 3}           0.710460   \n",
       "11  {'max_depth': 12, 'min_samples_leaf': 4}           0.653774   \n",
       "\n",
       "    split1_test_score  split2_test_score  mean_test_score  std_test_score  \\\n",
       "0            0.520924           0.464356         0.540954        0.072124   \n",
       "1            0.603715           0.368737         0.543025        0.125118   \n",
       "2            0.578349           0.635222         0.641570        0.054397   \n",
       "3            0.554138           0.759628         0.655847        0.083904   \n",
       "4            0.431501           0.579799         0.546262        0.083451   \n",
       "5            0.601484           0.446365         0.565446        0.086362   \n",
       "6            0.561517           0.630014         0.633997        0.060871   \n",
       "7            0.554138           0.759628         0.655847        0.083904   \n",
       "8            0.398119           0.342799         0.457167        0.124686   \n",
       "9            0.624034           0.448291         0.576753        0.091885   \n",
       "10           0.562361           0.720239         0.664354        0.072230   \n",
       "11           0.554138           0.758019         0.655310        0.083241   \n",
       "\n",
       "    rank_test_score  \n",
       "0                11  \n",
       "1                10  \n",
       "2                 5  \n",
       "3                 3  \n",
       "4                 9  \n",
       "5                 8  \n",
       "6                 6  \n",
       "7                 2  \n",
       "8                12  \n",
       "9                 7  \n",
       "10                1  \n",
       "11                4  "
      ]
     },
     "execution_count": 48,
     "metadata": {},
     "output_type": "execute_result"
    }
   ],
   "source": [
    "#dataframe for results\n",
    "dt_df=pd.DataFrame(gs_dt.cv_results_)\n",
    "dt_df"
   ]
  },
  {
   "cell_type": "code",
   "execution_count": 49,
   "id": "40ce2bfe",
   "metadata": {},
   "outputs": [
    {
     "name": "stdout",
     "output_type": "stream",
     "text": [
      "0.5409543964993316 {'max_depth': 6, 'min_samples_leaf': 1}\n",
      "0.543025028808533 {'max_depth': 6, 'min_samples_leaf': 2}\n",
      "0.6415700126910857 {'max_depth': 6, 'min_samples_leaf': 3}\n",
      "0.65584704913507 {'max_depth': 6, 'min_samples_leaf': 4}\n",
      "0.5462617279297101 {'max_depth': 8, 'min_samples_leaf': 1}\n",
      "0.5654461409892414 {'max_depth': 8, 'min_samples_leaf': 2}\n",
      "0.6339968300718769 {'max_depth': 8, 'min_samples_leaf': 3}\n",
      "0.6558470491350702 {'max_depth': 8, 'min_samples_leaf': 4}\n",
      "0.45716743521320985 {'max_depth': 12, 'min_samples_leaf': 1}\n",
      "0.5767529879419212 {'max_depth': 12, 'min_samples_leaf': 2}\n",
      "0.6643535238852051 {'max_depth': 12, 'min_samples_leaf': 3}\n",
      "0.6553104640637578 {'max_depth': 12, 'min_samples_leaf': 4}\n"
     ]
    }
   ],
   "source": [
    "#printing the evaluation scores\n",
    "cvres_dt=gs_dt.cv_results_\n",
    "for mean_score, params in zip(cvres_dt['mean_test_score'], cvres_dt['params']):\n",
    "    print((mean_score), params)"
   ]
  },
  {
   "cell_type": "markdown",
   "id": "3b172686",
   "metadata": {},
   "source": [
    "## Random Forest"
   ]
  },
  {
   "cell_type": "code",
   "execution_count": 50,
   "id": "f29af7c7",
   "metadata": {},
   "outputs": [
    {
     "data": {
      "text/plain": [
       "RandomForestRegressor()"
      ]
     },
     "execution_count": 50,
     "metadata": {},
     "output_type": "execute_result"
    }
   ],
   "source": [
    "# Make a Random forest instance\n",
    "rf=RandomForestRegressor()\n",
    "rf.fit(scaled_X_train, y_train)"
   ]
  },
  {
   "cell_type": "code",
   "execution_count": 51,
   "id": "de1bad8f",
   "metadata": {},
   "outputs": [
    {
     "name": "stdout",
     "output_type": "stream",
     "text": [
      "R2 Score of training set 0.976057839181618\n",
      "R2 Score of testing set 0.866526010855899\n"
     ]
    }
   ],
   "source": [
    "#Printing the score of test and train set\n",
    "print(f'R2 Score of training set {rf.score(scaled_X_train, y_train)}')\n",
    "print(f'R2 Score of testing set {rf.score(scaled_X_test, y_test)}')"
   ]
  },
  {
   "cell_type": "markdown",
   "id": "dd414923",
   "metadata": {},
   "source": [
    "#### Create a cross-valiation with five folds."
   ]
  },
  {
   "cell_type": "code",
   "execution_count": 52,
   "id": "31534556",
   "metadata": {},
   "outputs": [
    {
     "data": {
      "text/plain": [
       "array([-10.9786501 , -12.5171281 ,  -9.33413832])"
      ]
     },
     "execution_count": 52,
     "metadata": {},
     "output_type": "execute_result"
    }
   ],
   "source": [
    "#score of training set using cross_val_score\n",
    "cross_val_score(rf, scaled_X_train, y_train, scoring='neg_mean_absolute_error', cv=3)"
   ]
  },
  {
   "cell_type": "code",
   "execution_count": 53,
   "id": "556725c4",
   "metadata": {},
   "outputs": [
    {
     "name": "stdout",
     "output_type": "stream",
     "text": [
      "The R2 of Random Forest Regressor is 0.7627940362999398\n",
      "The mean squared error of Random Forest Regressor is 17.60157625433874\n",
      "The mean absolute error of Random Forest Regressor is 10.478696368487915\n"
     ]
    }
   ],
   "source": [
    "#score of training set using cross_val_score\n",
    "rf_r2=np.mean(cross_val_score(rf, scaled_X_train, y_train, cv=5))\n",
    "print(f'The R2 of Random Forest Regressor is {rf_r2}')\n",
    "\n",
    "#cross validation features gives greater is better, so score function is opposite of \n",
    "#MSE so we need to use -ve to get mse\n",
    "rf_mse=np.mean(cross_val_score(rf, scaled_X_train, y_train, cv=5, scoring='neg_mean_squared_error'))\n",
    "rf_rmse=np.sqrt(-(lrl_mse))\n",
    "print(f'The mean squared error of Random Forest Regressor is {rf_rmse}')\n",
    "\n",
    "#mean absolute error\n",
    "rf_mae=np.mean(cross_val_score(rf, scaled_X_train, y_train, cv=5, scoring='neg_mean_absolute_error'))\n",
    "rf_mae=(-(rf_mae))\n",
    "print(f'The mean absolute error of Random Forest Regressor is {rf_mae}')"
   ]
  },
  {
   "cell_type": "markdown",
   "id": "266768d0",
   "metadata": {},
   "source": [
    "#### Tuning the hyperparameters using Grid Search CV"
   ]
  },
  {
   "cell_type": "code",
   "execution_count": 54,
   "id": "df27ebc2",
   "metadata": {},
   "outputs": [
    {
     "data": {
      "text/plain": [
       "GridSearchCV(cv=5, estimator=RandomForestRegressor(),\n",
       "             param_grid=[{'max_features': [3, 6],\n",
       "                          'n_estimators': [30, 60, 100]}],\n",
       "             return_train_score=True, scoring='neg_mean_absolute_error')"
      ]
     },
     "execution_count": 54,
     "metadata": {},
     "output_type": "execute_result"
    }
   ],
   "source": [
    "parameters = [{'n_estimators':[30,60,100],\n",
    "              'max_features':[3,6]}]\n",
    "              #,{'bootstrap':[False], 'n_estimators':[3,10,100],\n",
    "              #'max_features':[4,6,8,10]}]\n",
    "gs_rf=GridSearchCV(rf, parameters, scoring='neg_mean_absolute_error',\n",
    "                   cv=5, return_train_score=True)\n",
    "gs_rf.fit(scaled_X_train, y_train)"
   ]
  },
  {
   "cell_type": "code",
   "execution_count": 55,
   "id": "de4ea0dd",
   "metadata": {},
   "outputs": [
    {
     "data": {
      "text/plain": [
       "{'max_features': 6, 'n_estimators': 30}"
      ]
     },
     "execution_count": 55,
     "metadata": {},
     "output_type": "execute_result"
    }
   ],
   "source": [
    "#Best parameters\n",
    "gs_rf.best_params_"
   ]
  },
  {
   "cell_type": "code",
   "execution_count": 56,
   "id": "4dc135e6",
   "metadata": {},
   "outputs": [
    {
     "data": {
      "text/plain": [
       "RandomForestRegressor(max_features=6, n_estimators=30)"
      ]
     },
     "execution_count": 56,
     "metadata": {},
     "output_type": "execute_result"
    }
   ],
   "source": [
    "#best estimator\n",
    "rf_b=gs_rf.best_estimator_\n",
    "rf_b"
   ]
  },
  {
   "cell_type": "code",
   "execution_count": 57,
   "id": "625a7fbb",
   "metadata": {},
   "outputs": [
    {
     "name": "stdout",
     "output_type": "stream",
     "text": [
      "R2 Score of training set after hyperpar tuining 0.937002681294637\n",
      "R2 Score of testing set after hyperpar tuining  0.8296602045451793\n"
     ]
    }
   ],
   "source": [
    "#Printing the score of test and train set\n",
    "rf_tr=rf_b.score(scaled_X_train, y_train)\n",
    "rf_te=rf_b.score(scaled_X_test, y_test)\n",
    "print(f'R2 Score of training set after hyperpar tuining {rf_tr}')\n",
    "print(f'R2 Score of testing set after hyperpar tuining  {rf_te}')"
   ]
  },
  {
   "cell_type": "code",
   "execution_count": 58,
   "id": "34934d4f",
   "metadata": {},
   "outputs": [
    {
     "data": {
      "text/html": [
       "<div>\n",
       "<style scoped>\n",
       "    .dataframe tbody tr th:only-of-type {\n",
       "        vertical-align: middle;\n",
       "    }\n",
       "\n",
       "    .dataframe tbody tr th {\n",
       "        vertical-align: top;\n",
       "    }\n",
       "\n",
       "    .dataframe thead th {\n",
       "        text-align: right;\n",
       "    }\n",
       "</style>\n",
       "<table border=\"1\" class=\"dataframe\">\n",
       "  <thead>\n",
       "    <tr style=\"text-align: right;\">\n",
       "      <th></th>\n",
       "      <th>mean_fit_time</th>\n",
       "      <th>std_fit_time</th>\n",
       "      <th>mean_score_time</th>\n",
       "      <th>std_score_time</th>\n",
       "      <th>param_max_features</th>\n",
       "      <th>param_n_estimators</th>\n",
       "      <th>params</th>\n",
       "      <th>split0_test_score</th>\n",
       "      <th>split1_test_score</th>\n",
       "      <th>split2_test_score</th>\n",
       "      <th>...</th>\n",
       "      <th>mean_test_score</th>\n",
       "      <th>std_test_score</th>\n",
       "      <th>rank_test_score</th>\n",
       "      <th>split0_train_score</th>\n",
       "      <th>split1_train_score</th>\n",
       "      <th>split2_train_score</th>\n",
       "      <th>split3_train_score</th>\n",
       "      <th>split4_train_score</th>\n",
       "      <th>mean_train_score</th>\n",
       "      <th>std_train_score</th>\n",
       "    </tr>\n",
       "  </thead>\n",
       "  <tbody>\n",
       "    <tr>\n",
       "      <th>0</th>\n",
       "      <td>0.027531</td>\n",
       "      <td>0.007121</td>\n",
       "      <td>0.002383</td>\n",
       "      <td>0.000804</td>\n",
       "      <td>3</td>\n",
       "      <td>30</td>\n",
       "      <td>{'max_features': 3, 'n_estimators': 30}</td>\n",
       "      <td>-17.795229</td>\n",
       "      <td>-11.056469</td>\n",
       "      <td>-20.449144</td>\n",
       "      <td>...</td>\n",
       "      <td>-15.474982</td>\n",
       "      <td>4.110276</td>\n",
       "      <td>5</td>\n",
       "      <td>-4.907408</td>\n",
       "      <td>-5.748212</td>\n",
       "      <td>-5.703930</td>\n",
       "      <td>-5.976320</td>\n",
       "      <td>-6.078585</td>\n",
       "      <td>-5.682891</td>\n",
       "      <td>0.412009</td>\n",
       "    </tr>\n",
       "    <tr>\n",
       "      <th>1</th>\n",
       "      <td>0.043788</td>\n",
       "      <td>0.001124</td>\n",
       "      <td>0.003189</td>\n",
       "      <td>0.000414</td>\n",
       "      <td>3</td>\n",
       "      <td>60</td>\n",
       "      <td>{'max_features': 3, 'n_estimators': 60}</td>\n",
       "      <td>-16.754731</td>\n",
       "      <td>-10.995255</td>\n",
       "      <td>-19.856644</td>\n",
       "      <td>...</td>\n",
       "      <td>-15.549313</td>\n",
       "      <td>4.059702</td>\n",
       "      <td>6</td>\n",
       "      <td>-5.318765</td>\n",
       "      <td>-5.896458</td>\n",
       "      <td>-5.251122</td>\n",
       "      <td>-5.363229</td>\n",
       "      <td>-5.713223</td>\n",
       "      <td>-5.508559</td>\n",
       "      <td>0.251304</td>\n",
       "    </tr>\n",
       "    <tr>\n",
       "      <th>2</th>\n",
       "      <td>0.075102</td>\n",
       "      <td>0.003664</td>\n",
       "      <td>0.004986</td>\n",
       "      <td>0.000018</td>\n",
       "      <td>3</td>\n",
       "      <td>100</td>\n",
       "      <td>{'max_features': 3, 'n_estimators': 100}</td>\n",
       "      <td>-17.616989</td>\n",
       "      <td>-9.864995</td>\n",
       "      <td>-18.054853</td>\n",
       "      <td>...</td>\n",
       "      <td>-14.906566</td>\n",
       "      <td>3.810290</td>\n",
       "      <td>4</td>\n",
       "      <td>-5.856563</td>\n",
       "      <td>-6.159932</td>\n",
       "      <td>-5.065833</td>\n",
       "      <td>-5.161124</td>\n",
       "      <td>-5.717642</td>\n",
       "      <td>-5.592219</td>\n",
       "      <td>0.417332</td>\n",
       "    </tr>\n",
       "    <tr>\n",
       "      <th>3</th>\n",
       "      <td>0.031024</td>\n",
       "      <td>0.004351</td>\n",
       "      <td>0.002399</td>\n",
       "      <td>0.000795</td>\n",
       "      <td>6</td>\n",
       "      <td>30</td>\n",
       "      <td>{'max_features': 6, 'n_estimators': 30}</td>\n",
       "      <td>-13.960391</td>\n",
       "      <td>-9.192610</td>\n",
       "      <td>-15.871499</td>\n",
       "      <td>...</td>\n",
       "      <td>-11.745694</td>\n",
       "      <td>3.638130</td>\n",
       "      <td>1</td>\n",
       "      <td>-4.878754</td>\n",
       "      <td>-5.199899</td>\n",
       "      <td>-4.324624</td>\n",
       "      <td>-4.575615</td>\n",
       "      <td>-4.569230</td>\n",
       "      <td>-4.709624</td>\n",
       "      <td>0.301618</td>\n",
       "    </tr>\n",
       "    <tr>\n",
       "      <th>4</th>\n",
       "      <td>0.050122</td>\n",
       "      <td>0.004966</td>\n",
       "      <td>0.003396</td>\n",
       "      <td>0.000485</td>\n",
       "      <td>6</td>\n",
       "      <td>60</td>\n",
       "      <td>{'max_features': 6, 'n_estimators': 60}</td>\n",
       "      <td>-14.905280</td>\n",
       "      <td>-8.990851</td>\n",
       "      <td>-15.712360</td>\n",
       "      <td>...</td>\n",
       "      <td>-11.901623</td>\n",
       "      <td>3.713634</td>\n",
       "      <td>2</td>\n",
       "      <td>-4.517544</td>\n",
       "      <td>-5.023080</td>\n",
       "      <td>-4.631625</td>\n",
       "      <td>-4.389785</td>\n",
       "      <td>-4.647889</td>\n",
       "      <td>-4.641984</td>\n",
       "      <td>0.211880</td>\n",
       "    </tr>\n",
       "    <tr>\n",
       "      <th>5</th>\n",
       "      <td>0.079208</td>\n",
       "      <td>0.004223</td>\n",
       "      <td>0.005172</td>\n",
       "      <td>0.000406</td>\n",
       "      <td>6</td>\n",
       "      <td>100</td>\n",
       "      <td>{'max_features': 6, 'n_estimators': 100}</td>\n",
       "      <td>-13.723285</td>\n",
       "      <td>-9.958547</td>\n",
       "      <td>-15.788172</td>\n",
       "      <td>...</td>\n",
       "      <td>-12.217135</td>\n",
       "      <td>3.806073</td>\n",
       "      <td>3</td>\n",
       "      <td>-4.302136</td>\n",
       "      <td>-4.719413</td>\n",
       "      <td>-4.195572</td>\n",
       "      <td>-4.190740</td>\n",
       "      <td>-4.206414</td>\n",
       "      <td>-4.322855</td>\n",
       "      <td>0.202436</td>\n",
       "    </tr>\n",
       "  </tbody>\n",
       "</table>\n",
       "<p>6 rows × 22 columns</p>\n",
       "</div>"
      ],
      "text/plain": [
       "   mean_fit_time  std_fit_time  mean_score_time  std_score_time  \\\n",
       "0       0.027531      0.007121         0.002383        0.000804   \n",
       "1       0.043788      0.001124         0.003189        0.000414   \n",
       "2       0.075102      0.003664         0.004986        0.000018   \n",
       "3       0.031024      0.004351         0.002399        0.000795   \n",
       "4       0.050122      0.004966         0.003396        0.000485   \n",
       "5       0.079208      0.004223         0.005172        0.000406   \n",
       "\n",
       "  param_max_features param_n_estimators  \\\n",
       "0                  3                 30   \n",
       "1                  3                 60   \n",
       "2                  3                100   \n",
       "3                  6                 30   \n",
       "4                  6                 60   \n",
       "5                  6                100   \n",
       "\n",
       "                                     params  split0_test_score  \\\n",
       "0   {'max_features': 3, 'n_estimators': 30}         -17.795229   \n",
       "1   {'max_features': 3, 'n_estimators': 60}         -16.754731   \n",
       "2  {'max_features': 3, 'n_estimators': 100}         -17.616989   \n",
       "3   {'max_features': 6, 'n_estimators': 30}         -13.960391   \n",
       "4   {'max_features': 6, 'n_estimators': 60}         -14.905280   \n",
       "5  {'max_features': 6, 'n_estimators': 100}         -13.723285   \n",
       "\n",
       "   split1_test_score  split2_test_score  ...  mean_test_score  std_test_score  \\\n",
       "0         -11.056469         -20.449144  ...       -15.474982        4.110276   \n",
       "1         -10.995255         -19.856644  ...       -15.549313        4.059702   \n",
       "2          -9.864995         -18.054853  ...       -14.906566        3.810290   \n",
       "3          -9.192610         -15.871499  ...       -11.745694        3.638130   \n",
       "4          -8.990851         -15.712360  ...       -11.901623        3.713634   \n",
       "5          -9.958547         -15.788172  ...       -12.217135        3.806073   \n",
       "\n",
       "   rank_test_score  split0_train_score  split1_train_score  \\\n",
       "0                5           -4.907408           -5.748212   \n",
       "1                6           -5.318765           -5.896458   \n",
       "2                4           -5.856563           -6.159932   \n",
       "3                1           -4.878754           -5.199899   \n",
       "4                2           -4.517544           -5.023080   \n",
       "5                3           -4.302136           -4.719413   \n",
       "\n",
       "   split2_train_score  split3_train_score  split4_train_score  \\\n",
       "0           -5.703930           -5.976320           -6.078585   \n",
       "1           -5.251122           -5.363229           -5.713223   \n",
       "2           -5.065833           -5.161124           -5.717642   \n",
       "3           -4.324624           -4.575615           -4.569230   \n",
       "4           -4.631625           -4.389785           -4.647889   \n",
       "5           -4.195572           -4.190740           -4.206414   \n",
       "\n",
       "   mean_train_score  std_train_score  \n",
       "0         -5.682891         0.412009  \n",
       "1         -5.508559         0.251304  \n",
       "2         -5.592219         0.417332  \n",
       "3         -4.709624         0.301618  \n",
       "4         -4.641984         0.211880  \n",
       "5         -4.322855         0.202436  \n",
       "\n",
       "[6 rows x 22 columns]"
      ]
     },
     "execution_count": 58,
     "metadata": {},
     "output_type": "execute_result"
    }
   ],
   "source": [
    "#dataframe for results\n",
    "rf_df=pd.DataFrame(gs_rf.cv_results_)\n",
    "rf_df"
   ]
  },
  {
   "cell_type": "code",
   "execution_count": 59,
   "id": "edee10d4",
   "metadata": {},
   "outputs": [
    {
     "name": "stdout",
     "output_type": "stream",
     "text": [
      "15.474981706215795 {'max_features': 3, 'n_estimators': 30}\n",
      "15.549313329781395 {'max_features': 3, 'n_estimators': 60}\n",
      "14.906566127063446 {'max_features': 3, 'n_estimators': 100}\n",
      "11.745693875926662 {'max_features': 6, 'n_estimators': 30}\n",
      "11.90162311338795 {'max_features': 6, 'n_estimators': 60}\n",
      "12.217135495635688 {'max_features': 6, 'n_estimators': 100}\n"
     ]
    }
   ],
   "source": [
    "#printing the evaluation scores\n",
    "cvres=gs_rf.cv_results_\n",
    "for mean_score, params in zip(cvres['mean_test_score'], cvres['params']):\n",
    "    print((-mean_score), params)"
   ]
  },
  {
   "cell_type": "markdown",
   "id": "fa6b0fea",
   "metadata": {},
   "source": [
    "### Important scores of each columns"
   ]
  },
  {
   "cell_type": "code",
   "execution_count": 60,
   "id": "0a01b45d",
   "metadata": {},
   "outputs": [
    {
     "data": {
      "text/plain": [
       "[(0.2988289257212614, 'Age_Group'),\n",
       " (0.16769276619009463, 'Number_of_Asthma_ED_Visits'),\n",
       " (0.09275786087780886, 'SO2 AQI_mean'),\n",
       " (0.08282338951905481, 'CO AQI_mean'),\n",
       " (0.06790023364245971, 'NO2 AQI_mean'),\n",
       " (0.04939541409600285, 'O3 AQI_max'),\n",
       " (0.048138858886006136, 'CO AQI_max'),\n",
       " (0.04498105872259423, 'SO2 AQI_max'),\n",
       " (0.03170703965405393, 'O3 AQI_mean'),\n",
       " (0.0297901399020132, 'NO2 AQI_max'),\n",
       " (0.028134285674047313, 'O3 AQI_min'),\n",
       " (0.02493760392797685, 'NO2 AQI_min'),\n",
       " (0.024534559581980815, 'CO AQI_min'),\n",
       " (0.008302481353699355, 'Year'),\n",
       " (7.538225094589212e-05, 'SO2 AQI_min')]"
      ]
     },
     "execution_count": 60,
     "metadata": {},
     "output_type": "execute_result"
    }
   ],
   "source": [
    "feature_importances=rf_b.feature_importances_\n",
    "col=X.columns\n",
    "sorted(zip(feature_importances, col), reverse=True)"
   ]
  },
  {
   "cell_type": "markdown",
   "id": "7160c308",
   "metadata": {},
   "source": [
    "## Predicting on Test set"
   ]
  },
  {
   "cell_type": "code",
   "execution_count": 61,
   "id": "af344ded",
   "metadata": {},
   "outputs": [],
   "source": [
    "#Testing the model in test data\n",
    "y_pred_lr=lr.predict(scaled_X_test)     #linear \n",
    "y_pred_lrl=lrl.predict(scaled_X_test)   #lasso\n",
    "y_pred_lrr=lrr.predict(scaled_X_test)   #Ridge\n",
    "y_pred_svm=svm.predict(scaled_X_test)   #svm\n",
    "y_pred_dt=dt_b.predict(scaled_X_test)   #Dicision tree\n",
    "y_pred_rf=rf_b.predict(scaled_X_test)   #Random forest"
   ]
  },
  {
   "cell_type": "markdown",
   "id": "2209c159",
   "metadata": {},
   "source": [
    "### R2_score"
   ]
  },
  {
   "cell_type": "code",
   "execution_count": 62,
   "id": "05de09b3",
   "metadata": {},
   "outputs": [
    {
     "name": "stdout",
     "output_type": "stream",
     "text": [
      "The r2_score of linear regression is 0.8590207162163466\n",
      "The r2_score of lasso regression is 0.28237914152090693\n",
      "The r2_score of Ridge regression is -3041.1788073850216\n",
      "The r2_score of SVM regression is 0.44934524126567765\n",
      "The r2_score of decision tree regression is 0.773867153133622\n",
      "The r2_score of random forest regression is 0.8296602045451793\n"
     ]
    }
   ],
   "source": [
    "#regression matrices-mean absolute error(give you the prediction error)\n",
    "lin_r2_lr=r2_score(y_test, y_pred_lr)\n",
    "print(f'The r2_score of linear regression is {lin_r2_lr}')\n",
    "\n",
    "lin_r2_lrl=r2_score(y_test, y_pred_lrl)\n",
    "print(f'The r2_score of lasso regression is {lin_r2_lrl}')\n",
    "\n",
    "lin_r2_lrr=r2_score(y_test, y_pred_lrr)\n",
    "print(f'The r2_score of Ridge regression is {lin_r2_lrr}')\n",
    "\n",
    "lin_r2_svm=r2_score(y_test, y_pred_svm)\n",
    "print(f'The r2_score of SVM regression is {lin_r2_svm}')\n",
    "\n",
    "lin_r2_dt=r2_score(y_test, y_pred_dt)\n",
    "print(f'The r2_score of decision tree regression is {lin_r2_dt}')\n",
    "\n",
    "lin_r2_rf=r2_score(y_test, y_pred_rf)\n",
    "print(f'The r2_score of random forest regression is {lin_r2_rf}')\n"
   ]
  },
  {
   "cell_type": "markdown",
   "id": "f8a1c5b3",
   "metadata": {},
   "source": [
    "### Mean Absolute Error"
   ]
  },
  {
   "cell_type": "code",
   "execution_count": 63,
   "id": "b0f87316",
   "metadata": {},
   "outputs": [
    {
     "name": "stdout",
     "output_type": "stream",
     "text": [
      "The mean absoulte error of linear regression is 11.53175879804626\n",
      "The mean absoulte error of lasso regression is 22.30432768732225\n",
      "The mean absoulte error of Ridge regression is 2001.6256317712132\n",
      "The mean absoulte error of SVM regression is 17.86328052364928\n",
      "The mean absoulte error of decision tree regression is 9.685090737544174\n",
      "The mean absoulte error of random forest regression is 10.440612608598402\n"
     ]
    }
   ],
   "source": [
    "#regression matrices-mean absolute error(give you the prediction error)\n",
    "lin_mae_lr=mean_absolute_error(y_test, y_pred_lr)\n",
    "print(f'The mean absoulte error of linear regression is {lin_mae_lr}')\n",
    "\n",
    "lin_mae_lrl=mean_absolute_error(y_test, y_pred_lrl)\n",
    "print(f'The mean absoulte error of lasso regression is {lin_mae_lrl}')\n",
    "\n",
    "lin_mae_lrr=mean_absolute_error(y_test, y_pred_lrr)\n",
    "print(f'The mean absoulte error of Ridge regression is {lin_mae_lrr}')\n",
    "\n",
    "lin_mae_svm=mean_absolute_error(y_test, y_pred_svm)\n",
    "print(f'The mean absoulte error of SVM regression is {lin_mae_svm}')\n",
    "\n",
    "lin_mae_dt=mean_absolute_error(y_test, y_pred_dt)\n",
    "print(f'The mean absoulte error of decision tree regression is {lin_mae_dt}')\n",
    "\n",
    "lin_mae_rf=mean_absolute_error(y_test, y_pred_rf)\n",
    "print(f'The mean absoulte error of random forest regression is {lin_mae_rf}')\n"
   ]
  },
  {
   "cell_type": "markdown",
   "id": "cda3c5b4",
   "metadata": {},
   "source": [
    "### Root Mean Squared Error"
   ]
  },
  {
   "cell_type": "code",
   "execution_count": 64,
   "id": "64c2796b",
   "metadata": {},
   "outputs": [
    {
     "name": "stdout",
     "output_type": "stream",
     "text": [
      "The mean squared error of linear regression is 13.626880573788108\n",
      "The mean squared error of lasso regression is 30.74442156940809\n",
      "The mean squared error of ridge regression is 2001.7561346035948\n",
      "The mean squared error of SVM regression is 26.93137320206763\n",
      "The mean squared error of decision tree regression is 17.25840375485828\n",
      "The mean squared error of random forest regression is 14.97879442997712\n"
     ]
    }
   ],
   "source": [
    "#regression matrices-mean squared error(give you the prediction error)\n",
    "lin_mse_lr=mean_squared_error(y_test, y_pred_lr)\n",
    "lin_rmse_lr=np.sqrt(lin_mse_lr)\n",
    "print(f'The mean squared error of linear regression is {lin_rmse_lr}')\n",
    "\n",
    "lin_mse_lrl=mean_squared_error(y_test, y_pred_lrl)\n",
    "lin_rmse_lrl=np.sqrt(lin_mse_lrl)\n",
    "print(f'The mean squared error of lasso regression is {lin_rmse_lrl}')\n",
    "\n",
    "lin_mse_lrr=mean_squared_error(y_test, y_pred_lrr)\n",
    "lin_rmse_lrr=np.sqrt(lin_mse_lrr)\n",
    "print(f'The mean squared error of ridge regression is {lin_rmse_lrr}')\n",
    "\n",
    "lin_mse_svm=mean_squared_error(y_test, y_pred_svm)\n",
    "lin_rmse_svm=np.sqrt(lin_mse_svm)\n",
    "print(f'The mean squared error of SVM regression is {lin_rmse_svm}')\n",
    "\n",
    "lin_mse_dt=mean_squared_error(y_test, y_pred_dt)\n",
    "lin_rmse_dt=np.sqrt(lin_mse_dt)\n",
    "print(f'The mean squared error of decision tree regression is {lin_rmse_dt}')\n",
    "\n",
    "lin_mse_rf=mean_squared_error(y_test, y_pred_rf)\n",
    "lin_rmse_rf=np.sqrt(lin_mse_rf)\n",
    "print(f'The mean squared error of random forest regression is {lin_rmse_rf}')"
   ]
  },
  {
   "cell_type": "markdown",
   "id": "3388cd03",
   "metadata": {},
   "source": [
    "### Actual and predicted "
   ]
  },
  {
   "cell_type": "code",
   "execution_count": 65,
   "id": "b1744326",
   "metadata": {},
   "outputs": [
    {
     "data": {
      "text/html": [
       "<div>\n",
       "<style scoped>\n",
       "    .dataframe tbody tr th:only-of-type {\n",
       "        vertical-align: middle;\n",
       "    }\n",
       "\n",
       "    .dataframe tbody tr th {\n",
       "        vertical-align: top;\n",
       "    }\n",
       "\n",
       "    .dataframe thead th {\n",
       "        text-align: right;\n",
       "    }\n",
       "</style>\n",
       "<table border=\"1\" class=\"dataframe\">\n",
       "  <thead>\n",
       "    <tr style=\"text-align: right;\">\n",
       "      <th></th>\n",
       "      <th>Actual Value of Age_Adjusted_Rate</th>\n",
       "      <th>Random Forest Predicted Age_Adjusted_Rate</th>\n",
       "      <th>Linear Reg Predicted Age_Adjusted_Rate</th>\n",
       "      <th>Lasso Reg Predicted Age_Adjusted_Rate</th>\n",
       "      <th>Ridge Reg Predicted Age_Adjusted_Rate</th>\n",
       "      <th>Decesion Tree Predicted Age_Adjusted_Rate</th>\n",
       "      <th>SVM Predicted Age_Adjusted_Rate</th>\n",
       "    </tr>\n",
       "  </thead>\n",
       "  <tbody>\n",
       "    <tr>\n",
       "      <th>0</th>\n",
       "      <td>46.005882</td>\n",
       "      <td>49.852108</td>\n",
       "      <td>57.853872</td>\n",
       "      <td>56.997428</td>\n",
       "      <td>2036.609020</td>\n",
       "      <td>43.184271</td>\n",
       "      <td>45.816792</td>\n",
       "    </tr>\n",
       "    <tr>\n",
       "      <th>1</th>\n",
       "      <td>142.950000</td>\n",
       "      <td>118.842657</td>\n",
       "      <td>130.065706</td>\n",
       "      <td>75.909883</td>\n",
       "      <td>2117.367526</td>\n",
       "      <td>116.248074</td>\n",
       "      <td>86.025082</td>\n",
       "    </tr>\n",
       "    <tr>\n",
       "      <th>2</th>\n",
       "      <td>52.825000</td>\n",
       "      <td>58.544361</td>\n",
       "      <td>60.154127</td>\n",
       "      <td>56.997428</td>\n",
       "      <td>2049.654327</td>\n",
       "      <td>51.633790</td>\n",
       "      <td>47.200471</td>\n",
       "    </tr>\n",
       "    <tr>\n",
       "      <th>3</th>\n",
       "      <td>42.671053</td>\n",
       "      <td>48.578706</td>\n",
       "      <td>62.899278</td>\n",
       "      <td>75.909883</td>\n",
       "      <td>2101.965301</td>\n",
       "      <td>64.284214</td>\n",
       "      <td>47.254736</td>\n",
       "    </tr>\n",
       "    <tr>\n",
       "      <th>4</th>\n",
       "      <td>95.936111</td>\n",
       "      <td>80.121240</td>\n",
       "      <td>102.311064</td>\n",
       "      <td>75.909883</td>\n",
       "      <td>2103.547274</td>\n",
       "      <td>82.503334</td>\n",
       "      <td>67.594412</td>\n",
       "    </tr>\n",
       "    <tr>\n",
       "      <th>5</th>\n",
       "      <td>143.500000</td>\n",
       "      <td>106.059831</td>\n",
       "      <td>120.555908</td>\n",
       "      <td>75.909883</td>\n",
       "      <td>2119.500294</td>\n",
       "      <td>82.503334</td>\n",
       "      <td>83.321988</td>\n",
       "    </tr>\n",
       "    <tr>\n",
       "      <th>6</th>\n",
       "      <td>62.400000</td>\n",
       "      <td>64.999967</td>\n",
       "      <td>75.173226</td>\n",
       "      <td>75.909883</td>\n",
       "      <td>2094.735811</td>\n",
       "      <td>64.265000</td>\n",
       "      <td>51.957448</td>\n",
       "    </tr>\n",
       "    <tr>\n",
       "      <th>7</th>\n",
       "      <td>90.216279</td>\n",
       "      <td>94.430231</td>\n",
       "      <td>93.654035</td>\n",
       "      <td>75.909883</td>\n",
       "      <td>2103.623560</td>\n",
       "      <td>116.248074</td>\n",
       "      <td>67.522163</td>\n",
       "    </tr>\n",
       "    <tr>\n",
       "      <th>8</th>\n",
       "      <td>38.738760</td>\n",
       "      <td>48.359014</td>\n",
       "      <td>45.536542</td>\n",
       "      <td>56.997428</td>\n",
       "      <td>2045.508951</td>\n",
       "      <td>43.184271</td>\n",
       "      <td>38.223398</td>\n",
       "    </tr>\n",
       "    <tr>\n",
       "      <th>9</th>\n",
       "      <td>55.506522</td>\n",
       "      <td>64.301464</td>\n",
       "      <td>70.379924</td>\n",
       "      <td>56.997428</td>\n",
       "      <td>2048.792969</td>\n",
       "      <td>54.406266</td>\n",
       "      <td>48.635039</td>\n",
       "    </tr>\n",
       "    <tr>\n",
       "      <th>10</th>\n",
       "      <td>57.374545</td>\n",
       "      <td>58.380711</td>\n",
       "      <td>42.247016</td>\n",
       "      <td>56.997428</td>\n",
       "      <td>2036.011238</td>\n",
       "      <td>58.078686</td>\n",
       "      <td>43.201396</td>\n",
       "    </tr>\n",
       "    <tr>\n",
       "      <th>11</th>\n",
       "      <td>88.020690</td>\n",
       "      <td>86.626924</td>\n",
       "      <td>90.509049</td>\n",
       "      <td>75.909883</td>\n",
       "      <td>2103.645148</td>\n",
       "      <td>82.503334</td>\n",
       "      <td>64.564347</td>\n",
       "    </tr>\n",
       "    <tr>\n",
       "      <th>12</th>\n",
       "      <td>42.800000</td>\n",
       "      <td>66.995440</td>\n",
       "      <td>36.894615</td>\n",
       "      <td>56.997428</td>\n",
       "      <td>2042.725838</td>\n",
       "      <td>62.339959</td>\n",
       "      <td>24.189156</td>\n",
       "    </tr>\n",
       "    <tr>\n",
       "      <th>13</th>\n",
       "      <td>82.608108</td>\n",
       "      <td>83.440572</td>\n",
       "      <td>83.866643</td>\n",
       "      <td>75.909883</td>\n",
       "      <td>2098.920638</td>\n",
       "      <td>80.664883</td>\n",
       "      <td>67.821499</td>\n",
       "    </tr>\n",
       "    <tr>\n",
       "      <th>14</th>\n",
       "      <td>62.610145</td>\n",
       "      <td>56.036388</td>\n",
       "      <td>82.896120</td>\n",
       "      <td>75.909883</td>\n",
       "      <td>2099.072996</td>\n",
       "      <td>64.284214</td>\n",
       "      <td>51.854726</td>\n",
       "    </tr>\n",
       "    <tr>\n",
       "      <th>15</th>\n",
       "      <td>55.602778</td>\n",
       "      <td>56.837794</td>\n",
       "      <td>45.518858</td>\n",
       "      <td>56.997428</td>\n",
       "      <td>2046.274406</td>\n",
       "      <td>51.633790</td>\n",
       "      <td>34.482896</td>\n",
       "    </tr>\n",
       "    <tr>\n",
       "      <th>16</th>\n",
       "      <td>30.440426</td>\n",
       "      <td>30.989962</td>\n",
       "      <td>8.181879</td>\n",
       "      <td>56.997428</td>\n",
       "      <td>2034.017788</td>\n",
       "      <td>26.554229</td>\n",
       "      <td>29.665033</td>\n",
       "    </tr>\n",
       "    <tr>\n",
       "      <th>17</th>\n",
       "      <td>148.270588</td>\n",
       "      <td>114.131167</td>\n",
       "      <td>124.638865</td>\n",
       "      <td>75.909883</td>\n",
       "      <td>2110.379568</td>\n",
       "      <td>150.831343</td>\n",
       "      <td>77.890781</td>\n",
       "    </tr>\n",
       "    <tr>\n",
       "      <th>18</th>\n",
       "      <td>24.567949</td>\n",
       "      <td>36.993025</td>\n",
       "      <td>21.182435</td>\n",
       "      <td>56.997428</td>\n",
       "      <td>2036.982106</td>\n",
       "      <td>24.362905</td>\n",
       "      <td>24.095431</td>\n",
       "    </tr>\n",
       "    <tr>\n",
       "      <th>19</th>\n",
       "      <td>68.427273</td>\n",
       "      <td>64.940237</td>\n",
       "      <td>84.769791</td>\n",
       "      <td>56.997428</td>\n",
       "      <td>2039.991940</td>\n",
       "      <td>66.385205</td>\n",
       "      <td>65.591509</td>\n",
       "    </tr>\n",
       "    <tr>\n",
       "      <th>20</th>\n",
       "      <td>30.086667</td>\n",
       "      <td>45.437115</td>\n",
       "      <td>28.178587</td>\n",
       "      <td>56.997428</td>\n",
       "      <td>2026.370341</td>\n",
       "      <td>28.941474</td>\n",
       "      <td>31.484385</td>\n",
       "    </tr>\n",
       "  </tbody>\n",
       "</table>\n",
       "</div>"
      ],
      "text/plain": [
       "    Actual Value of Age_Adjusted_Rate  \\\n",
       "0                           46.005882   \n",
       "1                          142.950000   \n",
       "2                           52.825000   \n",
       "3                           42.671053   \n",
       "4                           95.936111   \n",
       "5                          143.500000   \n",
       "6                           62.400000   \n",
       "7                           90.216279   \n",
       "8                           38.738760   \n",
       "9                           55.506522   \n",
       "10                          57.374545   \n",
       "11                          88.020690   \n",
       "12                          42.800000   \n",
       "13                          82.608108   \n",
       "14                          62.610145   \n",
       "15                          55.602778   \n",
       "16                          30.440426   \n",
       "17                         148.270588   \n",
       "18                          24.567949   \n",
       "19                          68.427273   \n",
       "20                          30.086667   \n",
       "\n",
       "    Random Forest Predicted Age_Adjusted_Rate  \\\n",
       "0                                   49.852108   \n",
       "1                                  118.842657   \n",
       "2                                   58.544361   \n",
       "3                                   48.578706   \n",
       "4                                   80.121240   \n",
       "5                                  106.059831   \n",
       "6                                   64.999967   \n",
       "7                                   94.430231   \n",
       "8                                   48.359014   \n",
       "9                                   64.301464   \n",
       "10                                  58.380711   \n",
       "11                                  86.626924   \n",
       "12                                  66.995440   \n",
       "13                                  83.440572   \n",
       "14                                  56.036388   \n",
       "15                                  56.837794   \n",
       "16                                  30.989962   \n",
       "17                                 114.131167   \n",
       "18                                  36.993025   \n",
       "19                                  64.940237   \n",
       "20                                  45.437115   \n",
       "\n",
       "    Linear Reg Predicted Age_Adjusted_Rate  \\\n",
       "0                                57.853872   \n",
       "1                               130.065706   \n",
       "2                                60.154127   \n",
       "3                                62.899278   \n",
       "4                               102.311064   \n",
       "5                               120.555908   \n",
       "6                                75.173226   \n",
       "7                                93.654035   \n",
       "8                                45.536542   \n",
       "9                                70.379924   \n",
       "10                               42.247016   \n",
       "11                               90.509049   \n",
       "12                               36.894615   \n",
       "13                               83.866643   \n",
       "14                               82.896120   \n",
       "15                               45.518858   \n",
       "16                                8.181879   \n",
       "17                              124.638865   \n",
       "18                               21.182435   \n",
       "19                               84.769791   \n",
       "20                               28.178587   \n",
       "\n",
       "    Lasso Reg Predicted Age_Adjusted_Rate  \\\n",
       "0                               56.997428   \n",
       "1                               75.909883   \n",
       "2                               56.997428   \n",
       "3                               75.909883   \n",
       "4                               75.909883   \n",
       "5                               75.909883   \n",
       "6                               75.909883   \n",
       "7                               75.909883   \n",
       "8                               56.997428   \n",
       "9                               56.997428   \n",
       "10                              56.997428   \n",
       "11                              75.909883   \n",
       "12                              56.997428   \n",
       "13                              75.909883   \n",
       "14                              75.909883   \n",
       "15                              56.997428   \n",
       "16                              56.997428   \n",
       "17                              75.909883   \n",
       "18                              56.997428   \n",
       "19                              56.997428   \n",
       "20                              56.997428   \n",
       "\n",
       "    Ridge Reg Predicted Age_Adjusted_Rate  \\\n",
       "0                             2036.609020   \n",
       "1                             2117.367526   \n",
       "2                             2049.654327   \n",
       "3                             2101.965301   \n",
       "4                             2103.547274   \n",
       "5                             2119.500294   \n",
       "6                             2094.735811   \n",
       "7                             2103.623560   \n",
       "8                             2045.508951   \n",
       "9                             2048.792969   \n",
       "10                            2036.011238   \n",
       "11                            2103.645148   \n",
       "12                            2042.725838   \n",
       "13                            2098.920638   \n",
       "14                            2099.072996   \n",
       "15                            2046.274406   \n",
       "16                            2034.017788   \n",
       "17                            2110.379568   \n",
       "18                            2036.982106   \n",
       "19                            2039.991940   \n",
       "20                            2026.370341   \n",
       "\n",
       "    Decesion Tree Predicted Age_Adjusted_Rate  SVM Predicted Age_Adjusted_Rate  \n",
       "0                                   43.184271                        45.816792  \n",
       "1                                  116.248074                        86.025082  \n",
       "2                                   51.633790                        47.200471  \n",
       "3                                   64.284214                        47.254736  \n",
       "4                                   82.503334                        67.594412  \n",
       "5                                   82.503334                        83.321988  \n",
       "6                                   64.265000                        51.957448  \n",
       "7                                  116.248074                        67.522163  \n",
       "8                                   43.184271                        38.223398  \n",
       "9                                   54.406266                        48.635039  \n",
       "10                                  58.078686                        43.201396  \n",
       "11                                  82.503334                        64.564347  \n",
       "12                                  62.339959                        24.189156  \n",
       "13                                  80.664883                        67.821499  \n",
       "14                                  64.284214                        51.854726  \n",
       "15                                  51.633790                        34.482896  \n",
       "16                                  26.554229                        29.665033  \n",
       "17                                 150.831343                        77.890781  \n",
       "18                                  24.362905                        24.095431  \n",
       "19                                  66.385205                        65.591509  \n",
       "20                                  28.941474                        31.484385  "
      ]
     },
     "execution_count": 65,
     "metadata": {},
     "output_type": "execute_result"
    }
   ],
   "source": [
    "#Actual and predicated value of house using our best model\n",
    "house_value=pd.DataFrame({'Actual Value of Age_Adjusted_Rate':y_test, \n",
    "                'Random Forest Predicted Age_Adjusted_Rate':y_pred_rf,\n",
    "                'Linear Reg Predicted Age_Adjusted_Rate':y_pred_lr,\n",
    "                'Lasso Reg Predicted Age_Adjusted_Rate':y_pred_lrl,\n",
    "                'Ridge Reg Predicted Age_Adjusted_Rate':y_pred_lrr,       \n",
    "                'Decesion Tree Predicted Age_Adjusted_Rate':y_pred_dt,\n",
    "                 'SVM Predicted Age_Adjusted_Rate':y_pred_svm})\n",
    "house_value"
   ]
  },
  {
   "cell_type": "markdown",
   "id": "bb9199c4",
   "metadata": {},
   "source": [
    "## Evaluation metrices of differnt models"
   ]
  },
  {
   "cell_type": "code",
   "execution_count": 66,
   "id": "0f013217",
   "metadata": {},
   "outputs": [
    {
     "data": {
      "text/html": [
       "<div>\n",
       "<style scoped>\n",
       "    .dataframe tbody tr th:only-of-type {\n",
       "        vertical-align: middle;\n",
       "    }\n",
       "\n",
       "    .dataframe tbody tr th {\n",
       "        vertical-align: top;\n",
       "    }\n",
       "\n",
       "    .dataframe thead th {\n",
       "        text-align: right;\n",
       "    }\n",
       "</style>\n",
       "<table border=\"1\" class=\"dataframe\">\n",
       "  <thead>\n",
       "    <tr style=\"text-align: right;\">\n",
       "      <th></th>\n",
       "      <th>Linear Reg</th>\n",
       "      <th>Lasso Reg</th>\n",
       "      <th>Ridge Reg</th>\n",
       "      <th>SVM Reg</th>\n",
       "      <th>Decision Tree</th>\n",
       "      <th>Random Forest</th>\n",
       "    </tr>\n",
       "  </thead>\n",
       "  <tbody>\n",
       "    <tr>\n",
       "      <th>R2</th>\n",
       "      <td>0.859021</td>\n",
       "      <td>0.282379</td>\n",
       "      <td>-3041.178807</td>\n",
       "      <td>0.449345</td>\n",
       "      <td>0.773867</td>\n",
       "      <td>0.829660</td>\n",
       "    </tr>\n",
       "    <tr>\n",
       "      <th>Mean Absolute Error</th>\n",
       "      <td>11.531759</td>\n",
       "      <td>22.304328</td>\n",
       "      <td>2001.625632</td>\n",
       "      <td>17.863281</td>\n",
       "      <td>9.685091</td>\n",
       "      <td>10.440613</td>\n",
       "    </tr>\n",
       "    <tr>\n",
       "      <th>Root Mean Squared Error</th>\n",
       "      <td>13.626881</td>\n",
       "      <td>30.744422</td>\n",
       "      <td>2001.756135</td>\n",
       "      <td>26.931373</td>\n",
       "      <td>17.258404</td>\n",
       "      <td>14.978794</td>\n",
       "    </tr>\n",
       "  </tbody>\n",
       "</table>\n",
       "</div>"
      ],
      "text/plain": [
       "                         Linear Reg  Lasso Reg    Ridge Reg    SVM Reg  \\\n",
       "R2                         0.859021   0.282379 -3041.178807   0.449345   \n",
       "Mean Absolute Error       11.531759  22.304328  2001.625632  17.863281   \n",
       "Root Mean Squared Error   13.626881  30.744422  2001.756135  26.931373   \n",
       "\n",
       "                         Decision Tree  Random Forest  \n",
       "R2                            0.773867       0.829660  \n",
       "Mean Absolute Error           9.685091      10.440613  \n",
       "Root Mean Squared Error      17.258404      14.978794  "
      ]
     },
     "execution_count": 66,
     "metadata": {},
     "output_type": "execute_result"
    }
   ],
   "source": [
    "#making dataframe on evaluation metrices\n",
    "evaluation_df=pd.DataFrame({'Linear Reg':[lin_r2_lr,lin_mae_lr,lin_rmse_lr],\n",
    "                           'Lasso Reg':[lin_r2_lrl,lin_mae_lrl,lin_rmse_lrl],\n",
    "                            'Ridge Reg':[lin_r2_lrr,lin_mae_lrr,lin_rmse_lrr],\n",
    "                            'SVM Reg':[lin_r2_svm,lin_mae_svm,lin_rmse_svm],\n",
    "                           'Decision Tree':[lin_r2_dt,lin_mae_dt,lin_rmse_dt],\n",
    "                            'Random Forest':[lin_r2_rf,lin_mae_rf,lin_rmse_rf]}\n",
    "                           ,index=['R2','Mean Absolute Error',\n",
    "                                    'Root Mean Squared Error'])\n",
    "evaluation_df"
   ]
  },
  {
   "cell_type": "code",
   "execution_count": null,
   "id": "80931e0e",
   "metadata": {},
   "outputs": [],
   "source": []
  }
 ],
 "metadata": {
  "kernelspec": {
   "display_name": "Python 3",
   "language": "python",
   "name": "python3"
  },
  "language_info": {
   "codemirror_mode": {
    "name": "ipython",
    "version": 3
   },
   "file_extension": ".py",
   "mimetype": "text/x-python",
   "name": "python",
   "nbconvert_exporter": "python",
   "pygments_lexer": "ipython3",
   "version": "3.8.8"
  }
 },
 "nbformat": 4,
 "nbformat_minor": 5
}
