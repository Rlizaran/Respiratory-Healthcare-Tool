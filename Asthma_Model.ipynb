{
 "cells": [
  {
   "cell_type": "code",
   "execution_count": 3,
   "id": "eae3416d",
   "metadata": {},
   "outputs": [],
   "source": [
    "#importing models\n",
    "import pandas as pd\n",
    "import numpy as np\n",
    "import os\n",
    "import matplotlib.pyplot as plt\n",
    "import statsmodels.api as sm\n",
    "import seaborn as sns\n",
    "from scipy import stats\n",
    "import warnings\n",
    "from matplotlib import rcParams\n",
    "#importing sklearn models\n",
    "from sklearn.model_selection import train_test_split\n",
    "from sklearn.linear_model import LinearRegression\n",
    "from sklearn.model_selection import cross_val_score\n",
    "from sklearn.linear_model import Lasso\n",
    "from sklearn.linear_model import Ridge\n",
    "from sklearn.svm import LinearSVR\n",
    "from sklearn.svm import SVR\n",
    "from sklearn.ensemble import RandomForestRegressor\n",
    "from sklearn.tree import DecisionTreeRegressor\n",
    "from sklearn.model_selection import GridSearchCV\n",
    "from sklearn.model_selection import RandomizedSearchCV\n",
    "from sklearn.metrics import mean_absolute_error, r2_score\n",
    "from sklearn.metrics import mean_squared_error\n",
    "from path import Path"
   ]
  },
  {
   "cell_type": "code",
   "execution_count": 4,
   "id": "fef5099c",
   "metadata": {},
   "outputs": [],
   "source": [
    "\n",
    "import warnings\n",
    "warnings.filterwarnings(\"ignore\")"
   ]
  },
  {
   "cell_type": "code",
   "execution_count": 7,
   "id": "4d333ed8",
   "metadata": {},
   "outputs": [],
   "source": [
    "# defining data path\n",
    "data_path=Path('resources/Cleaned_folder/aqi_asthma.csv')\n",
    "# Reading data source using pandas\n",
    "asthma_df=pd.read_csv(data_path)"
   ]
  },
  {
   "cell_type": "code",
   "execution_count": 20,
   "id": "0927bea5",
   "metadata": {},
   "outputs": [
    {
     "data": {
      "text/plain": [
       "Year                                  int64\n",
       "Age_Group                             int64\n",
       "county                               object\n",
       "Number_of_Asthma_ED_Visits          float64\n",
       "Age_Adjusted_Rate_of_Asthma_ED_V    float64\n",
       "NO2 AQI_mean                        float64\n",
       "NO2 AQI_max                         float64\n",
       "NO2 AQI_min                         float64\n",
       "O3 AQI_mean                         float64\n",
       "O3 AQI_max                          float64\n",
       "O3 AQI_min                          float64\n",
       "SO2 AQI_mean                        float64\n",
       "SO2 AQI_max                         float64\n",
       "SO2 AQI_min                         float64\n",
       "CO AQI_mean                         float64\n",
       "CO AQI_max                          float64\n",
       "CO AQI_min                          float64\n",
       "dtype: object"
      ]
     },
     "execution_count": 20,
     "metadata": {},
     "output_type": "execute_result"
    }
   ],
   "source": [
    "asthma_df.dtypes"
   ]
  },
  {
   "cell_type": "code",
   "execution_count": 21,
   "id": "7a9584bf",
   "metadata": {},
   "outputs": [],
   "source": [
    "# create feature matrix (X)\n",
    "#selecting all columns except 'Age-adjusted-rate'\n",
    "X=asthma_df.drop(['Age_Adjusted_Rate_of_Asthma_ED_V','county'], axis=1) \n",
    "\n",
    "# create response vector (y)\n",
    "##selecting 'Age-adjusted-rate'\n",
    "y=asthma_df['Age_Adjusted_Rate_of_Asthma_ED_V'].values  "
   ]
  },
  {
   "cell_type": "markdown",
   "id": "8e619e1c",
   "metadata": {},
   "source": [
    "#### Splitting data in train and test set"
   ]
  },
  {
   "cell_type": "code",
   "execution_count": 22,
   "id": "d849489e",
   "metadata": {},
   "outputs": [],
   "source": [
    "#Training set**: Used to train the classifier.\n",
    "#Testing set**: Used to estimate the error rate of the trained classifier.\n",
    "#Also using train_index and test_index to get train and test data index \n",
    "X_train, X_test, y_train, y_test = train_test_split(\n",
    "                               X, y, test_size=0.2, random_state=42)"
   ]
  },
  {
   "cell_type": "code",
   "execution_count": 23,
   "id": "0a0ab691",
   "metadata": {},
   "outputs": [
    {
     "name": "stdout",
     "output_type": "stream",
     "text": [
      "Shape of X_train=(83, 15)\n",
      "Shape of X_test=(21, 15)\n",
      "Shape of y_train=(83,)\n",
      "Shape of X_test=(21,)\n"
     ]
    }
   ],
   "source": [
    "print(f'Shape of X_train={X_train.shape}')\n",
    "print(f'Shape of X_test={X_test.shape}')\n",
    "print(f'Shape of y_train={y_train.shape}')\n",
    "print(f'Shape of X_test={y_test.shape}')"
   ]
  },
  {
   "cell_type": "markdown",
   "id": "5ae03b8b",
   "metadata": {},
   "source": [
    "#### Scaling using standard scaler on feature matrix (X) "
   ]
  },
  {
   "cell_type": "code",
   "execution_count": 24,
   "id": "59ca8f49",
   "metadata": {},
   "outputs": [],
   "source": [
    "#Different columns have differnt scale so standrazied it \n",
    "#features scaling using standard scaler on x only\n",
    "from sklearn.preprocessing import StandardScaler\n",
    "std_scaler=StandardScaler()\n",
    "scaled_X_train=std_scaler.fit_transform(X_train)\n",
    "scaled_X_test=std_scaler.transform(X_test)"
   ]
  },
  {
   "cell_type": "code",
   "execution_count": 25,
   "id": "d3d4b650",
   "metadata": {},
   "outputs": [
    {
     "name": "stdout",
     "output_type": "stream",
     "text": [
      "(83, 15)\n",
      "(104,)\n"
     ]
    }
   ],
   "source": [
    "#shape of the X and y\n",
    "print(scaled_X_train.shape)\n",
    "print(y.shape)"
   ]
  },
  {
   "cell_type": "markdown",
   "id": "b8cbc52c",
   "metadata": {},
   "source": [
    "### Evaluation Metric"
   ]
  },
  {
   "cell_type": "markdown",
   "id": "1fb62448",
   "metadata": {},
   "source": [
    "To evaluate a model, we also need an **evaluation metric:**\n",
    "\n",
    "- A numeric calculation used to **quantify** the performance of a model.\n",
    "- The appropriate metric depends on the **goals** of your problem.\n",
    "\n",
    "The most common choices for regression problems are:\n",
    "\n",
    "- **R-squared**: The percentage of variation explained by the model (a \"reward function,\" as higher is better).\n",
    "- **Mean squared error**: The average squared distance between the prediction and the correct answer (a \"loss function,\" as lower is better).\n",
    "- **Mean absolute error**: The average absolute distance between the prediction and the correct answer (a \"loss function,\" as lower is better).\n",
    "\n",
    "In this case, we'll use mean squared error, R2, and mean absolute error because it is more interpretable in a predictive context."
   ]
  },
  {
   "cell_type": "markdown",
   "id": "ff3e8d5b",
   "metadata": {},
   "source": [
    "## Linear Regression"
   ]
  },
  {
   "cell_type": "code",
   "execution_count": 26,
   "id": "0cf35236",
   "metadata": {},
   "outputs": [
    {
     "data": {
      "text/plain": [
       "LinearRegression()"
      ]
     },
     "execution_count": 26,
     "metadata": {},
     "output_type": "execute_result"
    }
   ],
   "source": [
    "#using linear regression\n",
    "# Make a linear regression instance\n",
    "lr=LinearRegression()\n",
    "# Training the model on the data, storing the information learned from the data\n",
    "# Model is learning the relationship between X and y \n",
    "lr.fit(scaled_X_train, y_train)\n"
   ]
  },
  {
   "cell_type": "code",
   "execution_count": 84,
   "id": "d8ee5aec",
   "metadata": {},
   "outputs": [
    {
     "name": "stdout",
     "output_type": "stream",
     "text": [
      "R2 Score of training set 0.8187233825511082\n",
      "R2 Score of testing  set  0.8590207162163466\n"
     ]
    }
   ],
   "source": [
    "#Printing the R2 score of test and train set\n",
    "print(f'R2 Score of training set {lr.score(scaled_X_train, y_train)}')\n",
    "print(f'R2 Score of testing  set  {lr.score(scaled_X_test, y_test)}')"
   ]
  },
  {
   "cell_type": "markdown",
   "id": "da321253",
   "metadata": {},
   "source": [
    "#### Create a cross-valiation with five folds.\n",
    "-  Cross valiation allows the training set into distinct subsets called folds.\n",
    "- A model is trained using k-1 of the folds as training data"
   ]
  },
  {
   "cell_type": "code",
   "execution_count": 85,
   "id": "d9bffa8e",
   "metadata": {},
   "outputs": [
    {
     "data": {
      "text/plain": [
       "array([-12.18150373, -13.01962261, -14.08140065, -14.40623236,\n",
       "       -12.7821553 ])"
      ]
     },
     "execution_count": 85,
     "metadata": {},
     "output_type": "execute_result"
    }
   ],
   "source": [
    "#score of training set using cross_val_score\n",
    "cross_val_score(lr, scaled_X_train, y_train, scoring='neg_mean_absolute_error', cv=5)"
   ]
  },
  {
   "cell_type": "code",
   "execution_count": 86,
   "id": "bc53cf68",
   "metadata": {},
   "outputs": [
    {
     "name": "stdout",
     "output_type": "stream",
     "text": [
      "The R2 of Linear Regression is 0.48817169182285447\n",
      "The mean squared error of Linear Regression is 16.85909268459506\n",
      "The mean absolute error of Linear Regression is 13.294182929913623\n"
     ]
    }
   ],
   "source": [
    "#score of training set using cross_val_score\n",
    "lr_r2=np.mean(cross_val_score(lr, scaled_X_train, y_train, cv=5))\n",
    "print(f'The R2 of Linear Regression is {lr_r2}')\n",
    "\n",
    "#cross validation features gives greater is better, so score function is opposite of \n",
    "#MSE so we need to use -ve to get mse\n",
    "lr_mse=np.mean(cross_val_score(lr, scaled_X_train, y_train, cv=5, scoring='neg_mean_squared_error'))\n",
    "lr_rmse=np.sqrt(-(lr_mse))\n",
    "print(f'The mean squared error of Linear Regression is {lr_rmse}')\n",
    "\n",
    "#mean absolute error\n",
    "lr_mae=np.mean(cross_val_score(lr, scaled_X_train, y_train, cv=5, scoring='neg_mean_absolute_error'))\n",
    "lr_mae=(-(lr_mae))\n",
    "print(f'The mean absolute error of Linear Regression is {lr_mae}')"
   ]
  },
  {
   "cell_type": "markdown",
   "id": "e0f390e4",
   "metadata": {},
   "source": [
    "## Ridge Regression"
   ]
  },
  {
   "cell_type": "code",
   "execution_count": 87,
   "id": "56dbafca",
   "metadata": {},
   "outputs": [
    {
     "data": {
      "text/plain": [
       "Ridge()"
      ]
     },
     "execution_count": 87,
     "metadata": {},
     "output_type": "execute_result"
    }
   ],
   "source": [
    "#using ridge regression(ridge make some features going to near zero)\n",
    "#alpha=0 no regularization( all features are used)\n",
    "# Make a ridge regression instance\n",
    "lr_r=Ridge()\n",
    "lr_r.fit(scaled_X_train, y_train)\n"
   ]
  },
  {
   "cell_type": "code",
   "execution_count": 88,
   "id": "8c1c63a8",
   "metadata": {},
   "outputs": [
    {
     "name": "stdout",
     "output_type": "stream",
     "text": [
      "R2 Score of training set 0.814320407949326\n",
      "R2 Score of testing set  0.8647024989632942\n"
     ]
    }
   ],
   "source": [
    "#Printing the R2 score of test and train set\n",
    "print(f'R2 Score of training set {lr_r.score(scaled_X_train, y_train)}')\n",
    "print(f'R2 Score of testing set  {lr_r.score(scaled_X_test, y_test)}')"
   ]
  },
  {
   "cell_type": "markdown",
   "id": "1d917074",
   "metadata": {},
   "source": [
    "#### Create a cross-valiation with five folds."
   ]
  },
  {
   "cell_type": "code",
   "execution_count": 32,
   "id": "fc70cc7d",
   "metadata": {},
   "outputs": [
    {
     "data": {
      "text/plain": [
       "array([-11.26694862, -13.02570106, -15.81391099])"
      ]
     },
     "execution_count": 32,
     "metadata": {},
     "output_type": "execute_result"
    }
   ],
   "source": [
    "#score of training set using cross_val_score\n",
    "cross_val_score(lr_r, scaled_X_train, y_train, scoring='neg_mean_absolute_error', cv=3)"
   ]
  },
  {
   "cell_type": "code",
   "execution_count": 33,
   "id": "e4be8990",
   "metadata": {},
   "outputs": [
    {
     "name": "stdout",
     "output_type": "stream",
     "text": [
      "The R2 of Ridge Regression is 0.5190225440234283\n",
      "The mean squared error of Ridge Regression is 16.67797198033198\n",
      "The mean absolute error of Ridge Regression is 12.573961515804765\n"
     ]
    }
   ],
   "source": [
    "#score of training set using cross_val_score\n",
    "lr_r_r2=np.mean(cross_val_score(lr_r, scaled_X_train, y_train, cv=5))\n",
    "print(f'The R2 of Ridge Regression is {lr_r_r2}')\n",
    "\n",
    "#cross validation features gives greater is better, so score function is opposite of \n",
    "#MSE so we need to use -ve to get mse\n",
    "lr_r_mse=np.mean(cross_val_score(lr_r, scaled_X_train, y_train, cv=5, scoring='neg_mean_squared_error'))\n",
    "lr_r_rmse=np.sqrt(-(lr_r_mse))\n",
    "print(f'The mean squared error of Ridge Regression is {lr_r_rmse}')\n",
    "\n",
    "#mean absolute error\n",
    "lr_r_mae=np.mean(cross_val_score(lr_r, scaled_X_train, y_train, cv=5, scoring='neg_mean_absolute_error'))\n",
    "lr_r_mae=(-(lr_r_mae))\n",
    "print(f'The mean absolute error of Ridge Regression is {lr_r_mae}')"
   ]
  },
  {
   "cell_type": "code",
   "execution_count": 34,
   "id": "e5b0d68f",
   "metadata": {},
   "outputs": [
    {
     "data": {
      "image/png": "[encoded data removed]",
      "text/plain": [
       "<Figure size 432x288 with 1 Axes>"
      ]
     },
     "metadata": {
      "needs_background": "light"
     },
     "output_type": "display_data"
    }
   ],
   "source": [
    "#choosing the best alpha\n",
    "alpha=[]\n",
    "error=[]\n",
    "for i in range(1,1000,50):\n",
    "    alpha.append(i/10)\n",
    "    lrr=Ridge(alpha=(i/10))\n",
    "    error.append(np.mean(cross_val_score(lrr, scaled_X_train, y_train, scoring='neg_mean_absolute_error',\n",
    "                                         cv=5)))\n",
    "plt.plot(alpha,error) \n",
    "plt.show()"
   ]
  },
  {
   "cell_type": "code",
   "execution_count": 35,
   "id": "a4951f73",
   "metadata": {},
   "outputs": [
    {
     "data": {
      "text/plain": [
       "Ridge(alpha=10)"
      ]
     },
     "execution_count": 35,
     "metadata": {},
     "output_type": "execute_result"
    }
   ],
   "source": [
    "#choosing the best alpha (look figure where alpha start to saturate)\n",
    "lrr=Ridge(alpha=10)\n",
    "lrr.fit(X_train, y_train)\n"
   ]
  },
  {
   "cell_type": "code",
   "execution_count": 36,
   "id": "5f081208",
   "metadata": {},
   "outputs": [
    {
     "name": "stdout",
     "output_type": "stream",
     "text": [
      "R2 Score of training set with alpha 40 -4369.043902778573\n",
      "R2 Score of testing set with alpha 40 -3041.1788073850216\n"
     ]
    }
   ],
   "source": [
    "#Printing the R2 score of test and train set \n",
    "print(f'R2 Score of training set with alpha 40 {lrr.score(scaled_X_train, y_train)}')\n",
    "print(f'R2 Score of testing set with alpha 40 {lrr.score(scaled_X_test, y_test)}')"
   ]
  },
  {
   "cell_type": "markdown",
   "id": "36f373da",
   "metadata": {},
   "source": [
    "#### Create a cross-valiation with five folds."
   ]
  },
  {
   "cell_type": "code",
   "execution_count": 37,
   "id": "69e9d466",
   "metadata": {},
   "outputs": [
    {
     "data": {
      "text/plain": [
       "array([-11.26694862, -13.02570106, -15.81391099])"
      ]
     },
     "execution_count": 37,
     "metadata": {},
     "output_type": "execute_result"
    }
   ],
   "source": [
    "#score of training set using cross_val_score\n",
    "cross_val_score(lr_r, scaled_X_train, y_train, scoring='neg_mean_absolute_error', cv=3)"
   ]
  },
  {
   "cell_type": "code",
   "execution_count": 38,
   "id": "d20b56ff",
   "metadata": {},
   "outputs": [
    {
     "name": "stdout",
     "output_type": "stream",
     "text": [
      "The R2 of Ridge Regression with alpha 10 is 0.5538084409345555\n",
      "The mean squared error of Ridge Regression with alpha 10 is 16.67797198033198\n",
      "The mean absolute error of Ridge Regression with alpha 10 is 12.573961515804765\n"
     ]
    }
   ],
   "source": [
    "#score of training set using cross_val_score\n",
    "lrr_r2=np.mean(cross_val_score(lrr, scaled_X_train, y_train, cv=5))\n",
    "print(f'The R2 of Ridge Regression with alpha 10 is {lrr_r2}')\n",
    "\n",
    "#cross validation features gives greater is better, so score function is opposite of \n",
    "#MSE so we need to use -ve to get mse\n",
    "lrr_mse=np.mean(cross_val_score(lr_r, scaled_X_train, y_train, cv=5, scoring='neg_mean_squared_error'))\n",
    "lrr_rmse=np.sqrt(-(lrr_mse))\n",
    "print(f'The mean squared error of Ridge Regression with alpha 10 is {lrr_rmse}')\n",
    "\n",
    "#mean absolute error\n",
    "lrr_mae=np.mean(cross_val_score(lr_r, scaled_X_train, y_train, cv=5, scoring='neg_mean_absolute_error'))\n",
    "lrr_mae=(-(lrr_mae))\n",
    "print(f'The mean absolute error of Ridge Regression with alpha 10 is {lrr_mae}')"
   ]
  },
  {
   "cell_type": "markdown",
   "id": "e6058a94",
   "metadata": {},
   "source": [
    "## Laso Regression"
   ]
  },
  {
   "cell_type": "code",
   "execution_count": 39,
   "id": "28bcfe0e",
   "metadata": {},
   "outputs": [
    {
     "data": {
      "text/plain": [
       "Lasso()"
      ]
     },
     "execution_count": 39,
     "metadata": {},
     "output_type": "execute_result"
    }
   ],
   "source": [
    "#using lassoregression(lasso make some features going to exactly zero)\n",
    "#alpha=0 no regularization( all features are used)\n",
    "# Make a lasso regression instance\n",
    "lr_l=Lasso()\n",
    "lr_l.fit(scaled_X_train, y_train)\n"
   ]
  },
  {
   "cell_type": "code",
   "execution_count": 40,
   "id": "ab17e686",
   "metadata": {},
   "outputs": [
    {
     "name": "stdout",
     "output_type": "stream",
     "text": [
      "R2 Score of training set 0.7488283842876851\n",
      "R2 Score of testing set  0.7701611905503272\n"
     ]
    }
   ],
   "source": [
    "#Printing the R2 score of test and train set\n",
    "print(f'R2 Score of training set {lr_l.score(scaled_X_train, y_train)}')\n",
    "print(f'R2 Score of testing set  {lr_l.score(scaled_X_test, y_test)}')"
   ]
  },
  {
   "cell_type": "markdown",
   "id": "842638a2",
   "metadata": {},
   "source": [
    "#### Create a cross-valiation with five folds."
   ]
  },
  {
   "cell_type": "code",
   "execution_count": 41,
   "id": "0effb939",
   "metadata": {},
   "outputs": [
    {
     "data": {
      "text/plain": [
       "array([-10.80297702, -13.94631581, -12.85551078])"
      ]
     },
     "execution_count": 41,
     "metadata": {},
     "output_type": "execute_result"
    }
   ],
   "source": [
    "#score of training set using cross_val_score\n",
    "cross_val_score(lr_l, scaled_X_train, y_train, scoring='neg_mean_absolute_error', cv=3)"
   ]
  },
  {
   "cell_type": "code",
   "execution_count": 91,
   "id": "1237e404",
   "metadata": {},
   "outputs": [
    {
     "name": "stdout",
     "output_type": "stream",
     "text": [
      "The R2 of Lasso Regression is 0.6329144771147857\n",
      "The mean squared error of Lasso Regression is 17.601576254338745\n",
      "The mean absolute error of Lasso Regression is 12.521245242774901\n"
     ]
    }
   ],
   "source": [
    "#score of training set using cross_val_score\n",
    "lr_l_r2=np.mean(cross_val_score(lr_l, scaled_X_train, y_train, cv=2))\n",
    "print(f'The R2 of Lasso Regression is {lr_l_r2}')\n",
    "\n",
    "#cross validation features gives greater is better, so score function is opposite of \n",
    "#MSE so we need to use -ve to get mse\n",
    "lr_l_mse=np.mean(cross_val_score(lr_l, scaled_X_train, y_train, cv=5, scoring='neg_mean_squared_error'))\n",
    "lr_l_rmse=np.sqrt(-(lr_l_mse))\n",
    "print(f'The mean squared error of Lasso Regression is {lr_l_rmse}')\n",
    "\n",
    "#mean absolute error\n",
    "lr_l_mae=np.mean(cross_val_score(lr_l, scaled_X_train, y_train, cv=5, scoring='neg_mean_absolute_error'))\n",
    "lr_l_mae=(-(lr_l_mae))\n",
    "print(f'The mean absolute error of Lasso Regression is {lr_l_mae}')"
   ]
  },
  {
   "cell_type": "code",
   "execution_count": 43,
   "id": "18aaa374",
   "metadata": {},
   "outputs": [
    {
     "data": {
      "image/png": "[encoded data removed]",
      "text/plain": [
       "<Figure size 432x288 with 1 Axes>"
      ]
     },
     "metadata": {
      "needs_background": "light"
     },
     "output_type": "display_data"
    }
   ],
   "source": [
    "#choosing the best alpha\n",
    "alpha=[]\n",
    "error=[]\n",
    "for i in range(1,100,10):\n",
    "    alpha.append(i/10)\n",
    "    lrl=Lasso(alpha=(i/10))\n",
    "    error.append(np.mean(cross_val_score(lrl, scaled_X_train, y_train, scoring='neg_mean_absolute_error',\n",
    "                                         cv=5)))\n",
    "plt.plot(alpha,error) \n",
    "plt.show()"
   ]
  },
  {
   "cell_type": "code",
   "execution_count": 44,
   "id": "5ffaae4b",
   "metadata": {},
   "outputs": [
    {
     "data": {
      "text/plain": [
       "Lasso(alpha=10)"
      ]
     },
     "execution_count": 44,
     "metadata": {},
     "output_type": "execute_result"
    }
   ],
   "source": [
    "#choosing the best alpha\n",
    "lrl=Lasso(alpha=10)\n",
    "lrl.fit(scaled_X_train, y_train)\n"
   ]
  },
  {
   "cell_type": "code",
   "execution_count": 45,
   "id": "20b8b7e1",
   "metadata": {},
   "outputs": [
    {
     "name": "stdout",
     "output_type": "stream",
     "text": [
      "R2 Score of training set with alpha 10 0.30267850496357285\n",
      "R2 Score of testing set with alpha 10 0.28237914152090693\n"
     ]
    }
   ],
   "source": [
    "#Printing the R2 score of test and train set \n",
    "print(f'R2 Score of training set with alpha 10 {lrl.score(scaled_X_train, y_train)}')\n",
    "print(f'R2 Score of testing set with alpha 10 {lrl.score(scaled_X_test, y_test)}')"
   ]
  },
  {
   "cell_type": "markdown",
   "id": "a6002558",
   "metadata": {},
   "source": [
    "#### Create a cross-valiation with five folds."
   ]
  },
  {
   "cell_type": "code",
   "execution_count": 46,
   "id": "cec426fe",
   "metadata": {},
   "outputs": [
    {
     "data": {
      "text/plain": [
       "array([-10.80297702, -13.94631581, -12.85551078])"
      ]
     },
     "execution_count": 46,
     "metadata": {},
     "output_type": "execute_result"
    }
   ],
   "source": [
    "#score of training set using cross_val_score\n",
    "cross_val_score(lr_l, scaled_X_train, y_train, scoring='neg_mean_absolute_error', cv=3)"
   ]
  },
  {
   "cell_type": "code",
   "execution_count": 47,
   "id": "73ee7b9b",
   "metadata": {},
   "outputs": [
    {
     "name": "stdout",
     "output_type": "stream",
     "text": [
      "The R2 of Lasso Regression with alpha 10 is 0.19788197709315403\n",
      "The mean squared error of Lasso Regression with alpha 10 is 17.601576254338745\n",
      "The mean absolute error of Lasso Regressionwith alpha 10 is 12.521245242774901\n"
     ]
    }
   ],
   "source": [
    "#score of training set using cross_val_score\n",
    "lrl_r2=np.mean(cross_val_score(lrl, scaled_X_train, y_train, cv=5))\n",
    "print(f'The R2 of Lasso Regression with alpha 10 is {lrl_r2}')\n",
    "\n",
    "#cross validation features gives greater is better, so score function is opposite of \n",
    "#MSE so we need to use -ve to get mse\n",
    "lrl_mse=np.mean(cross_val_score(lr_l, scaled_X_train, y_train, cv=5, scoring='neg_mean_squared_error'))\n",
    "lrl_rmse=np.sqrt(-(lrl_mse))\n",
    "print(f'The mean squared error of Lasso Regression with alpha 10 is {lrl_rmse}')\n",
    "\n",
    "#mean absolute error\n",
    "lrl_mae=np.mean(cross_val_score(lr_l, scaled_X_train, y_train, cv=5, scoring='neg_mean_absolute_error'))\n",
    "lrl_mae=(-(lrl_mae))\n",
    "print(f'The mean absolute error of Lasso Regressionwith alpha 10 is {lrl_mae}')"
   ]
  },
  {
   "cell_type": "markdown",
   "id": "ef0b4d79",
   "metadata": {},
   "source": [
    "## Support Vector Machine(SVM) Regression"
   ]
  },
  {
   "cell_type": "code",
   "execution_count": 48,
   "id": "972957f6",
   "metadata": {},
   "outputs": [
    {
     "data": {
      "text/plain": [
       "LinearSVR(epsilon=1.5)"
      ]
     },
     "execution_count": 48,
     "metadata": {},
     "output_type": "execute_result"
    }
   ],
   "source": [
    "# Make a svm regression instance\n",
    "svm=LinearSVR(epsilon=1.5)\n",
    "svm.fit(scaled_X_train, y_train)\n"
   ]
  },
  {
   "cell_type": "code",
   "execution_count": 49,
   "id": "83b8b8e2",
   "metadata": {},
   "outputs": [
    {
     "name": "stdout",
     "output_type": "stream",
     "text": [
      "R2 Score of training set 0.39508206437493754\n",
      "R2 Score of testing set  0.4497650118953762\n"
     ]
    }
   ],
   "source": [
    "#Printing the R2 score of test and train set\n",
    "print(f'R2 Score of training set {svm.score(scaled_X_train, y_train)}')\n",
    "print(f'R2 Score of testing set  {svm.score(scaled_X_test, y_test)}')"
   ]
  },
  {
   "cell_type": "markdown",
   "id": "d5ac1731",
   "metadata": {},
   "source": [
    "#### Create a cross-valiation with five folds."
   ]
  },
  {
   "cell_type": "code",
   "execution_count": 50,
   "id": "96070d8e",
   "metadata": {},
   "outputs": [
    {
     "data": {
      "text/plain": [
       "array([-28.38869445, -22.81243913, -32.6465356 ])"
      ]
     },
     "execution_count": 50,
     "metadata": {},
     "output_type": "execute_result"
    }
   ],
   "source": [
    "#score of training set using cross_val_score\n",
    "cross_val_score(svm, scaled_X_train, y_train, scoring='neg_mean_absolute_error', cv=3)"
   ]
  },
  {
   "cell_type": "code",
   "execution_count": 51,
   "id": "0129d264",
   "metadata": {},
   "outputs": [
    {
     "name": "stdout",
     "output_type": "stream",
     "text": [
      "The R2 of svm Regression is -0.2497625712795674\n",
      "The mean squared error of svm Regression is 31.262314160824626\n",
      "The mean absolute error of svm Regression is 22.804066594286144\n"
     ]
    }
   ],
   "source": [
    "#score of training set using cross_val_score\n",
    "svm_r2=np.mean(cross_val_score(svm, scaled_X_train, y_train, cv=5))\n",
    "print(f'The R2 of svm Regression is {svm_r2}')\n",
    "\n",
    "#cross validation features gives greater is better, so score function is opposite of \n",
    "#MSE so we need to use -ve to get mse\n",
    "svm_mse=np.mean(cross_val_score(svm, scaled_X_train, y_train, cv=5, scoring='neg_mean_squared_error'))\n",
    "svm_rmse=np.sqrt(-(svm_mse))\n",
    "print(f'The mean squared error of svm Regression is {svm_rmse}')\n",
    "\n",
    "#mean absolute error\n",
    "svm_mae=np.mean(cross_val_score(svm, scaled_X_train, y_train, cv=5, scoring='neg_mean_absolute_error'))\n",
    "svm_mae=(-(svm_mae))\n",
    "print(f'The mean absolute error of svm Regression is {svm_mae}')"
   ]
  },
  {
   "cell_type": "markdown",
   "id": "32a08892",
   "metadata": {},
   "source": [
    "## Support Vector Machine(SVR) Kernel Regression"
   ]
  },
  {
   "cell_type": "code",
   "execution_count": 52,
   "id": "a577e349",
   "metadata": {},
   "outputs": [
    {
     "data": {
      "text/plain": [
       "SVR(kernel='linear')"
      ]
     },
     "execution_count": 52,
     "metadata": {},
     "output_type": "execute_result"
    }
   ],
   "source": [
    "# Make a svm regression instance\n",
    "svr=SVR(kernel='linear')\n",
    "svr.fit(scaled_X_train, y_train)\n"
   ]
  },
  {
   "cell_type": "code",
   "execution_count": 53,
   "id": "4ae46ffa",
   "metadata": {},
   "outputs": [
    {
     "name": "stdout",
     "output_type": "stream",
     "text": [
      "R2 Score of training set 0.6560044126021761\n",
      "R2 Score of testing set  0.6971531026611963\n"
     ]
    }
   ],
   "source": [
    "#Printing the R2 score of test and train set\n",
    "print(f'R2 Score of training set {svr.score(scaled_X_train, y_train)}')\n",
    "print(f'R2 Score of testing set  {svr.score(scaled_X_test, y_test)}')"
   ]
  },
  {
   "cell_type": "markdown",
   "id": "f2adc541",
   "metadata": {},
   "source": [
    "#### Create a cross-valiation with five folds."
   ]
  },
  {
   "cell_type": "code",
   "execution_count": 54,
   "id": "1f2165a7",
   "metadata": {},
   "outputs": [
    {
     "data": {
      "text/plain": [
       "array([-14.45240362, -16.08003476, -15.26700429])"
      ]
     },
     "execution_count": 54,
     "metadata": {},
     "output_type": "execute_result"
    }
   ],
   "source": [
    "#score of training set using cross_val_score\n",
    "cross_val_score(svr, scaled_X_train, y_train, scoring='neg_mean_absolute_error', cv=3)"
   ]
  },
  {
   "cell_type": "code",
   "execution_count": 55,
   "id": "b20259d8",
   "metadata": {},
   "outputs": [
    {
     "name": "stdout",
     "output_type": "stream",
     "text": [
      "The R2 of svr is 0.5139168530443536\n",
      "The mean squared error of svr is 21.14974312582804\n",
      "The mean absolute error of svr  is 14.799399460341936\n"
     ]
    }
   ],
   "source": [
    "#score of training set using cross_val_score\n",
    "svr_r2=np.mean(cross_val_score(svr, scaled_X_train, y_train, cv=5))\n",
    "print(f'The R2 of svr is {svr_r2}')\n",
    "\n",
    "#cross validation features gives greater is better, so score function is opposite of \n",
    "#MSE so we need to use -ve to get mse\n",
    "svr_mse=np.mean(cross_val_score(svr, scaled_X_train, y_train, cv=5, scoring='neg_mean_squared_error'))\n",
    "svr_rmse=np.sqrt(-(svr_mse))\n",
    "print(f'The mean squared error of svr is {svr_rmse}')\n",
    "\n",
    "#mean absolute error\n",
    "svr_mae=np.mean(cross_val_score(svr, scaled_X_train, y_train, cv=5, scoring='neg_mean_absolute_error'))\n",
    "svr_mae=(-(svr_mae))\n",
    "print(f'The mean absolute error of svr  is {svr_mae}')"
   ]
  },
  {
   "cell_type": "markdown",
   "id": "8e4a433f",
   "metadata": {},
   "source": [
    "## Decision Tree"
   ]
  },
  {
   "cell_type": "code",
   "execution_count": 56,
   "id": "16ce2892",
   "metadata": {},
   "outputs": [
    {
     "data": {
      "text/plain": [
       "DecisionTreeRegressor()"
      ]
     },
     "execution_count": 56,
     "metadata": {},
     "output_type": "execute_result"
    }
   ],
   "source": [
    "# Make a decision tree instance\n",
    "dt=DecisionTreeRegressor()\n",
    "dt.fit(scaled_X_train, y_train)"
   ]
  },
  {
   "cell_type": "code",
   "execution_count": 57,
   "id": "203f961c",
   "metadata": {},
   "outputs": [
    {
     "name": "stdout",
     "output_type": "stream",
     "text": [
      "R2 Score of training set 1.0\n",
      "R2 Score of testing set  0.7839349437476085\n"
     ]
    }
   ],
   "source": [
    "#Printing the score of test and train set\n",
    "print(f'R2 Score of training set {dt.score(scaled_X_train, y_train)}')\n",
    "print(f'R2 Score of testing set  {dt.score(scaled_X_test, y_test)}')"
   ]
  },
  {
   "cell_type": "markdown",
   "id": "6f5079ab",
   "metadata": {},
   "source": [
    "#### Create a cross-valiation with five folds."
   ]
  },
  {
   "cell_type": "code",
   "execution_count": 58,
   "id": "197a86ce",
   "metadata": {},
   "outputs": [
    {
     "data": {
      "text/plain": [
       "array([-12.59084624, -15.54323722, -17.91830322])"
      ]
     },
     "execution_count": 58,
     "metadata": {},
     "output_type": "execute_result"
    }
   ],
   "source": [
    "#score of training set using cross_val_score\n",
    "cross_val_score(dt, scaled_X_train, y_train, scoring='neg_mean_absolute_error', cv=3)"
   ]
  },
  {
   "cell_type": "code",
   "execution_count": 59,
   "id": "5a1b676e",
   "metadata": {},
   "outputs": [
    {
     "name": "stdout",
     "output_type": "stream",
     "text": [
      "The R2 of Decision Tree Regressor is 0.5953934829548357\n",
      "The mean squared error of Decision Tree Regressor is 17.650669643207003\n",
      "The mean absolute error of Decision Tree Regressor is 12.144976507373887\n"
     ]
    }
   ],
   "source": [
    "#score of training set using cross_val_score\n",
    "dt_r2=np.mean(cross_val_score(dt, scaled_X_train, y_train, cv=5))\n",
    "print(f'The R2 of Decision Tree Regressor is {dt_r2}')\n",
    "\n",
    "#cross validation features gives greater is better, so score function is opposite of \n",
    "#MSE so we need to use -ve to get mse\n",
    "dt_mse=np.mean(cross_val_score(dt, scaled_X_train, y_train, cv=5, scoring='neg_mean_squared_error'))\n",
    "dt_rmse=np.sqrt(-(dt_mse))\n",
    "print(f'The mean squared error of Decision Tree Regressor is {dt_rmse}')\n",
    "\n",
    "#mean absolute error\n",
    "dt_mae=np.mean(cross_val_score(dt, scaled_X_train, y_train, cv=5, scoring='neg_mean_absolute_error'))\n",
    "dt_mae=(-(dt_mae))\n",
    "print(f'The mean absolute error of Decision Tree Regressor is {dt_mae}')"
   ]
  },
  {
   "cell_type": "markdown",
   "id": "df43df9c",
   "metadata": {},
   "source": [
    "### Tuning hyperparamaters  using Grid Search CV"
   ]
  },
  {
   "cell_type": "code",
   "execution_count": 60,
   "id": "4a0adfa6",
   "metadata": {},
   "outputs": [
    {
     "name": "stdout",
     "output_type": "stream",
     "text": [
      "Fitting 3 folds for each of 12 candidates, totalling 36 fits\n"
     ]
    },
    {
     "data": {
      "text/plain": [
       "GridSearchCV(cv=3, estimator=DecisionTreeRegressor(), n_jobs=-1,\n",
       "             param_grid={'max_depth': [6, 8, 12],\n",
       "                         'min_samples_leaf': range(1, 5)},\n",
       "             verbose=1)"
      ]
     },
     "execution_count": 60,
     "metadata": {},
     "output_type": "execute_result"
    }
   ],
   "source": [
    "parameters = {\n",
    "              'max_depth':[6, 8,12],\n",
    "              'min_samples_leaf':range(1,5)}\n",
    "gs_dt=GridSearchCV(dt, param_grid=parameters, \n",
    "                    cv=3, verbose=1, n_jobs=-1)\n",
    "gs_dt.fit(scaled_X_train, y_train)"
   ]
  },
  {
   "cell_type": "code",
   "execution_count": 61,
   "id": "a16726a7",
   "metadata": {},
   "outputs": [
    {
     "data": {
      "text/plain": [
       "{'max_depth': 12, 'min_samples_leaf': 3}"
      ]
     },
     "execution_count": 61,
     "metadata": {},
     "output_type": "execute_result"
    }
   ],
   "source": [
    "#Best parameters\n",
    "gs_dt.best_params_"
   ]
  },
  {
   "cell_type": "code",
   "execution_count": 62,
   "id": "f248d449",
   "metadata": {},
   "outputs": [
    {
     "data": {
      "text/plain": [
       "DecisionTreeRegressor(max_depth=12, min_samples_leaf=3)"
      ]
     },
     "execution_count": 62,
     "metadata": {},
     "output_type": "execute_result"
    }
   ],
   "source": [
    "#best estimator\n",
    "dt_b=gs_dt.best_estimator_\n",
    "dt_b"
   ]
  },
  {
   "cell_type": "code",
   "execution_count": 63,
   "id": "c524b8c9",
   "metadata": {},
   "outputs": [
    {
     "name": "stdout",
     "output_type": "stream",
     "text": [
      "R2 Score of training set after hyperpar tuining 0.9613499441459871\n",
      "R2 Score of testing set after hyperpar tuining  0.7905140960979169\n"
     ]
    }
   ],
   "source": [
    "#Printing the score of test and train set\n",
    "dt_tr=dt_b.score(scaled_X_train, y_train)\n",
    "dt_te=dt_b.score(scaled_X_test, y_test)\n",
    "print(f'R2 Score of training set after hyperpar tuining {dt_tr}')\n",
    "print(f'R2 Score of testing set after hyperpar tuining  {dt_te}')"
   ]
  },
  {
   "cell_type": "code",
   "execution_count": 64,
   "id": "759d24f9",
   "metadata": {},
   "outputs": [
    {
     "data": {
      "text/html": [
       "<div>\n",
       "<style scoped>\n",
       "    .dataframe tbody tr th:only-of-type {\n",
       "        vertical-align: middle;\n",
       "    }\n",
       "\n",
       "    .dataframe tbody tr th {\n",
       "        vertical-align: top;\n",
       "    }\n",
       "\n",
       "    .dataframe thead th {\n",
       "        text-align: right;\n",
       "    }\n",
       "</style>\n",
       "<table border=\"1\" class=\"dataframe\">\n",
       "  <thead>\n",
       "    <tr style=\"text-align: right;\">\n",
       "      <th></th>\n",
       "      <th>mean_fit_time</th>\n",
       "      <th>std_fit_time</th>\n",
       "      <th>mean_score_time</th>\n",
       "      <th>std_score_time</th>\n",
       "      <th>param_max_depth</th>\n",
       "      <th>param_min_samples_leaf</th>\n",
       "      <th>params</th>\n",
       "      <th>split0_test_score</th>\n",
       "      <th>split1_test_score</th>\n",
       "      <th>split2_test_score</th>\n",
       "      <th>mean_test_score</th>\n",
       "      <th>std_test_score</th>\n",
       "      <th>rank_test_score</th>\n",
       "    </tr>\n",
       "  </thead>\n",
       "  <tbody>\n",
       "    <tr>\n",
       "      <th>0</th>\n",
       "      <td>0.000893</td>\n",
       "      <td>0.000022</td>\n",
       "      <td>0.000517</td>\n",
       "      <td>0.000002</td>\n",
       "      <td>6</td>\n",
       "      <td>1</td>\n",
       "      <td>{'max_depth': 6, 'min_samples_leaf': 1}</td>\n",
       "      <td>0.650560</td>\n",
       "      <td>0.454518</td>\n",
       "      <td>0.443423</td>\n",
       "      <td>0.516167</td>\n",
       "      <td>0.095138</td>\n",
       "      <td>12</td>\n",
       "    </tr>\n",
       "    <tr>\n",
       "      <th>1</th>\n",
       "      <td>0.000896</td>\n",
       "      <td>0.000027</td>\n",
       "      <td>0.000547</td>\n",
       "      <td>0.000023</td>\n",
       "      <td>6</td>\n",
       "      <td>2</td>\n",
       "      <td>{'max_depth': 6, 'min_samples_leaf': 2}</td>\n",
       "      <td>0.605647</td>\n",
       "      <td>0.601175</td>\n",
       "      <td>0.385572</td>\n",
       "      <td>0.530798</td>\n",
       "      <td>0.102707</td>\n",
       "      <td>11</td>\n",
       "    </tr>\n",
       "    <tr>\n",
       "      <th>2</th>\n",
       "      <td>0.000711</td>\n",
       "      <td>0.000071</td>\n",
       "      <td>0.000454</td>\n",
       "      <td>0.000064</td>\n",
       "      <td>6</td>\n",
       "      <td>3</td>\n",
       "      <td>{'max_depth': 6, 'min_samples_leaf': 3}</td>\n",
       "      <td>0.711139</td>\n",
       "      <td>0.554121</td>\n",
       "      <td>0.643152</td>\n",
       "      <td>0.636137</td>\n",
       "      <td>0.064294</td>\n",
       "      <td>6</td>\n",
       "    </tr>\n",
       "    <tr>\n",
       "      <th>3</th>\n",
       "      <td>0.000688</td>\n",
       "      <td>0.000031</td>\n",
       "      <td>0.000468</td>\n",
       "      <td>0.000003</td>\n",
       "      <td>6</td>\n",
       "      <td>4</td>\n",
       "      <td>{'max_depth': 6, 'min_samples_leaf': 4}</td>\n",
       "      <td>0.653774</td>\n",
       "      <td>0.554138</td>\n",
       "      <td>0.759628</td>\n",
       "      <td>0.655847</td>\n",
       "      <td>0.083904</td>\n",
       "      <td>3</td>\n",
       "    </tr>\n",
       "    <tr>\n",
       "      <th>4</th>\n",
       "      <td>0.000766</td>\n",
       "      <td>0.000010</td>\n",
       "      <td>0.001420</td>\n",
       "      <td>0.001223</td>\n",
       "      <td>8</td>\n",
       "      <td>1</td>\n",
       "      <td>{'max_depth': 8, 'min_samples_leaf': 1}</td>\n",
       "      <td>0.665404</td>\n",
       "      <td>0.483661</td>\n",
       "      <td>0.594600</td>\n",
       "      <td>0.581222</td>\n",
       "      <td>0.074797</td>\n",
       "      <td>8</td>\n",
       "    </tr>\n",
       "    <tr>\n",
       "      <th>5</th>\n",
       "      <td>0.000691</td>\n",
       "      <td>0.000006</td>\n",
       "      <td>0.000472</td>\n",
       "      <td>0.000008</td>\n",
       "      <td>8</td>\n",
       "      <td>2</td>\n",
       "      <td>{'max_depth': 8, 'min_samples_leaf': 2}</td>\n",
       "      <td>0.606669</td>\n",
       "      <td>0.536091</td>\n",
       "      <td>0.620258</td>\n",
       "      <td>0.587673</td>\n",
       "      <td>0.036893</td>\n",
       "      <td>7</td>\n",
       "    </tr>\n",
       "    <tr>\n",
       "      <th>6</th>\n",
       "      <td>0.000663</td>\n",
       "      <td>0.000035</td>\n",
       "      <td>0.000470</td>\n",
       "      <td>0.000033</td>\n",
       "      <td>8</td>\n",
       "      <td>3</td>\n",
       "      <td>{'max_depth': 8, 'min_samples_leaf': 3}</td>\n",
       "      <td>0.711139</td>\n",
       "      <td>0.556304</td>\n",
       "      <td>0.643152</td>\n",
       "      <td>0.636865</td>\n",
       "      <td>0.063367</td>\n",
       "      <td>5</td>\n",
       "    </tr>\n",
       "    <tr>\n",
       "      <th>7</th>\n",
       "      <td>0.000653</td>\n",
       "      <td>0.000051</td>\n",
       "      <td>0.000463</td>\n",
       "      <td>0.000051</td>\n",
       "      <td>8</td>\n",
       "      <td>4</td>\n",
       "      <td>{'max_depth': 8, 'min_samples_leaf': 4}</td>\n",
       "      <td>0.653774</td>\n",
       "      <td>0.554138</td>\n",
       "      <td>0.767558</td>\n",
       "      <td>0.658490</td>\n",
       "      <td>0.087192</td>\n",
       "      <td>2</td>\n",
       "    </tr>\n",
       "    <tr>\n",
       "      <th>8</th>\n",
       "      <td>0.000747</td>\n",
       "      <td>0.000017</td>\n",
       "      <td>0.000439</td>\n",
       "      <td>0.000008</td>\n",
       "      <td>12</td>\n",
       "      <td>1</td>\n",
       "      <td>{'max_depth': 12, 'min_samples_leaf': 1}</td>\n",
       "      <td>0.653402</td>\n",
       "      <td>0.461075</td>\n",
       "      <td>0.523088</td>\n",
       "      <td>0.545855</td>\n",
       "      <td>0.080151</td>\n",
       "      <td>10</td>\n",
       "    </tr>\n",
       "    <tr>\n",
       "      <th>9</th>\n",
       "      <td>0.000677</td>\n",
       "      <td>0.000027</td>\n",
       "      <td>0.000455</td>\n",
       "      <td>0.000007</td>\n",
       "      <td>12</td>\n",
       "      <td>2</td>\n",
       "      <td>{'max_depth': 12, 'min_samples_leaf': 2}</td>\n",
       "      <td>0.606521</td>\n",
       "      <td>0.464592</td>\n",
       "      <td>0.575129</td>\n",
       "      <td>0.548747</td>\n",
       "      <td>0.060871</td>\n",
       "      <td>9</td>\n",
       "    </tr>\n",
       "    <tr>\n",
       "      <th>10</th>\n",
       "      <td>0.000670</td>\n",
       "      <td>0.000019</td>\n",
       "      <td>0.000450</td>\n",
       "      <td>0.000016</td>\n",
       "      <td>12</td>\n",
       "      <td>3</td>\n",
       "      <td>{'max_depth': 12, 'min_samples_leaf': 3}</td>\n",
       "      <td>0.711139</td>\n",
       "      <td>0.566318</td>\n",
       "      <td>0.722725</td>\n",
       "      <td>0.666727</td>\n",
       "      <td>0.071158</td>\n",
       "      <td>1</td>\n",
       "    </tr>\n",
       "    <tr>\n",
       "      <th>11</th>\n",
       "      <td>0.000605</td>\n",
       "      <td>0.000030</td>\n",
       "      <td>0.000434</td>\n",
       "      <td>0.000026</td>\n",
       "      <td>12</td>\n",
       "      <td>4</td>\n",
       "      <td>{'max_depth': 12, 'min_samples_leaf': 4}</td>\n",
       "      <td>0.653774</td>\n",
       "      <td>0.554138</td>\n",
       "      <td>0.759628</td>\n",
       "      <td>0.655847</td>\n",
       "      <td>0.083904</td>\n",
       "      <td>3</td>\n",
       "    </tr>\n",
       "  </tbody>\n",
       "</table>\n",
       "</div>"
      ],
      "text/plain": [
       "    mean_fit_time  std_fit_time  mean_score_time  std_score_time  \\\n",
       "0        0.000893      0.000022         0.000517        0.000002   \n",
       "1        0.000896      0.000027         0.000547        0.000023   \n",
       "2        0.000711      0.000071         0.000454        0.000064   \n",
       "3        0.000688      0.000031         0.000468        0.000003   \n",
       "4        0.000766      0.000010         0.001420        0.001223   \n",
       "5        0.000691      0.000006         0.000472        0.000008   \n",
       "6        0.000663      0.000035         0.000470        0.000033   \n",
       "7        0.000653      0.000051         0.000463        0.000051   \n",
       "8        0.000747      0.000017         0.000439        0.000008   \n",
       "9        0.000677      0.000027         0.000455        0.000007   \n",
       "10       0.000670      0.000019         0.000450        0.000016   \n",
       "11       0.000605      0.000030         0.000434        0.000026   \n",
       "\n",
       "   param_max_depth param_min_samples_leaf  \\\n",
       "0                6                      1   \n",
       "1                6                      2   \n",
       "2                6                      3   \n",
       "3                6                      4   \n",
       "4                8                      1   \n",
       "5                8                      2   \n",
       "6                8                      3   \n",
       "7                8                      4   \n",
       "8               12                      1   \n",
       "9               12                      2   \n",
       "10              12                      3   \n",
       "11              12                      4   \n",
       "\n",
       "                                      params  split0_test_score  \\\n",
       "0    {'max_depth': 6, 'min_samples_leaf': 1}           0.650560   \n",
       "1    {'max_depth': 6, 'min_samples_leaf': 2}           0.605647   \n",
       "2    {'max_depth': 6, 'min_samples_leaf': 3}           0.711139   \n",
       "3    {'max_depth': 6, 'min_samples_leaf': 4}           0.653774   \n",
       "4    {'max_depth': 8, 'min_samples_leaf': 1}           0.665404   \n",
       "5    {'max_depth': 8, 'min_samples_leaf': 2}           0.606669   \n",
       "6    {'max_depth': 8, 'min_samples_leaf': 3}           0.711139   \n",
       "7    {'max_depth': 8, 'min_samples_leaf': 4}           0.653774   \n",
       "8   {'max_depth': 12, 'min_samples_leaf': 1}           0.653402   \n",
       "9   {'max_depth': 12, 'min_samples_leaf': 2}           0.606521   \n",
       "10  {'max_depth': 12, 'min_samples_leaf': 3}           0.711139   \n",
       "11  {'max_depth': 12, 'min_samples_leaf': 4}           0.653774   \n",
       "\n",
       "    split1_test_score  split2_test_score  mean_test_score  std_test_score  \\\n",
       "0            0.454518           0.443423         0.516167        0.095138   \n",
       "1            0.601175           0.385572         0.530798        0.102707   \n",
       "2            0.554121           0.643152         0.636137        0.064294   \n",
       "3            0.554138           0.759628         0.655847        0.083904   \n",
       "4            0.483661           0.594600         0.581222        0.074797   \n",
       "5            0.536091           0.620258         0.587673        0.036893   \n",
       "6            0.556304           0.643152         0.636865        0.063367   \n",
       "7            0.554138           0.767558         0.658490        0.087192   \n",
       "8            0.461075           0.523088         0.545855        0.080151   \n",
       "9            0.464592           0.575129         0.548747        0.060871   \n",
       "10           0.566318           0.722725         0.666727        0.071158   \n",
       "11           0.554138           0.759628         0.655847        0.083904   \n",
       "\n",
       "    rank_test_score  \n",
       "0                12  \n",
       "1                11  \n",
       "2                 6  \n",
       "3                 3  \n",
       "4                 8  \n",
       "5                 7  \n",
       "6                 5  \n",
       "7                 2  \n",
       "8                10  \n",
       "9                 9  \n",
       "10                1  \n",
       "11                3  "
      ]
     },
     "execution_count": 64,
     "metadata": {},
     "output_type": "execute_result"
    }
   ],
   "source": [
    "#dataframe for results\n",
    "dt_df=pd.DataFrame(gs_dt.cv_results_)\n",
    "dt_df"
   ]
  },
  {
   "cell_type": "code",
   "execution_count": 65,
   "id": "40ce2bfe",
   "metadata": {},
   "outputs": [
    {
     "name": "stdout",
     "output_type": "stream",
     "text": [
      "0.5161666129081679 {'max_depth': 6, 'min_samples_leaf': 1}\n",
      "0.5307977285352904 {'max_depth': 6, 'min_samples_leaf': 2}\n",
      "0.6361373072429077 {'max_depth': 6, 'min_samples_leaf': 3}\n",
      "0.6558470491350702 {'max_depth': 6, 'min_samples_leaf': 4}\n",
      "0.581221803928772 {'max_depth': 8, 'min_samples_leaf': 1}\n",
      "0.5876725208463119 {'max_depth': 8, 'min_samples_leaf': 2}\n",
      "0.6368649761939776 {'max_depth': 8, 'min_samples_leaf': 3}\n",
      "0.6584903884368786 {'max_depth': 8, 'min_samples_leaf': 4}\n",
      "0.5458548662173023 {'max_depth': 12, 'min_samples_leaf': 1}\n",
      "0.5487471623990093 {'max_depth': 12, 'min_samples_leaf': 2}\n",
      "0.6667272732461086 {'max_depth': 12, 'min_samples_leaf': 3}\n",
      "0.6558470491350702 {'max_depth': 12, 'min_samples_leaf': 4}\n"
     ]
    }
   ],
   "source": [
    "#printing the evaluation scores\n",
    "cvres_dt=gs_dt.cv_results_\n",
    "for mean_score, params in zip(cvres_dt['mean_test_score'], cvres_dt['params']):\n",
    "    print((mean_score), params)"
   ]
  },
  {
   "cell_type": "markdown",
   "id": "3b172686",
   "metadata": {},
   "source": [
    "## Random Forest"
   ]
  },
  {
   "cell_type": "code",
   "execution_count": 66,
   "id": "f29af7c7",
   "metadata": {},
   "outputs": [
    {
     "data": {
      "text/plain": [
       "RandomForestRegressor()"
      ]
     },
     "execution_count": 66,
     "metadata": {},
     "output_type": "execute_result"
    }
   ],
   "source": [
    "# Make a Random forest instance\n",
    "rf=RandomForestRegressor()\n",
    "rf.fit(scaled_X_train, y_train)"
   ]
  },
  {
   "cell_type": "code",
   "execution_count": 67,
   "id": "de1bad8f",
   "metadata": {},
   "outputs": [
    {
     "name": "stdout",
     "output_type": "stream",
     "text": [
      "R2 Score of training set 0.9770492890851423\n",
      "R2 Score of testing set 0.8756342808641262\n"
     ]
    }
   ],
   "source": [
    "#Printing the score of test and train set\n",
    "print(f'R2 Score of training set {rf.score(scaled_X_train, y_train)}')\n",
    "print(f'R2 Score of testing set {rf.score(scaled_X_test, y_test)}')"
   ]
  },
  {
   "cell_type": "markdown",
   "id": "dd414923",
   "metadata": {},
   "source": [
    "#### Create a cross-valiation with five folds."
   ]
  },
  {
   "cell_type": "code",
   "execution_count": 68,
   "id": "31534556",
   "metadata": {},
   "outputs": [
    {
     "data": {
      "text/plain": [
       "array([-10.82831773, -12.2809754 ,  -9.87549159])"
      ]
     },
     "execution_count": 68,
     "metadata": {},
     "output_type": "execute_result"
    }
   ],
   "source": [
    "#score of training set using cross_val_score\n",
    "cross_val_score(rf, scaled_X_train, y_train, scoring='neg_mean_absolute_error', cv=3)"
   ]
  },
  {
   "cell_type": "code",
   "execution_count": 69,
   "id": "556725c4",
   "metadata": {},
   "outputs": [
    {
     "name": "stdout",
     "output_type": "stream",
     "text": [
      "The R2 of Random Forest Regressor is 0.7641684423556724\n",
      "The mean squared error of Random Forest Regressor is 17.601576254338745\n",
      "The mean absolute error of Random Forest Regressor is 10.586950177372692\n"
     ]
    }
   ],
   "source": [
    "#score of training set using cross_val_score\n",
    "rf_r2=np.mean(cross_val_score(rf, scaled_X_train, y_train, cv=5))\n",
    "print(f'The R2 of Random Forest Regressor is {rf_r2}')\n",
    "\n",
    "#cross validation features gives greater is better, so score function is opposite of \n",
    "#MSE so we need to use -ve to get mse\n",
    "rf_mse=np.mean(cross_val_score(rf, scaled_X_train, y_train, cv=5, scoring='neg_mean_squared_error'))\n",
    "rf_rmse=np.sqrt(-(lrl_mse))\n",
    "print(f'The mean squared error of Random Forest Regressor is {rf_rmse}')\n",
    "\n",
    "#mean absolute error\n",
    "rf_mae=np.mean(cross_val_score(rf, scaled_X_train, y_train, cv=5, scoring='neg_mean_absolute_error'))\n",
    "rf_mae=(-(rf_mae))\n",
    "print(f'The mean absolute error of Random Forest Regressor is {rf_mae}')"
   ]
  },
  {
   "cell_type": "markdown",
   "id": "266768d0",
   "metadata": {},
   "source": [
    "#### Tuning the hyperparameters using Grid Search CV"
   ]
  },
  {
   "cell_type": "code",
   "execution_count": 70,
   "id": "df27ebc2",
   "metadata": {},
   "outputs": [
    {
     "data": {
      "text/plain": [
       "GridSearchCV(cv=5, estimator=RandomForestRegressor(),\n",
       "             param_grid=[{'max_features': [3, 6],\n",
       "                          'n_estimators': [30, 60, 100]}],\n",
       "             return_train_score=True, scoring='neg_mean_absolute_error')"
      ]
     },
     "execution_count": 70,
     "metadata": {},
     "output_type": "execute_result"
    }
   ],
   "source": [
    "parameters = [{'n_estimators':[30,60,100],\n",
    "              'max_features':[3,6]}]\n",
    "              #,{'bootstrap':[False], 'n_estimators':[3,10,100],\n",
    "              #'max_features':[4,6,8,10]}]\n",
    "gs_rf=GridSearchCV(rf, parameters, scoring='neg_mean_absolute_error',\n",
    "                   cv=5, return_train_score=True)\n",
    "gs_rf.fit(scaled_X_train, y_train)"
   ]
  },
  {
   "cell_type": "code",
   "execution_count": 71,
   "id": "de4ea0dd",
   "metadata": {},
   "outputs": [
    {
     "data": {
      "text/plain": [
       "{'max_features': 6, 'n_estimators': 100}"
      ]
     },
     "execution_count": 71,
     "metadata": {},
     "output_type": "execute_result"
    }
   ],
   "source": [
    "#Best parameters\n",
    "gs_rf.best_params_"
   ]
  },
  {
   "cell_type": "code",
   "execution_count": 72,
   "id": "4dc135e6",
   "metadata": {},
   "outputs": [
    {
     "data": {
      "text/plain": [
       "RandomForestRegressor(max_features=6)"
      ]
     },
     "execution_count": 72,
     "metadata": {},
     "output_type": "execute_result"
    }
   ],
   "source": [
    "#best estimator\n",
    "rf_b=gs_rf.best_estimator_\n",
    "rf_b"
   ]
  },
  {
   "cell_type": "code",
   "execution_count": 73,
   "id": "625a7fbb",
   "metadata": {},
   "outputs": [
    {
     "name": "stdout",
     "output_type": "stream",
     "text": [
      "R2 Score of training set after hyperpar tuining 0.9619385519427943\n",
      "R2 Score of testing set after hyperpar tuining  0.8343700204582574\n"
     ]
    }
   ],
   "source": [
    "#Printing the score of test and train set\n",
    "rf_tr=rf_b.score(scaled_X_train, y_train)\n",
    "rf_te=rf_b.score(scaled_X_test, y_test)\n",
    "print(f'R2 Score of training set after hyperpar tuining {rf_tr}')\n",
    "print(f'R2 Score of testing set after hyperpar tuining  {rf_te}')"
   ]
  },
  {
   "cell_type": "code",
   "execution_count": 74,
   "id": "34934d4f",
   "metadata": {},
   "outputs": [
    {
     "data": {
      "text/html": [
       "<div>\n",
       "<style scoped>\n",
       "    .dataframe tbody tr th:only-of-type {\n",
       "        vertical-align: middle;\n",
       "    }\n",
       "\n",
       "    .dataframe tbody tr th {\n",
       "        vertical-align: top;\n",
       "    }\n",
       "\n",
       "    .dataframe thead th {\n",
       "        text-align: right;\n",
       "    }\n",
       "</style>\n",
       "<table border=\"1\" class=\"dataframe\">\n",
       "  <thead>\n",
       "    <tr style=\"text-align: right;\">\n",
       "      <th></th>\n",
       "      <th>mean_fit_time</th>\n",
       "      <th>std_fit_time</th>\n",
       "      <th>mean_score_time</th>\n",
       "      <th>std_score_time</th>\n",
       "      <th>param_max_features</th>\n",
       "      <th>param_n_estimators</th>\n",
       "      <th>params</th>\n",
       "      <th>split0_test_score</th>\n",
       "      <th>split1_test_score</th>\n",
       "      <th>split2_test_score</th>\n",
       "      <th>...</th>\n",
       "      <th>mean_test_score</th>\n",
       "      <th>std_test_score</th>\n",
       "      <th>rank_test_score</th>\n",
       "      <th>split0_train_score</th>\n",
       "      <th>split1_train_score</th>\n",
       "      <th>split2_train_score</th>\n",
       "      <th>split3_train_score</th>\n",
       "      <th>split4_train_score</th>\n",
       "      <th>mean_train_score</th>\n",
       "      <th>std_train_score</th>\n",
       "    </tr>\n",
       "  </thead>\n",
       "  <tbody>\n",
       "    <tr>\n",
       "      <th>0</th>\n",
       "      <td>0.023455</td>\n",
       "      <td>0.003067</td>\n",
       "      <td>0.002023</td>\n",
       "      <td>0.000359</td>\n",
       "      <td>3</td>\n",
       "      <td>30</td>\n",
       "      <td>{'max_features': 3, 'n_estimators': 30}</td>\n",
       "      <td>-16.740499</td>\n",
       "      <td>-11.181536</td>\n",
       "      <td>-18.872831</td>\n",
       "      <td>...</td>\n",
       "      <td>-14.691582</td>\n",
       "      <td>4.442282</td>\n",
       "      <td>6</td>\n",
       "      <td>-4.857397</td>\n",
       "      <td>-5.783471</td>\n",
       "      <td>-4.962121</td>\n",
       "      <td>-5.578234</td>\n",
       "      <td>-5.618168</td>\n",
       "      <td>-5.359878</td>\n",
       "      <td>0.375372</td>\n",
       "    </tr>\n",
       "    <tr>\n",
       "      <th>1</th>\n",
       "      <td>0.042924</td>\n",
       "      <td>0.003230</td>\n",
       "      <td>0.003260</td>\n",
       "      <td>0.000501</td>\n",
       "      <td>3</td>\n",
       "      <td>60</td>\n",
       "      <td>{'max_features': 3, 'n_estimators': 60}</td>\n",
       "      <td>-15.625204</td>\n",
       "      <td>-7.861880</td>\n",
       "      <td>-18.889295</td>\n",
       "      <td>...</td>\n",
       "      <td>-13.753306</td>\n",
       "      <td>4.264868</td>\n",
       "      <td>4</td>\n",
       "      <td>-4.936548</td>\n",
       "      <td>-4.840823</td>\n",
       "      <td>-5.559085</td>\n",
       "      <td>-5.125548</td>\n",
       "      <td>-6.025742</td>\n",
       "      <td>-5.297549</td>\n",
       "      <td>0.439812</td>\n",
       "    </tr>\n",
       "    <tr>\n",
       "      <th>2</th>\n",
       "      <td>0.068176</td>\n",
       "      <td>0.001874</td>\n",
       "      <td>0.004991</td>\n",
       "      <td>0.000198</td>\n",
       "      <td>3</td>\n",
       "      <td>100</td>\n",
       "      <td>{'max_features': 3, 'n_estimators': 100}</td>\n",
       "      <td>-17.105603</td>\n",
       "      <td>-10.308832</td>\n",
       "      <td>-17.735118</td>\n",
       "      <td>...</td>\n",
       "      <td>-14.613063</td>\n",
       "      <td>3.784373</td>\n",
       "      <td>5</td>\n",
       "      <td>-6.087047</td>\n",
       "      <td>-6.245826</td>\n",
       "      <td>-4.900158</td>\n",
       "      <td>-5.413979</td>\n",
       "      <td>-5.685085</td>\n",
       "      <td>-5.666419</td>\n",
       "      <td>0.482467</td>\n",
       "    </tr>\n",
       "    <tr>\n",
       "      <th>3</th>\n",
       "      <td>0.021357</td>\n",
       "      <td>0.000478</td>\n",
       "      <td>0.001727</td>\n",
       "      <td>0.000083</td>\n",
       "      <td>6</td>\n",
       "      <td>30</td>\n",
       "      <td>{'max_features': 6, 'n_estimators': 30}</td>\n",
       "      <td>-14.084976</td>\n",
       "      <td>-10.225766</td>\n",
       "      <td>-16.298083</td>\n",
       "      <td>...</td>\n",
       "      <td>-13.248082</td>\n",
       "      <td>3.952485</td>\n",
       "      <td>3</td>\n",
       "      <td>-4.884345</td>\n",
       "      <td>-4.855745</td>\n",
       "      <td>-3.958600</td>\n",
       "      <td>-5.055853</td>\n",
       "      <td>-5.136767</td>\n",
       "      <td>-4.778262</td>\n",
       "      <td>0.423009</td>\n",
       "    </tr>\n",
       "    <tr>\n",
       "      <th>4</th>\n",
       "      <td>0.042118</td>\n",
       "      <td>0.000773</td>\n",
       "      <td>0.003098</td>\n",
       "      <td>0.000136</td>\n",
       "      <td>6</td>\n",
       "      <td>60</td>\n",
       "      <td>{'max_features': 6, 'n_estimators': 60}</td>\n",
       "      <td>-13.018959</td>\n",
       "      <td>-8.877305</td>\n",
       "      <td>-16.841124</td>\n",
       "      <td>...</td>\n",
       "      <td>-12.419222</td>\n",
       "      <td>3.753020</td>\n",
       "      <td>2</td>\n",
       "      <td>-4.415935</td>\n",
       "      <td>-4.366880</td>\n",
       "      <td>-4.301275</td>\n",
       "      <td>-4.453005</td>\n",
       "      <td>-4.593902</td>\n",
       "      <td>-4.426199</td>\n",
       "      <td>0.098054</td>\n",
       "    </tr>\n",
       "    <tr>\n",
       "      <th>5</th>\n",
       "      <td>0.071034</td>\n",
       "      <td>0.003070</td>\n",
       "      <td>0.004837</td>\n",
       "      <td>0.000052</td>\n",
       "      <td>6</td>\n",
       "      <td>100</td>\n",
       "      <td>{'max_features': 6, 'n_estimators': 100}</td>\n",
       "      <td>-13.873342</td>\n",
       "      <td>-10.271755</td>\n",
       "      <td>-15.730342</td>\n",
       "      <td>...</td>\n",
       "      <td>-12.243788</td>\n",
       "      <td>3.422687</td>\n",
       "      <td>1</td>\n",
       "      <td>-4.369835</td>\n",
       "      <td>-4.618363</td>\n",
       "      <td>-4.510366</td>\n",
       "      <td>-3.920141</td>\n",
       "      <td>-5.131029</td>\n",
       "      <td>-4.509947</td>\n",
       "      <td>0.391152</td>\n",
       "    </tr>\n",
       "  </tbody>\n",
       "</table>\n",
       "<p>6 rows × 22 columns</p>\n",
       "</div>"
      ],
      "text/plain": [
       "   mean_fit_time  std_fit_time  mean_score_time  std_score_time  \\\n",
       "0       0.023455      0.003067         0.002023        0.000359   \n",
       "1       0.042924      0.003230         0.003260        0.000501   \n",
       "2       0.068176      0.001874         0.004991        0.000198   \n",
       "3       0.021357      0.000478         0.001727        0.000083   \n",
       "4       0.042118      0.000773         0.003098        0.000136   \n",
       "5       0.071034      0.003070         0.004837        0.000052   \n",
       "\n",
       "  param_max_features param_n_estimators  \\\n",
       "0                  3                 30   \n",
       "1                  3                 60   \n",
       "2                  3                100   \n",
       "3                  6                 30   \n",
       "4                  6                 60   \n",
       "5                  6                100   \n",
       "\n",
       "                                     params  split0_test_score  \\\n",
       "0   {'max_features': 3, 'n_estimators': 30}         -16.740499   \n",
       "1   {'max_features': 3, 'n_estimators': 60}         -15.625204   \n",
       "2  {'max_features': 3, 'n_estimators': 100}         -17.105603   \n",
       "3   {'max_features': 6, 'n_estimators': 30}         -14.084976   \n",
       "4   {'max_features': 6, 'n_estimators': 60}         -13.018959   \n",
       "5  {'max_features': 6, 'n_estimators': 100}         -13.873342   \n",
       "\n",
       "   split1_test_score  split2_test_score  ...  mean_test_score  std_test_score  \\\n",
       "0         -11.181536         -18.872831  ...       -14.691582        4.442282   \n",
       "1          -7.861880         -18.889295  ...       -13.753306        4.264868   \n",
       "2         -10.308832         -17.735118  ...       -14.613063        3.784373   \n",
       "3         -10.225766         -16.298083  ...       -13.248082        3.952485   \n",
       "4          -8.877305         -16.841124  ...       -12.419222        3.753020   \n",
       "5         -10.271755         -15.730342  ...       -12.243788        3.422687   \n",
       "\n",
       "   rank_test_score  split0_train_score  split1_train_score  \\\n",
       "0                6           -4.857397           -5.783471   \n",
       "1                4           -4.936548           -4.840823   \n",
       "2                5           -6.087047           -6.245826   \n",
       "3                3           -4.884345           -4.855745   \n",
       "4                2           -4.415935           -4.366880   \n",
       "5                1           -4.369835           -4.618363   \n",
       "\n",
       "   split2_train_score  split3_train_score  split4_train_score  \\\n",
       "0           -4.962121           -5.578234           -5.618168   \n",
       "1           -5.559085           -5.125548           -6.025742   \n",
       "2           -4.900158           -5.413979           -5.685085   \n",
       "3           -3.958600           -5.055853           -5.136767   \n",
       "4           -4.301275           -4.453005           -4.593902   \n",
       "5           -4.510366           -3.920141           -5.131029   \n",
       "\n",
       "   mean_train_score  std_train_score  \n",
       "0         -5.359878         0.375372  \n",
       "1         -5.297549         0.439812  \n",
       "2         -5.666419         0.482467  \n",
       "3         -4.778262         0.423009  \n",
       "4         -4.426199         0.098054  \n",
       "5         -4.509947         0.391152  \n",
       "\n",
       "[6 rows x 22 columns]"
      ]
     },
     "execution_count": 74,
     "metadata": {},
     "output_type": "execute_result"
    }
   ],
   "source": [
    "#dataframe for results\n",
    "rf_df=pd.DataFrame(gs_rf.cv_results_)\n",
    "rf_df"
   ]
  },
  {
   "cell_type": "code",
   "execution_count": 75,
   "id": "edee10d4",
   "metadata": {},
   "outputs": [
    {
     "name": "stdout",
     "output_type": "stream",
     "text": [
      "14.691581841140657 {'max_features': 3, 'n_estimators': 30}\n",
      "13.753305817647544 {'max_features': 3, 'n_estimators': 60}\n",
      "14.613063253702672 {'max_features': 3, 'n_estimators': 100}\n",
      "13.248082284240216 {'max_features': 6, 'n_estimators': 30}\n",
      "12.419222488482529 {'max_features': 6, 'n_estimators': 60}\n",
      "12.243788323956423 {'max_features': 6, 'n_estimators': 100}\n"
     ]
    }
   ],
   "source": [
    "#printing the evaluation scores\n",
    "cvres=gs_rf.cv_results_\n",
    "for mean_score, params in zip(cvres['mean_test_score'], cvres['params']):\n",
    "    print((-mean_score), params)"
   ]
  },
  {
   "cell_type": "markdown",
   "id": "fa6b0fea",
   "metadata": {},
   "source": [
    "### Important scores of each columns"
   ]
  },
  {
   "cell_type": "code",
   "execution_count": 76,
   "id": "0a01b45d",
   "metadata": {},
   "outputs": [
    {
     "data": {
      "text/plain": [
       "[(0.33073214653520056, 'Age_Group'),\n",
       " (0.18537880070108823, 'Number_of_Asthma_ED_Visits'),\n",
       " (0.07998039026784715, 'CO AQI_mean'),\n",
       " (0.07071576925443791, 'SO2 AQI_mean'),\n",
       " (0.06653430995874669, 'CO AQI_max'),\n",
       " (0.04596810172414149, 'SO2 AQI_max'),\n",
       " (0.03777321318333694, 'O3 AQI_mean'),\n",
       " (0.036954036764261934, 'NO2 AQI_mean'),\n",
       " (0.03287830604496177, 'NO2 AQI_min'),\n",
       " (0.03006703754075322, 'O3 AQI_max'),\n",
       " (0.029881406732519097, 'O3 AQI_min'),\n",
       " (0.02862918022623617, 'NO2 AQI_max'),\n",
       " (0.015559449721367503, 'CO AQI_min'),\n",
       " (0.008376554932365634, 'Year'),\n",
       " (0.0005712964127356866, 'SO2 AQI_min')]"
      ]
     },
     "execution_count": 76,
     "metadata": {},
     "output_type": "execute_result"
    }
   ],
   "source": [
    "feature_importances=rf_b.feature_importances_\n",
    "col=X.columns\n",
    "sorted(zip(feature_importances, col), reverse=True)"
   ]
  },
  {
   "cell_type": "markdown",
   "id": "7160c308",
   "metadata": {},
   "source": [
    "## Predicting on Test set"
   ]
  },
  {
   "cell_type": "code",
   "execution_count": 77,
   "id": "af344ded",
   "metadata": {},
   "outputs": [],
   "source": [
    "#Testing the model in test data\n",
    "y_pred_lr=lr.predict(scaled_X_test)     #linear \n",
    "y_pred_lrl=lrl.predict(scaled_X_test)   #lasso\n",
    "y_pred_lrr=lrr.predict(scaled_X_test)   #Ridge\n",
    "y_pred_svm=svm.predict(scaled_X_test)   #svm\n",
    "y_pred_dt=dt_b.predict(scaled_X_test)   #Dicision tree\n",
    "y_pred_rf=rf_b.predict(scaled_X_test)   #Random forest"
   ]
  },
  {
   "cell_type": "markdown",
   "id": "2209c159",
   "metadata": {},
   "source": [
    "### R2_score"
   ]
  },
  {
   "cell_type": "code",
   "execution_count": 78,
   "id": "05de09b3",
   "metadata": {},
   "outputs": [
    {
     "name": "stdout",
     "output_type": "stream",
     "text": [
      "The r2_score of linear regression is 0.8590207162163466\n",
      "The r2_score of lasso regression is 0.28237914152090693\n",
      "The r2_score of Ridge regression is -3041.1788073850216\n",
      "The r2_score of SVM regression is 0.4497650118953762\n",
      "The r2_score of decision tree regression is 0.7905140960979169\n",
      "The r2_score of random forest regression is 0.8343700204582574\n"
     ]
    }
   ],
   "source": [
    "#regression matrices-mean absolute error(give you the prediction error)\n",
    "lin_r2_lr=r2_score(y_test, y_pred_lr)\n",
    "print(f'The r2_score of linear regression is {lin_r2_lr}')\n",
    "\n",
    "lin_r2_lrl=r2_score(y_test, y_pred_lrl)\n",
    "print(f'The r2_score of lasso regression is {lin_r2_lrl}')\n",
    "\n",
    "lin_r2_lrr=r2_score(y_test, y_pred_lrr)\n",
    "print(f'The r2_score of Ridge regression is {lin_r2_lrr}')\n",
    "\n",
    "lin_r2_svm=r2_score(y_test, y_pred_svm)\n",
    "print(f'The r2_score of SVM regression is {lin_r2_svm}')\n",
    "\n",
    "lin_r2_dt=r2_score(y_test, y_pred_dt)\n",
    "print(f'The r2_score of decision tree regression is {lin_r2_dt}')\n",
    "\n",
    "lin_r2_rf=r2_score(y_test, y_pred_rf)\n",
    "print(f'The r2_score of random forest regression is {lin_r2_rf}')\n"
   ]
  },
  {
   "cell_type": "markdown",
   "id": "f8a1c5b3",
   "metadata": {},
   "source": [
    "### Mean Absolute Error"
   ]
  },
  {
   "cell_type": "code",
   "execution_count": 79,
   "id": "b0f87316",
   "metadata": {},
   "outputs": [
    {
     "name": "stdout",
     "output_type": "stream",
     "text": [
      "The mean absoulte error of linear regression is 11.53175879804626\n",
      "The mean absoulte error of lasso regression is 22.30432768732225\n",
      "The mean absoulte error of Ridge regression is 2001.6256317712132\n",
      "The mean absoulte error of SVM regression is 17.852929069793888\n",
      "The mean absoulte error of decision tree regression is 8.778868714866698\n",
      "The mean absoulte error of random forest regression is 10.867482024439479\n"
     ]
    }
   ],
   "source": [
    "#regression matrices-mean absolute error(give you the prediction error)\n",
    "lin_mae_lr=mean_absolute_error(y_test, y_pred_lr)\n",
    "print(f'The mean absoulte error of linear regression is {lin_mae_lr}')\n",
    "\n",
    "lin_mae_lrl=mean_absolute_error(y_test, y_pred_lrl)\n",
    "print(f'The mean absoulte error of lasso regression is {lin_mae_lrl}')\n",
    "\n",
    "lin_mae_lrr=mean_absolute_error(y_test, y_pred_lrr)\n",
    "print(f'The mean absoulte error of Ridge regression is {lin_mae_lrr}')\n",
    "\n",
    "lin_mae_svm=mean_absolute_error(y_test, y_pred_svm)\n",
    "print(f'The mean absoulte error of SVM regression is {lin_mae_svm}')\n",
    "\n",
    "lin_mae_dt=mean_absolute_error(y_test, y_pred_dt)\n",
    "print(f'The mean absoulte error of decision tree regression is {lin_mae_dt}')\n",
    "\n",
    "lin_mae_rf=mean_absolute_error(y_test, y_pred_rf)\n",
    "print(f'The mean absoulte error of random forest regression is {lin_mae_rf}')\n"
   ]
  },
  {
   "cell_type": "markdown",
   "id": "cda3c5b4",
   "metadata": {},
   "source": [
    "### Root Mean Squared Error"
   ]
  },
  {
   "cell_type": "code",
   "execution_count": 80,
   "id": "64c2796b",
   "metadata": {},
   "outputs": [
    {
     "name": "stdout",
     "output_type": "stream",
     "text": [
      "The mean squared error of linear regression is 13.626880573788108\n",
      "The mean squared error of lasso regression is 30.74442156940809\n",
      "The mean squared error of ridge regression is 2001.7561346035948\n",
      "The mean squared error of SVM regression is 26.921106193008335\n",
      "The mean squared error of decision tree regression is 16.611016221632436\n",
      "The mean squared error of random forest regression is 14.770264546911061\n"
     ]
    }
   ],
   "source": [
    "#regression matrices-mean squared error(give you the prediction error)\n",
    "lin_mse_lr=mean_squared_error(y_test, y_pred_lr)\n",
    "lin_rmse_lr=np.sqrt(lin_mse_lr)\n",
    "print(f'The mean squared error of linear regression is {lin_rmse_lr}')\n",
    "\n",
    "lin_mse_lrl=mean_squared_error(y_test, y_pred_lrl)\n",
    "lin_rmse_lrl=np.sqrt(lin_mse_lrl)\n",
    "print(f'The mean squared error of lasso regression is {lin_rmse_lrl}')\n",
    "\n",
    "lin_mse_lrr=mean_squared_error(y_test, y_pred_lrr)\n",
    "lin_rmse_lrr=np.sqrt(lin_mse_lrr)\n",
    "print(f'The mean squared error of ridge regression is {lin_rmse_lrr}')\n",
    "\n",
    "lin_mse_svm=mean_squared_error(y_test, y_pred_svm)\n",
    "lin_rmse_svm=np.sqrt(lin_mse_svm)\n",
    "print(f'The mean squared error of SVM regression is {lin_rmse_svm}')\n",
    "\n",
    "lin_mse_dt=mean_squared_error(y_test, y_pred_dt)\n",
    "lin_rmse_dt=np.sqrt(lin_mse_dt)\n",
    "print(f'The mean squared error of decision tree regression is {lin_rmse_dt}')\n",
    "\n",
    "lin_mse_rf=mean_squared_error(y_test, y_pred_rf)\n",
    "lin_rmse_rf=np.sqrt(lin_mse_rf)\n",
    "print(f'The mean squared error of random forest regression is {lin_rmse_rf}')"
   ]
  },
  {
   "cell_type": "markdown",
   "id": "3388cd03",
   "metadata": {},
   "source": [
    "### Actual and predicted "
   ]
  },
  {
   "cell_type": "code",
   "execution_count": 92,
   "id": "b1744326",
   "metadata": {},
   "outputs": [
    {
     "data": {
      "text/html": [
       "<div>\n",
       "<style scoped>\n",
       "    .dataframe tbody tr th:only-of-type {\n",
       "        vertical-align: middle;\n",
       "    }\n",
       "\n",
       "    .dataframe tbody tr th {\n",
       "        vertical-align: top;\n",
       "    }\n",
       "\n",
       "    .dataframe thead th {\n",
       "        text-align: right;\n",
       "    }\n",
       "</style>\n",
       "<table border=\"1\" class=\"dataframe\">\n",
       "  <thead>\n",
       "    <tr style=\"text-align: right;\">\n",
       "      <th></th>\n",
       "      <th>Actual Value of Age_Adjusted_Rate</th>\n",
       "      <th>Random Forest Predicted Age_Adjusted_Ratee</th>\n",
       "      <th>Linear Reg Predicted Age_Adjusted_Rate</th>\n",
       "      <th>Lasso Reg Predicted Age_Adjusted_Rate</th>\n",
       "      <th>Ridge Reg Predicted Age_Adjusted_Rate</th>\n",
       "      <th>Decesion Tree Predicted Age_Adjusted_Rate</th>\n",
       "      <th>SVM Predicted Age_Adjusted_Rate</th>\n",
       "    </tr>\n",
       "  </thead>\n",
       "  <tbody>\n",
       "    <tr>\n",
       "      <th>0</th>\n",
       "      <td>46.005882</td>\n",
       "      <td>54.922804</td>\n",
       "      <td>57.853872</td>\n",
       "      <td>56.997428</td>\n",
       "      <td>2036.609020</td>\n",
       "      <td>43.184271</td>\n",
       "      <td>45.816947</td>\n",
       "    </tr>\n",
       "    <tr>\n",
       "      <th>1</th>\n",
       "      <td>142.950000</td>\n",
       "      <td>128.083935</td>\n",
       "      <td>130.065706</td>\n",
       "      <td>75.909883</td>\n",
       "      <td>2117.367526</td>\n",
       "      <td>116.248074</td>\n",
       "      <td>86.054744</td>\n",
       "    </tr>\n",
       "    <tr>\n",
       "      <th>2</th>\n",
       "      <td>52.825000</td>\n",
       "      <td>54.664469</td>\n",
       "      <td>60.154127</td>\n",
       "      <td>56.997428</td>\n",
       "      <td>2049.654327</td>\n",
       "      <td>51.633790</td>\n",
       "      <td>47.236487</td>\n",
       "    </tr>\n",
       "    <tr>\n",
       "      <th>3</th>\n",
       "      <td>42.671053</td>\n",
       "      <td>52.818674</td>\n",
       "      <td>62.899278</td>\n",
       "      <td>75.909883</td>\n",
       "      <td>2101.965301</td>\n",
       "      <td>40.088554</td>\n",
       "      <td>47.233532</td>\n",
       "    </tr>\n",
       "    <tr>\n",
       "      <th>4</th>\n",
       "      <td>95.936111</td>\n",
       "      <td>84.116510</td>\n",
       "      <td>102.311064</td>\n",
       "      <td>75.909883</td>\n",
       "      <td>2103.547274</td>\n",
       "      <td>82.503334</td>\n",
       "      <td>67.591184</td>\n",
       "    </tr>\n",
       "    <tr>\n",
       "      <th>5</th>\n",
       "      <td>143.500000</td>\n",
       "      <td>104.271557</td>\n",
       "      <td>120.555908</td>\n",
       "      <td>75.909883</td>\n",
       "      <td>2119.500294</td>\n",
       "      <td>82.503334</td>\n",
       "      <td>83.338338</td>\n",
       "    </tr>\n",
       "    <tr>\n",
       "      <th>6</th>\n",
       "      <td>62.400000</td>\n",
       "      <td>64.318164</td>\n",
       "      <td>75.173226</td>\n",
       "      <td>75.909883</td>\n",
       "      <td>2094.735811</td>\n",
       "      <td>64.265000</td>\n",
       "      <td>51.911394</td>\n",
       "    </tr>\n",
       "    <tr>\n",
       "      <th>7</th>\n",
       "      <td>90.216279</td>\n",
       "      <td>98.637055</td>\n",
       "      <td>93.654035</td>\n",
       "      <td>75.909883</td>\n",
       "      <td>2103.623560</td>\n",
       "      <td>116.248074</td>\n",
       "      <td>67.558062</td>\n",
       "    </tr>\n",
       "    <tr>\n",
       "      <th>8</th>\n",
       "      <td>38.738760</td>\n",
       "      <td>52.779125</td>\n",
       "      <td>45.536542</td>\n",
       "      <td>56.997428</td>\n",
       "      <td>2045.508951</td>\n",
       "      <td>43.184271</td>\n",
       "      <td>38.249753</td>\n",
       "    </tr>\n",
       "    <tr>\n",
       "      <th>9</th>\n",
       "      <td>55.506522</td>\n",
       "      <td>62.057667</td>\n",
       "      <td>70.379924</td>\n",
       "      <td>56.997428</td>\n",
       "      <td>2048.792969</td>\n",
       "      <td>54.406266</td>\n",
       "      <td>48.641037</td>\n",
       "    </tr>\n",
       "    <tr>\n",
       "      <th>10</th>\n",
       "      <td>57.374545</td>\n",
       "      <td>52.735726</td>\n",
       "      <td>42.247016</td>\n",
       "      <td>56.997428</td>\n",
       "      <td>2036.011238</td>\n",
       "      <td>58.078686</td>\n",
       "      <td>43.260846</td>\n",
       "    </tr>\n",
       "    <tr>\n",
       "      <th>11</th>\n",
       "      <td>88.020690</td>\n",
       "      <td>81.179294</td>\n",
       "      <td>90.509049</td>\n",
       "      <td>75.909883</td>\n",
       "      <td>2103.645148</td>\n",
       "      <td>82.503334</td>\n",
       "      <td>64.551219</td>\n",
       "    </tr>\n",
       "    <tr>\n",
       "      <th>12</th>\n",
       "      <td>42.800000</td>\n",
       "      <td>67.573192</td>\n",
       "      <td>36.894615</td>\n",
       "      <td>56.997428</td>\n",
       "      <td>2042.725838</td>\n",
       "      <td>62.339959</td>\n",
       "      <td>24.175053</td>\n",
       "    </tr>\n",
       "    <tr>\n",
       "      <th>13</th>\n",
       "      <td>82.608108</td>\n",
       "      <td>81.889921</td>\n",
       "      <td>83.866643</td>\n",
       "      <td>75.909883</td>\n",
       "      <td>2098.920638</td>\n",
       "      <td>80.664883</td>\n",
       "      <td>67.791131</td>\n",
       "    </tr>\n",
       "    <tr>\n",
       "      <th>14</th>\n",
       "      <td>62.610145</td>\n",
       "      <td>62.437439</td>\n",
       "      <td>82.896120</td>\n",
       "      <td>75.909883</td>\n",
       "      <td>2099.072996</td>\n",
       "      <td>64.284214</td>\n",
       "      <td>51.852189</td>\n",
       "    </tr>\n",
       "    <tr>\n",
       "      <th>15</th>\n",
       "      <td>55.602778</td>\n",
       "      <td>50.975513</td>\n",
       "      <td>45.518858</td>\n",
       "      <td>56.997428</td>\n",
       "      <td>2046.274406</td>\n",
       "      <td>51.633790</td>\n",
       "      <td>34.527713</td>\n",
       "    </tr>\n",
       "    <tr>\n",
       "      <th>16</th>\n",
       "      <td>30.440426</td>\n",
       "      <td>35.464940</td>\n",
       "      <td>8.181879</td>\n",
       "      <td>56.997428</td>\n",
       "      <td>2034.017788</td>\n",
       "      <td>26.554229</td>\n",
       "      <td>29.657505</td>\n",
       "    </tr>\n",
       "    <tr>\n",
       "      <th>17</th>\n",
       "      <td>148.270588</td>\n",
       "      <td>116.364501</td>\n",
       "      <td>124.638865</td>\n",
       "      <td>75.909883</td>\n",
       "      <td>2110.379568</td>\n",
       "      <td>150.831343</td>\n",
       "      <td>77.916365</td>\n",
       "    </tr>\n",
       "    <tr>\n",
       "      <th>18</th>\n",
       "      <td>24.567949</td>\n",
       "      <td>33.645768</td>\n",
       "      <td>21.182435</td>\n",
       "      <td>56.997428</td>\n",
       "      <td>2036.982106</td>\n",
       "      <td>24.362905</td>\n",
       "      <td>24.133790</td>\n",
       "    </tr>\n",
       "    <tr>\n",
       "      <th>19</th>\n",
       "      <td>68.427273</td>\n",
       "      <td>63.948334</td>\n",
       "      <td>84.769791</td>\n",
       "      <td>56.997428</td>\n",
       "      <td>2039.991940</td>\n",
       "      <td>66.385205</td>\n",
       "      <td>65.589233</td>\n",
       "    </tr>\n",
       "    <tr>\n",
       "      <th>20</th>\n",
       "      <td>30.086667</td>\n",
       "      <td>48.296292</td>\n",
       "      <td>28.178587</td>\n",
       "      <td>56.997428</td>\n",
       "      <td>2026.370341</td>\n",
       "      <td>28.941474</td>\n",
       "      <td>31.487633</td>\n",
       "    </tr>\n",
       "  </tbody>\n",
       "</table>\n",
       "</div>"
      ],
      "text/plain": [
       "    Actual Value of Age_Adjusted_Rate  \\\n",
       "0                           46.005882   \n",
       "1                          142.950000   \n",
       "2                           52.825000   \n",
       "3                           42.671053   \n",
       "4                           95.936111   \n",
       "5                          143.500000   \n",
       "6                           62.400000   \n",
       "7                           90.216279   \n",
       "8                           38.738760   \n",
       "9                           55.506522   \n",
       "10                          57.374545   \n",
       "11                          88.020690   \n",
       "12                          42.800000   \n",
       "13                          82.608108   \n",
       "14                          62.610145   \n",
       "15                          55.602778   \n",
       "16                          30.440426   \n",
       "17                         148.270588   \n",
       "18                          24.567949   \n",
       "19                          68.427273   \n",
       "20                          30.086667   \n",
       "\n",
       "    Random Forest Predicted Age_Adjusted_Ratee  \\\n",
       "0                                    54.922804   \n",
       "1                                   128.083935   \n",
       "2                                    54.664469   \n",
       "3                                    52.818674   \n",
       "4                                    84.116510   \n",
       "5                                   104.271557   \n",
       "6                                    64.318164   \n",
       "7                                    98.637055   \n",
       "8                                    52.779125   \n",
       "9                                    62.057667   \n",
       "10                                   52.735726   \n",
       "11                                   81.179294   \n",
       "12                                   67.573192   \n",
       "13                                   81.889921   \n",
       "14                                   62.437439   \n",
       "15                                   50.975513   \n",
       "16                                   35.464940   \n",
       "17                                  116.364501   \n",
       "18                                   33.645768   \n",
       "19                                   63.948334   \n",
       "20                                   48.296292   \n",
       "\n",
       "    Linear Reg Predicted Age_Adjusted_Rate  \\\n",
       "0                                57.853872   \n",
       "1                               130.065706   \n",
       "2                                60.154127   \n",
       "3                                62.899278   \n",
       "4                               102.311064   \n",
       "5                               120.555908   \n",
       "6                                75.173226   \n",
       "7                                93.654035   \n",
       "8                                45.536542   \n",
       "9                                70.379924   \n",
       "10                               42.247016   \n",
       "11                               90.509049   \n",
       "12                               36.894615   \n",
       "13                               83.866643   \n",
       "14                               82.896120   \n",
       "15                               45.518858   \n",
       "16                                8.181879   \n",
       "17                              124.638865   \n",
       "18                               21.182435   \n",
       "19                               84.769791   \n",
       "20                               28.178587   \n",
       "\n",
       "    Lasso Reg Predicted Age_Adjusted_Rate  \\\n",
       "0                               56.997428   \n",
       "1                               75.909883   \n",
       "2                               56.997428   \n",
       "3                               75.909883   \n",
       "4                               75.909883   \n",
       "5                               75.909883   \n",
       "6                               75.909883   \n",
       "7                               75.909883   \n",
       "8                               56.997428   \n",
       "9                               56.997428   \n",
       "10                              56.997428   \n",
       "11                              75.909883   \n",
       "12                              56.997428   \n",
       "13                              75.909883   \n",
       "14                              75.909883   \n",
       "15                              56.997428   \n",
       "16                              56.997428   \n",
       "17                              75.909883   \n",
       "18                              56.997428   \n",
       "19                              56.997428   \n",
       "20                              56.997428   \n",
       "\n",
       "    Ridge Reg Predicted Age_Adjusted_Rate  \\\n",
       "0                             2036.609020   \n",
       "1                             2117.367526   \n",
       "2                             2049.654327   \n",
       "3                             2101.965301   \n",
       "4                             2103.547274   \n",
       "5                             2119.500294   \n",
       "6                             2094.735811   \n",
       "7                             2103.623560   \n",
       "8                             2045.508951   \n",
       "9                             2048.792969   \n",
       "10                            2036.011238   \n",
       "11                            2103.645148   \n",
       "12                            2042.725838   \n",
       "13                            2098.920638   \n",
       "14                            2099.072996   \n",
       "15                            2046.274406   \n",
       "16                            2034.017788   \n",
       "17                            2110.379568   \n",
       "18                            2036.982106   \n",
       "19                            2039.991940   \n",
       "20                            2026.370341   \n",
       "\n",
       "    Decesion Tree Predicted Age_Adjusted_Rate  SVM Predicted Age_Adjusted_Rate  \n",
       "0                                   43.184271                        45.816947  \n",
       "1                                  116.248074                        86.054744  \n",
       "2                                   51.633790                        47.236487  \n",
       "3                                   40.088554                        47.233532  \n",
       "4                                   82.503334                        67.591184  \n",
       "5                                   82.503334                        83.338338  \n",
       "6                                   64.265000                        51.911394  \n",
       "7                                  116.248074                        67.558062  \n",
       "8                                   43.184271                        38.249753  \n",
       "9                                   54.406266                        48.641037  \n",
       "10                                  58.078686                        43.260846  \n",
       "11                                  82.503334                        64.551219  \n",
       "12                                  62.339959                        24.175053  \n",
       "13                                  80.664883                        67.791131  \n",
       "14                                  64.284214                        51.852189  \n",
       "15                                  51.633790                        34.527713  \n",
       "16                                  26.554229                        29.657505  \n",
       "17                                 150.831343                        77.916365  \n",
       "18                                  24.362905                        24.133790  \n",
       "19                                  66.385205                        65.589233  \n",
       "20                                  28.941474                        31.487633  "
      ]
     },
     "execution_count": 92,
     "metadata": {},
     "output_type": "execute_result"
    }
   ],
   "source": [
    "#Actual and predicated value of house using our best model\n",
    "house_value=pd.DataFrame({'Actual Value of Age_Adjusted_Rate':y_test, \n",
    "                'Random Forest Predicted Age_Adjusted_Ratee':y_pred_rf,\n",
    "                'Linear Reg Predicted Age_Adjusted_Rate':y_pred_lr,\n",
    "                'Lasso Reg Predicted Age_Adjusted_Rate':y_pred_lrl,\n",
    "                'Ridge Reg Predicted Age_Adjusted_Rate':y_pred_lrr,       \n",
    "                'Decesion Tree Predicted Age_Adjusted_Rate':y_pred_dt,\n",
    "                 'SVM Predicted Age_Adjusted_Rate':y_pred_svm})\n",
    "house_value"
   ]
  },
  {
   "cell_type": "markdown",
   "id": "bb9199c4",
   "metadata": {},
   "source": [
    "## Evaluation metrices of differnt models"
   ]
  },
  {
   "cell_type": "code",
   "execution_count": 83,
   "id": "0f013217",
   "metadata": {},
   "outputs": [
    {
     "data": {
      "text/html": [
       "<div>\n",
       "<style scoped>\n",
       "    .dataframe tbody tr th:only-of-type {\n",
       "        vertical-align: middle;\n",
       "    }\n",
       "\n",
       "    .dataframe tbody tr th {\n",
       "        vertical-align: top;\n",
       "    }\n",
       "\n",
       "    .dataframe thead th {\n",
       "        text-align: right;\n",
       "    }\n",
       "</style>\n",
       "<table border=\"1\" class=\"dataframe\">\n",
       "  <thead>\n",
       "    <tr style=\"text-align: right;\">\n",
       "      <th></th>\n",
       "      <th>Linear Reg</th>\n",
       "      <th>Lasso Reg</th>\n",
       "      <th>Ridge Reg</th>\n",
       "      <th>SVM Reg</th>\n",
       "      <th>Decision Tree</th>\n",
       "      <th>Random Forest</th>\n",
       "    </tr>\n",
       "  </thead>\n",
       "  <tbody>\n",
       "    <tr>\n",
       "      <th>R2</th>\n",
       "      <td>0.859021</td>\n",
       "      <td>0.282379</td>\n",
       "      <td>-3041.178807</td>\n",
       "      <td>0.449765</td>\n",
       "      <td>0.790514</td>\n",
       "      <td>0.834370</td>\n",
       "    </tr>\n",
       "    <tr>\n",
       "      <th>Mean Absolute Error</th>\n",
       "      <td>11.531759</td>\n",
       "      <td>22.304328</td>\n",
       "      <td>2001.625632</td>\n",
       "      <td>17.852929</td>\n",
       "      <td>8.778869</td>\n",
       "      <td>10.867482</td>\n",
       "    </tr>\n",
       "    <tr>\n",
       "      <th>Root Mean Squared Error</th>\n",
       "      <td>13.626881</td>\n",
       "      <td>30.744422</td>\n",
       "      <td>2001.756135</td>\n",
       "      <td>26.921106</td>\n",
       "      <td>16.611016</td>\n",
       "      <td>14.770265</td>\n",
       "    </tr>\n",
       "  </tbody>\n",
       "</table>\n",
       "</div>"
      ],
      "text/plain": [
       "                         Linear Reg  Lasso Reg    Ridge Reg    SVM Reg  \\\n",
       "R2                         0.859021   0.282379 -3041.178807   0.449765   \n",
       "Mean Absolute Error       11.531759  22.304328  2001.625632  17.852929   \n",
       "Root Mean Squared Error   13.626881  30.744422  2001.756135  26.921106   \n",
       "\n",
       "                         Decision Tree  Random Forest  \n",
       "R2                            0.790514       0.834370  \n",
       "Mean Absolute Error           8.778869      10.867482  \n",
       "Root Mean Squared Error      16.611016      14.770265  "
      ]
     },
     "execution_count": 83,
     "metadata": {},
     "output_type": "execute_result"
    }
   ],
   "source": [
    "#making dataframe on evaluation metrices\n",
    "evaluation_df=pd.DataFrame({'Linear Reg':[lin_r2_lr,lin_mae_lr,lin_rmse_lr],\n",
    "                           'Lasso Reg':[lin_r2_lrl,lin_mae_lrl,lin_rmse_lrl],\n",
    "                            'Ridge Reg':[lin_r2_lrr,lin_mae_lrr,lin_rmse_lrr],\n",
    "                            'SVM Reg':[lin_r2_svm,lin_mae_svm,lin_rmse_svm],\n",
    "                           'Decision Tree':[lin_r2_dt,lin_mae_dt,lin_rmse_dt],\n",
    "                            'Random Forest':[lin_r2_rf,lin_mae_rf,lin_rmse_rf]}\n",
    "                           ,index=['R2','Mean Absolute Error',\n",
    "                                    'Root Mean Squared Error'])\n",
    "evaluation_df"
   ]
  },
  {
   "cell_type": "code",
   "execution_count": null,
   "id": "80931e0e",
   "metadata": {},
   "outputs": [],
   "source": []
  }
 ],
 "metadata": {
  "kernelspec": {
   "display_name": "Python 3 (ipykernel)",
   "language": "python",
   "name": "python3"
  },
  "language_info": {
   "codemirror_mode": {
    "name": "ipython",
    "version": 3
   },
   "file_extension": ".py",
   "mimetype": "text/x-python",
   "name": "python",
   "nbconvert_exporter": "python",
   "pygments_lexer": "ipython3",
   "version": "3.8.10"
  }
 },
 "nbformat": 4,
 "nbformat_minor": 5
}
